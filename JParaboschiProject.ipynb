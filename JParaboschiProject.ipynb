{
 "cells": [
  {
   "cell_type": "code",
   "execution_count": 4,
   "metadata": {},
   "outputs": [],
   "source": [
    "# Data 205 - Capstone in Data Science\n",
    "# Jennifer Paraboschi     Fall 2020\n",
    "# Inputs: data sets from dataMontgomery\n",
    "# including Alcohol Beverage Licensing Violations"
   ]
  },
  {
   "cell_type": "code",
   "execution_count": 5,
   "metadata": {
    "scrolled": true
   },
   "outputs": [],
   "source": [
    "# Import packages. \n",
    "# Pull in API data set as json.\n",
    "import json\n",
    "import numpy as np\n",
    "import pandas as pd\n",
    "import re\n",
    "import requests\n",
    "import seaborn as sns\n",
    "import matplotlib.pyplot as plt\n",
    "import plotly    # I had to pip install plotly on the cmd line to get plotly to work"
   ]
  },
  {
   "cell_type": "code",
   "execution_count": 6,
   "metadata": {
    "scrolled": true
   },
   "outputs": [
    {
     "data": {
      "text/html": [
       "<div>\n",
       "<style scoped>\n",
       "    .dataframe tbody tr th:only-of-type {\n",
       "        vertical-align: middle;\n",
       "    }\n",
       "\n",
       "    .dataframe tbody tr th {\n",
       "        vertical-align: top;\n",
       "    }\n",
       "\n",
       "    .dataframe thead th {\n",
       "        text-align: right;\n",
       "    }\n",
       "</style>\n",
       "<table border=\"1\" class=\"dataframe\">\n",
       "  <thead>\n",
       "    <tr style=\"text-align: right;\">\n",
       "      <th></th>\n",
       "      <th>facilityname</th>\n",
       "      <th>address</th>\n",
       "      <th>violationdate</th>\n",
       "      <th>violation</th>\n",
       "      <th>disposition</th>\n",
       "      <th>dispositiondate</th>\n",
       "    </tr>\n",
       "  </thead>\n",
       "  <tbody>\n",
       "    <tr>\n",
       "      <th>0</th>\n",
       "      <td>HAKUNA MATATA GRILL</td>\n",
       "      <td>2405 PRICE AVE. , SILVER SPRING , MARYLAND - 2...</td>\n",
       "      <td>2020-10-10T00:00:00.000</td>\n",
       "      <td>6.4 CONSUMPTION, POSSESSION, OR SALE DURING PR...</td>\n",
       "      <td>$1000 +ALERT</td>\n",
       "      <td>2020-11-30T00:00:00.000</td>\n",
       "    </tr>\n",
       "    <tr>\n",
       "      <th>1</th>\n",
       "      <td>MOGOTILLO RESTAURANT</td>\n",
       "      <td>7637 NEW HAMPSHIRE AVE , TAKOMA PARK , MARYLAN...</td>\n",
       "      <td>2020-09-30T00:00:00.000</td>\n",
       "      <td>5.5 RECORDS</td>\n",
       "      <td>$500 +ALERT</td>\n",
       "      <td>2020-11-28T00:00:00.000</td>\n",
       "    </tr>\n",
       "    <tr>\n",
       "      <th>2</th>\n",
       "      <td>EL CARACOL CAFE</td>\n",
       "      <td>609 SLIGO AVE , SILVER SPRING , MARYLAND - 20910</td>\n",
       "      <td>2020-09-19T00:00:00.000</td>\n",
       "      <td>5.7 DISPLAY OF LICENSE</td>\n",
       "      <td>$100 +ALERT</td>\n",
       "      <td>2020-11-21T00:00:00.000</td>\n",
       "    </tr>\n",
       "    <tr>\n",
       "      <th>3</th>\n",
       "      <td>MOGOTILLO RESTAURANT</td>\n",
       "      <td>7637 NEW HAMPSHIRE AVE , TAKOMA PARK , MARYLAN...</td>\n",
       "      <td>2020-09-19T00:00:00.000</td>\n",
       "      <td>5.5 RECORDS</td>\n",
       "      <td>$500 +ALERT</td>\n",
       "      <td>2020-11-30T00:00:00.000</td>\n",
       "    </tr>\n",
       "    <tr>\n",
       "      <th>4</th>\n",
       "      <td>MOGOTILLO RESTAURANT</td>\n",
       "      <td>7637 NEW HAMPSHIRE AVE , TAKOMA PARK , MARYLAN...</td>\n",
       "      <td>2020-09-19T00:00:00.000</td>\n",
       "      <td>6.9 STORAGE</td>\n",
       "      <td>$1600 +ALERT</td>\n",
       "      <td>2020-11-30T00:00:00.000</td>\n",
       "    </tr>\n",
       "  </tbody>\n",
       "</table>\n",
       "</div>"
      ],
      "text/plain": [
       "           facilityname                                            address  \\\n",
       "0   HAKUNA MATATA GRILL  2405 PRICE AVE. , SILVER SPRING , MARYLAND - 2...   \n",
       "1  MOGOTILLO RESTAURANT  7637 NEW HAMPSHIRE AVE , TAKOMA PARK , MARYLAN...   \n",
       "2       EL CARACOL CAFE   609 SLIGO AVE , SILVER SPRING , MARYLAND - 20910   \n",
       "3  MOGOTILLO RESTAURANT  7637 NEW HAMPSHIRE AVE , TAKOMA PARK , MARYLAN...   \n",
       "4  MOGOTILLO RESTAURANT  7637 NEW HAMPSHIRE AVE , TAKOMA PARK , MARYLAN...   \n",
       "\n",
       "             violationdate                                          violation  \\\n",
       "0  2020-10-10T00:00:00.000  6.4 CONSUMPTION, POSSESSION, OR SALE DURING PR...   \n",
       "1  2020-09-30T00:00:00.000                                        5.5 RECORDS   \n",
       "2  2020-09-19T00:00:00.000                             5.7 DISPLAY OF LICENSE   \n",
       "3  2020-09-19T00:00:00.000                                        5.5 RECORDS   \n",
       "4  2020-09-19T00:00:00.000                                        6.9 STORAGE   \n",
       "\n",
       "    disposition          dispositiondate  \n",
       "0  $1000 +ALERT  2020-11-30T00:00:00.000  \n",
       "1   $500 +ALERT  2020-11-28T00:00:00.000  \n",
       "2   $100 +ALERT  2020-11-21T00:00:00.000  \n",
       "3   $500 +ALERT  2020-11-30T00:00:00.000  \n",
       "4  $1600 +ALERT  2020-11-30T00:00:00.000  "
      ]
     },
     "execution_count": 6,
     "metadata": {},
     "output_type": "execute_result"
    }
   ],
   "source": [
    "violations_data = pd.DataFrame(requests.get(\"https://data.montgomerycountymd.gov/resource/4tja-rkhg.json\").json())\n",
    "violations_data.head()\n",
    "#pd.read_json(\"https://....\")    #alternative way to get the data"
   ]
  },
  {
   "cell_type": "code",
   "execution_count": 7,
   "metadata": {},
   "outputs": [
    {
     "name": "stdout",
     "output_type": "stream",
     "text": [
      "             facilityname                                            address  \\\n",
      "0     HAKUNA MATATA GRILL  2405 PRICE AVE. , SILVER SPRING , MARYLAND - 2...   \n",
      "1    MOGOTILLO RESTAURANT  7637 NEW HAMPSHIRE AVE , TAKOMA PARK , MARYLAN...   \n",
      "2         EL CARACOL CAFE   609 SLIGO AVE , SILVER SPRING , MARYLAND - 20910   \n",
      "3    MOGOTILLO RESTAURANT  7637 NEW HAMPSHIRE AVE , TAKOMA PARK , MARYLAN...   \n",
      "4    MOGOTILLO RESTAURANT  7637 NEW HAMPSHIRE AVE , TAKOMA PARK , MARYLAN...   \n",
      "..                    ...                                                ...   \n",
      "939          JOSE'S GRILL             11423 GEORGIA AVE. , WHEATON, MD 20902   \n",
      "940          JOSE'S GRILL             11423 GEORGIA AVE. , WHEATON, MD 20902   \n",
      "941    SEVEN-ELEVEN STORE  14101 GEORGIA AVE. , ASPEN HILL , MARYLAND - 2...   \n",
      "942    SEVEN-ELEVEN STORE       14101 GEORGIA AVE. , ASPEN HILL , MD - 20906   \n",
      "943    SEVEN-ELEVEN STORE  14101 GEORGIA AVE. , ASPEN HILL , MARYLAND - 2...   \n",
      "\n",
      "               violationdate  \\\n",
      "0    2020-10-10T00:00:00.000   \n",
      "1    2020-09-30T00:00:00.000   \n",
      "2    2020-09-19T00:00:00.000   \n",
      "3    2020-09-19T00:00:00.000   \n",
      "4    2020-09-19T00:00:00.000   \n",
      "..                       ...   \n",
      "939  2015-01-16T00:00:00.000   \n",
      "940  2012-12-20T00:00:00.000   \n",
      "941  2012-10-19T00:00:00.000   \n",
      "942  2012-06-20T00:00:00.000   \n",
      "943  2012-06-19T00:00:00.000   \n",
      "\n",
      "                                             violation  \\\n",
      "0    6.4 CONSUMPTION, POSSESSION, OR SALE DURING PR...   \n",
      "1                                          5.5 RECORDS   \n",
      "2                               5.7 DISPLAY OF LICENSE   \n",
      "3                                          5.5 RECORDS   \n",
      "4                                          6.9 STORAGE   \n",
      "..                                                 ...   \n",
      "939                                      SALE TO MINOR   \n",
      "940                                      SALE TO MINOR   \n",
      "941  6.4 CONSUMPTION, POSSESSION, OR SALE DURING PR...   \n",
      "942  6.4 CONSUMPTION, POSSESSION, OR SALE DURING PR...   \n",
      "943  6.4 CONSUMPTION, POSSESSION, OR SALE DURING PR...   \n",
      "\n",
      "                   disposition          dispositiondate  \n",
      "0                 $1000 +ALERT  2020-11-30T00:00:00.000  \n",
      "1                  $500 +ALERT  2020-11-28T00:00:00.000  \n",
      "2                  $100 +ALERT  2020-11-21T00:00:00.000  \n",
      "3                  $500 +ALERT  2020-11-30T00:00:00.000  \n",
      "4                 $1600 +ALERT  2020-11-30T00:00:00.000  \n",
      "..                         ...                      ...  \n",
      "939  SETTLED; $3000.00 + ALERT  2016-09-09T00:00:00.000  \n",
      "940   SETTLED; $1000.00 +ALERT  2016-09-09T00:00:00.000  \n",
      "941               $1000 +ALERT  2020-09-24T00:00:00.000  \n",
      "942               $1000 +ALERT  2020-09-24T00:00:00.000  \n",
      "943               $1000 +ALERT  2020-11-05T00:00:00.000  \n",
      "\n",
      "[944 rows x 6 columns]\n"
     ]
    }
   ],
   "source": [
    "print(violations_data)"
   ]
  },
  {
   "cell_type": "code",
   "execution_count": 8,
   "metadata": {},
   "outputs": [
    {
     "data": {
      "text/plain": [
       "(944, 6)"
      ]
     },
     "execution_count": 8,
     "metadata": {},
     "output_type": "execute_result"
    }
   ],
   "source": [
    "violations_data.shape"
   ]
  },
  {
   "cell_type": "code",
   "execution_count": 9,
   "metadata": {},
   "outputs": [
    {
     "data": {
      "text/plain": [
       "pandas.core.frame.DataFrame"
      ]
     },
     "execution_count": 9,
     "metadata": {},
     "output_type": "execute_result"
    }
   ],
   "source": [
    "type(violations_data)"
   ]
  },
  {
   "cell_type": "code",
   "execution_count": 10,
   "metadata": {},
   "outputs": [],
   "source": [
    "# There are 944 rows and 6 variables/columns."
   ]
  },
  {
   "cell_type": "code",
   "execution_count": 11,
   "metadata": {},
   "outputs": [
    {
     "data": {
      "text/plain": [
       "facilityname       object\n",
       "address            object\n",
       "violationdate      object\n",
       "violation          object\n",
       "disposition        object\n",
       "dispositiondate    object\n",
       "dtype: object"
      ]
     },
     "execution_count": 11,
     "metadata": {},
     "output_type": "execute_result"
    }
   ],
   "source": [
    "violations_data.dtypes"
   ]
  },
  {
   "cell_type": "code",
   "execution_count": 12,
   "metadata": {},
   "outputs": [],
   "source": [
    "# need to change the dates so they are in a useable format.\n",
    "violations_data.violationdate = pd.to_datetime(violations_data.violationdate)\n",
    "violations_data.dispositiondate = pd.to_datetime(violations_data.dispositiondate)"
   ]
  },
  {
   "cell_type": "code",
   "execution_count": 13,
   "metadata": {},
   "outputs": [
    {
     "data": {
      "text/html": [
       "<div>\n",
       "<style scoped>\n",
       "    .dataframe tbody tr th:only-of-type {\n",
       "        vertical-align: middle;\n",
       "    }\n",
       "\n",
       "    .dataframe tbody tr th {\n",
       "        vertical-align: top;\n",
       "    }\n",
       "\n",
       "    .dataframe thead th {\n",
       "        text-align: right;\n",
       "    }\n",
       "</style>\n",
       "<table border=\"1\" class=\"dataframe\">\n",
       "  <thead>\n",
       "    <tr style=\"text-align: right;\">\n",
       "      <th></th>\n",
       "      <th>facilityname</th>\n",
       "      <th>address</th>\n",
       "      <th>violationdate</th>\n",
       "      <th>violation</th>\n",
       "      <th>disposition</th>\n",
       "      <th>dispositiondate</th>\n",
       "    </tr>\n",
       "  </thead>\n",
       "  <tbody>\n",
       "    <tr>\n",
       "      <th>0</th>\n",
       "      <td>HAKUNA MATATA GRILL</td>\n",
       "      <td>2405 PRICE AVE. , SILVER SPRING , MARYLAND - 2...</td>\n",
       "      <td>2020-10-10</td>\n",
       "      <td>6.4 CONSUMPTION, POSSESSION, OR SALE DURING PR...</td>\n",
       "      <td>$1000 +ALERT</td>\n",
       "      <td>2020-11-30</td>\n",
       "    </tr>\n",
       "    <tr>\n",
       "      <th>1</th>\n",
       "      <td>MOGOTILLO RESTAURANT</td>\n",
       "      <td>7637 NEW HAMPSHIRE AVE , TAKOMA PARK , MARYLAN...</td>\n",
       "      <td>2020-09-30</td>\n",
       "      <td>5.5 RECORDS</td>\n",
       "      <td>$500 +ALERT</td>\n",
       "      <td>2020-11-28</td>\n",
       "    </tr>\n",
       "    <tr>\n",
       "      <th>2</th>\n",
       "      <td>EL CARACOL CAFE</td>\n",
       "      <td>609 SLIGO AVE , SILVER SPRING , MARYLAND - 20910</td>\n",
       "      <td>2020-09-19</td>\n",
       "      <td>5.7 DISPLAY OF LICENSE</td>\n",
       "      <td>$100 +ALERT</td>\n",
       "      <td>2020-11-21</td>\n",
       "    </tr>\n",
       "    <tr>\n",
       "      <th>3</th>\n",
       "      <td>MOGOTILLO RESTAURANT</td>\n",
       "      <td>7637 NEW HAMPSHIRE AVE , TAKOMA PARK , MARYLAN...</td>\n",
       "      <td>2020-09-19</td>\n",
       "      <td>5.5 RECORDS</td>\n",
       "      <td>$500 +ALERT</td>\n",
       "      <td>2020-11-30</td>\n",
       "    </tr>\n",
       "    <tr>\n",
       "      <th>4</th>\n",
       "      <td>MOGOTILLO RESTAURANT</td>\n",
       "      <td>7637 NEW HAMPSHIRE AVE , TAKOMA PARK , MARYLAN...</td>\n",
       "      <td>2020-09-19</td>\n",
       "      <td>6.9 STORAGE</td>\n",
       "      <td>$1600 +ALERT</td>\n",
       "      <td>2020-11-30</td>\n",
       "    </tr>\n",
       "    <tr>\n",
       "      <th>...</th>\n",
       "      <td>...</td>\n",
       "      <td>...</td>\n",
       "      <td>...</td>\n",
       "      <td>...</td>\n",
       "      <td>...</td>\n",
       "      <td>...</td>\n",
       "    </tr>\n",
       "    <tr>\n",
       "      <th>939</th>\n",
       "      <td>JOSE'S GRILL</td>\n",
       "      <td>11423 GEORGIA AVE. , WHEATON, MD 20902</td>\n",
       "      <td>2015-01-16</td>\n",
       "      <td>SALE TO MINOR</td>\n",
       "      <td>SETTLED; $3000.00 + ALERT</td>\n",
       "      <td>2016-09-09</td>\n",
       "    </tr>\n",
       "    <tr>\n",
       "      <th>940</th>\n",
       "      <td>JOSE'S GRILL</td>\n",
       "      <td>11423 GEORGIA AVE. , WHEATON, MD 20902</td>\n",
       "      <td>2012-12-20</td>\n",
       "      <td>SALE TO MINOR</td>\n",
       "      <td>SETTLED; $1000.00 +ALERT</td>\n",
       "      <td>2016-09-09</td>\n",
       "    </tr>\n",
       "    <tr>\n",
       "      <th>941</th>\n",
       "      <td>SEVEN-ELEVEN STORE</td>\n",
       "      <td>14101 GEORGIA AVE. , ASPEN HILL , MARYLAND - 2...</td>\n",
       "      <td>2012-10-19</td>\n",
       "      <td>6.4 CONSUMPTION, POSSESSION, OR SALE DURING PR...</td>\n",
       "      <td>$1000 +ALERT</td>\n",
       "      <td>2020-09-24</td>\n",
       "    </tr>\n",
       "    <tr>\n",
       "      <th>942</th>\n",
       "      <td>SEVEN-ELEVEN STORE</td>\n",
       "      <td>14101 GEORGIA AVE. , ASPEN HILL , MD - 20906</td>\n",
       "      <td>2012-06-20</td>\n",
       "      <td>6.4 CONSUMPTION, POSSESSION, OR SALE DURING PR...</td>\n",
       "      <td>$1000 +ALERT</td>\n",
       "      <td>2020-09-24</td>\n",
       "    </tr>\n",
       "    <tr>\n",
       "      <th>943</th>\n",
       "      <td>SEVEN-ELEVEN STORE</td>\n",
       "      <td>14101 GEORGIA AVE. , ASPEN HILL , MARYLAND - 2...</td>\n",
       "      <td>2012-06-19</td>\n",
       "      <td>6.4 CONSUMPTION, POSSESSION, OR SALE DURING PR...</td>\n",
       "      <td>$1000 +ALERT</td>\n",
       "      <td>2020-11-05</td>\n",
       "    </tr>\n",
       "  </tbody>\n",
       "</table>\n",
       "<p>944 rows × 6 columns</p>\n",
       "</div>"
      ],
      "text/plain": [
       "             facilityname                                            address  \\\n",
       "0     HAKUNA MATATA GRILL  2405 PRICE AVE. , SILVER SPRING , MARYLAND - 2...   \n",
       "1    MOGOTILLO RESTAURANT  7637 NEW HAMPSHIRE AVE , TAKOMA PARK , MARYLAN...   \n",
       "2         EL CARACOL CAFE   609 SLIGO AVE , SILVER SPRING , MARYLAND - 20910   \n",
       "3    MOGOTILLO RESTAURANT  7637 NEW HAMPSHIRE AVE , TAKOMA PARK , MARYLAN...   \n",
       "4    MOGOTILLO RESTAURANT  7637 NEW HAMPSHIRE AVE , TAKOMA PARK , MARYLAN...   \n",
       "..                    ...                                                ...   \n",
       "939          JOSE'S GRILL             11423 GEORGIA AVE. , WHEATON, MD 20902   \n",
       "940          JOSE'S GRILL             11423 GEORGIA AVE. , WHEATON, MD 20902   \n",
       "941    SEVEN-ELEVEN STORE  14101 GEORGIA AVE. , ASPEN HILL , MARYLAND - 2...   \n",
       "942    SEVEN-ELEVEN STORE       14101 GEORGIA AVE. , ASPEN HILL , MD - 20906   \n",
       "943    SEVEN-ELEVEN STORE  14101 GEORGIA AVE. , ASPEN HILL , MARYLAND - 2...   \n",
       "\n",
       "    violationdate                                          violation  \\\n",
       "0      2020-10-10  6.4 CONSUMPTION, POSSESSION, OR SALE DURING PR...   \n",
       "1      2020-09-30                                        5.5 RECORDS   \n",
       "2      2020-09-19                             5.7 DISPLAY OF LICENSE   \n",
       "3      2020-09-19                                        5.5 RECORDS   \n",
       "4      2020-09-19                                        6.9 STORAGE   \n",
       "..            ...                                                ...   \n",
       "939    2015-01-16                                      SALE TO MINOR   \n",
       "940    2012-12-20                                      SALE TO MINOR   \n",
       "941    2012-10-19  6.4 CONSUMPTION, POSSESSION, OR SALE DURING PR...   \n",
       "942    2012-06-20  6.4 CONSUMPTION, POSSESSION, OR SALE DURING PR...   \n",
       "943    2012-06-19  6.4 CONSUMPTION, POSSESSION, OR SALE DURING PR...   \n",
       "\n",
       "                   disposition dispositiondate  \n",
       "0                 $1000 +ALERT      2020-11-30  \n",
       "1                  $500 +ALERT      2020-11-28  \n",
       "2                  $100 +ALERT      2020-11-21  \n",
       "3                  $500 +ALERT      2020-11-30  \n",
       "4                 $1600 +ALERT      2020-11-30  \n",
       "..                         ...             ...  \n",
       "939  SETTLED; $3000.00 + ALERT      2016-09-09  \n",
       "940   SETTLED; $1000.00 +ALERT      2016-09-09  \n",
       "941               $1000 +ALERT      2020-09-24  \n",
       "942               $1000 +ALERT      2020-09-24  \n",
       "943               $1000 +ALERT      2020-11-05  \n",
       "\n",
       "[944 rows x 6 columns]"
      ]
     },
     "execution_count": 13,
     "metadata": {},
     "output_type": "execute_result"
    }
   ],
   "source": [
    "violations_data"
   ]
  },
  {
   "cell_type": "code",
   "execution_count": 14,
   "metadata": {},
   "outputs": [
    {
     "data": {
      "text/plain": [
       "facilityname               object\n",
       "address                    object\n",
       "violationdate      datetime64[ns]\n",
       "violation                  object\n",
       "disposition                object\n",
       "dispositiondate    datetime64[ns]\n",
       "dtype: object"
      ]
     },
     "execution_count": 14,
     "metadata": {},
     "output_type": "execute_result"
    }
   ],
   "source": [
    "violations_data.dtypes"
   ]
  },
  {
   "cell_type": "code",
   "execution_count": 16,
   "metadata": {},
   "outputs": [
    {
     "data": {
      "text/html": [
       "<div>\n",
       "<style scoped>\n",
       "    .dataframe tbody tr th:only-of-type {\n",
       "        vertical-align: middle;\n",
       "    }\n",
       "\n",
       "    .dataframe tbody tr th {\n",
       "        vertical-align: top;\n",
       "    }\n",
       "\n",
       "    .dataframe thead th {\n",
       "        text-align: right;\n",
       "    }\n",
       "</style>\n",
       "<table border=\"1\" class=\"dataframe\">\n",
       "  <thead>\n",
       "    <tr style=\"text-align: right;\">\n",
       "      <th></th>\n",
       "      <th>facilityname</th>\n",
       "      <th>address</th>\n",
       "      <th>violationdate</th>\n",
       "      <th>violation</th>\n",
       "      <th>disposition</th>\n",
       "      <th>dispositiondate</th>\n",
       "    </tr>\n",
       "  </thead>\n",
       "  <tbody>\n",
       "    <tr>\n",
       "      <th>count</th>\n",
       "      <td>944</td>\n",
       "      <td>944</td>\n",
       "      <td>944</td>\n",
       "      <td>944</td>\n",
       "      <td>942</td>\n",
       "      <td>941</td>\n",
       "    </tr>\n",
       "    <tr>\n",
       "      <th>unique</th>\n",
       "      <td>546</td>\n",
       "      <td>582</td>\n",
       "      <td>341</td>\n",
       "      <td>38</td>\n",
       "      <td>146</td>\n",
       "      <td>408</td>\n",
       "    </tr>\n",
       "    <tr>\n",
       "      <th>top</th>\n",
       "      <td>GAITHERSBURG SUPERMARKET</td>\n",
       "      <td>220 EAST DIAMOND AVENUE , GAITHERSBURG, MD 20877</td>\n",
       "      <td>2018-08-17 00:00:00</td>\n",
       "      <td>SALE TO MINOR</td>\n",
       "      <td>SETTLED; $1000.00 + ALERT</td>\n",
       "      <td>2020-09-11 00:00:00</td>\n",
       "    </tr>\n",
       "    <tr>\n",
       "      <th>freq</th>\n",
       "      <td>11</td>\n",
       "      <td>11</td>\n",
       "      <td>16</td>\n",
       "      <td>381</td>\n",
       "      <td>96</td>\n",
       "      <td>18</td>\n",
       "    </tr>\n",
       "    <tr>\n",
       "      <th>first</th>\n",
       "      <td>NaN</td>\n",
       "      <td>NaN</td>\n",
       "      <td>2012-06-19 00:00:00</td>\n",
       "      <td>NaN</td>\n",
       "      <td>NaN</td>\n",
       "      <td>2016-01-19 00:00:00</td>\n",
       "    </tr>\n",
       "    <tr>\n",
       "      <th>last</th>\n",
       "      <td>NaN</td>\n",
       "      <td>NaN</td>\n",
       "      <td>2020-10-10 00:00:00</td>\n",
       "      <td>NaN</td>\n",
       "      <td>NaN</td>\n",
       "      <td>2020-11-30 00:00:00</td>\n",
       "    </tr>\n",
       "  </tbody>\n",
       "</table>\n",
       "</div>"
      ],
      "text/plain": [
       "                    facilityname  \\\n",
       "count                        944   \n",
       "unique                       546   \n",
       "top     GAITHERSBURG SUPERMARKET   \n",
       "freq                          11   \n",
       "first                        NaN   \n",
       "last                         NaN   \n",
       "\n",
       "                                                 address        violationdate  \\\n",
       "count                                                944                  944   \n",
       "unique                                               582                  341   \n",
       "top     220 EAST DIAMOND AVENUE , GAITHERSBURG, MD 20877  2018-08-17 00:00:00   \n",
       "freq                                                  11                   16   \n",
       "first                                                NaN  2012-06-19 00:00:00   \n",
       "last                                                 NaN  2020-10-10 00:00:00   \n",
       "\n",
       "            violation                disposition      dispositiondate  \n",
       "count             944                        942                  941  \n",
       "unique             38                        146                  408  \n",
       "top     SALE TO MINOR  SETTLED; $1000.00 + ALERT  2020-09-11 00:00:00  \n",
       "freq              381                         96                   18  \n",
       "first             NaN                        NaN  2016-01-19 00:00:00  \n",
       "last              NaN                        NaN  2020-11-30 00:00:00  "
      ]
     },
     "execution_count": 16,
     "metadata": {},
     "output_type": "execute_result"
    }
   ],
   "source": [
    "violations_data.describe(include=\"all\")"
   ]
  },
  {
   "cell_type": "code",
   "execution_count": 18,
   "metadata": {},
   "outputs": [
    {
     "name": "stdout",
     "output_type": "stream",
     "text": [
      "<class 'pandas.core.frame.DataFrame'>\n",
      "RangeIndex: 944 entries, 0 to 943\n",
      "Data columns (total 6 columns):\n",
      " #   Column           Non-Null Count  Dtype         \n",
      "---  ------           --------------  -----         \n",
      " 0   facilityname     944 non-null    object        \n",
      " 1   address          944 non-null    object        \n",
      " 2   violationdate    944 non-null    datetime64[ns]\n",
      " 3   violation        944 non-null    object        \n",
      " 4   disposition      942 non-null    object        \n",
      " 5   dispositiondate  941 non-null    datetime64[ns]\n",
      "dtypes: datetime64[ns](2), object(4)\n",
      "memory usage: 44.4+ KB\n"
     ]
    }
   ],
   "source": [
    "violations_data.info()"
   ]
  },
  {
   "cell_type": "code",
   "execution_count": 17,
   "metadata": {},
   "outputs": [],
   "source": [
    "# There are a few missing values for disposition and disposition date (counts are fewer than total count in some columns).\n",
    "# The most frequent violation is for sale to minor."
   ]
  },
  {
   "cell_type": "code",
   "execution_count": 19,
   "metadata": {},
   "outputs": [
    {
     "data": {
      "text/plain": [
       "facilityname       0\n",
       "address            0\n",
       "violationdate      0\n",
       "violation          0\n",
       "disposition        2\n",
       "dispositiondate    3\n",
       "dtype: int64"
      ]
     },
     "execution_count": 19,
     "metadata": {},
     "output_type": "execute_result"
    }
   ],
   "source": [
    "violations_data.isnull().sum()\n",
    "# This gives the number of null values for each var."
   ]
  },
  {
   "cell_type": "code",
   "execution_count": 20,
   "metadata": {},
   "outputs": [
    {
     "data": {
      "text/plain": [
       "facilityname       546\n",
       "address            582\n",
       "violationdate      341\n",
       "violation           38\n",
       "disposition        146\n",
       "dispositiondate    408\n",
       "dtype: int64"
      ]
     },
     "execution_count": 20,
     "metadata": {},
     "output_type": "execute_result"
    }
   ],
   "source": [
    "# Other EDA from https://www.youtube.com/watch?v=-o3AxdVcUtQ\n",
    "violations_data.nunique()\n",
    "# This gives the number of unique values for each variable"
   ]
  },
  {
   "cell_type": "code",
   "execution_count": 21,
   "metadata": {},
   "outputs": [
    {
     "data": {
      "text/plain": [
       "array(['6.4 CONSUMPTION, POSSESSION, OR SALE DURING PROHIBITED HOURS',\n",
       "       '5.5 RECORDS', '5.7 DISPLAY OF LICENSE', '6.9 STORAGE',\n",
       "       '5.4 ALCOHOL AWARENESS CERTIFICATION',\n",
       "       '6.1 SALES OR SERVICE TO MINORS/CONSUMPTION OR POSSESSION OF MINORS',\n",
       "       '6.2 SALES OR SERVICE TO INTOXICATED PERSONS/CONSUMPTION OR POSSESSION BY\\n\\nINTOXICATED PERSONS',\n",
       "       '5.2 CHANGES IN LICENSING INFORMATION', 'NO VIOLATION',\n",
       "       '6.3 AGES OF EMPLOYEES', 'SALE TO MINOR',\n",
       "       'LICENSE NOT PROPERLY DISPLAYED',\n",
       "       'EMPLOYEE RECORDS NOT AVAILABLE WHEN REQUESTED',\n",
       "       'ALCOHOL AWARENESS CERTIFIED PERSON NOT ON PREMISES', 'STORAGE',\n",
       "       'DISORDERLY HOUSE', 'NOISE/DISTURBANCE OF THE NEIGHBORHOOD',\n",
       "       \"LICENSEES' RESPONSIBILITY\", 'ACTS CONTRARY TO LAW',\n",
       "       'LICENSE COMPLIANCE CHECK',\n",
       "       'DISPENSING LIQUOR BY BOTTLE FOR CONSUMPTION ONSITE',\n",
       "       'REFILLING EMPTY/PARTIALLY EMPTY ALCOHOLIC BOTTLES',\n",
       "       'RECORDS INVOICE VIOLATION', 'AGE OF EMPLOYEE VIOLATION',\n",
       "       'APPLICATION - FAILURE TO UPDATE', 'NO ENTERPRISE LICENSE',\n",
       "       'PROHIBITED HOURS', 'KEG REGISTRATION VIOLATION',\n",
       "       'GAMBLING ON PREMISES',\n",
       "       'SELLING/SERVING ALCOHOL AFTER PERMITTED HOURS',\n",
       "       'SALE/SERVICE TO INTOXICATED PATRON',\n",
       "       'FAILED TO LABEL PRODUCTS FROM DISPENSING APPARATUS',\n",
       "       'PATRON LEAVING PREMISE WITH OPEN ALCOHOL CONTAINER',\n",
       "       'CLASS LICENSE VIOLATION', 'APPLICATION - FALSE INFORMATION',\n",
       "       'WINDOW TINTING', 'FAILURE TO PURCHASE FROM APPROVED SOURCE',\n",
       "       'INSPECTIONS GENERALLY'], dtype=object)"
      ]
     },
     "execution_count": 21,
     "metadata": {},
     "output_type": "execute_result"
    }
   ],
   "source": [
    "# Provide a list of the violations.\n",
    "violations_data.violation.unique()"
   ]
  },
  {
   "cell_type": "code",
   "execution_count": 22,
   "metadata": {},
   "outputs": [],
   "source": [
    "# From this video https://www.youtube.com/watch?v=5NcbVYhQJvw\n",
    "# count by category crosstab\n",
    "violations_dist = violations_data.groupby(\"violation\").size()"
   ]
  },
  {
   "cell_type": "code",
   "execution_count": 40,
   "metadata": {},
   "outputs": [
    {
     "data": {
      "text/plain": [
       "SALE TO MINOR                                                                                      381\n",
       "ALCOHOL AWARENESS CERTIFIED PERSON NOT ON PREMISES                                                 173\n",
       "6.1 SALES OR SERVICE TO MINORS/CONSUMPTION OR POSSESSION OF MINORS                                  66\n",
       "EMPLOYEE RECORDS NOT AVAILABLE WHEN REQUESTED                                                       64\n",
       "LICENSE NOT PROPERLY DISPLAYED                                                                      57\n",
       "RECORDS INVOICE VIOLATION                                                                           27\n",
       "5.4 ALCOHOL AWARENESS CERTIFICATION                                                                 25\n",
       "SALE/SERVICE TO INTOXICATED PATRON                                                                  16\n",
       "STORAGE                                                                                             14\n",
       "5.5 RECORDS                                                                                         13\n",
       "DISORDERLY HOUSE                                                                                    12\n",
       "5.7 DISPLAY OF LICENSE                                                                              12\n",
       "REFILLING EMPTY/PARTIALLY EMPTY ALCOHOLIC BOTTLES                                                   11\n",
       "SELLING/SERVING ALCOHOL AFTER PERMITTED HOURS                                                       10\n",
       "ACTS CONTRARY TO LAW                                                                                 7\n",
       "DISPENSING LIQUOR BY BOTTLE FOR CONSUMPTION ONSITE                                                   7\n",
       "6.4 CONSUMPTION, POSSESSION, OR SALE DURING PROHIBITED HOURS                                         6\n",
       "AGE OF EMPLOYEE VIOLATION                                                                            6\n",
       "6.9 STORAGE                                                                                          4\n",
       "NOISE/DISTURBANCE OF THE NEIGHBORHOOD                                                                4\n",
       "PATRON LEAVING PREMISE WITH OPEN ALCOHOL CONTAINER                                                   3\n",
       "FAILED TO LABEL PRODUCTS FROM DISPENSING APPARATUS                                                   3\n",
       "APPLICATION - FAILURE TO UPDATE                                                                      3\n",
       "6.2 SALES OR SERVICE TO INTOXICATED PERSONS/CONSUMPTION OR POSSESSION BY\\n\\nINTOXICATED PERSONS      2\n",
       "FAILURE TO PURCHASE FROM APPROVED SOURCE                                                             2\n",
       "5.2 CHANGES IN LICENSING INFORMATION                                                                 2\n",
       "NO VIOLATION                                                                                         2\n",
       "LICENSEES' RESPONSIBILITY                                                                            2\n",
       "CLASS LICENSE VIOLATION                                                                              1\n",
       "KEG REGISTRATION VIOLATION                                                                           1\n",
       "LICENSE COMPLIANCE CHECK                                                                             1\n",
       "INSPECTIONS GENERALLY                                                                                1\n",
       "WINDOW TINTING                                                                                       1\n",
       "6.3 AGES OF EMPLOYEES                                                                                1\n",
       "PROHIBITED HOURS                                                                                     1\n",
       "APPLICATION - FALSE INFORMATION                                                                      1\n",
       "NO ENTERPRISE LICENSE                                                                                1\n",
       "GAMBLING ON PREMISES                                                                                 1\n",
       "Name: violation, dtype: int64"
      ]
     },
     "execution_count": 40,
     "metadata": {},
     "output_type": "execute_result"
    }
   ],
   "source": [
    "# Get counts of the number of violations at each violation type.\n",
    "violations_data[\"violation\"].value_counts().sort_values(ascending=False)"
   ]
  },
  {
   "cell_type": "code",
   "execution_count": 23,
   "metadata": {},
   "outputs": [
    {
     "data": {
      "text/plain": [
       "<matplotlib.axes._subplots.AxesSubplot at 0x14acdc6daf0>"
      ]
     },
     "execution_count": 23,
     "metadata": {},
     "output_type": "execute_result"
    },
    {
     "data": {
      "image/png": "[encoded data removed]",
      "text/plain": [
       "<Figure size 432x288 with 1 Axes>"
      ]
     },
     "metadata": {
      "needs_background": "light"
     },
     "output_type": "display_data"
    }
   ],
   "source": [
    "violations_dist.plot(title=\"Distribution of Violations\")"
   ]
  },
  {
   "cell_type": "code",
   "execution_count": 24,
   "metadata": {},
   "outputs": [],
   "source": [
    "# This distribution is not helpful unless I can clean it up. "
   ]
  },
  {
   "cell_type": "code",
   "execution_count": 25,
   "metadata": {},
   "outputs": [
    {
     "data": {
      "text/plain": [
       "'\\nExplore the penalties for the violations\\n'"
      ]
     },
     "execution_count": 25,
     "metadata": {},
     "output_type": "execute_result"
    }
   ],
   "source": [
    "\"\"\"\n",
    "Explore the penalties for the violations\n",
    "\"\"\""
   ]
  },
  {
   "cell_type": "code",
   "execution_count": 26,
   "metadata": {},
   "outputs": [],
   "source": [
    "# The disposition var inconsistently contains a $ amount of the penalty with inconsistent formatting. \n",
    "# Use a regex to extract the penalty values.\n",
    "violations_data[\"penalty\"]=violations_data[\"disposition\"].str.extract(r\"((?<=\\$)\\d+)\")\n",
    "# This regex looks for the dollar sign (\\$), then pulls all the digits (\\d+) unlimited times (to the end)."
   ]
  },
  {
   "cell_type": "code",
   "execution_count": 27,
   "metadata": {},
   "outputs": [
    {
     "data": {
      "text/plain": [
       "0      1000\n",
       "1       500\n",
       "2       100\n",
       "3       500\n",
       "4      1600\n",
       "       ... \n",
       "939    3000\n",
       "940    1000\n",
       "941    1000\n",
       "942    1000\n",
       "943    1000\n",
       "Name: penalty, Length: 944, dtype: object"
      ]
     },
     "execution_count": 27,
     "metadata": {},
     "output_type": "execute_result"
    }
   ],
   "source": [
    "violations_data[\"penalty\"] # checking that the penalty amounts pulled in correctly."
   ]
  },
  {
   "cell_type": "code",
   "execution_count": 28,
   "metadata": {},
   "outputs": [
    {
     "data": {
      "text/plain": [
       "0                   $1000 +ALERT\n",
       "1                    $500 +ALERT\n",
       "2                    $100 +ALERT\n",
       "3                    $500 +ALERT\n",
       "4                   $1600 +ALERT\n",
       "                 ...            \n",
       "939    SETTLED; $3000.00 + ALERT\n",
       "940     SETTLED; $1000.00 +ALERT\n",
       "941                 $1000 +ALERT\n",
       "942                 $1000 +ALERT\n",
       "943                 $1000 +ALERT\n",
       "Name: disposition, Length: 944, dtype: object"
      ]
     },
     "execution_count": 28,
     "metadata": {},
     "output_type": "execute_result"
    }
   ],
   "source": [
    "violations_data[\"disposition\"] # checking that the disposition column remained unchanged. "
   ]
  },
  {
   "cell_type": "code",
   "execution_count": 29,
   "metadata": {},
   "outputs": [
    {
     "data": {
      "text/plain": [
       "facilityname        0\n",
       "address             0\n",
       "violationdate       0\n",
       "violation           0\n",
       "disposition         2\n",
       "dispositiondate     3\n",
       "penalty            51\n",
       "dtype: int64"
      ]
     },
     "execution_count": 29,
     "metadata": {},
     "output_type": "execute_result"
    }
   ],
   "source": [
    "violations_data.isnull().sum() # provides a count of nulls for each var."
   ]
  },
  {
   "cell_type": "code",
   "execution_count": 30,
   "metadata": {},
   "outputs": [],
   "source": [
    "# There are 51 records with no penalty value (nulls). \n",
    "# Some records did not result in a penalty being assessed.\n",
    "# Need to provide a value (0) for the missing penalty amounts. "
   ]
  },
  {
   "cell_type": "code",
   "execution_count": 31,
   "metadata": {},
   "outputs": [],
   "source": [
    "# Replace missing penalty values with 0.\n",
    "violations_data[\"penalty\"]=violations_data[\"penalty\"].fillna(0)\n",
    "# change the penalty type to an integer.\n",
    "violations_data[\"penalty\"]=violations_data[\"penalty\"].astype(int)"
   ]
  },
  {
   "cell_type": "code",
   "execution_count": 32,
   "metadata": {},
   "outputs": [
    {
     "data": {
      "text/html": [
       "<div>\n",
       "<style scoped>\n",
       "    .dataframe tbody tr th:only-of-type {\n",
       "        vertical-align: middle;\n",
       "    }\n",
       "\n",
       "    .dataframe tbody tr th {\n",
       "        vertical-align: top;\n",
       "    }\n",
       "\n",
       "    .dataframe thead th {\n",
       "        text-align: right;\n",
       "    }\n",
       "</style>\n",
       "<table border=\"1\" class=\"dataframe\">\n",
       "  <thead>\n",
       "    <tr style=\"text-align: right;\">\n",
       "      <th></th>\n",
       "      <th>facilityname</th>\n",
       "      <th>address</th>\n",
       "      <th>violationdate</th>\n",
       "      <th>violation</th>\n",
       "      <th>disposition</th>\n",
       "      <th>dispositiondate</th>\n",
       "      <th>penalty</th>\n",
       "    </tr>\n",
       "  </thead>\n",
       "  <tbody>\n",
       "    <tr>\n",
       "      <th>0</th>\n",
       "      <td>HAKUNA MATATA GRILL</td>\n",
       "      <td>2405 PRICE AVE. , SILVER SPRING , MARYLAND - 2...</td>\n",
       "      <td>2020-10-10</td>\n",
       "      <td>6.4 CONSUMPTION, POSSESSION, OR SALE DURING PR...</td>\n",
       "      <td>$1000 +ALERT</td>\n",
       "      <td>2020-11-30</td>\n",
       "      <td>1000</td>\n",
       "    </tr>\n",
       "    <tr>\n",
       "      <th>1</th>\n",
       "      <td>MOGOTILLO RESTAURANT</td>\n",
       "      <td>7637 NEW HAMPSHIRE AVE , TAKOMA PARK , MARYLAN...</td>\n",
       "      <td>2020-09-30</td>\n",
       "      <td>5.5 RECORDS</td>\n",
       "      <td>$500 +ALERT</td>\n",
       "      <td>2020-11-28</td>\n",
       "      <td>500</td>\n",
       "    </tr>\n",
       "    <tr>\n",
       "      <th>2</th>\n",
       "      <td>EL CARACOL CAFE</td>\n",
       "      <td>609 SLIGO AVE , SILVER SPRING , MARYLAND - 20910</td>\n",
       "      <td>2020-09-19</td>\n",
       "      <td>5.7 DISPLAY OF LICENSE</td>\n",
       "      <td>$100 +ALERT</td>\n",
       "      <td>2020-11-21</td>\n",
       "      <td>100</td>\n",
       "    </tr>\n",
       "    <tr>\n",
       "      <th>3</th>\n",
       "      <td>MOGOTILLO RESTAURANT</td>\n",
       "      <td>7637 NEW HAMPSHIRE AVE , TAKOMA PARK , MARYLAN...</td>\n",
       "      <td>2020-09-19</td>\n",
       "      <td>5.5 RECORDS</td>\n",
       "      <td>$500 +ALERT</td>\n",
       "      <td>2020-11-30</td>\n",
       "      <td>500</td>\n",
       "    </tr>\n",
       "    <tr>\n",
       "      <th>4</th>\n",
       "      <td>MOGOTILLO RESTAURANT</td>\n",
       "      <td>7637 NEW HAMPSHIRE AVE , TAKOMA PARK , MARYLAN...</td>\n",
       "      <td>2020-09-19</td>\n",
       "      <td>6.9 STORAGE</td>\n",
       "      <td>$1600 +ALERT</td>\n",
       "      <td>2020-11-30</td>\n",
       "      <td>1600</td>\n",
       "    </tr>\n",
       "    <tr>\n",
       "      <th>...</th>\n",
       "      <td>...</td>\n",
       "      <td>...</td>\n",
       "      <td>...</td>\n",
       "      <td>...</td>\n",
       "      <td>...</td>\n",
       "      <td>...</td>\n",
       "      <td>...</td>\n",
       "    </tr>\n",
       "    <tr>\n",
       "      <th>939</th>\n",
       "      <td>JOSE'S GRILL</td>\n",
       "      <td>11423 GEORGIA AVE. , WHEATON, MD 20902</td>\n",
       "      <td>2015-01-16</td>\n",
       "      <td>SALE TO MINOR</td>\n",
       "      <td>SETTLED; $3000.00 + ALERT</td>\n",
       "      <td>2016-09-09</td>\n",
       "      <td>3000</td>\n",
       "    </tr>\n",
       "    <tr>\n",
       "      <th>940</th>\n",
       "      <td>JOSE'S GRILL</td>\n",
       "      <td>11423 GEORGIA AVE. , WHEATON, MD 20902</td>\n",
       "      <td>2012-12-20</td>\n",
       "      <td>SALE TO MINOR</td>\n",
       "      <td>SETTLED; $1000.00 +ALERT</td>\n",
       "      <td>2016-09-09</td>\n",
       "      <td>1000</td>\n",
       "    </tr>\n",
       "    <tr>\n",
       "      <th>941</th>\n",
       "      <td>SEVEN-ELEVEN STORE</td>\n",
       "      <td>14101 GEORGIA AVE. , ASPEN HILL , MARYLAND - 2...</td>\n",
       "      <td>2012-10-19</td>\n",
       "      <td>6.4 CONSUMPTION, POSSESSION, OR SALE DURING PR...</td>\n",
       "      <td>$1000 +ALERT</td>\n",
       "      <td>2020-09-24</td>\n",
       "      <td>1000</td>\n",
       "    </tr>\n",
       "    <tr>\n",
       "      <th>942</th>\n",
       "      <td>SEVEN-ELEVEN STORE</td>\n",
       "      <td>14101 GEORGIA AVE. , ASPEN HILL , MD - 20906</td>\n",
       "      <td>2012-06-20</td>\n",
       "      <td>6.4 CONSUMPTION, POSSESSION, OR SALE DURING PR...</td>\n",
       "      <td>$1000 +ALERT</td>\n",
       "      <td>2020-09-24</td>\n",
       "      <td>1000</td>\n",
       "    </tr>\n",
       "    <tr>\n",
       "      <th>943</th>\n",
       "      <td>SEVEN-ELEVEN STORE</td>\n",
       "      <td>14101 GEORGIA AVE. , ASPEN HILL , MARYLAND - 2...</td>\n",
       "      <td>2012-06-19</td>\n",
       "      <td>6.4 CONSUMPTION, POSSESSION, OR SALE DURING PR...</td>\n",
       "      <td>$1000 +ALERT</td>\n",
       "      <td>2020-11-05</td>\n",
       "      <td>1000</td>\n",
       "    </tr>\n",
       "  </tbody>\n",
       "</table>\n",
       "<p>944 rows × 7 columns</p>\n",
       "</div>"
      ],
      "text/plain": [
       "             facilityname                                            address  \\\n",
       "0     HAKUNA MATATA GRILL  2405 PRICE AVE. , SILVER SPRING , MARYLAND - 2...   \n",
       "1    MOGOTILLO RESTAURANT  7637 NEW HAMPSHIRE AVE , TAKOMA PARK , MARYLAN...   \n",
       "2         EL CARACOL CAFE   609 SLIGO AVE , SILVER SPRING , MARYLAND - 20910   \n",
       "3    MOGOTILLO RESTAURANT  7637 NEW HAMPSHIRE AVE , TAKOMA PARK , MARYLAN...   \n",
       "4    MOGOTILLO RESTAURANT  7637 NEW HAMPSHIRE AVE , TAKOMA PARK , MARYLAN...   \n",
       "..                    ...                                                ...   \n",
       "939          JOSE'S GRILL             11423 GEORGIA AVE. , WHEATON, MD 20902   \n",
       "940          JOSE'S GRILL             11423 GEORGIA AVE. , WHEATON, MD 20902   \n",
       "941    SEVEN-ELEVEN STORE  14101 GEORGIA AVE. , ASPEN HILL , MARYLAND - 2...   \n",
       "942    SEVEN-ELEVEN STORE       14101 GEORGIA AVE. , ASPEN HILL , MD - 20906   \n",
       "943    SEVEN-ELEVEN STORE  14101 GEORGIA AVE. , ASPEN HILL , MARYLAND - 2...   \n",
       "\n",
       "    violationdate                                          violation  \\\n",
       "0      2020-10-10  6.4 CONSUMPTION, POSSESSION, OR SALE DURING PR...   \n",
       "1      2020-09-30                                        5.5 RECORDS   \n",
       "2      2020-09-19                             5.7 DISPLAY OF LICENSE   \n",
       "3      2020-09-19                                        5.5 RECORDS   \n",
       "4      2020-09-19                                        6.9 STORAGE   \n",
       "..            ...                                                ...   \n",
       "939    2015-01-16                                      SALE TO MINOR   \n",
       "940    2012-12-20                                      SALE TO MINOR   \n",
       "941    2012-10-19  6.4 CONSUMPTION, POSSESSION, OR SALE DURING PR...   \n",
       "942    2012-06-20  6.4 CONSUMPTION, POSSESSION, OR SALE DURING PR...   \n",
       "943    2012-06-19  6.4 CONSUMPTION, POSSESSION, OR SALE DURING PR...   \n",
       "\n",
       "                   disposition dispositiondate  penalty  \n",
       "0                 $1000 +ALERT      2020-11-30     1000  \n",
       "1                  $500 +ALERT      2020-11-28      500  \n",
       "2                  $100 +ALERT      2020-11-21      100  \n",
       "3                  $500 +ALERT      2020-11-30      500  \n",
       "4                 $1600 +ALERT      2020-11-30     1600  \n",
       "..                         ...             ...      ...  \n",
       "939  SETTLED; $3000.00 + ALERT      2016-09-09     3000  \n",
       "940   SETTLED; $1000.00 +ALERT      2016-09-09     1000  \n",
       "941               $1000 +ALERT      2020-09-24     1000  \n",
       "942               $1000 +ALERT      2020-09-24     1000  \n",
       "943               $1000 +ALERT      2020-11-05     1000  \n",
       "\n",
       "[944 rows x 7 columns]"
      ]
     },
     "execution_count": 32,
     "metadata": {},
     "output_type": "execute_result"
    }
   ],
   "source": [
    "violations_data"
   ]
  },
  {
   "cell_type": "code",
   "execution_count": 35,
   "metadata": {},
   "outputs": [
    {
     "name": "stdout",
     "output_type": "stream",
     "text": [
      "<class 'pandas.core.frame.DataFrame'>\n",
      "RangeIndex: 944 entries, 0 to 943\n",
      "Data columns (total 7 columns):\n",
      " #   Column           Non-Null Count  Dtype         \n",
      "---  ------           --------------  -----         \n",
      " 0   facilityname     944 non-null    object        \n",
      " 1   address          944 non-null    object        \n",
      " 2   violationdate    944 non-null    datetime64[ns]\n",
      " 3   violation        944 non-null    object        \n",
      " 4   disposition      942 non-null    object        \n",
      " 5   dispositiondate  941 non-null    datetime64[ns]\n",
      " 6   penalty          944 non-null    int32         \n",
      "dtypes: datetime64[ns](2), int32(1), object(4)\n",
      "memory usage: 48.1+ KB\n"
     ]
    }
   ],
   "source": [
    "violations_data.info()"
   ]
  },
  {
   "cell_type": "code",
   "execution_count": 36,
   "metadata": {},
   "outputs": [
    {
     "data": {
      "text/plain": [
       "1000    394\n",
       "100     208\n",
       "500     157\n",
       "2500     76\n",
       "0        53\n",
       "1         8\n",
       "2         7\n",
       "400       6\n",
       "200       6\n",
       "600       5\n",
       "800       3\n",
       "4         2\n",
       "3000      2\n",
       "1800      1\n",
       "1200      1\n",
       "2300      1\n",
       "8         1\n",
       "9         1\n",
       "10        1\n",
       "7200      1\n",
       "8000      1\n",
       "333       1\n",
       "2000      1\n",
       "5000      1\n",
       "1500      1\n",
       "2900      1\n",
       "2600      1\n",
       "1600      1\n",
       "2800      1\n",
       "7         1\n",
       "Name: penalty, dtype: int64"
      ]
     },
     "execution_count": 36,
     "metadata": {},
     "output_type": "execute_result"
    }
   ],
   "source": [
    "# Get counts of the number of violations at each penalty amount.\n",
    "violations_data[\"penalty\"].value_counts().sort_values(ascending=False)"
   ]
  },
  {
   "cell_type": "code",
   "execution_count": 37,
   "metadata": {},
   "outputs": [
    {
     "data": {
      "text/html": [
       "<div>\n",
       "<style scoped>\n",
       "    .dataframe tbody tr th:only-of-type {\n",
       "        vertical-align: middle;\n",
       "    }\n",
       "\n",
       "    .dataframe tbody tr th {\n",
       "        vertical-align: top;\n",
       "    }\n",
       "\n",
       "    .dataframe thead th {\n",
       "        text-align: right;\n",
       "    }\n",
       "</style>\n",
       "<table border=\"1\" class=\"dataframe\">\n",
       "  <thead>\n",
       "    <tr style=\"text-align: right;\">\n",
       "      <th></th>\n",
       "      <th>facilityname</th>\n",
       "      <th>address</th>\n",
       "      <th>violationdate</th>\n",
       "      <th>violation</th>\n",
       "      <th>disposition</th>\n",
       "      <th>dispositiondate</th>\n",
       "      <th>penalty</th>\n",
       "    </tr>\n",
       "  </thead>\n",
       "  <tbody>\n",
       "    <tr>\n",
       "      <th>479</th>\n",
       "      <td>SILVER SPRING HILTON HOTEL</td>\n",
       "      <td>8727 COLESVILLE ROAD , SILVER SPRING, MD 20910</td>\n",
       "      <td>2018-04-11</td>\n",
       "      <td>SALE TO MINOR</td>\n",
       "      <td>SETTLED; $8000+ALERT</td>\n",
       "      <td>2018-08-02</td>\n",
       "      <td>8000</td>\n",
       "    </tr>\n",
       "  </tbody>\n",
       "</table>\n",
       "</div>"
      ],
      "text/plain": [
       "                   facilityname  \\\n",
       "479  SILVER SPRING HILTON HOTEL   \n",
       "\n",
       "                                            address violationdate  \\\n",
       "479  8727 COLESVILLE ROAD , SILVER SPRING, MD 20910    2018-04-11   \n",
       "\n",
       "         violation           disposition dispositiondate  penalty  \n",
       "479  SALE TO MINOR  SETTLED; $8000+ALERT      2018-08-02     8000  "
      ]
     },
     "execution_count": 37,
     "metadata": {},
     "output_type": "execute_result"
    }
   ],
   "source": [
    "# Most of the violations are for $1,000, $100, or $500. \n",
    "# Look at the max value or the facility that received the highest penalty amount.\n",
    "violations_data[violations_data.penalty == violations_data.penalty.max()]"
   ]
  },
  {
   "cell_type": "code",
   "execution_count": 38,
   "metadata": {},
   "outputs": [
    {
     "data": {
      "text/plain": [
       "<matplotlib.axes._subplots.AxesSubplot at 0x14ace3e0040>"
      ]
     },
     "execution_count": 38,
     "metadata": {},
     "output_type": "execute_result"
    },
    {
     "data": {
      "image/png": "[encoded data removed]",
      "text/plain": [
       "<Figure size 432x288 with 1 Axes>"
      ]
     },
     "metadata": {
      "needs_background": "light"
     },
     "output_type": "display_data"
    }
   ],
   "source": [
    "# Explore distribution of the penalty amounts.\n",
    "sns.distplot(violations_data[\"penalty\"])  # or can add , bins = 20)]"
   ]
  },
  {
   "cell_type": "code",
   "execution_count": 39,
   "metadata": {},
   "outputs": [
    {
     "data": {
      "text/plain": [
       "<seaborn.axisgrid.FacetGrid at 0x14ace4e3a90>"
      ]
     },
     "execution_count": 39,
     "metadata": {},
     "output_type": "execute_result"
    },
    {
     "data": {
      "image/png": "[encoded data removed]",
      "text/plain": [
       "<Figure size 360x360 with 1 Axes>"
      ]
     },
     "metadata": {
      "needs_background": "light"
     },
     "output_type": "display_data"
    }
   ],
   "source": [
    "sns.catplot(x=\"penalty\", kind=\"box\", data=violations_data)"
   ]
  },
  {
   "cell_type": "code",
   "execution_count": 42,
   "metadata": {},
   "outputs": [
    {
     "data": {
      "image/png": "[encoded data removed]",
      "text/plain": [
       "<Figure size 432x288 with 1 Axes>"
      ]
     },
     "metadata": {},
     "output_type": "display_data"
    }
   ],
   "source": [
    "sns.set()\n",
    "_ = plt.hist(violations_data['penalty'])\n",
    "_ = plt.xlabel('Amount')\n",
    "_ = plt.ylabel('Count of Penalties at that Amount')\n",
    "plt.show()"
   ]
  },
  {
   "cell_type": "code",
   "execution_count": null,
   "metadata": {},
   "outputs": [],
   "source": [
    "\n",
    "# Perhaps look at average amount of penalty for each kind of violation. \n",
    "# Maybe bar charts of violation amounts by type. "
   ]
  },
  {
   "cell_type": "code",
   "execution_count": null,
   "metadata": {},
   "outputs": [],
   "source": []
  },
  {
   "cell_type": "code",
   "execution_count": 41,
   "metadata": {},
   "outputs": [
    {
     "data": {
      "image/png": "[encoded data removed]",
      "text/plain": [
       "<Figure size 432x288 with 1 Axes>"
      ]
     },
     "metadata": {
      "needs_background": "light"
     },
     "output_type": "display_data"
    }
   ],
   "source": [
    "# box plot categorical vars\n",
    "box_violations=sns.boxplot(x=\"violation\", y=\"penalty\", data=violations_data)"
   ]
  },
  {
   "cell_type": "code",
   "execution_count": null,
   "metadata": {},
   "outputs": [],
   "source": []
  },
  {
   "cell_type": "code",
   "execution_count": null,
   "metadata": {},
   "outputs": [],
   "source": []
  },
  {
   "cell_type": "code",
   "execution_count": null,
   "metadata": {},
   "outputs": [],
   "source": []
  },
  {
   "cell_type": "code",
   "execution_count": null,
   "metadata": {},
   "outputs": [],
   "source": []
  },
  {
   "cell_type": "code",
   "execution_count": 43,
   "metadata": {},
   "outputs": [
    {
     "data": {
      "text/plain": [
       "'\\nExplore violations by zip code\\n'"
      ]
     },
     "execution_count": 43,
     "metadata": {},
     "output_type": "execute_result"
    }
   ],
   "source": [
    "\"\"\"\n",
    "Explore violations by zip code\n",
    "\"\"\""
   ]
  },
  {
   "cell_type": "code",
   "execution_count": null,
   "metadata": {},
   "outputs": [],
   "source": [
    "###working on the pulling the zips better\n",
    "#(?<=MARYLAND).*?(?=\\s)\n",
    "#r\"(?<=MARYLAND).*?(?=\\d+$)\n",
    "\n",
    "#violations_data.zips=violations_data.address.split(\"MARYLAND\",1)[1] \n",
    "#violations_data"
   ]
  },
  {
   "cell_type": "code",
   "execution_count": 52,
   "metadata": {},
   "outputs": [
    {
     "data": {
      "text/html": [
       "<div>\n",
       "<style scoped>\n",
       "    .dataframe tbody tr th:only-of-type {\n",
       "        vertical-align: middle;\n",
       "    }\n",
       "\n",
       "    .dataframe tbody tr th {\n",
       "        vertical-align: top;\n",
       "    }\n",
       "\n",
       "    .dataframe thead th {\n",
       "        text-align: right;\n",
       "    }\n",
       "</style>\n",
       "<table border=\"1\" class=\"dataframe\">\n",
       "  <thead>\n",
       "    <tr style=\"text-align: right;\">\n",
       "      <th></th>\n",
       "      <th>facilityname</th>\n",
       "      <th>address</th>\n",
       "      <th>violationdate</th>\n",
       "      <th>violation</th>\n",
       "      <th>disposition</th>\n",
       "      <th>dispositiondate</th>\n",
       "      <th>penalty</th>\n",
       "      <th>zip</th>\n",
       "    </tr>\n",
       "  </thead>\n",
       "  <tbody>\n",
       "    <tr>\n",
       "      <th>0</th>\n",
       "      <td>HAKUNA MATATA GRILL</td>\n",
       "      <td>2405 PRICE AVE. , SILVER SPRING , MARYLAND - 2...</td>\n",
       "      <td>2020-10-10</td>\n",
       "      <td>6.4 CONSUMPTION, POSSESSION, OR SALE DURING PR...</td>\n",
       "      <td>$1000 +ALERT</td>\n",
       "      <td>2020-11-30</td>\n",
       "      <td>1000</td>\n",
       "      <td>20902</td>\n",
       "    </tr>\n",
       "    <tr>\n",
       "      <th>1</th>\n",
       "      <td>MOGOTILLO RESTAURANT</td>\n",
       "      <td>7637 NEW HAMPSHIRE AVE , TAKOMA PARK , MARYLAN...</td>\n",
       "      <td>2020-09-30</td>\n",
       "      <td>5.5 RECORDS</td>\n",
       "      <td>$500 +ALERT</td>\n",
       "      <td>2020-11-28</td>\n",
       "      <td>500</td>\n",
       "      <td>20912</td>\n",
       "    </tr>\n",
       "    <tr>\n",
       "      <th>2</th>\n",
       "      <td>EL CARACOL CAFE</td>\n",
       "      <td>609 SLIGO AVE , SILVER SPRING , MARYLAND - 20910</td>\n",
       "      <td>2020-09-19</td>\n",
       "      <td>5.7 DISPLAY OF LICENSE</td>\n",
       "      <td>$100 +ALERT</td>\n",
       "      <td>2020-11-21</td>\n",
       "      <td>100</td>\n",
       "      <td>20910</td>\n",
       "    </tr>\n",
       "    <tr>\n",
       "      <th>3</th>\n",
       "      <td>MOGOTILLO RESTAURANT</td>\n",
       "      <td>7637 NEW HAMPSHIRE AVE , TAKOMA PARK , MARYLAN...</td>\n",
       "      <td>2020-09-19</td>\n",
       "      <td>5.5 RECORDS</td>\n",
       "      <td>$500 +ALERT</td>\n",
       "      <td>2020-11-30</td>\n",
       "      <td>500</td>\n",
       "      <td>20912</td>\n",
       "    </tr>\n",
       "    <tr>\n",
       "      <th>4</th>\n",
       "      <td>MOGOTILLO RESTAURANT</td>\n",
       "      <td>7637 NEW HAMPSHIRE AVE , TAKOMA PARK , MARYLAN...</td>\n",
       "      <td>2020-09-19</td>\n",
       "      <td>6.9 STORAGE</td>\n",
       "      <td>$1600 +ALERT</td>\n",
       "      <td>2020-11-30</td>\n",
       "      <td>1600</td>\n",
       "      <td>20912</td>\n",
       "    </tr>\n",
       "    <tr>\n",
       "      <th>...</th>\n",
       "      <td>...</td>\n",
       "      <td>...</td>\n",
       "      <td>...</td>\n",
       "      <td>...</td>\n",
       "      <td>...</td>\n",
       "      <td>...</td>\n",
       "      <td>...</td>\n",
       "      <td>...</td>\n",
       "    </tr>\n",
       "    <tr>\n",
       "      <th>939</th>\n",
       "      <td>JOSE'S GRILL</td>\n",
       "      <td>11423 GEORGIA AVE. , WHEATON, MD 20902</td>\n",
       "      <td>2015-01-16</td>\n",
       "      <td>SALE TO MINOR</td>\n",
       "      <td>SETTLED; $3000.00 + ALERT</td>\n",
       "      <td>2016-09-09</td>\n",
       "      <td>3000</td>\n",
       "      <td>20902</td>\n",
       "    </tr>\n",
       "    <tr>\n",
       "      <th>940</th>\n",
       "      <td>JOSE'S GRILL</td>\n",
       "      <td>11423 GEORGIA AVE. , WHEATON, MD 20902</td>\n",
       "      <td>2012-12-20</td>\n",
       "      <td>SALE TO MINOR</td>\n",
       "      <td>SETTLED; $1000.00 +ALERT</td>\n",
       "      <td>2016-09-09</td>\n",
       "      <td>1000</td>\n",
       "      <td>20902</td>\n",
       "    </tr>\n",
       "    <tr>\n",
       "      <th>941</th>\n",
       "      <td>SEVEN-ELEVEN STORE</td>\n",
       "      <td>14101 GEORGIA AVE. , ASPEN HILL , MARYLAND - 2...</td>\n",
       "      <td>2012-10-19</td>\n",
       "      <td>6.4 CONSUMPTION, POSSESSION, OR SALE DURING PR...</td>\n",
       "      <td>$1000 +ALERT</td>\n",
       "      <td>2020-09-24</td>\n",
       "      <td>1000</td>\n",
       "      <td>20906</td>\n",
       "    </tr>\n",
       "    <tr>\n",
       "      <th>942</th>\n",
       "      <td>SEVEN-ELEVEN STORE</td>\n",
       "      <td>14101 GEORGIA AVE. , ASPEN HILL , MD - 20906</td>\n",
       "      <td>2012-06-20</td>\n",
       "      <td>6.4 CONSUMPTION, POSSESSION, OR SALE DURING PR...</td>\n",
       "      <td>$1000 +ALERT</td>\n",
       "      <td>2020-09-24</td>\n",
       "      <td>1000</td>\n",
       "      <td>20906</td>\n",
       "    </tr>\n",
       "    <tr>\n",
       "      <th>943</th>\n",
       "      <td>SEVEN-ELEVEN STORE</td>\n",
       "      <td>14101 GEORGIA AVE. , ASPEN HILL , MARYLAND - 2...</td>\n",
       "      <td>2012-06-19</td>\n",
       "      <td>6.4 CONSUMPTION, POSSESSION, OR SALE DURING PR...</td>\n",
       "      <td>$1000 +ALERT</td>\n",
       "      <td>2020-11-05</td>\n",
       "      <td>1000</td>\n",
       "      <td>20906</td>\n",
       "    </tr>\n",
       "  </tbody>\n",
       "</table>\n",
       "<p>944 rows × 8 columns</p>\n",
       "</div>"
      ],
      "text/plain": [
       "             facilityname                                            address  \\\n",
       "0     HAKUNA MATATA GRILL  2405 PRICE AVE. , SILVER SPRING , MARYLAND - 2...   \n",
       "1    MOGOTILLO RESTAURANT  7637 NEW HAMPSHIRE AVE , TAKOMA PARK , MARYLAN...   \n",
       "2         EL CARACOL CAFE   609 SLIGO AVE , SILVER SPRING , MARYLAND - 20910   \n",
       "3    MOGOTILLO RESTAURANT  7637 NEW HAMPSHIRE AVE , TAKOMA PARK , MARYLAN...   \n",
       "4    MOGOTILLO RESTAURANT  7637 NEW HAMPSHIRE AVE , TAKOMA PARK , MARYLAN...   \n",
       "..                    ...                                                ...   \n",
       "939          JOSE'S GRILL             11423 GEORGIA AVE. , WHEATON, MD 20902   \n",
       "940          JOSE'S GRILL             11423 GEORGIA AVE. , WHEATON, MD 20902   \n",
       "941    SEVEN-ELEVEN STORE  14101 GEORGIA AVE. , ASPEN HILL , MARYLAND - 2...   \n",
       "942    SEVEN-ELEVEN STORE       14101 GEORGIA AVE. , ASPEN HILL , MD - 20906   \n",
       "943    SEVEN-ELEVEN STORE  14101 GEORGIA AVE. , ASPEN HILL , MARYLAND - 2...   \n",
       "\n",
       "    violationdate                                          violation  \\\n",
       "0      2020-10-10  6.4 CONSUMPTION, POSSESSION, OR SALE DURING PR...   \n",
       "1      2020-09-30                                        5.5 RECORDS   \n",
       "2      2020-09-19                             5.7 DISPLAY OF LICENSE   \n",
       "3      2020-09-19                                        5.5 RECORDS   \n",
       "4      2020-09-19                                        6.9 STORAGE   \n",
       "..            ...                                                ...   \n",
       "939    2015-01-16                                      SALE TO MINOR   \n",
       "940    2012-12-20                                      SALE TO MINOR   \n",
       "941    2012-10-19  6.4 CONSUMPTION, POSSESSION, OR SALE DURING PR...   \n",
       "942    2012-06-20  6.4 CONSUMPTION, POSSESSION, OR SALE DURING PR...   \n",
       "943    2012-06-19  6.4 CONSUMPTION, POSSESSION, OR SALE DURING PR...   \n",
       "\n",
       "                   disposition dispositiondate  penalty    zip  \n",
       "0                 $1000 +ALERT      2020-11-30     1000  20902  \n",
       "1                  $500 +ALERT      2020-11-28      500  20912  \n",
       "2                  $100 +ALERT      2020-11-21      100  20910  \n",
       "3                  $500 +ALERT      2020-11-30      500  20912  \n",
       "4                 $1600 +ALERT      2020-11-30     1600  20912  \n",
       "..                         ...             ...      ...    ...  \n",
       "939  SETTLED; $3000.00 + ALERT      2016-09-09     3000  20902  \n",
       "940   SETTLED; $1000.00 +ALERT      2016-09-09     1000  20902  \n",
       "941               $1000 +ALERT      2020-09-24     1000  20906  \n",
       "942               $1000 +ALERT      2020-09-24     1000  20906  \n",
       "943               $1000 +ALERT      2020-11-05     1000  20906  \n",
       "\n",
       "[944 rows x 8 columns]"
      ]
     },
     "execution_count": 52,
     "metadata": {},
     "output_type": "execute_result"
    }
   ],
   "source": [
    "# Copy the license violations zip codes into a separate var.\n",
    "# Use a regular expression to pull out the zip codes.\n",
    "violations_data[\"zip\"]=violations_data[\"address\"].str.extract(r\"(\\d+$)\")\n",
    "# This regex matches the characters (r) that are digits (\\d) at the end ($). \n",
    "violations_data[\"zip\"]=violations_data[\"zip\"].astype(int)\n",
    "violations_data"
   ]
  },
  {
   "cell_type": "code",
   "execution_count": 46,
   "metadata": {},
   "outputs": [
    {
     "data": {
      "text/plain": [
       "0      2405 PRICE AVE. , SILVER SPRING , MARYLAND - 2...\n",
       "1      7637 NEW HAMPSHIRE AVE , TAKOMA PARK , MARYLAN...\n",
       "2       609 SLIGO AVE , SILVER SPRING , MARYLAND - 20910\n",
       "3      7637 NEW HAMPSHIRE AVE , TAKOMA PARK , MARYLAN...\n",
       "4      7637 NEW HAMPSHIRE AVE , TAKOMA PARK , MARYLAN...\n",
       "                             ...                        \n",
       "939               11423 GEORGIA AVE. , WHEATON, MD 20902\n",
       "940               11423 GEORGIA AVE. , WHEATON, MD 20902\n",
       "941    14101 GEORGIA AVE. , ASPEN HILL , MARYLAND - 2...\n",
       "942         14101 GEORGIA AVE. , ASPEN HILL , MD - 20906\n",
       "943    14101 GEORGIA AVE. , ASPEN HILL , MARYLAND - 2...\n",
       "Name: address, Length: 944, dtype: object"
      ]
     },
     "execution_count": 46,
     "metadata": {},
     "output_type": "execute_result"
    }
   ],
   "source": [
    "violations_data[\"address\"]"
   ]
  },
  {
   "cell_type": "code",
   "execution_count": 47,
   "metadata": {},
   "outputs": [
    {
     "data": {
      "text/html": [
       "<div>\n",
       "<style scoped>\n",
       "    .dataframe tbody tr th:only-of-type {\n",
       "        vertical-align: middle;\n",
       "    }\n",
       "\n",
       "    .dataframe tbody tr th {\n",
       "        vertical-align: top;\n",
       "    }\n",
       "\n",
       "    .dataframe thead th {\n",
       "        text-align: right;\n",
       "    }\n",
       "</style>\n",
       "<table border=\"1\" class=\"dataframe\">\n",
       "  <thead>\n",
       "    <tr style=\"text-align: right;\">\n",
       "      <th></th>\n",
       "      <th>facilityname</th>\n",
       "      <th>address</th>\n",
       "      <th>violationdate</th>\n",
       "      <th>violation</th>\n",
       "      <th>disposition</th>\n",
       "      <th>dispositiondate</th>\n",
       "      <th>penalty</th>\n",
       "      <th>zip</th>\n",
       "    </tr>\n",
       "  </thead>\n",
       "  <tbody>\n",
       "    <tr>\n",
       "      <th>0</th>\n",
       "      <td>HAKUNA MATATA GRILL</td>\n",
       "      <td>2405 PRICE AVE. , SILVER SPRING , MARYLAND - 2...</td>\n",
       "      <td>2020-10-10</td>\n",
       "      <td>6.4 CONSUMPTION, POSSESSION, OR SALE DURING PR...</td>\n",
       "      <td>$1000 +ALERT</td>\n",
       "      <td>2020-11-30</td>\n",
       "      <td>1000</td>\n",
       "      <td>20902</td>\n",
       "    </tr>\n",
       "    <tr>\n",
       "      <th>1</th>\n",
       "      <td>MOGOTILLO RESTAURANT</td>\n",
       "      <td>7637 NEW HAMPSHIRE AVE , TAKOMA PARK , MARYLAN...</td>\n",
       "      <td>2020-09-30</td>\n",
       "      <td>5.5 RECORDS</td>\n",
       "      <td>$500 +ALERT</td>\n",
       "      <td>2020-11-28</td>\n",
       "      <td>500</td>\n",
       "      <td>20912</td>\n",
       "    </tr>\n",
       "    <tr>\n",
       "      <th>2</th>\n",
       "      <td>EL CARACOL CAFE</td>\n",
       "      <td>609 SLIGO AVE , SILVER SPRING , MARYLAND - 20910</td>\n",
       "      <td>2020-09-19</td>\n",
       "      <td>5.7 DISPLAY OF LICENSE</td>\n",
       "      <td>$100 +ALERT</td>\n",
       "      <td>2020-11-21</td>\n",
       "      <td>100</td>\n",
       "      <td>20910</td>\n",
       "    </tr>\n",
       "    <tr>\n",
       "      <th>3</th>\n",
       "      <td>MOGOTILLO RESTAURANT</td>\n",
       "      <td>7637 NEW HAMPSHIRE AVE , TAKOMA PARK , MARYLAN...</td>\n",
       "      <td>2020-09-19</td>\n",
       "      <td>5.5 RECORDS</td>\n",
       "      <td>$500 +ALERT</td>\n",
       "      <td>2020-11-30</td>\n",
       "      <td>500</td>\n",
       "      <td>20912</td>\n",
       "    </tr>\n",
       "    <tr>\n",
       "      <th>4</th>\n",
       "      <td>MOGOTILLO RESTAURANT</td>\n",
       "      <td>7637 NEW HAMPSHIRE AVE , TAKOMA PARK , MARYLAN...</td>\n",
       "      <td>2020-09-19</td>\n",
       "      <td>6.9 STORAGE</td>\n",
       "      <td>$1600 +ALERT</td>\n",
       "      <td>2020-11-30</td>\n",
       "      <td>1600</td>\n",
       "      <td>20912</td>\n",
       "    </tr>\n",
       "    <tr>\n",
       "      <th>...</th>\n",
       "      <td>...</td>\n",
       "      <td>...</td>\n",
       "      <td>...</td>\n",
       "      <td>...</td>\n",
       "      <td>...</td>\n",
       "      <td>...</td>\n",
       "      <td>...</td>\n",
       "      <td>...</td>\n",
       "    </tr>\n",
       "    <tr>\n",
       "      <th>939</th>\n",
       "      <td>JOSE'S GRILL</td>\n",
       "      <td>11423 GEORGIA AVE. , WHEATON, MD 20902</td>\n",
       "      <td>2015-01-16</td>\n",
       "      <td>SALE TO MINOR</td>\n",
       "      <td>SETTLED; $3000.00 + ALERT</td>\n",
       "      <td>2016-09-09</td>\n",
       "      <td>3000</td>\n",
       "      <td>20902</td>\n",
       "    </tr>\n",
       "    <tr>\n",
       "      <th>940</th>\n",
       "      <td>JOSE'S GRILL</td>\n",
       "      <td>11423 GEORGIA AVE. , WHEATON, MD 20902</td>\n",
       "      <td>2012-12-20</td>\n",
       "      <td>SALE TO MINOR</td>\n",
       "      <td>SETTLED; $1000.00 +ALERT</td>\n",
       "      <td>2016-09-09</td>\n",
       "      <td>1000</td>\n",
       "      <td>20902</td>\n",
       "    </tr>\n",
       "    <tr>\n",
       "      <th>941</th>\n",
       "      <td>SEVEN-ELEVEN STORE</td>\n",
       "      <td>14101 GEORGIA AVE. , ASPEN HILL , MARYLAND - 2...</td>\n",
       "      <td>2012-10-19</td>\n",
       "      <td>6.4 CONSUMPTION, POSSESSION, OR SALE DURING PR...</td>\n",
       "      <td>$1000 +ALERT</td>\n",
       "      <td>2020-09-24</td>\n",
       "      <td>1000</td>\n",
       "      <td>20906</td>\n",
       "    </tr>\n",
       "    <tr>\n",
       "      <th>942</th>\n",
       "      <td>SEVEN-ELEVEN STORE</td>\n",
       "      <td>14101 GEORGIA AVE. , ASPEN HILL , MD - 20906</td>\n",
       "      <td>2012-06-20</td>\n",
       "      <td>6.4 CONSUMPTION, POSSESSION, OR SALE DURING PR...</td>\n",
       "      <td>$1000 +ALERT</td>\n",
       "      <td>2020-09-24</td>\n",
       "      <td>1000</td>\n",
       "      <td>20906</td>\n",
       "    </tr>\n",
       "    <tr>\n",
       "      <th>943</th>\n",
       "      <td>SEVEN-ELEVEN STORE</td>\n",
       "      <td>14101 GEORGIA AVE. , ASPEN HILL , MARYLAND - 2...</td>\n",
       "      <td>2012-06-19</td>\n",
       "      <td>6.4 CONSUMPTION, POSSESSION, OR SALE DURING PR...</td>\n",
       "      <td>$1000 +ALERT</td>\n",
       "      <td>2020-11-05</td>\n",
       "      <td>1000</td>\n",
       "      <td>20906</td>\n",
       "    </tr>\n",
       "  </tbody>\n",
       "</table>\n",
       "<p>944 rows × 8 columns</p>\n",
       "</div>"
      ],
      "text/plain": [
       "             facilityname                                            address  \\\n",
       "0     HAKUNA MATATA GRILL  2405 PRICE AVE. , SILVER SPRING , MARYLAND - 2...   \n",
       "1    MOGOTILLO RESTAURANT  7637 NEW HAMPSHIRE AVE , TAKOMA PARK , MARYLAN...   \n",
       "2         EL CARACOL CAFE   609 SLIGO AVE , SILVER SPRING , MARYLAND - 20910   \n",
       "3    MOGOTILLO RESTAURANT  7637 NEW HAMPSHIRE AVE , TAKOMA PARK , MARYLAN...   \n",
       "4    MOGOTILLO RESTAURANT  7637 NEW HAMPSHIRE AVE , TAKOMA PARK , MARYLAN...   \n",
       "..                    ...                                                ...   \n",
       "939          JOSE'S GRILL             11423 GEORGIA AVE. , WHEATON, MD 20902   \n",
       "940          JOSE'S GRILL             11423 GEORGIA AVE. , WHEATON, MD 20902   \n",
       "941    SEVEN-ELEVEN STORE  14101 GEORGIA AVE. , ASPEN HILL , MARYLAND - 2...   \n",
       "942    SEVEN-ELEVEN STORE       14101 GEORGIA AVE. , ASPEN HILL , MD - 20906   \n",
       "943    SEVEN-ELEVEN STORE  14101 GEORGIA AVE. , ASPEN HILL , MARYLAND - 2...   \n",
       "\n",
       "    violationdate                                          violation  \\\n",
       "0      2020-10-10  6.4 CONSUMPTION, POSSESSION, OR SALE DURING PR...   \n",
       "1      2020-09-30                                        5.5 RECORDS   \n",
       "2      2020-09-19                             5.7 DISPLAY OF LICENSE   \n",
       "3      2020-09-19                                        5.5 RECORDS   \n",
       "4      2020-09-19                                        6.9 STORAGE   \n",
       "..            ...                                                ...   \n",
       "939    2015-01-16                                      SALE TO MINOR   \n",
       "940    2012-12-20                                      SALE TO MINOR   \n",
       "941    2012-10-19  6.4 CONSUMPTION, POSSESSION, OR SALE DURING PR...   \n",
       "942    2012-06-20  6.4 CONSUMPTION, POSSESSION, OR SALE DURING PR...   \n",
       "943    2012-06-19  6.4 CONSUMPTION, POSSESSION, OR SALE DURING PR...   \n",
       "\n",
       "                   disposition dispositiondate  penalty    zip  \n",
       "0                 $1000 +ALERT      2020-11-30     1000  20902  \n",
       "1                  $500 +ALERT      2020-11-28      500  20912  \n",
       "2                  $100 +ALERT      2020-11-21      100  20910  \n",
       "3                  $500 +ALERT      2020-11-30      500  20912  \n",
       "4                 $1600 +ALERT      2020-11-30     1600  20912  \n",
       "..                         ...             ...      ...    ...  \n",
       "939  SETTLED; $3000.00 + ALERT      2016-09-09     3000  20902  \n",
       "940   SETTLED; $1000.00 +ALERT      2016-09-09     1000  20902  \n",
       "941               $1000 +ALERT      2020-09-24     1000  20906  \n",
       "942               $1000 +ALERT      2020-09-24     1000  20906  \n",
       "943               $1000 +ALERT      2020-11-05     1000  20906  \n",
       "\n",
       "[944 rows x 8 columns]"
      ]
     },
     "execution_count": 47,
     "metadata": {},
     "output_type": "execute_result"
    }
   ],
   "source": [
    "violations_data"
   ]
  },
  {
   "cell_type": "code",
   "execution_count": 48,
   "metadata": {},
   "outputs": [],
   "source": [
    "# Now I have the zip codes of the Alcohol Beverage License Violations in the var \"zip\".\n",
    "# Do frequency of violations by zip code."
   ]
  },
  {
   "cell_type": "code",
   "execution_count": 53,
   "metadata": {},
   "outputs": [
    {
     "data": {
      "text/plain": [
       "20814    116\n",
       "20852    100\n",
       "20850     96\n",
       "20910     91\n",
       "20878     89\n",
       "20902     61\n",
       "20877     60\n",
       "20879     40\n",
       "20874     34\n",
       "20906     31\n",
       "20876     23\n",
       "20912     22\n",
       "20904     18\n",
       "20854     14\n",
       "20815     14\n",
       "20901     11\n",
       "20905     10\n",
       "20832     10\n",
       "20872      9\n",
       "20851      9\n",
       "20855      9\n",
       "20871      8\n",
       "20817      8\n",
       "20903      6\n",
       "20853      6\n",
       "20886      5\n",
       "20816      5\n",
       "20837      4\n",
       "20895      4\n",
       "20860      4\n",
       "20818      2\n",
       "2612       2\n",
       "20867      2\n",
       "3649       2\n",
       "20833      2\n",
       "20866      2\n",
       "2123       2\n",
       "20882      2\n",
       "3414       1\n",
       "4505       1\n",
       "1909       1\n",
       "20861      1\n",
       "20841      1\n",
       "2610       1\n",
       "6008       1\n",
       "2206       1\n",
       "1112       1\n",
       "5204       1\n",
       "2076       1\n",
       "Name: zip, dtype: int64"
      ]
     },
     "execution_count": 53,
     "metadata": {},
     "output_type": "execute_result"
    }
   ],
   "source": [
    "# Get counts of the number of violations by zip.\n",
    "violations_data[\"zip\"].value_counts().sort_values(ascending=False)"
   ]
  },
  {
   "cell_type": "code",
   "execution_count": 56,
   "metadata": {},
   "outputs": [
    {
     "data": {
      "text/html": [
       "<div>\n",
       "<style scoped>\n",
       "    .dataframe tbody tr th:only-of-type {\n",
       "        vertical-align: middle;\n",
       "    }\n",
       "\n",
       "    .dataframe tbody tr th {\n",
       "        vertical-align: top;\n",
       "    }\n",
       "\n",
       "    .dataframe thead th {\n",
       "        text-align: right;\n",
       "    }\n",
       "</style>\n",
       "<table border=\"1\" class=\"dataframe\">\n",
       "  <thead>\n",
       "    <tr style=\"text-align: right;\">\n",
       "      <th></th>\n",
       "      <th>facilityname</th>\n",
       "      <th>address</th>\n",
       "      <th>violationdate</th>\n",
       "      <th>violation</th>\n",
       "      <th>disposition</th>\n",
       "      <th>dispositiondate</th>\n",
       "      <th>penalty</th>\n",
       "      <th>zip</th>\n",
       "    </tr>\n",
       "  </thead>\n",
       "  <tbody>\n",
       "    <tr>\n",
       "      <th>636</th>\n",
       "      <td>IL PIZZICO</td>\n",
       "      <td>15209 FREDERICK ROAD , ROCKVILLE, MD 20850-1112</td>\n",
       "      <td>2017-08-25</td>\n",
       "      <td>SALE TO MINOR</td>\n",
       "      <td>SETTLED; $1000 + ALERT</td>\n",
       "      <td>2017-09-19</td>\n",
       "      <td>1000</td>\n",
       "      <td>1112</td>\n",
       "    </tr>\n",
       "    <tr>\n",
       "      <th>725</th>\n",
       "      <td>SOLE D'ITALIA RESTAURANT</td>\n",
       "      <td>14324 LAYHILL ROAD , SILVER SPRING, MD 20906-1909</td>\n",
       "      <td>2017-03-10</td>\n",
       "      <td>SALE TO MINOR</td>\n",
       "      <td>SETTLED; $2500.00 + ALERT</td>\n",
       "      <td>2017-05-31</td>\n",
       "      <td>2500</td>\n",
       "      <td>1909</td>\n",
       "    </tr>\n",
       "    <tr>\n",
       "      <th>583</th>\n",
       "      <td>BASSETT'S</td>\n",
       "      <td>19950 FISHER AVE. , POOLESVILLE, MD 20837-2076</td>\n",
       "      <td>2017-10-18</td>\n",
       "      <td>SALE TO MINOR</td>\n",
       "      <td>SETTLED; $1000 + ALERT</td>\n",
       "      <td>2017-11-09</td>\n",
       "      <td>1000</td>\n",
       "      <td>2076</td>\n",
       "    </tr>\n",
       "    <tr>\n",
       "      <th>277</th>\n",
       "      <td>KENSINGTON SUB &amp; PIZZA</td>\n",
       "      <td>3701 UNIVERSITY BLVD. W. , KENSINGTON, MD 2089...</td>\n",
       "      <td>2019-01-30</td>\n",
       "      <td>STORAGE</td>\n",
       "      <td>SETTLED;$1000+ALERT</td>\n",
       "      <td>2019-02-25</td>\n",
       "      <td>1000</td>\n",
       "      <td>2123</td>\n",
       "    </tr>\n",
       "    <tr>\n",
       "      <th>624</th>\n",
       "      <td>KENSINGTON SUB &amp; PIZZA</td>\n",
       "      <td>3701 UNIVERSITY BLVD. W. , KENSINGTON, MD 2089...</td>\n",
       "      <td>2017-08-31</td>\n",
       "      <td>SALE TO MINOR</td>\n",
       "      <td>SETTLED; $1000 + ALERT</td>\n",
       "      <td>2017-10-04</td>\n",
       "      <td>1000</td>\n",
       "      <td>2123</td>\n",
       "    </tr>\n",
       "    <tr>\n",
       "      <th>872</th>\n",
       "      <td>FOREST GLEN DELI</td>\n",
       "      <td>536 FOREST GLEN ROAD , SILVER SPRING, MD 20901...</td>\n",
       "      <td>2016-04-26</td>\n",
       "      <td>SALE TO MINOR</td>\n",
       "      <td>SETTLED; $1000.00 + ALERT</td>\n",
       "      <td>2016-05-24</td>\n",
       "      <td>1000</td>\n",
       "      <td>2206</td>\n",
       "    </tr>\n",
       "    <tr>\n",
       "      <th>535</th>\n",
       "      <td>WHITE OAK CONVENIENCE STORE</td>\n",
       "      <td>11407 LOCKWOOD DRIVE , SILVER SPRING, MD 20904...</td>\n",
       "      <td>2018-01-11</td>\n",
       "      <td>SALE TO MINOR</td>\n",
       "      <td>SETTLED; $1000+ALERT</td>\n",
       "      <td>2018-03-13</td>\n",
       "      <td>1000</td>\n",
       "      <td>2610</td>\n",
       "    </tr>\n",
       "    <tr>\n",
       "      <th>838</th>\n",
       "      <td>RUBY TUESDAY</td>\n",
       "      <td>701 RUSSELL AVE. , GAITHERSBURG, MD 20877-2612</td>\n",
       "      <td>2016-06-09</td>\n",
       "      <td>SALE TO MINOR</td>\n",
       "      <td>SETTLED; 1,000 + ALERT</td>\n",
       "      <td>2016-07-06</td>\n",
       "      <td>0</td>\n",
       "      <td>2612</td>\n",
       "    </tr>\n",
       "    <tr>\n",
       "      <th>839</th>\n",
       "      <td>RUBY TUESDAY</td>\n",
       "      <td>701 RUSSELL AVE. , GAITHERSBURG, MD 20877-2612</td>\n",
       "      <td>2016-06-09</td>\n",
       "      <td>ALCOHOL AWARENESS CERTIFIED PERSON NOT ON PREM...</td>\n",
       "      <td>SETTLED; $100 + ALERT</td>\n",
       "      <td>2016-07-06</td>\n",
       "      <td>100</td>\n",
       "      <td>2612</td>\n",
       "    </tr>\n",
       "    <tr>\n",
       "      <th>525</th>\n",
       "      <td>KEMP MILL BEER WINE &amp; DELI</td>\n",
       "      <td>1339 LAMBERTON DRIVE , SILVER SPRING, MD 20902...</td>\n",
       "      <td>2018-01-17</td>\n",
       "      <td>SALE TO MINOR</td>\n",
       "      <td>SETTLED; $1000 + ALERT</td>\n",
       "      <td>2018-04-20</td>\n",
       "      <td>1000</td>\n",
       "      <td>3414</td>\n",
       "    </tr>\n",
       "    <tr>\n",
       "      <th>712</th>\n",
       "      <td>GLENMONT BEER WINE &amp; DELI</td>\n",
       "      <td>12351 GEORGIA AVE. , WHEATON, MD 20906-3649</td>\n",
       "      <td>2017-03-17</td>\n",
       "      <td>SALE TO MINOR</td>\n",
       "      <td>SETTLED; $1000.00 + ALERT</td>\n",
       "      <td>2017-05-16</td>\n",
       "      <td>1000</td>\n",
       "      <td>3649</td>\n",
       "    </tr>\n",
       "    <tr>\n",
       "      <th>713</th>\n",
       "      <td>GLENMONT BEER WINE &amp; DELI</td>\n",
       "      <td>12351 GEORGIA AVE. , WHEATON, MD 20906-3649</td>\n",
       "      <td>2017-03-17</td>\n",
       "      <td>EMPLOYEE RECORDS NOT AVAILABLE WHEN REQUESTED</td>\n",
       "      <td>SETTLED; $500.00 + ALERT</td>\n",
       "      <td>2017-05-16</td>\n",
       "      <td>500</td>\n",
       "      <td>3649</td>\n",
       "    </tr>\n",
       "    <tr>\n",
       "      <th>442</th>\n",
       "      <td>WHEATON WINERY</td>\n",
       "      <td>2211 UNIVERSITY BLVD. W. B, WHEATON, MD 20902-...</td>\n",
       "      <td>2018-07-20</td>\n",
       "      <td>SALE TO MINOR</td>\n",
       "      <td>SETTLED; $2500+ALERT</td>\n",
       "      <td>2018-08-08</td>\n",
       "      <td>2500</td>\n",
       "      <td>4505</td>\n",
       "    </tr>\n",
       "    <tr>\n",
       "      <th>599</th>\n",
       "      <td>BETHESDA CRAB HOUSE</td>\n",
       "      <td>4958 BETHESDA AVE. , BETHESDA, MD 20814-5204</td>\n",
       "      <td>2017-09-17</td>\n",
       "      <td>SALE TO MINOR</td>\n",
       "      <td>SETTLED; $1000 + ALERT</td>\n",
       "      <td>2017-10-18</td>\n",
       "      <td>1000</td>\n",
       "      <td>5204</td>\n",
       "    </tr>\n",
       "    <tr>\n",
       "      <th>598</th>\n",
       "      <td>BANGKOK GARDEN RESTAURANT</td>\n",
       "      <td>4906 SAINT ELMO AVE. , BETHESDA, MD 20814-6008</td>\n",
       "      <td>2017-09-17</td>\n",
       "      <td>SALE TO MINOR</td>\n",
       "      <td>SETTLED; $2500 + ALERT</td>\n",
       "      <td>2017-10-13</td>\n",
       "      <td>2500</td>\n",
       "      <td>6008</td>\n",
       "    </tr>\n",
       "  </tbody>\n",
       "</table>\n",
       "</div>"
      ],
      "text/plain": [
       "                    facilityname  \\\n",
       "636                   IL PIZZICO   \n",
       "725     SOLE D'ITALIA RESTAURANT   \n",
       "583                    BASSETT'S   \n",
       "277       KENSINGTON SUB & PIZZA   \n",
       "624       KENSINGTON SUB & PIZZA   \n",
       "872             FOREST GLEN DELI   \n",
       "535  WHITE OAK CONVENIENCE STORE   \n",
       "838                 RUBY TUESDAY   \n",
       "839                 RUBY TUESDAY   \n",
       "525   KEMP MILL BEER WINE & DELI   \n",
       "712    GLENMONT BEER WINE & DELI   \n",
       "713    GLENMONT BEER WINE & DELI   \n",
       "442               WHEATON WINERY   \n",
       "599          BETHESDA CRAB HOUSE   \n",
       "598    BANGKOK GARDEN RESTAURANT   \n",
       "\n",
       "                                               address violationdate  \\\n",
       "636    15209 FREDERICK ROAD , ROCKVILLE, MD 20850-1112    2017-08-25   \n",
       "725  14324 LAYHILL ROAD , SILVER SPRING, MD 20906-1909    2017-03-10   \n",
       "583     19950 FISHER AVE. , POOLESVILLE, MD 20837-2076    2017-10-18   \n",
       "277  3701 UNIVERSITY BLVD. W. , KENSINGTON, MD 2089...    2019-01-30   \n",
       "624  3701 UNIVERSITY BLVD. W. , KENSINGTON, MD 2089...    2017-08-31   \n",
       "872  536 FOREST GLEN ROAD , SILVER SPRING, MD 20901...    2016-04-26   \n",
       "535  11407 LOCKWOOD DRIVE , SILVER SPRING, MD 20904...    2018-01-11   \n",
       "838     701 RUSSELL AVE. , GAITHERSBURG, MD 20877-2612    2016-06-09   \n",
       "839     701 RUSSELL AVE. , GAITHERSBURG, MD 20877-2612    2016-06-09   \n",
       "525  1339 LAMBERTON DRIVE , SILVER SPRING, MD 20902...    2018-01-17   \n",
       "712        12351 GEORGIA AVE. , WHEATON, MD 20906-3649    2017-03-17   \n",
       "713        12351 GEORGIA AVE. , WHEATON, MD 20906-3649    2017-03-17   \n",
       "442  2211 UNIVERSITY BLVD. W. B, WHEATON, MD 20902-...    2018-07-20   \n",
       "599       4958 BETHESDA AVE. , BETHESDA, MD 20814-5204    2017-09-17   \n",
       "598     4906 SAINT ELMO AVE. , BETHESDA, MD 20814-6008    2017-09-17   \n",
       "\n",
       "                                             violation  \\\n",
       "636                                      SALE TO MINOR   \n",
       "725                                      SALE TO MINOR   \n",
       "583                                      SALE TO MINOR   \n",
       "277                                            STORAGE   \n",
       "624                                      SALE TO MINOR   \n",
       "872                                      SALE TO MINOR   \n",
       "535                                      SALE TO MINOR   \n",
       "838                                      SALE TO MINOR   \n",
       "839  ALCOHOL AWARENESS CERTIFIED PERSON NOT ON PREM...   \n",
       "525                                      SALE TO MINOR   \n",
       "712                                      SALE TO MINOR   \n",
       "713      EMPLOYEE RECORDS NOT AVAILABLE WHEN REQUESTED   \n",
       "442                                      SALE TO MINOR   \n",
       "599                                      SALE TO MINOR   \n",
       "598                                      SALE TO MINOR   \n",
       "\n",
       "                   disposition dispositiondate  penalty   zip  \n",
       "636     SETTLED; $1000 + ALERT      2017-09-19     1000  1112  \n",
       "725  SETTLED; $2500.00 + ALERT      2017-05-31     2500  1909  \n",
       "583     SETTLED; $1000 + ALERT      2017-11-09     1000  2076  \n",
       "277        SETTLED;$1000+ALERT      2019-02-25     1000  2123  \n",
       "624     SETTLED; $1000 + ALERT      2017-10-04     1000  2123  \n",
       "872  SETTLED; $1000.00 + ALERT      2016-05-24     1000  2206  \n",
       "535       SETTLED; $1000+ALERT      2018-03-13     1000  2610  \n",
       "838     SETTLED; 1,000 + ALERT      2016-07-06        0  2612  \n",
       "839      SETTLED; $100 + ALERT      2016-07-06      100  2612  \n",
       "525     SETTLED; $1000 + ALERT      2018-04-20     1000  3414  \n",
       "712  SETTLED; $1000.00 + ALERT      2017-05-16     1000  3649  \n",
       "713   SETTLED; $500.00 + ALERT      2017-05-16      500  3649  \n",
       "442       SETTLED; $2500+ALERT      2018-08-08     2500  4505  \n",
       "599     SETTLED; $1000 + ALERT      2017-10-18     1000  5204  \n",
       "598     SETTLED; $2500 + ALERT      2017-10-13     2500  6008  "
      ]
     },
     "execution_count": 56,
     "metadata": {},
     "output_type": "execute_result"
    }
   ],
   "source": [
    "# Bethesda (20814) and Rockville (20852) have the 2 highest frequencies. \n",
    "# Other zips are incorrect and need fixed.\n",
    "zip_fix=violations_data.loc[(violations_data['zip'] <= 20000)]\n",
    "zip_fix.sort_values(by=[\"zip\", \"address\"])"
   ]
  },
  {
   "cell_type": "code",
   "execution_count": 61,
   "metadata": {},
   "outputs": [
    {
     "data": {
      "text/html": [
       "<div>\n",
       "<style scoped>\n",
       "    .dataframe tbody tr th:only-of-type {\n",
       "        vertical-align: middle;\n",
       "    }\n",
       "\n",
       "    .dataframe tbody tr th {\n",
       "        vertical-align: top;\n",
       "    }\n",
       "\n",
       "    .dataframe thead th {\n",
       "        text-align: right;\n",
       "    }\n",
       "</style>\n",
       "<table border=\"1\" class=\"dataframe\">\n",
       "  <thead>\n",
       "    <tr style=\"text-align: right;\">\n",
       "      <th></th>\n",
       "      <th>facilityname</th>\n",
       "      <th>address</th>\n",
       "      <th>violationdate</th>\n",
       "      <th>violation</th>\n",
       "      <th>disposition</th>\n",
       "      <th>dispositiondate</th>\n",
       "      <th>penalty</th>\n",
       "      <th>zip</th>\n",
       "    </tr>\n",
       "  </thead>\n",
       "  <tbody>\n",
       "    <tr>\n",
       "      <th>0</th>\n",
       "      <td>HAKUNA MATATA GRILL</td>\n",
       "      <td>2405 PRICE AVE. , SILVER SPRING , MARYLAND - 2...</td>\n",
       "      <td>2020-10-10</td>\n",
       "      <td>6.4 CONSUMPTION, POSSESSION, OR SALE DURING PR...</td>\n",
       "      <td>$1000 +ALERT</td>\n",
       "      <td>2020-11-30</td>\n",
       "      <td>1000</td>\n",
       "      <td>20902</td>\n",
       "    </tr>\n",
       "    <tr>\n",
       "      <th>1</th>\n",
       "      <td>MOGOTILLO RESTAURANT</td>\n",
       "      <td>7637 NEW HAMPSHIRE AVE , TAKOMA PARK , MARYLAN...</td>\n",
       "      <td>2020-09-30</td>\n",
       "      <td>5.5 RECORDS</td>\n",
       "      <td>$500 +ALERT</td>\n",
       "      <td>2020-11-28</td>\n",
       "      <td>500</td>\n",
       "      <td>20912</td>\n",
       "    </tr>\n",
       "    <tr>\n",
       "      <th>2</th>\n",
       "      <td>EL CARACOL CAFE</td>\n",
       "      <td>609 SLIGO AVE , SILVER SPRING , MARYLAND - 20910</td>\n",
       "      <td>2020-09-19</td>\n",
       "      <td>5.7 DISPLAY OF LICENSE</td>\n",
       "      <td>$100 +ALERT</td>\n",
       "      <td>2020-11-21</td>\n",
       "      <td>100</td>\n",
       "      <td>20910</td>\n",
       "    </tr>\n",
       "    <tr>\n",
       "      <th>3</th>\n",
       "      <td>MOGOTILLO RESTAURANT</td>\n",
       "      <td>7637 NEW HAMPSHIRE AVE , TAKOMA PARK , MARYLAN...</td>\n",
       "      <td>2020-09-19</td>\n",
       "      <td>5.5 RECORDS</td>\n",
       "      <td>$500 +ALERT</td>\n",
       "      <td>2020-11-30</td>\n",
       "      <td>500</td>\n",
       "      <td>20912</td>\n",
       "    </tr>\n",
       "    <tr>\n",
       "      <th>4</th>\n",
       "      <td>MOGOTILLO RESTAURANT</td>\n",
       "      <td>7637 NEW HAMPSHIRE AVE , TAKOMA PARK , MARYLAN...</td>\n",
       "      <td>2020-09-19</td>\n",
       "      <td>6.9 STORAGE</td>\n",
       "      <td>$1600 +ALERT</td>\n",
       "      <td>2020-11-30</td>\n",
       "      <td>1600</td>\n",
       "      <td>20912</td>\n",
       "    </tr>\n",
       "    <tr>\n",
       "      <th>...</th>\n",
       "      <td>...</td>\n",
       "      <td>...</td>\n",
       "      <td>...</td>\n",
       "      <td>...</td>\n",
       "      <td>...</td>\n",
       "      <td>...</td>\n",
       "      <td>...</td>\n",
       "      <td>...</td>\n",
       "    </tr>\n",
       "    <tr>\n",
       "      <th>939</th>\n",
       "      <td>JOSE'S GRILL</td>\n",
       "      <td>11423 GEORGIA AVE. , WHEATON, MD 20902</td>\n",
       "      <td>2015-01-16</td>\n",
       "      <td>SALE TO MINOR</td>\n",
       "      <td>SETTLED; $3000.00 + ALERT</td>\n",
       "      <td>2016-09-09</td>\n",
       "      <td>3000</td>\n",
       "      <td>20902</td>\n",
       "    </tr>\n",
       "    <tr>\n",
       "      <th>940</th>\n",
       "      <td>JOSE'S GRILL</td>\n",
       "      <td>11423 GEORGIA AVE. , WHEATON, MD 20902</td>\n",
       "      <td>2012-12-20</td>\n",
       "      <td>SALE TO MINOR</td>\n",
       "      <td>SETTLED; $1000.00 +ALERT</td>\n",
       "      <td>2016-09-09</td>\n",
       "      <td>1000</td>\n",
       "      <td>20902</td>\n",
       "    </tr>\n",
       "    <tr>\n",
       "      <th>941</th>\n",
       "      <td>SEVEN-ELEVEN STORE</td>\n",
       "      <td>14101 GEORGIA AVE. , ASPEN HILL , MARYLAND - 2...</td>\n",
       "      <td>2012-10-19</td>\n",
       "      <td>6.4 CONSUMPTION, POSSESSION, OR SALE DURING PR...</td>\n",
       "      <td>$1000 +ALERT</td>\n",
       "      <td>2020-09-24</td>\n",
       "      <td>1000</td>\n",
       "      <td>20906</td>\n",
       "    </tr>\n",
       "    <tr>\n",
       "      <th>942</th>\n",
       "      <td>SEVEN-ELEVEN STORE</td>\n",
       "      <td>14101 GEORGIA AVE. , ASPEN HILL , MD - 20906</td>\n",
       "      <td>2012-06-20</td>\n",
       "      <td>6.4 CONSUMPTION, POSSESSION, OR SALE DURING PR...</td>\n",
       "      <td>$1000 +ALERT</td>\n",
       "      <td>2020-09-24</td>\n",
       "      <td>1000</td>\n",
       "      <td>20906</td>\n",
       "    </tr>\n",
       "    <tr>\n",
       "      <th>943</th>\n",
       "      <td>SEVEN-ELEVEN STORE</td>\n",
       "      <td>14101 GEORGIA AVE. , ASPEN HILL , MARYLAND - 2...</td>\n",
       "      <td>2012-06-19</td>\n",
       "      <td>6.4 CONSUMPTION, POSSESSION, OR SALE DURING PR...</td>\n",
       "      <td>$1000 +ALERT</td>\n",
       "      <td>2020-11-05</td>\n",
       "      <td>1000</td>\n",
       "      <td>20906</td>\n",
       "    </tr>\n",
       "  </tbody>\n",
       "</table>\n",
       "<p>944 rows × 8 columns</p>\n",
       "</div>"
      ],
      "text/plain": [
       "             facilityname                                            address  \\\n",
       "0     HAKUNA MATATA GRILL  2405 PRICE AVE. , SILVER SPRING , MARYLAND - 2...   \n",
       "1    MOGOTILLO RESTAURANT  7637 NEW HAMPSHIRE AVE , TAKOMA PARK , MARYLAN...   \n",
       "2         EL CARACOL CAFE   609 SLIGO AVE , SILVER SPRING , MARYLAND - 20910   \n",
       "3    MOGOTILLO RESTAURANT  7637 NEW HAMPSHIRE AVE , TAKOMA PARK , MARYLAN...   \n",
       "4    MOGOTILLO RESTAURANT  7637 NEW HAMPSHIRE AVE , TAKOMA PARK , MARYLAN...   \n",
       "..                    ...                                                ...   \n",
       "939          JOSE'S GRILL             11423 GEORGIA AVE. , WHEATON, MD 20902   \n",
       "940          JOSE'S GRILL             11423 GEORGIA AVE. , WHEATON, MD 20902   \n",
       "941    SEVEN-ELEVEN STORE  14101 GEORGIA AVE. , ASPEN HILL , MARYLAND - 2...   \n",
       "942    SEVEN-ELEVEN STORE       14101 GEORGIA AVE. , ASPEN HILL , MD - 20906   \n",
       "943    SEVEN-ELEVEN STORE  14101 GEORGIA AVE. , ASPEN HILL , MARYLAND - 2...   \n",
       "\n",
       "    violationdate                                          violation  \\\n",
       "0      2020-10-10  6.4 CONSUMPTION, POSSESSION, OR SALE DURING PR...   \n",
       "1      2020-09-30                                        5.5 RECORDS   \n",
       "2      2020-09-19                             5.7 DISPLAY OF LICENSE   \n",
       "3      2020-09-19                                        5.5 RECORDS   \n",
       "4      2020-09-19                                        6.9 STORAGE   \n",
       "..            ...                                                ...   \n",
       "939    2015-01-16                                      SALE TO MINOR   \n",
       "940    2012-12-20                                      SALE TO MINOR   \n",
       "941    2012-10-19  6.4 CONSUMPTION, POSSESSION, OR SALE DURING PR...   \n",
       "942    2012-06-20  6.4 CONSUMPTION, POSSESSION, OR SALE DURING PR...   \n",
       "943    2012-06-19  6.4 CONSUMPTION, POSSESSION, OR SALE DURING PR...   \n",
       "\n",
       "                   disposition dispositiondate  penalty    zip  \n",
       "0                 $1000 +ALERT      2020-11-30     1000  20902  \n",
       "1                  $500 +ALERT      2020-11-28      500  20912  \n",
       "2                  $100 +ALERT      2020-11-21      100  20910  \n",
       "3                  $500 +ALERT      2020-11-30      500  20912  \n",
       "4                 $1600 +ALERT      2020-11-30     1600  20912  \n",
       "..                         ...             ...      ...    ...  \n",
       "939  SETTLED; $3000.00 + ALERT      2016-09-09     3000  20902  \n",
       "940   SETTLED; $1000.00 +ALERT      2016-09-09     1000  20902  \n",
       "941               $1000 +ALERT      2020-09-24     1000  20906  \n",
       "942               $1000 +ALERT      2020-09-24     1000  20906  \n",
       "943               $1000 +ALERT      2020-11-05     1000  20906  \n",
       "\n",
       "[944 rows x 8 columns]"
      ]
     },
     "execution_count": 61,
     "metadata": {},
     "output_type": "execute_result"
    }
   ],
   "source": [
    "violations_data[\"zip\"]=violations_data[\"zip\"].astype(str)\n",
    "violations_data['zip'] = violations_data['zip'].replace(['1112','1909','2076','2123','2206','2610','2612','3414','3649','4505','5204','6008'],['20850','20906','20837','20895','20901','20904','20877','20902','20906','20902','20814','20814'])\n",
    "violations_data"
   ]
  },
  {
   "cell_type": "code",
   "execution_count": 63,
   "metadata": {},
   "outputs": [
    {
     "data": {
      "text/plain": [
       "20814    118\n",
       "20852    100\n",
       "20850     97\n",
       "20910     91\n",
       "20878     89\n",
       "20902     63\n",
       "20877     62\n",
       "20879     40\n",
       "20906     34\n",
       "20874     34\n",
       "20876     23\n",
       "20912     22\n",
       "20904     19\n",
       "20815     14\n",
       "20854     14\n",
       "20901     12\n",
       "20905     10\n",
       "20832     10\n",
       "20872      9\n",
       "20855      9\n",
       "20851      9\n",
       "20817      8\n",
       "20871      8\n",
       "20895      6\n",
       "20903      6\n",
       "20853      6\n",
       "20816      5\n",
       "20837      5\n",
       "20886      5\n",
       "20860      4\n",
       "20882      2\n",
       "20867      2\n",
       "20866      2\n",
       "20833      2\n",
       "20818      2\n",
       "20861      1\n",
       "20841      1\n",
       "Name: zip, dtype: int64"
      ]
     },
     "execution_count": 63,
     "metadata": {},
     "output_type": "execute_result"
    }
   ],
   "source": [
    "# Get counts of the number of violations by zip.\n",
    "violations_data[\"zip\"].value_counts().sort_values(ascending=False)"
   ]
  },
  {
   "cell_type": "code",
   "execution_count": 62,
   "metadata": {},
   "outputs": [
    {
     "data": {
      "image/png": "[encoded data removed]",
      "text/plain": [
       "<Figure size 432x288 with 1 Axes>"
      ]
     },
     "metadata": {},
     "output_type": "display_data"
    }
   ],
   "source": [
    "violations_data.sort_values(by=[\"zip\", \"facilityname\"])\n",
    "\n",
    "sns.set()\n",
    "_ = plt.hist(violations_data[\"zip\"])\n",
    "_ = plt.xlabel('Zip')\n",
    "_ = plt.ylabel('Count of Violations')\n",
    "plt.show()"
   ]
  },
  {
   "cell_type": "code",
   "execution_count": null,
   "metadata": {},
   "outputs": [],
   "source": [
    "# This is too messy to see the zip codes. Try again."
   ]
  },
  {
   "cell_type": "code",
   "execution_count": 70,
   "metadata": {},
   "outputs": [
    {
     "data": {
      "text/plain": [
       "<matplotlib.axes._subplots.AxesSubplot at 0x14ad13eb5e0>"
      ]
     },
     "execution_count": 70,
     "metadata": {},
     "output_type": "execute_result"
    },
    {
     "data": {
      "image/png": "[encoded data removed]",
      "text/plain": [
       "<Figure size 432x288 with 1 Axes>"
      ]
     },
     "metadata": {},
     "output_type": "display_data"
    }
   ],
   "source": [
    "# This plots the top 10 most frequent zip codes. \n",
    "violations_data[\"zip\"].value_counts()[:10].plot(kind=\"barh\")\n"
   ]
  },
  {
   "cell_type": "code",
   "execution_count": null,
   "metadata": {},
   "outputs": [],
   "source": [
    "# This has the potential to be interesting as I recognize some of the zip codes/areas. \n",
    "# I'll come back to this."
   ]
  },
  {
   "cell_type": "code",
   "execution_count": null,
   "metadata": {},
   "outputs": [],
   "source": [
    "### This works but there are too many zip codes to the display is too small to read.\n",
    "\n",
    "# facet grid of violation amounts by zip code\n",
    "#grid_viol_zip = sns.FacetGrid(violations_data, col=\"zip\")\n",
    "#grid_viol_zip.map(plt.hist, \"penalty\")"
   ]
  },
  {
   "cell_type": "code",
   "execution_count": null,
   "metadata": {},
   "outputs": [],
   "source": []
  },
  {
   "cell_type": "code",
   "execution_count": null,
   "metadata": {},
   "outputs": [],
   "source": []
  },
  {
   "cell_type": "code",
   "execution_count": null,
   "metadata": {},
   "outputs": [],
   "source": [
    "\"\"\"\n",
    "Explore the violations involving minors.\n",
    "\"\"\""
   ]
  },
  {
   "cell_type": "code",
   "execution_count": null,
   "metadata": {},
   "outputs": [],
   "source": [
    "# Investigate frequencies by types of violations. \n",
    "# Group the sale to minor and 6.1 sales or service to minors. "
   ]
  },
  {
   "cell_type": "code",
   "execution_count": null,
   "metadata": {},
   "outputs": [],
   "source": [
    "# Groupby() function to pull the 2 violations together.\n",
    "violations_minors = violations_data.groupby(\"violation\").get_group(\"SALE TO MINOR\" or \"6.1 SALES OR SERVICE TO MINORS/CONSUMPTION OR POSSESSION OF MINORS\")"
   ]
  },
  {
   "cell_type": "code",
   "execution_count": null,
   "metadata": {},
   "outputs": [],
   "source": [
    "violations_minors"
   ]
  },
  {
   "cell_type": "code",
   "execution_count": null,
   "metadata": {},
   "outputs": [],
   "source": [
    "type(violations_minors)"
   ]
  },
  {
   "cell_type": "code",
   "execution_count": null,
   "metadata": {},
   "outputs": [],
   "source": [
    "violations_minors.describe(include=\"all\")"
   ]
  },
  {
   "cell_type": "code",
   "execution_count": null,
   "metadata": {},
   "outputs": [],
   "source": [
    "# This plots top 20 zip codes for the violations involving minors.\n",
    "violations_minors[\"zip\"].value_counts()[:20].plot(kind=\"barh\")"
   ]
  },
  {
   "cell_type": "code",
   "execution_count": null,
   "metadata": {},
   "outputs": [],
   "source": [
    "\n",
    "# Get the frequency by zip code for violations involving minors. See how it compares to all violations.\n",
    "# Does it follow the same frequency or do some zip codes have higher rates of violations by minors. \n",
    "# "
   ]
  },
  {
   "cell_type": "code",
   "execution_count": null,
   "metadata": {},
   "outputs": [],
   "source": []
  },
  {
   "cell_type": "code",
   "execution_count": null,
   "metadata": {},
   "outputs": [],
   "source": [
    "# I may try to overlay the high school locations with areas of highest crime and/or alcohol violations. "
   ]
  },
  {
   "cell_type": "code",
   "execution_count": null,
   "metadata": {},
   "outputs": [],
   "source": [
    "# Import the public high schools data set.\n",
    "schools_data = pd.DataFrame(requests.get(\"https://data.montgomerycountymd.gov/resource/772q-4wm8.json\").json())\n",
    "schools_data.head()"
   ]
  },
  {
   "cell_type": "code",
   "execution_count": null,
   "metadata": {},
   "outputs": [],
   "source": [
    "# Drop the unnecessary columns (i.e., category, elementary/middle schools, phone and url)."
   ]
  },
  {
   "cell_type": "code",
   "execution_count": null,
   "metadata": {},
   "outputs": [],
   "source": [
    "high_schools=schools_data[schools_data[\"category\"] == \"HIGH SCHOOLS\"]\n",
    "cols_drop=[\"category\",\"phone\",\"url\"]\n",
    "high_schools.drop(cols_drop, inplace=True, axis=1)\n",
    "print(high_schools)"
   ]
  },
  {
   "cell_type": "code",
   "execution_count": null,
   "metadata": {},
   "outputs": [],
   "source": [
    "# Map the high school locations."
   ]
  },
  {
   "cell_type": "code",
   "execution_count": null,
   "metadata": {
    "scrolled": true
   },
   "outputs": [],
   "source": [
    "# Import the plotly express package\n",
    "\n",
    "import plotly.express as px\n",
    "\n",
    "fig_schools = px.scatter_geo(high_schools, \n",
    "                     lon=\"longitude\", \n",
    "                     lat=\"latitude\",\n",
    "                     # choose the map chart's projection\n",
    "                     projection=\"albers usa\",\n",
    "                     center=dict(lon=-77.14, lat=39.098),\n",
    "                     # columns which is in bold in the pop up\n",
    "                     hover_name = \"school_name\",\n",
    "                     # format of the popup not to display these columns' data\n",
    "                     hover_data = {\"longitude\": False, \"latitude\": False})\n",
    "fig_schools.show()\n",
    "\n"
   ]
  },
  {
   "cell_type": "code",
   "execution_count": null,
   "metadata": {},
   "outputs": [],
   "source": [
    "# I'm having trouble zooming in on this map. I decided to use a different map (below) that includes streets."
   ]
  },
  {
   "cell_type": "code",
   "execution_count": null,
   "metadata": {},
   "outputs": [],
   "source": [
    "# Follow instructions from here: https://plotly.com/python/mapbox-layers/#openstreetmap-tiles-no-token-needed\n",
    "high_schools['latitude']=high_schools['latitude'].astype(float)\n",
    "high_schools['longitude']=high_schools['longitude'].astype(float)\n",
    "\n",
    "fig_schools_map = px.scatter_mapbox(high_schools, lat=\"latitude\", lon=\"longitude\", hover_name=\"school_name\", zoom=9, \n",
    "                         hover_data={\"latitude\":False, \"longitude\":False})\n",
    "fig_schools_map.update_layout(mapbox_style=\"open-street-map\")\n",
    "fig_schools_map.update_layout(margin={\"r\":0,\"t\":0,\"l\":0,\"b\":0})\n",
    "fig_schools_map.show()\n"
   ]
  },
  {
   "cell_type": "code",
   "execution_count": null,
   "metadata": {},
   "outputs": [],
   "source": [
    "# Note To Self: I don't know what to do about the warnings (above)\n",
    "    # A value is trying to be set on a copy of a slice from a DataFrame.\n",
    "    # Try using .loc[row_indexer,col_indexer] = value instead"
   ]
  },
  {
   "cell_type": "code",
   "execution_count": null,
   "metadata": {},
   "outputs": [],
   "source": [
    "# Note To Self: While this map is OK, I can't decide what would make it better. \n",
    "# I was not able to make the points/circles bigger.\n",
    "# I tried zooming in closer but then not all of the high schools show up.\n",
    "# I tried to get the city to display as well as the HS name but was not able to get this to work."
   ]
  },
  {
   "cell_type": "code",
   "execution_count": null,
   "metadata": {},
   "outputs": [],
   "source": [
    "# Note To Self: I was able to clean the violation addresses in excel, upload to geocodio, then use that csv to map. \n",
    "# However, I want to be able to do this directly from the dataMontgomery API. \n",
    "\n",
    "# I tried again for the geolocation using geopy (below) following these instructions from towardsdatascience.com.\n",
    "#  https://towardsdatascience.com/pythons-geocoding-convert-a-list-of-addresses-into-a-map-f522ef513fd6\n",
    "# I think there is a limit to how many times I can use the geolocater/site though. Not sure about that. "
   ]
  },
  {
   "cell_type": "code",
   "execution_count": null,
   "metadata": {
    "scrolled": true
   },
   "outputs": [],
   "source": [
    "# Import the violations data set (I don't need to do this repeatedly but sometimes I am picking up here when I start again)\n",
    "violations_data = pd.DataFrame(requests.get(\"https://data.montgomerycountymd.gov/resource/4tja-rkhg.json\").json())\n",
    "violations_data.head()"
   ]
  },
  {
   "cell_type": "code",
   "execution_count": null,
   "metadata": {},
   "outputs": [],
   "source": [
    "# I had to pip install geopy on the cmd line to get this to work.\n",
    "from geopy.geocoders import Nominatim\n",
    "geolocator = Nominatim(user_agent=\"sample app\")\n",
    "# Apply geolocator.geocode to the address column\n",
    "violations_data[\"location\"]=violations_data[\"address\"].apply(geolocator.geocode)"
   ]
  },
  {
   "cell_type": "code",
   "execution_count": null,
   "metadata": {},
   "outputs": [],
   "source": [
    "violations_data[\"point\"]=violations_data[\"location\"].apply(lambda loc: tuple(loc.point) if loc else None)"
   ]
  },
  {
   "cell_type": "code",
   "execution_count": null,
   "metadata": {},
   "outputs": [],
   "source": [
    "# Then pull the values into 3 diff vars (the 3rd one is altitude)"
   ]
  },
  {
   "cell_type": "code",
   "execution_count": null,
   "metadata": {},
   "outputs": [],
   "source": [
    "violations_data[[\"latitude\", \"longitude\", \"altitude\"]] = pd.DataFrame(violations_data[\"point\"].to_list(), index=violations_data.index)"
   ]
  },
  {
   "cell_type": "code",
   "execution_count": null,
   "metadata": {},
   "outputs": [],
   "source": [
    "# Map the locations of the violations\n",
    "fig_violations_map = px.scatter_mapbox(violations_data, lat=\"latitude\", lon=\"longitude\", hover_name=\"facilityname\", zoom=9, \n",
    "                         hover_data={\"latitude\":False, \"longitude\":False})\n",
    "fig_violations_map.update_layout(mapbox_style=\"open-street-map\")\n",
    "fig_violations_map.update_layout(margin={\"r\":0,\"t\":0,\"l\":0,\"b\":0})\n",
    "fig_violations_map.show()\n"
   ]
  },
  {
   "cell_type": "code",
   "execution_count": null,
   "metadata": {},
   "outputs": [],
   "source": []
  },
  {
   "cell_type": "code",
   "execution_count": null,
   "metadata": {},
   "outputs": [],
   "source": [
    "# I might need to map the using Tableau - it might be easier."
   ]
  },
  {
   "cell_type": "code",
   "execution_count": null,
   "metadata": {},
   "outputs": [],
   "source": []
  },
  {
   "cell_type": "code",
   "execution_count": null,
   "metadata": {},
   "outputs": [],
   "source": []
  },
  {
   "cell_type": "code",
   "execution_count": null,
   "metadata": {},
   "outputs": [],
   "source": [
    "# Pull in the Crash Incidents data \n",
    "# Trying to narrow down by alcohol activity because the dataset is so big.\n",
    "selections = {\"Driver Substance Abuse\": \"ALCOHOL PRESENT\"}\n",
    "\n",
    "crash_incidents_data = pd.DataFrame(requests.get(\"https://data.montgomerycountymd.gov/resource/bhju-22kf.json\",params=selections).json())\n",
    "crash_incidents_data.head()"
   ]
  },
  {
   "cell_type": "code",
   "execution_count": null,
   "metadata": {},
   "outputs": [],
   "source": [
    "crash_incidents_data.shape"
   ]
  },
  {
   "cell_type": "code",
   "execution_count": null,
   "metadata": {},
   "outputs": [],
   "source": [
    "crash_incidents_data.describe(include=\"all\")"
   ]
  },
  {
   "cell_type": "code",
   "execution_count": null,
   "metadata": {},
   "outputs": [],
   "source": []
  },
  {
   "cell_type": "code",
   "execution_count": null,
   "metadata": {},
   "outputs": [],
   "source": []
  },
  {
   "cell_type": "code",
   "execution_count": null,
   "metadata": {},
   "outputs": [],
   "source": [
    "# Pull in the Crimes data \n",
    "# Trying to narrow by crimes against society and then crime2 for alcohol violations. \n",
    "# looking at the crimes data, there are only 8 alcohol-related crimes in the crimes data set.\n",
    "# under Crime Name 2  Drunkenness,  Driving Under the Influence,  Liquor Law Violations\n",
    "select_crime = {\"crimename1\": \"Crime Against Society\"}\n",
    "\n",
    "crimes_data = pd.DataFrame(requests.get(\"https://data.montgomerycountymd.gov/resource/icn6-v9z3.json\",params=select_crime).json())\n",
    "crimes_data.head()"
   ]
  },
  {
   "cell_type": "code",
   "execution_count": null,
   "metadata": {},
   "outputs": [],
   "source": [
    "crimes_data.shape"
   ]
  },
  {
   "cell_type": "code",
   "execution_count": null,
   "metadata": {},
   "outputs": [],
   "source": []
  },
  {
   "cell_type": "code",
   "execution_count": null,
   "metadata": {},
   "outputs": [],
   "source": []
  },
  {
   "cell_type": "code",
   "execution_count": null,
   "metadata": {},
   "outputs": [],
   "source": []
  },
  {
   "cell_type": "code",
   "execution_count": null,
   "metadata": {},
   "outputs": [],
   "source": []
  },
  {
   "cell_type": "code",
   "execution_count": null,
   "metadata": {},
   "outputs": [],
   "source": [
    "# Pull population data from this site https://worldpopulationreview.com/zips/maryland\n",
    "# This is the csv link:  blob:https://worldpopulationreview.com/00124d35-9d90-48ad-973f-a3eaddcbe13e \n",
    "# this is the json link:  blob:https://worldpopulationreview.com/eaa13b61-5379-49d2-a077-3d611a223c7b\n",
    "# I downloaded MD counties with populations by zip code so I can select Montgomery County. \n",
    "# The site says it reflects 2020 population data.\n",
    "blob:https://worldpopulationreview.com/087018d8-c25a-44cf-a6d9-cb479a108878\n",
    "        blob:https://worldpopulationreview.com/507fea65-9f1a-483d-89a4-b640e1b3e9bb"
   ]
  },
  {
   "cell_type": "code",
   "execution_count": null,
   "metadata": {},
   "outputs": [],
   "source": [
    "all_zip_codes_data = pd.DataFrame(requests.get(\"https://worldpopulationreview.com/eaa13b61-5379-49d2-a077-3d611a223c7b\").json())\n",
    "all_zip_codes_data.head()"
   ]
  },
  {
   "cell_type": "code",
   "execution_count": null,
   "metadata": {
    "scrolled": true
   },
   "outputs": [],
   "source": [
    "pop_zip_codes = pd.read_csv('PopulationZip.csv')\n",
    "pop_zip_codes.head()\n"
   ]
  },
  {
   "cell_type": "code",
   "execution_count": null,
   "metadata": {},
   "outputs": [],
   "source": [
    "pop_zip_codes.shape"
   ]
  },
  {
   "cell_type": "code",
   "execution_count": null,
   "metadata": {},
   "outputs": [],
   "source": [
    "# Get frequency of all crimes by zip code. (crimes data set has zip code column) \n",
    "# Need to calculate violations per population by zip code and crimes per population by zip code. \n",
    "# Compare alcohol violations by zip code with crimes by zip code. "
   ]
  },
  {
   "cell_type": "code",
   "execution_count": null,
   "metadata": {},
   "outputs": [],
   "source": [
    "# zip codes with high crime rates and zip codes with high ABS licenses and/or violations = correlation? \n",
    "# not just look at major crimes but also petty crimes. \n",
    "\n",
    "# Do this by taking ABS licenses (or violations) by population by zip code? \n",
    "# Then crimes by population by zip code? "
   ]
  }
 ],
 "metadata": {
  "kernelspec": {
   "display_name": "Python 3",
   "language": "python",
   "name": "python3"
  },
  "language_info": {
   "codemirror_mode": {
    "name": "ipython",
    "version": 3
   },
   "file_extension": ".py",
   "mimetype": "text/x-python",
   "name": "python",
   "nbconvert_exporter": "python",
   "pygments_lexer": "ipython3",
   "version": "3.8.3"
  }
 },
 "nbformat": 4,
 "nbformat_minor": 2
}
