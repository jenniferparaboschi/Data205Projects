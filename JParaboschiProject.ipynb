{
 "cells": [
  {
   "cell_type": "code",
   "execution_count": null,
   "metadata": {},
   "outputs": [],
   "source": [
    "# Data 205 - Capstone in Data Science\n",
    "# Jennifer Paraboschi     Fall 2020\n",
    "# Inputs: data sets from dataMontgomery\n",
    "# including Alcohol Beverage Licensing Violations"
   ]
  },
  {
   "cell_type": "code",
   "execution_count": 1,
   "metadata": {},
   "outputs": [
    {
     "data": {
      "text/html": [
       "<div>\n",
       "<style scoped>\n",
       "    .dataframe tbody tr th:only-of-type {\n",
       "        vertical-align: middle;\n",
       "    }\n",
       "\n",
       "    .dataframe tbody tr th {\n",
       "        vertical-align: top;\n",
       "    }\n",
       "\n",
       "    .dataframe thead th {\n",
       "        text-align: right;\n",
       "    }\n",
       "</style>\n",
       "<table border=\"1\" class=\"dataframe\">\n",
       "  <thead>\n",
       "    <tr style=\"text-align: right;\">\n",
       "      <th></th>\n",
       "      <th>facilityname</th>\n",
       "      <th>address</th>\n",
       "      <th>violationdate</th>\n",
       "      <th>violation</th>\n",
       "      <th>disposition</th>\n",
       "      <th>dispositiondate</th>\n",
       "    </tr>\n",
       "  </thead>\n",
       "  <tbody>\n",
       "    <tr>\n",
       "      <td>0</td>\n",
       "      <td>CASPIAN HOUSE OF KABOB</td>\n",
       "      <td>72 MARKET ST , GAITHERSBURG , MARYLAND - 20878</td>\n",
       "      <td>2020-08-05T00:00:00.000</td>\n",
       "      <td>5.4 ALCOHOL AWARENESS CERTIFICATION</td>\n",
       "      <td>$100 +ALERT</td>\n",
       "      <td>2020-10-10T00:00:00.000</td>\n",
       "    </tr>\n",
       "    <tr>\n",
       "      <td>1</td>\n",
       "      <td>CASPIAN HOUSE OF KABOB</td>\n",
       "      <td>72 MARKET ST , GAITHERSBURG , MARYLAND - 20878</td>\n",
       "      <td>2020-08-05T00:00:00.000</td>\n",
       "      <td>5.5 RECORDS</td>\n",
       "      <td>$500 +ALERT</td>\n",
       "      <td>2020-10-10T00:00:00.000</td>\n",
       "    </tr>\n",
       "    <tr>\n",
       "      <td>2</td>\n",
       "      <td>VILLAGE WEST LIQUOR</td>\n",
       "      <td>19520 WATERS ROAD , GERMANTOWN , MARYLAND - 20876</td>\n",
       "      <td>2020-05-12T00:00:00.000</td>\n",
       "      <td>5.5 RECORDS</td>\n",
       "      <td>$500 +ALERT</td>\n",
       "      <td>2020-10-10T00:00:00.000</td>\n",
       "    </tr>\n",
       "    <tr>\n",
       "      <td>3</td>\n",
       "      <td>Q' VIVA COCINA &amp; LOUNGE</td>\n",
       "      <td>2322 UNIVERSITY BLVD. , SILVER SPRING , MARYLA...</td>\n",
       "      <td>2020-03-28T00:00:00.000</td>\n",
       "      <td>6.4 CONSUMPTION, POSSESSION, OR SALE DURING PR...</td>\n",
       "      <td>$1000 +ALERT</td>\n",
       "      <td>2020-09-24T00:00:00.000</td>\n",
       "    </tr>\n",
       "    <tr>\n",
       "      <td>4</td>\n",
       "      <td>FINNEGAN'S WAKE IRISH PUB</td>\n",
       "      <td>100 GIBBS ST , ROCKVILLE , MD - 20850</td>\n",
       "      <td>2020-03-20T00:00:00.000</td>\n",
       "      <td>6.4 CONSUMPTION, POSSESSION, OR SALE DURING PR...</td>\n",
       "      <td>$1000 +ALERT</td>\n",
       "      <td>2020-11-05T00:00:00.000</td>\n",
       "    </tr>\n",
       "  </tbody>\n",
       "</table>\n",
       "</div>"
      ],
      "text/plain": [
       "                facilityname  \\\n",
       "0     CASPIAN HOUSE OF KABOB   \n",
       "1     CASPIAN HOUSE OF KABOB   \n",
       "2        VILLAGE WEST LIQUOR   \n",
       "3    Q' VIVA COCINA & LOUNGE   \n",
       "4  FINNEGAN'S WAKE IRISH PUB   \n",
       "\n",
       "                                             address            violationdate  \\\n",
       "0     72 MARKET ST , GAITHERSBURG , MARYLAND - 20878  2020-08-05T00:00:00.000   \n",
       "1     72 MARKET ST , GAITHERSBURG , MARYLAND - 20878  2020-08-05T00:00:00.000   \n",
       "2  19520 WATERS ROAD , GERMANTOWN , MARYLAND - 20876  2020-05-12T00:00:00.000   \n",
       "3  2322 UNIVERSITY BLVD. , SILVER SPRING , MARYLA...  2020-03-28T00:00:00.000   \n",
       "4              100 GIBBS ST , ROCKVILLE , MD - 20850  2020-03-20T00:00:00.000   \n",
       "\n",
       "                                           violation   disposition  \\\n",
       "0                5.4 ALCOHOL AWARENESS CERTIFICATION   $100 +ALERT   \n",
       "1                                        5.5 RECORDS   $500 +ALERT   \n",
       "2                                        5.5 RECORDS   $500 +ALERT   \n",
       "3  6.4 CONSUMPTION, POSSESSION, OR SALE DURING PR...  $1000 +ALERT   \n",
       "4  6.4 CONSUMPTION, POSSESSION, OR SALE DURING PR...  $1000 +ALERT   \n",
       "\n",
       "           dispositiondate  \n",
       "0  2020-10-10T00:00:00.000  \n",
       "1  2020-10-10T00:00:00.000  \n",
       "2  2020-10-10T00:00:00.000  \n",
       "3  2020-09-24T00:00:00.000  \n",
       "4  2020-11-05T00:00:00.000  "
      ]
     },
     "execution_count": 1,
     "metadata": {},
     "output_type": "execute_result"
    }
   ],
   "source": [
    "# Import packages. \n",
    "# Pull in API data set as json.\n",
    "import json\n",
    "import numpy as np\n",
    "import pandas as pd\n",
    "import re\n",
    "import requests\n",
    "import seaborn as sns\n",
    "import matplotlib as plt\n",
    "violations_data = pd.DataFrame(requests.get(\"https://data.montgomerycountymd.gov/resource/4tja-rkhg.json\").json())\n",
    "violations_data.head()"
   ]
  },
  {
   "cell_type": "code",
   "execution_count": 2,
   "metadata": {},
   "outputs": [
    {
     "name": "stdout",
     "output_type": "stream",
     "text": [
      "                  facilityname  \\\n",
      "0       CASPIAN HOUSE OF KABOB   \n",
      "1       CASPIAN HOUSE OF KABOB   \n",
      "2          VILLAGE WEST LIQUOR   \n",
      "3      Q' VIVA COCINA & LOUNGE   \n",
      "4    FINNEGAN'S WAKE IRISH PUB   \n",
      "..                         ...   \n",
      "932               JOSE'S GRILL   \n",
      "933               JOSE'S GRILL   \n",
      "934         SEVEN-ELEVEN STORE   \n",
      "935         SEVEN-ELEVEN STORE   \n",
      "936         SEVEN-ELEVEN STORE   \n",
      "\n",
      "                                               address  \\\n",
      "0       72 MARKET ST , GAITHERSBURG , MARYLAND - 20878   \n",
      "1       72 MARKET ST , GAITHERSBURG , MARYLAND - 20878   \n",
      "2    19520 WATERS ROAD , GERMANTOWN , MARYLAND - 20876   \n",
      "3    2322 UNIVERSITY BLVD. , SILVER SPRING , MARYLA...   \n",
      "4                100 GIBBS ST , ROCKVILLE , MD - 20850   \n",
      "..                                                 ...   \n",
      "932             11423 GEORGIA AVE. , WHEATON, MD 20902   \n",
      "933             11423 GEORGIA AVE. , WHEATON, MD 20902   \n",
      "934  14101 GEORGIA AVE. , ASPEN HILL , MARYLAND - 2...   \n",
      "935       14101 GEORGIA AVE. , ASPEN HILL , MD - 20906   \n",
      "936  14101 GEORGIA AVE. , ASPEN HILL , MARYLAND - 2...   \n",
      "\n",
      "               violationdate  \\\n",
      "0    2020-08-05T00:00:00.000   \n",
      "1    2020-08-05T00:00:00.000   \n",
      "2    2020-05-12T00:00:00.000   \n",
      "3    2020-03-28T00:00:00.000   \n",
      "4    2020-03-20T00:00:00.000   \n",
      "..                       ...   \n",
      "932  2015-01-16T00:00:00.000   \n",
      "933  2012-12-20T00:00:00.000   \n",
      "934  2012-10-19T00:00:00.000   \n",
      "935  2012-06-20T00:00:00.000   \n",
      "936  2012-06-19T00:00:00.000   \n",
      "\n",
      "                                             violation  \\\n",
      "0                  5.4 ALCOHOL AWARENESS CERTIFICATION   \n",
      "1                                          5.5 RECORDS   \n",
      "2                                          5.5 RECORDS   \n",
      "3    6.4 CONSUMPTION, POSSESSION, OR SALE DURING PR...   \n",
      "4    6.4 CONSUMPTION, POSSESSION, OR SALE DURING PR...   \n",
      "..                                                 ...   \n",
      "932                                      SALE TO MINOR   \n",
      "933                                      SALE TO MINOR   \n",
      "934  6.4 CONSUMPTION, POSSESSION, OR SALE DURING PR...   \n",
      "935  6.4 CONSUMPTION, POSSESSION, OR SALE DURING PR...   \n",
      "936  6.4 CONSUMPTION, POSSESSION, OR SALE DURING PR...   \n",
      "\n",
      "                   disposition          dispositiondate  \n",
      "0                  $100 +ALERT  2020-10-10T00:00:00.000  \n",
      "1                  $500 +ALERT  2020-10-10T00:00:00.000  \n",
      "2                  $500 +ALERT  2020-10-10T00:00:00.000  \n",
      "3                 $1000 +ALERT  2020-09-24T00:00:00.000  \n",
      "4                 $1000 +ALERT  2020-11-05T00:00:00.000  \n",
      "..                         ...                      ...  \n",
      "932  SETTLED; $3000.00 + ALERT  2016-09-09T00:00:00.000  \n",
      "933   SETTLED; $1000.00 +ALERT  2016-09-09T00:00:00.000  \n",
      "934               $1000 +ALERT  2020-09-24T00:00:00.000  \n",
      "935               $1000 +ALERT  2020-09-24T00:00:00.000  \n",
      "936               $1000 +ALERT  2020-11-05T00:00:00.000  \n",
      "\n",
      "[937 rows x 6 columns]\n"
     ]
    }
   ],
   "source": [
    "print(violations_data)"
   ]
  },
  {
   "cell_type": "code",
   "execution_count": 3,
   "metadata": {},
   "outputs": [
    {
     "data": {
      "text/plain": [
       "(937, 6)"
      ]
     },
     "execution_count": 3,
     "metadata": {},
     "output_type": "execute_result"
    }
   ],
   "source": [
    "violations_data.shape"
   ]
  },
  {
   "cell_type": "code",
   "execution_count": null,
   "metadata": {},
   "outputs": [],
   "source": [
    "# There are 937 rows and 6 variables/columns."
   ]
  },
  {
   "cell_type": "code",
   "execution_count": 4,
   "metadata": {},
   "outputs": [
    {
     "data": {
      "text/plain": [
       "facilityname       object\n",
       "address            object\n",
       "violationdate      object\n",
       "violation          object\n",
       "disposition        object\n",
       "dispositiondate    object\n",
       "dtype: object"
      ]
     },
     "execution_count": 4,
     "metadata": {},
     "output_type": "execute_result"
    }
   ],
   "source": [
    "violations_data.dtypes"
   ]
  },
  {
   "cell_type": "code",
   "execution_count": null,
   "metadata": {},
   "outputs": [],
   "source": [
    "# Python pulled the variables in as objects."
   ]
  },
  {
   "cell_type": "code",
   "execution_count": 5,
   "metadata": {},
   "outputs": [
    {
     "data": {
      "text/html": [
       "<div>\n",
       "<style scoped>\n",
       "    .dataframe tbody tr th:only-of-type {\n",
       "        vertical-align: middle;\n",
       "    }\n",
       "\n",
       "    .dataframe tbody tr th {\n",
       "        vertical-align: top;\n",
       "    }\n",
       "\n",
       "    .dataframe thead th {\n",
       "        text-align: right;\n",
       "    }\n",
       "</style>\n",
       "<table border=\"1\" class=\"dataframe\">\n",
       "  <thead>\n",
       "    <tr style=\"text-align: right;\">\n",
       "      <th></th>\n",
       "      <th>facilityname</th>\n",
       "      <th>address</th>\n",
       "      <th>violationdate</th>\n",
       "      <th>violation</th>\n",
       "      <th>disposition</th>\n",
       "      <th>dispositiondate</th>\n",
       "    </tr>\n",
       "  </thead>\n",
       "  <tbody>\n",
       "    <tr>\n",
       "      <td>count</td>\n",
       "      <td>937</td>\n",
       "      <td>937</td>\n",
       "      <td>937</td>\n",
       "      <td>937</td>\n",
       "      <td>935</td>\n",
       "      <td>934</td>\n",
       "    </tr>\n",
       "    <tr>\n",
       "      <td>unique</td>\n",
       "      <td>544</td>\n",
       "      <td>579</td>\n",
       "      <td>337</td>\n",
       "      <td>38</td>\n",
       "      <td>144</td>\n",
       "      <td>405</td>\n",
       "    </tr>\n",
       "    <tr>\n",
       "      <td>top</td>\n",
       "      <td>GAITHERSBURG SUPERMARKET</td>\n",
       "      <td>220 EAST DIAMOND AVENUE , GAITHERSBURG, MD 20877</td>\n",
       "      <td>2018-08-17T00:00:00.000</td>\n",
       "      <td>SALE TO MINOR</td>\n",
       "      <td>SETTLED; $1000.00 + ALERT</td>\n",
       "      <td>2020-09-11T00:00:00.000</td>\n",
       "    </tr>\n",
       "    <tr>\n",
       "      <td>freq</td>\n",
       "      <td>11</td>\n",
       "      <td>11</td>\n",
       "      <td>16</td>\n",
       "      <td>381</td>\n",
       "      <td>96</td>\n",
       "      <td>18</td>\n",
       "    </tr>\n",
       "  </tbody>\n",
       "</table>\n",
       "</div>"
      ],
      "text/plain": [
       "                    facilityname  \\\n",
       "count                        937   \n",
       "unique                       544   \n",
       "top     GAITHERSBURG SUPERMARKET   \n",
       "freq                          11   \n",
       "\n",
       "                                                 address  \\\n",
       "count                                                937   \n",
       "unique                                               579   \n",
       "top     220 EAST DIAMOND AVENUE , GAITHERSBURG, MD 20877   \n",
       "freq                                                  11   \n",
       "\n",
       "                  violationdate      violation                disposition  \\\n",
       "count                       937            937                        935   \n",
       "unique                      337             38                        144   \n",
       "top     2018-08-17T00:00:00.000  SALE TO MINOR  SETTLED; $1000.00 + ALERT   \n",
       "freq                         16            381                         96   \n",
       "\n",
       "                dispositiondate  \n",
       "count                       934  \n",
       "unique                      405  \n",
       "top     2020-09-11T00:00:00.000  \n",
       "freq                         18  "
      ]
     },
     "execution_count": 5,
     "metadata": {},
     "output_type": "execute_result"
    }
   ],
   "source": [
    "violations_data.describe(include=\"all\")"
   ]
  },
  {
   "cell_type": "code",
   "execution_count": null,
   "metadata": {},
   "outputs": [],
   "source": [
    "# There are a few missing values for disposition and disposition date (935 and 934 versus 937 in total).\n",
    "# The most frequent violation is for sale to minor."
   ]
  },
  {
   "cell_type": "code",
   "execution_count": 6,
   "metadata": {},
   "outputs": [
    {
     "data": {
      "text/plain": [
       "pandas.core.frame.DataFrame"
      ]
     },
     "execution_count": 6,
     "metadata": {},
     "output_type": "execute_result"
    }
   ],
   "source": [
    "type(violations_data)"
   ]
  },
  {
   "cell_type": "code",
   "execution_count": 8,
   "metadata": {},
   "outputs": [
    {
     "name": "stdout",
     "output_type": "stream",
     "text": [
      "<class 'pandas.core.frame.DataFrame'>\n",
      "RangeIndex: 937 entries, 0 to 936\n",
      "Data columns (total 6 columns):\n",
      "facilityname       937 non-null object\n",
      "address            937 non-null object\n",
      "violationdate      937 non-null object\n",
      "violation          937 non-null object\n",
      "disposition        935 non-null object\n",
      "dispositiondate    934 non-null object\n",
      "dtypes: object(6)\n",
      "memory usage: 44.0+ KB\n"
     ]
    }
   ],
   "source": [
    "violations_data.info()"
   ]
  },
  {
   "cell_type": "code",
   "execution_count": 12,
   "metadata": {},
   "outputs": [
    {
     "data": {
      "text/plain": [
       "[RangeIndex(start=0, stop=937, step=1),\n",
       " Index(['facilityname', 'address', 'violationdate', 'violation', 'disposition',\n",
       "        'dispositiondate'],\n",
       "       dtype='object')]"
      ]
     },
     "execution_count": 12,
     "metadata": {},
     "output_type": "execute_result"
    }
   ],
   "source": [
    "violations_data.axes"
   ]
  },
  {
   "cell_type": "code",
   "execution_count": 13,
   "metadata": {},
   "outputs": [],
   "source": [
    "# Replace missing disposition values with \"No Violation\".\n",
    "violations_data[\"disposition\"]=violations_data[\"disposition\"].fillna(value=\"No Violation\", inplace=True)"
   ]
  },
  {
   "cell_type": "code",
   "execution_count": null,
   "metadata": {},
   "outputs": [],
   "source": [
    "# The disposition var inconsistently contains a $ amount of the penalty with inconsistent formatting. "
   ]
  }
 ],
 "metadata": {
  "kernelspec": {
   "display_name": "Python 3",
   "language": "python",
   "name": "python3"
  },
  "language_info": {
   "codemirror_mode": {
    "name": "ipython",
    "version": 3
   },
   "file_extension": ".py",
   "mimetype": "text/x-python",
   "name": "python",
   "nbconvert_exporter": "python",
   "pygments_lexer": "ipython3",
   "version": "3.7.4"
  }
 },
 "nbformat": 4,
 "nbformat_minor": 2
}
