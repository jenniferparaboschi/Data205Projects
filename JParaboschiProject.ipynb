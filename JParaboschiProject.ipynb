{
 "cells": [
  {
   "cell_type": "code",
   "execution_count": 1,
   "metadata": {},
   "outputs": [],
   "source": [
    "# Data 205 - Capstone in Data Science\n",
    "# Jennifer Paraboschi     Fall 2020\n",
    "# Inputs: data sets from dataMontgomery\n",
    "# including Alcohol Beverage Licensing Violations"
   ]
  },
  {
   "cell_type": "code",
   "execution_count": 2,
   "metadata": {
    "scrolled": true
   },
   "outputs": [],
   "source": [
    "# Import packages. \n",
    "# Pull in API data set as json.\n",
    "import json\n",
    "import numpy as np\n",
    "import pandas as pd\n",
    "import re\n",
    "import requests\n",
    "import seaborn as sns\n",
    "import matplotlib.pyplot as plt\n",
    "import plotly    # I had to pip install plotly on the cmd line to get plotly to work"
   ]
  },
  {
   "cell_type": "code",
   "execution_count": 3,
   "metadata": {},
   "outputs": [
    {
     "data": {
      "text/html": [
       "<div>\n",
       "<style scoped>\n",
       "    .dataframe tbody tr th:only-of-type {\n",
       "        vertical-align: middle;\n",
       "    }\n",
       "\n",
       "    .dataframe tbody tr th {\n",
       "        vertical-align: top;\n",
       "    }\n",
       "\n",
       "    .dataframe thead th {\n",
       "        text-align: right;\n",
       "    }\n",
       "</style>\n",
       "<table border=\"1\" class=\"dataframe\">\n",
       "  <thead>\n",
       "    <tr style=\"text-align: right;\">\n",
       "      <th></th>\n",
       "      <th>facilityname</th>\n",
       "      <th>address</th>\n",
       "      <th>violationdate</th>\n",
       "      <th>violation</th>\n",
       "      <th>disposition</th>\n",
       "      <th>dispositiondate</th>\n",
       "    </tr>\n",
       "  </thead>\n",
       "  <tbody>\n",
       "    <tr>\n",
       "      <th>0</th>\n",
       "      <td>EL CARACOL CAFE</td>\n",
       "      <td>609 SLIGO AVE , SILVER SPRING , MARYLAND - 20910</td>\n",
       "      <td>2020-09-19T00:00:00.000</td>\n",
       "      <td>5.7 DISPLAY OF LICENSE</td>\n",
       "      <td>$100 +ALERT</td>\n",
       "      <td>2020-11-21T00:00:00.000</td>\n",
       "    </tr>\n",
       "    <tr>\n",
       "      <th>1</th>\n",
       "      <td>MOGOTILLO RESTAURANT</td>\n",
       "      <td>7637 NEW HAMPSHIRE AVE , TAKOMA PARK , MARYLAN...</td>\n",
       "      <td>2020-09-19T00:00:00.000</td>\n",
       "      <td>5.7 DISPLAY OF LICENSE</td>\n",
       "      <td>$100 +ALERT</td>\n",
       "      <td>NaN</td>\n",
       "    </tr>\n",
       "    <tr>\n",
       "      <th>2</th>\n",
       "      <td>MOGOTILLO RESTAURANT</td>\n",
       "      <td>7637 NEW HAMPSHIRE AVE , TAKOMA PARK , MARYLAN...</td>\n",
       "      <td>2020-09-19T00:00:00.000</td>\n",
       "      <td>6.9 STORAGE</td>\n",
       "      <td>$1600 +ALERT</td>\n",
       "      <td>NaN</td>\n",
       "    </tr>\n",
       "    <tr>\n",
       "      <th>3</th>\n",
       "      <td>MOGOTILLO RESTAURANT</td>\n",
       "      <td>7637 NEW HAMPSHIRE AVE , TAKOMA PARK , MARYLAN...</td>\n",
       "      <td>2020-09-19T00:00:00.000</td>\n",
       "      <td>5.5 RECORDS</td>\n",
       "      <td>$500 +ALERT</td>\n",
       "      <td>NaN</td>\n",
       "    </tr>\n",
       "    <tr>\n",
       "      <th>4</th>\n",
       "      <td>GISELE'S CREOLE CUISINE</td>\n",
       "      <td>2407 PRICE AVENUE , SILVER SPRING , MARYLAND -...</td>\n",
       "      <td>2020-09-18T00:00:00.000</td>\n",
       "      <td>6.9 STORAGE</td>\n",
       "      <td>$400 +ALERT</td>\n",
       "      <td>2020-11-21T00:00:00.000</td>\n",
       "    </tr>\n",
       "  </tbody>\n",
       "</table>\n",
       "</div>"
      ],
      "text/plain": [
       "              facilityname                                            address  \\\n",
       "0          EL CARACOL CAFE   609 SLIGO AVE , SILVER SPRING , MARYLAND - 20910   \n",
       "1     MOGOTILLO RESTAURANT  7637 NEW HAMPSHIRE AVE , TAKOMA PARK , MARYLAN...   \n",
       "2     MOGOTILLO RESTAURANT  7637 NEW HAMPSHIRE AVE , TAKOMA PARK , MARYLAN...   \n",
       "3     MOGOTILLO RESTAURANT  7637 NEW HAMPSHIRE AVE , TAKOMA PARK , MARYLAN...   \n",
       "4  GISELE'S CREOLE CUISINE  2407 PRICE AVENUE , SILVER SPRING , MARYLAND -...   \n",
       "\n",
       "             violationdate               violation   disposition  \\\n",
       "0  2020-09-19T00:00:00.000  5.7 DISPLAY OF LICENSE   $100 +ALERT   \n",
       "1  2020-09-19T00:00:00.000  5.7 DISPLAY OF LICENSE   $100 +ALERT   \n",
       "2  2020-09-19T00:00:00.000             6.9 STORAGE  $1600 +ALERT   \n",
       "3  2020-09-19T00:00:00.000             5.5 RECORDS   $500 +ALERT   \n",
       "4  2020-09-18T00:00:00.000             6.9 STORAGE   $400 +ALERT   \n",
       "\n",
       "           dispositiondate  \n",
       "0  2020-11-21T00:00:00.000  \n",
       "1                      NaN  \n",
       "2                      NaN  \n",
       "3                      NaN  \n",
       "4  2020-11-21T00:00:00.000  "
      ]
     },
     "execution_count": 3,
     "metadata": {},
     "output_type": "execute_result"
    }
   ],
   "source": [
    "violations_data = pd.DataFrame(requests.get(\"https://data.montgomerycountymd.gov/resource/4tja-rkhg.json\").json())\n",
    "violations_data.head()"
   ]
  },
  {
   "cell_type": "code",
   "execution_count": 4,
   "metadata": {},
   "outputs": [
    {
     "name": "stdout",
     "output_type": "stream",
     "text": [
      "                facilityname  \\\n",
      "0            EL CARACOL CAFE   \n",
      "1       MOGOTILLO RESTAURANT   \n",
      "2       MOGOTILLO RESTAURANT   \n",
      "3       MOGOTILLO RESTAURANT   \n",
      "4    GISELE'S CREOLE CUISINE   \n",
      "..                       ...   \n",
      "937             JOSE'S GRILL   \n",
      "938             JOSE'S GRILL   \n",
      "939       SEVEN-ELEVEN STORE   \n",
      "940       SEVEN-ELEVEN STORE   \n",
      "941       SEVEN-ELEVEN STORE   \n",
      "\n",
      "                                               address  \\\n",
      "0     609 SLIGO AVE , SILVER SPRING , MARYLAND - 20910   \n",
      "1    7637 NEW HAMPSHIRE AVE , TAKOMA PARK , MARYLAN...   \n",
      "2    7637 NEW HAMPSHIRE AVE , TAKOMA PARK , MARYLAN...   \n",
      "3    7637 NEW HAMPSHIRE AVE , TAKOMA PARK , MARYLAN...   \n",
      "4    2407 PRICE AVENUE , SILVER SPRING , MARYLAND -...   \n",
      "..                                                 ...   \n",
      "937             11423 GEORGIA AVE. , WHEATON, MD 20902   \n",
      "938             11423 GEORGIA AVE. , WHEATON, MD 20902   \n",
      "939  14101 GEORGIA AVE. , ASPEN HILL , MARYLAND - 2...   \n",
      "940       14101 GEORGIA AVE. , ASPEN HILL , MD - 20906   \n",
      "941  14101 GEORGIA AVE. , ASPEN HILL , MARYLAND - 2...   \n",
      "\n",
      "               violationdate  \\\n",
      "0    2020-09-19T00:00:00.000   \n",
      "1    2020-09-19T00:00:00.000   \n",
      "2    2020-09-19T00:00:00.000   \n",
      "3    2020-09-19T00:00:00.000   \n",
      "4    2020-09-18T00:00:00.000   \n",
      "..                       ...   \n",
      "937  2015-01-16T00:00:00.000   \n",
      "938  2012-12-20T00:00:00.000   \n",
      "939  2012-10-19T00:00:00.000   \n",
      "940  2012-06-20T00:00:00.000   \n",
      "941  2012-06-19T00:00:00.000   \n",
      "\n",
      "                                             violation  \\\n",
      "0                               5.7 DISPLAY OF LICENSE   \n",
      "1                               5.7 DISPLAY OF LICENSE   \n",
      "2                                          6.9 STORAGE   \n",
      "3                                          5.5 RECORDS   \n",
      "4                                          6.9 STORAGE   \n",
      "..                                                 ...   \n",
      "937                                      SALE TO MINOR   \n",
      "938                                      SALE TO MINOR   \n",
      "939  6.4 CONSUMPTION, POSSESSION, OR SALE DURING PR...   \n",
      "940  6.4 CONSUMPTION, POSSESSION, OR SALE DURING PR...   \n",
      "941  6.4 CONSUMPTION, POSSESSION, OR SALE DURING PR...   \n",
      "\n",
      "                   disposition          dispositiondate  \n",
      "0                  $100 +ALERT  2020-11-21T00:00:00.000  \n",
      "1                  $100 +ALERT                      NaN  \n",
      "2                 $1600 +ALERT                      NaN  \n",
      "3                  $500 +ALERT                      NaN  \n",
      "4                  $400 +ALERT  2020-11-21T00:00:00.000  \n",
      "..                         ...                      ...  \n",
      "937  SETTLED; $3000.00 + ALERT  2016-09-09T00:00:00.000  \n",
      "938   SETTLED; $1000.00 +ALERT  2016-09-09T00:00:00.000  \n",
      "939               $1000 +ALERT  2020-09-24T00:00:00.000  \n",
      "940               $1000 +ALERT  2020-09-24T00:00:00.000  \n",
      "941               $1000 +ALERT  2020-11-05T00:00:00.000  \n",
      "\n",
      "[942 rows x 6 columns]\n"
     ]
    }
   ],
   "source": [
    "print(violations_data)"
   ]
  },
  {
   "cell_type": "code",
   "execution_count": 5,
   "metadata": {},
   "outputs": [
    {
     "data": {
      "text/plain": [
       "(942, 6)"
      ]
     },
     "execution_count": 5,
     "metadata": {},
     "output_type": "execute_result"
    }
   ],
   "source": [
    "violations_data.shape"
   ]
  },
  {
   "cell_type": "code",
   "execution_count": 6,
   "metadata": {},
   "outputs": [
    {
     "data": {
      "text/plain": [
       "pandas.core.frame.DataFrame"
      ]
     },
     "execution_count": 6,
     "metadata": {},
     "output_type": "execute_result"
    }
   ],
   "source": [
    "type(violations_data)"
   ]
  },
  {
   "cell_type": "code",
   "execution_count": 7,
   "metadata": {},
   "outputs": [],
   "source": [
    "# There are 942 rows and 6 variables/columns."
   ]
  },
  {
   "cell_type": "code",
   "execution_count": 8,
   "metadata": {},
   "outputs": [
    {
     "data": {
      "text/plain": [
       "facilityname       object\n",
       "address            object\n",
       "violationdate      object\n",
       "violation          object\n",
       "disposition        object\n",
       "dispositiondate    object\n",
       "dtype: object"
      ]
     },
     "execution_count": 8,
     "metadata": {},
     "output_type": "execute_result"
    }
   ],
   "source": [
    "violations_data.dtypes"
   ]
  },
  {
   "cell_type": "code",
   "execution_count": 9,
   "metadata": {},
   "outputs": [
    {
     "data": {
      "text/html": [
       "<div>\n",
       "<style scoped>\n",
       "    .dataframe tbody tr th:only-of-type {\n",
       "        vertical-align: middle;\n",
       "    }\n",
       "\n",
       "    .dataframe tbody tr th {\n",
       "        vertical-align: top;\n",
       "    }\n",
       "\n",
       "    .dataframe thead th {\n",
       "        text-align: right;\n",
       "    }\n",
       "</style>\n",
       "<table border=\"1\" class=\"dataframe\">\n",
       "  <thead>\n",
       "    <tr style=\"text-align: right;\">\n",
       "      <th></th>\n",
       "      <th>facilityname</th>\n",
       "      <th>address</th>\n",
       "      <th>violationdate</th>\n",
       "      <th>violation</th>\n",
       "      <th>disposition</th>\n",
       "      <th>dispositiondate</th>\n",
       "    </tr>\n",
       "  </thead>\n",
       "  <tbody>\n",
       "    <tr>\n",
       "      <th>count</th>\n",
       "      <td>942</td>\n",
       "      <td>942</td>\n",
       "      <td>942</td>\n",
       "      <td>942</td>\n",
       "      <td>940</td>\n",
       "      <td>936</td>\n",
       "    </tr>\n",
       "    <tr>\n",
       "      <th>unique</th>\n",
       "      <td>546</td>\n",
       "      <td>582</td>\n",
       "      <td>339</td>\n",
       "      <td>38</td>\n",
       "      <td>146</td>\n",
       "      <td>406</td>\n",
       "    </tr>\n",
       "    <tr>\n",
       "      <th>top</th>\n",
       "      <td>GAITHERSBURG SUPERMARKET</td>\n",
       "      <td>220 EAST DIAMOND AVENUE , GAITHERSBURG, MD 20877</td>\n",
       "      <td>2018-08-17T00:00:00.000</td>\n",
       "      <td>SALE TO MINOR</td>\n",
       "      <td>SETTLED; $1000.00 + ALERT</td>\n",
       "      <td>2020-09-11T00:00:00.000</td>\n",
       "    </tr>\n",
       "    <tr>\n",
       "      <th>freq</th>\n",
       "      <td>11</td>\n",
       "      <td>11</td>\n",
       "      <td>16</td>\n",
       "      <td>381</td>\n",
       "      <td>96</td>\n",
       "      <td>18</td>\n",
       "    </tr>\n",
       "  </tbody>\n",
       "</table>\n",
       "</div>"
      ],
      "text/plain": [
       "                    facilityname  \\\n",
       "count                        942   \n",
       "unique                       546   \n",
       "top     GAITHERSBURG SUPERMARKET   \n",
       "freq                          11   \n",
       "\n",
       "                                                 address  \\\n",
       "count                                                942   \n",
       "unique                                               582   \n",
       "top     220 EAST DIAMOND AVENUE , GAITHERSBURG, MD 20877   \n",
       "freq                                                  11   \n",
       "\n",
       "                  violationdate      violation                disposition  \\\n",
       "count                       942            942                        940   \n",
       "unique                      339             38                        146   \n",
       "top     2018-08-17T00:00:00.000  SALE TO MINOR  SETTLED; $1000.00 + ALERT   \n",
       "freq                         16            381                         96   \n",
       "\n",
       "                dispositiondate  \n",
       "count                       936  \n",
       "unique                      406  \n",
       "top     2020-09-11T00:00:00.000  \n",
       "freq                         18  "
      ]
     },
     "execution_count": 9,
     "metadata": {},
     "output_type": "execute_result"
    }
   ],
   "source": [
    "violations_data.describe(include=\"all\")"
   ]
  },
  {
   "cell_type": "code",
   "execution_count": 10,
   "metadata": {},
   "outputs": [],
   "source": [
    "# There are a few missing values for disposition and disposition date (counts are fewer than total count in some columns).\n",
    "# The most frequent violation is for sale to minor."
   ]
  },
  {
   "cell_type": "code",
   "execution_count": 11,
   "metadata": {},
   "outputs": [
    {
     "name": "stdout",
     "output_type": "stream",
     "text": [
      "<class 'pandas.core.frame.DataFrame'>\n",
      "RangeIndex: 942 entries, 0 to 941\n",
      "Data columns (total 6 columns):\n",
      " #   Column           Non-Null Count  Dtype \n",
      "---  ------           --------------  ----- \n",
      " 0   facilityname     942 non-null    object\n",
      " 1   address          942 non-null    object\n",
      " 2   violationdate    942 non-null    object\n",
      " 3   violation        942 non-null    object\n",
      " 4   disposition      940 non-null    object\n",
      " 5   dispositiondate  936 non-null    object\n",
      "dtypes: object(6)\n",
      "memory usage: 44.3+ KB\n"
     ]
    }
   ],
   "source": [
    "violations_data.info()"
   ]
  },
  {
   "cell_type": "code",
   "execution_count": 12,
   "metadata": {},
   "outputs": [],
   "source": [
    "# There are a few null values in the disposition field."
   ]
  },
  {
   "cell_type": "code",
   "execution_count": null,
   "metadata": {},
   "outputs": [],
   "source": [
    "# Other EDA from https://www.youtube.com/watch?v=-o3AxdVcUtQ"
   ]
  },
  {
   "cell_type": "code",
   "execution_count": null,
   "metadata": {},
   "outputs": [],
   "source": [
    "violations_data.columns"
   ]
  },
  {
   "cell_type": "code",
   "execution_count": null,
   "metadata": {},
   "outputs": [],
   "source": [
    "violations_data.nunique()"
   ]
  },
  {
   "cell_type": "code",
   "execution_count": null,
   "metadata": {},
   "outputs": [],
   "source": [
    "violations_data[\"violation\"].unique()"
   ]
  },
  {
   "cell_type": "code",
   "execution_count": null,
   "metadata": {},
   "outputs": [],
   "source": [
    "violations_data.isnull().sum()"
   ]
  },
  {
   "cell_type": "code",
   "execution_count": null,
   "metadata": {},
   "outputs": [],
   "source": [
    "# correlation matrix"
   ]
  },
  {
   "cell_type": "code",
   "execution_count": null,
   "metadata": {},
   "outputs": [],
   "source": [
    "correlation = data.corr()"
   ]
  },
  {
   "cell_type": "code",
   "execution_count": null,
   "metadata": {},
   "outputs": [],
   "source": [
    "sns.heatmap(correlation, xticklables = correlation.columns, yticklabels = correlation.columns, annot=True) )"
   ]
  },
  {
   "cell_type": "code",
   "execution_count": null,
   "metadata": {},
   "outputs": [],
   "source": [
    "sns.pairplot(data)"
   ]
  },
  {
   "cell_type": "code",
   "execution_count": null,
   "metadata": {},
   "outputs": [],
   "source": [
    "sns.relplot(x=\"math score\", y= \"reading score\", hue= \"gender\", data=student)"
   ]
  },
  {
   "cell_type": "code",
   "execution_count": null,
   "metadata": {},
   "outputs": [],
   "source": [
    "sns.distplot(data[\"math score\"])  # or can add , bins = 20)]"
   ]
  },
  {
   "cell_type": "code",
   "execution_count": null,
   "metadata": {},
   "outputs": [],
   "source": [
    "sns.catplot(x=\"math score\", kind=\"box\", data=student)"
   ]
  },
  {
   "cell_type": "code",
   "execution_count": null,
   "metadata": {},
   "outputs": [],
   "source": [
    "# From this video https://www.youtube.com/watch?v=5NcbVYhQJvw\n",
    "# count by category crosstab"
   ]
  },
  {
   "cell_type": "code",
   "execution_count": null,
   "metadata": {},
   "outputs": [],
   "source": [
    "make_dist=cars.groupby(\"Make\").size()"
   ]
  },
  {
   "cell_type": "code",
   "execution_count": null,
   "metadata": {},
   "outputs": [],
   "source": [
    "make_dist.plot(title=\"Make Distribution\")"
   ]
  },
  {
   "cell_type": "code",
   "execution_count": null,
   "metadata": {},
   "outputs": [],
   "source": [
    "# box plot categorical vars"
   ]
  },
  {
   "cell_type": "code",
   "execution_count": null,
   "metadata": {},
   "outputs": [],
   "source": [
    "box1=sns.boxplot(x=\"type\", y=\"mpg\", data=cars)"
   ]
  },
  {
   "cell_type": "code",
   "execution_count": null,
   "metadata": {},
   "outputs": [],
   "source": [
    "sns.regplot(cars[\"length\"], cars[\"mpg\"])"
   ]
  },
  {
   "cell_type": "code",
   "execution_count": null,
   "metadata": {},
   "outputs": [],
   "source": [
    "#From this video https://www.youtube.com/watch?v=9m4n2xVzk9o\n",
    "# max value"
   ]
  },
  {
   "cell_type": "code",
   "execution_count": null,
   "metadata": {},
   "outputs": [],
   "source": [
    "df.PTS.max()\n",
    "# is the same as\n",
    "df[\"PTS\"].max()\n",
    "# but this only tells you the max value, not the player"
   ]
  },
  {
   "cell_type": "code",
   "execution_count": null,
   "metadata": {},
   "outputs": [],
   "source": [
    "df[df.PTS == df.PTS.max()]"
   ]
  },
  {
   "cell_type": "code",
   "execution_count": null,
   "metadata": {},
   "outputs": [],
   "source": [
    "# pull all players that score more than 20 pts\n",
    "df[df.PTS >20]"
   ]
  },
  {
   "cell_type": "code",
   "execution_count": null,
   "metadata": {},
   "outputs": [],
   "source": [
    "# Groupby() function\n",
    "LAL=df.groupby(\"Tm\").get_group(\"LAL\")"
   ]
  },
  {
   "cell_type": "code",
   "execution_count": null,
   "metadata": {},
   "outputs": [],
   "source": [
    "# subset\n",
    "position=[\"C\", \"PF\", \"PG\", \"SF\", \"SG\"]\n",
    "POS = df[df[\"Pos\"].isin(position)]\n",
    "POS"
   ]
  },
  {
   "cell_type": "code",
   "execution_count": null,
   "metadata": {},
   "outputs": [],
   "source": [
    "#import matplotlib.pyplot as plt\n",
    "g = sns.FacetGrid(PTS,col=\"Pos\")\n",
    "g.map(plt.hist, \"PTS);\""
   ]
  },
  {
   "cell_type": "code",
   "execution_count": null,
   "metadata": {},
   "outputs": [],
   "source": []
  },
  {
   "cell_type": "code",
   "execution_count": null,
   "metadata": {},
   "outputs": [],
   "source": []
  },
  {
   "cell_type": "code",
   "execution_count": null,
   "metadata": {},
   "outputs": [],
   "source": []
  },
  {
   "cell_type": "code",
   "execution_count": null,
   "metadata": {},
   "outputs": [],
   "source": []
  },
  {
   "cell_type": "code",
   "execution_count": 31,
   "metadata": {},
   "outputs": [
    {
     "data": {
      "text/plain": [
       "[RangeIndex(start=0, stop=942, step=1),\n",
       " Index(['facilityname', 'address', 'violationdate', 'violation', 'disposition',\n",
       "        'dispositiondate', 'penalty', 'zip'],\n",
       "       dtype='object')]"
      ]
     },
     "execution_count": 31,
     "metadata": {},
     "output_type": "execute_result"
    }
   ],
   "source": [
    "violations_data.axes"
   ]
  },
  {
   "cell_type": "code",
   "execution_count": 14,
   "metadata": {},
   "outputs": [],
   "source": [
    "# Replace missing disposition values with \"No Violation\".\n",
    "# This wasn't wroking correctly so I commented it out. \n",
    "### violations_data[\"disposition\"]=violations_data[\"disposition\"].fillna(value=\"No Violation\", inplace=True)"
   ]
  },
  {
   "cell_type": "code",
   "execution_count": 15,
   "metadata": {},
   "outputs": [],
   "source": [
    "# QA that the missing values have been replaced by looking for nulls in disposition var."
   ]
  },
  {
   "cell_type": "code",
   "execution_count": 14,
   "metadata": {},
   "outputs": [
    {
     "name": "stdout",
     "output_type": "stream",
     "text": [
      "<class 'pandas.core.frame.DataFrame'>\n",
      "RangeIndex: 942 entries, 0 to 941\n",
      "Data columns (total 6 columns):\n",
      " #   Column           Non-Null Count  Dtype \n",
      "---  ------           --------------  ----- \n",
      " 0   facilityname     942 non-null    object\n",
      " 1   address          942 non-null    object\n",
      " 2   violationdate    942 non-null    object\n",
      " 3   violation        942 non-null    object\n",
      " 4   disposition      940 non-null    object\n",
      " 5   dispositiondate  936 non-null    object\n",
      "dtypes: object(6)\n",
      "memory usage: 44.3+ KB\n"
     ]
    }
   ],
   "source": [
    "### violations_data.info()"
   ]
  },
  {
   "cell_type": "code",
   "execution_count": null,
   "metadata": {},
   "outputs": [],
   "source": [
    "# This replacement of missing values step is NOT working correctly yet. \n",
    "# I need to research more on \".fillna\" and \"inplace=True\".\n"
   ]
  },
  {
   "cell_type": "code",
   "execution_count": null,
   "metadata": {},
   "outputs": [],
   "source": []
  },
  {
   "cell_type": "code",
   "execution_count": 17,
   "metadata": {},
   "outputs": [],
   "source": [
    "# The disposition var inconsistently contains a $ amount of the penalty with inconsistent formatting. \n",
    "# Use a regex to extract the penalty values."
   ]
  },
  {
   "cell_type": "code",
   "execution_count": 15,
   "metadata": {},
   "outputs": [],
   "source": [
    "violations_data[\"penalty\"]=violations_data[\"disposition\"].str.extract(r\"([$]\\d.\\d+)\")\n",
    "# This regex looks for the dollar sign [$], then pulls all the digits (\\d.) to the end (\\d+)."
   ]
  },
  {
   "cell_type": "code",
   "execution_count": 16,
   "metadata": {},
   "outputs": [
    {
     "data": {
      "text/plain": [
       "0       $100\n",
       "1       $100\n",
       "2      $1600\n",
       "3       $500\n",
       "4       $400\n",
       "       ...  \n",
       "937    $3000\n",
       "938    $1000\n",
       "939    $1000\n",
       "940    $1000\n",
       "941    $1000\n",
       "Name: penalty, Length: 942, dtype: object"
      ]
     },
     "execution_count": 16,
     "metadata": {},
     "output_type": "execute_result"
    }
   ],
   "source": [
    "violations_data[\"penalty\"] # checking that the penalty amounts pulled in correctly."
   ]
  },
  {
   "cell_type": "code",
   "execution_count": 17,
   "metadata": {},
   "outputs": [
    {
     "data": {
      "text/plain": [
       "0                    $100 +ALERT\n",
       "1                    $100 +ALERT\n",
       "2                   $1600 +ALERT\n",
       "3                    $500 +ALERT\n",
       "4                    $400 +ALERT\n",
       "                 ...            \n",
       "937    SETTLED; $3000.00 + ALERT\n",
       "938     SETTLED; $1000.00 +ALERT\n",
       "939                 $1000 +ALERT\n",
       "940                 $1000 +ALERT\n",
       "941                 $1000 +ALERT\n",
       "Name: disposition, Length: 942, dtype: object"
      ]
     },
     "execution_count": 17,
     "metadata": {},
     "output_type": "execute_result"
    }
   ],
   "source": [
    "violations_data[\"disposition\"] # checking that the disposition column remained unchanged. "
   ]
  },
  {
   "cell_type": "code",
   "execution_count": 18,
   "metadata": {},
   "outputs": [
    {
     "data": {
      "text/html": [
       "<div>\n",
       "<style scoped>\n",
       "    .dataframe tbody tr th:only-of-type {\n",
       "        vertical-align: middle;\n",
       "    }\n",
       "\n",
       "    .dataframe tbody tr th {\n",
       "        vertical-align: top;\n",
       "    }\n",
       "\n",
       "    .dataframe thead th {\n",
       "        text-align: right;\n",
       "    }\n",
       "</style>\n",
       "<table border=\"1\" class=\"dataframe\">\n",
       "  <thead>\n",
       "    <tr style=\"text-align: right;\">\n",
       "      <th></th>\n",
       "      <th>facilityname</th>\n",
       "      <th>address</th>\n",
       "      <th>violationdate</th>\n",
       "      <th>violation</th>\n",
       "      <th>disposition</th>\n",
       "      <th>dispositiondate</th>\n",
       "      <th>penalty</th>\n",
       "    </tr>\n",
       "  </thead>\n",
       "  <tbody>\n",
       "    <tr>\n",
       "      <th>count</th>\n",
       "      <td>942</td>\n",
       "      <td>942</td>\n",
       "      <td>942</td>\n",
       "      <td>942</td>\n",
       "      <td>940</td>\n",
       "      <td>936</td>\n",
       "      <td>889</td>\n",
       "    </tr>\n",
       "    <tr>\n",
       "      <th>unique</th>\n",
       "      <td>546</td>\n",
       "      <td>582</td>\n",
       "      <td>339</td>\n",
       "      <td>38</td>\n",
       "      <td>146</td>\n",
       "      <td>406</td>\n",
       "      <td>29</td>\n",
       "    </tr>\n",
       "    <tr>\n",
       "      <th>top</th>\n",
       "      <td>GAITHERSBURG SUPERMARKET</td>\n",
       "      <td>220 EAST DIAMOND AVENUE , GAITHERSBURG, MD 20877</td>\n",
       "      <td>2018-08-17T00:00:00.000</td>\n",
       "      <td>SALE TO MINOR</td>\n",
       "      <td>SETTLED; $1000.00 + ALERT</td>\n",
       "      <td>2020-09-11T00:00:00.000</td>\n",
       "      <td>$1000</td>\n",
       "    </tr>\n",
       "    <tr>\n",
       "      <th>freq</th>\n",
       "      <td>11</td>\n",
       "      <td>11</td>\n",
       "      <td>16</td>\n",
       "      <td>381</td>\n",
       "      <td>96</td>\n",
       "      <td>18</td>\n",
       "      <td>393</td>\n",
       "    </tr>\n",
       "  </tbody>\n",
       "</table>\n",
       "</div>"
      ],
      "text/plain": [
       "                    facilityname  \\\n",
       "count                        942   \n",
       "unique                       546   \n",
       "top     GAITHERSBURG SUPERMARKET   \n",
       "freq                          11   \n",
       "\n",
       "                                                 address  \\\n",
       "count                                                942   \n",
       "unique                                               582   \n",
       "top     220 EAST DIAMOND AVENUE , GAITHERSBURG, MD 20877   \n",
       "freq                                                  11   \n",
       "\n",
       "                  violationdate      violation                disposition  \\\n",
       "count                       942            942                        940   \n",
       "unique                      339             38                        146   \n",
       "top     2018-08-17T00:00:00.000  SALE TO MINOR  SETTLED; $1000.00 + ALERT   \n",
       "freq                         16            381                         96   \n",
       "\n",
       "                dispositiondate penalty  \n",
       "count                       936     889  \n",
       "unique                      406      29  \n",
       "top     2020-09-11T00:00:00.000   $1000  \n",
       "freq                         18     393  "
      ]
     },
     "execution_count": 18,
     "metadata": {},
     "output_type": "execute_result"
    }
   ],
   "source": [
    "violations_data.describe(include=\"all\")"
   ]
  },
  {
   "cell_type": "code",
   "execution_count": 19,
   "metadata": {},
   "outputs": [],
   "source": [
    "# I can come back to anaylyze the penalties more later. \n",
    "# Perhaps look at average amount of penalty for each kind of violation. \n",
    "# Maybe a bar chart of violation amounts by type. "
   ]
  },
  {
   "cell_type": "code",
   "execution_count": 32,
   "metadata": {},
   "outputs": [
    {
     "name": "stdout",
     "output_type": "stream",
     "text": [
      "<class 'pandas.core.frame.DataFrame'>\n",
      "RangeIndex: 942 entries, 0 to 941\n",
      "Data columns (total 8 columns):\n",
      " #   Column           Non-Null Count  Dtype \n",
      "---  ------           --------------  ----- \n",
      " 0   facilityname     942 non-null    object\n",
      " 1   address          942 non-null    object\n",
      " 2   violationdate    942 non-null    object\n",
      " 3   violation        942 non-null    object\n",
      " 4   disposition      940 non-null    object\n",
      " 5   dispositiondate  936 non-null    object\n",
      " 6   penalty          889 non-null    object\n",
      " 7   zip              942 non-null    object\n",
      "dtypes: object(8)\n",
      "memory usage: 59.0+ KB\n"
     ]
    }
   ],
   "source": [
    "violations_data.info()"
   ]
  },
  {
   "cell_type": "code",
   "execution_count": null,
   "metadata": {},
   "outputs": [],
   "source": [
    "# The penalty count is lower than the count of records so there are missing values. \n",
    "# Some records do not receive a penalty at all so this seems ok. "
   ]
  },
  {
   "cell_type": "code",
   "execution_count": 21,
   "metadata": {},
   "outputs": [
    {
     "ename": "TypeError",
     "evalue": "'value' must be an instance of str or bytes, not a float",
     "output_type": "error",
     "traceback": [
      "\u001b[1;31m---------------------------------------------------------------------------\u001b[0m",
      "\u001b[1;31mTypeError\u001b[0m                                 Traceback (most recent call last)",
      "\u001b[1;32m<ipython-input-21-a2fe68e7a920>\u001b[0m in \u001b[0;36m<module>\u001b[1;34m\u001b[0m\n\u001b[0;32m      1\u001b[0m \u001b[0msns\u001b[0m\u001b[1;33m.\u001b[0m\u001b[0mset\u001b[0m\u001b[1;33m(\u001b[0m\u001b[1;33m)\u001b[0m\u001b[1;33m\u001b[0m\u001b[1;33m\u001b[0m\u001b[0m\n\u001b[1;32m----> 2\u001b[1;33m \u001b[0m_\u001b[0m \u001b[1;33m=\u001b[0m \u001b[0mplt\u001b[0m\u001b[1;33m.\u001b[0m\u001b[0mhist\u001b[0m\u001b[1;33m(\u001b[0m\u001b[0mviolations_data\u001b[0m\u001b[1;33m[\u001b[0m\u001b[1;34m\"penalty\"\u001b[0m\u001b[1;33m]\u001b[0m\u001b[1;33m)\u001b[0m\u001b[1;33m\u001b[0m\u001b[1;33m\u001b[0m\u001b[0m\n\u001b[0m\u001b[0;32m      3\u001b[0m \u001b[0m_\u001b[0m \u001b[1;33m=\u001b[0m \u001b[0mplt\u001b[0m\u001b[1;33m.\u001b[0m\u001b[0mxlabel\u001b[0m\u001b[1;33m(\u001b[0m\u001b[1;34m'Amount'\u001b[0m\u001b[1;33m)\u001b[0m\u001b[1;33m\u001b[0m\u001b[1;33m\u001b[0m\u001b[0m\n\u001b[0;32m      4\u001b[0m \u001b[0m_\u001b[0m \u001b[1;33m=\u001b[0m \u001b[0mplt\u001b[0m\u001b[1;33m.\u001b[0m\u001b[0mylabel\u001b[0m\u001b[1;33m(\u001b[0m\u001b[1;34m'Count of Penalties at that Amount'\u001b[0m\u001b[1;33m)\u001b[0m\u001b[1;33m\u001b[0m\u001b[1;33m\u001b[0m\u001b[0m\n\u001b[0;32m      5\u001b[0m \u001b[0mplt\u001b[0m\u001b[1;33m.\u001b[0m\u001b[0mshow\u001b[0m\u001b[1;33m(\u001b[0m\u001b[1;33m)\u001b[0m\u001b[1;33m\u001b[0m\u001b[1;33m\u001b[0m\u001b[0m\n",
      "\u001b[1;32m~\\anaconda3\\lib\\site-packages\\matplotlib\\pyplot.py\u001b[0m in \u001b[0;36mhist\u001b[1;34m(x, bins, range, density, weights, cumulative, bottom, histtype, align, orientation, rwidth, log, color, label, stacked, data, **kwargs)\u001b[0m\n\u001b[0;32m   2603\u001b[0m         \u001b[0morientation\u001b[0m\u001b[1;33m=\u001b[0m\u001b[1;34m'vertical'\u001b[0m\u001b[1;33m,\u001b[0m \u001b[0mrwidth\u001b[0m\u001b[1;33m=\u001b[0m\u001b[1;32mNone\u001b[0m\u001b[1;33m,\u001b[0m \u001b[0mlog\u001b[0m\u001b[1;33m=\u001b[0m\u001b[1;32mFalse\u001b[0m\u001b[1;33m,\u001b[0m \u001b[0mcolor\u001b[0m\u001b[1;33m=\u001b[0m\u001b[1;32mNone\u001b[0m\u001b[1;33m,\u001b[0m\u001b[1;33m\u001b[0m\u001b[1;33m\u001b[0m\u001b[0m\n\u001b[0;32m   2604\u001b[0m         label=None, stacked=False, *, data=None, **kwargs):\n\u001b[1;32m-> 2605\u001b[1;33m     return gca().hist(\n\u001b[0m\u001b[0;32m   2606\u001b[0m         \u001b[0mx\u001b[0m\u001b[1;33m,\u001b[0m \u001b[0mbins\u001b[0m\u001b[1;33m=\u001b[0m\u001b[0mbins\u001b[0m\u001b[1;33m,\u001b[0m \u001b[0mrange\u001b[0m\u001b[1;33m=\u001b[0m\u001b[0mrange\u001b[0m\u001b[1;33m,\u001b[0m \u001b[0mdensity\u001b[0m\u001b[1;33m=\u001b[0m\u001b[0mdensity\u001b[0m\u001b[1;33m,\u001b[0m \u001b[0mweights\u001b[0m\u001b[1;33m=\u001b[0m\u001b[0mweights\u001b[0m\u001b[1;33m,\u001b[0m\u001b[1;33m\u001b[0m\u001b[1;33m\u001b[0m\u001b[0m\n\u001b[0;32m   2607\u001b[0m         \u001b[0mcumulative\u001b[0m\u001b[1;33m=\u001b[0m\u001b[0mcumulative\u001b[0m\u001b[1;33m,\u001b[0m \u001b[0mbottom\u001b[0m\u001b[1;33m=\u001b[0m\u001b[0mbottom\u001b[0m\u001b[1;33m,\u001b[0m \u001b[0mhisttype\u001b[0m\u001b[1;33m=\u001b[0m\u001b[0mhisttype\u001b[0m\u001b[1;33m,\u001b[0m\u001b[1;33m\u001b[0m\u001b[1;33m\u001b[0m\u001b[0m\n",
      "\u001b[1;32m~\\anaconda3\\lib\\site-packages\\matplotlib\\__init__.py\u001b[0m in \u001b[0;36minner\u001b[1;34m(ax, data, *args, **kwargs)\u001b[0m\n\u001b[0;32m   1563\u001b[0m     \u001b[1;32mdef\u001b[0m \u001b[0minner\u001b[0m\u001b[1;33m(\u001b[0m\u001b[0max\u001b[0m\u001b[1;33m,\u001b[0m \u001b[1;33m*\u001b[0m\u001b[0margs\u001b[0m\u001b[1;33m,\u001b[0m \u001b[0mdata\u001b[0m\u001b[1;33m=\u001b[0m\u001b[1;32mNone\u001b[0m\u001b[1;33m,\u001b[0m \u001b[1;33m**\u001b[0m\u001b[0mkwargs\u001b[0m\u001b[1;33m)\u001b[0m\u001b[1;33m:\u001b[0m\u001b[1;33m\u001b[0m\u001b[1;33m\u001b[0m\u001b[0m\n\u001b[0;32m   1564\u001b[0m         \u001b[1;32mif\u001b[0m \u001b[0mdata\u001b[0m \u001b[1;32mis\u001b[0m \u001b[1;32mNone\u001b[0m\u001b[1;33m:\u001b[0m\u001b[1;33m\u001b[0m\u001b[1;33m\u001b[0m\u001b[0m\n\u001b[1;32m-> 1565\u001b[1;33m             \u001b[1;32mreturn\u001b[0m \u001b[0mfunc\u001b[0m\u001b[1;33m(\u001b[0m\u001b[0max\u001b[0m\u001b[1;33m,\u001b[0m \u001b[1;33m*\u001b[0m\u001b[0mmap\u001b[0m\u001b[1;33m(\u001b[0m\u001b[0msanitize_sequence\u001b[0m\u001b[1;33m,\u001b[0m \u001b[0margs\u001b[0m\u001b[1;33m)\u001b[0m\u001b[1;33m,\u001b[0m \u001b[1;33m**\u001b[0m\u001b[0mkwargs\u001b[0m\u001b[1;33m)\u001b[0m\u001b[1;33m\u001b[0m\u001b[1;33m\u001b[0m\u001b[0m\n\u001b[0m\u001b[0;32m   1566\u001b[0m \u001b[1;33m\u001b[0m\u001b[0m\n\u001b[0;32m   1567\u001b[0m         \u001b[0mbound\u001b[0m \u001b[1;33m=\u001b[0m \u001b[0mnew_sig\u001b[0m\u001b[1;33m.\u001b[0m\u001b[0mbind\u001b[0m\u001b[1;33m(\u001b[0m\u001b[0max\u001b[0m\u001b[1;33m,\u001b[0m \u001b[1;33m*\u001b[0m\u001b[0margs\u001b[0m\u001b[1;33m,\u001b[0m \u001b[1;33m**\u001b[0m\u001b[0mkwargs\u001b[0m\u001b[1;33m)\u001b[0m\u001b[1;33m\u001b[0m\u001b[1;33m\u001b[0m\u001b[0m\n",
      "\u001b[1;32m~\\anaconda3\\lib\\site-packages\\matplotlib\\axes\\_axes.py\u001b[0m in \u001b[0;36mhist\u001b[1;34m(self, x, bins, range, density, weights, cumulative, bottom, histtype, align, orientation, rwidth, log, color, label, stacked, **kwargs)\u001b[0m\n\u001b[0;32m   6583\u001b[0m         \u001b[1;31m# Process unit information\u001b[0m\u001b[1;33m\u001b[0m\u001b[1;33m\u001b[0m\u001b[1;33m\u001b[0m\u001b[0m\n\u001b[0;32m   6584\u001b[0m         \u001b[1;31m# Unit conversion is done individually on each dataset\u001b[0m\u001b[1;33m\u001b[0m\u001b[1;33m\u001b[0m\u001b[1;33m\u001b[0m\u001b[0m\n\u001b[1;32m-> 6585\u001b[1;33m         \u001b[0mself\u001b[0m\u001b[1;33m.\u001b[0m\u001b[0m_process_unit_info\u001b[0m\u001b[1;33m(\u001b[0m\u001b[0mxdata\u001b[0m\u001b[1;33m=\u001b[0m\u001b[0mx\u001b[0m\u001b[1;33m[\u001b[0m\u001b[1;36m0\u001b[0m\u001b[1;33m]\u001b[0m\u001b[1;33m,\u001b[0m \u001b[0mkwargs\u001b[0m\u001b[1;33m=\u001b[0m\u001b[0mkwargs\u001b[0m\u001b[1;33m)\u001b[0m\u001b[1;33m\u001b[0m\u001b[1;33m\u001b[0m\u001b[0m\n\u001b[0m\u001b[0;32m   6586\u001b[0m         \u001b[0mx\u001b[0m \u001b[1;33m=\u001b[0m \u001b[1;33m[\u001b[0m\u001b[0mself\u001b[0m\u001b[1;33m.\u001b[0m\u001b[0mconvert_xunits\u001b[0m\u001b[1;33m(\u001b[0m\u001b[0mxi\u001b[0m\u001b[1;33m)\u001b[0m \u001b[1;32mfor\u001b[0m \u001b[0mxi\u001b[0m \u001b[1;32min\u001b[0m \u001b[0mx\u001b[0m\u001b[1;33m]\u001b[0m\u001b[1;33m\u001b[0m\u001b[1;33m\u001b[0m\u001b[0m\n\u001b[0;32m   6587\u001b[0m \u001b[1;33m\u001b[0m\u001b[0m\n",
      "\u001b[1;32m~\\anaconda3\\lib\\site-packages\\matplotlib\\axes\\_base.py\u001b[0m in \u001b[0;36m_process_unit_info\u001b[1;34m(self, xdata, ydata, kwargs)\u001b[0m\n\u001b[0;32m   2071\u001b[0m             \u001b[1;32mreturn\u001b[0m \u001b[0mkwargs\u001b[0m\u001b[1;33m\u001b[0m\u001b[1;33m\u001b[0m\u001b[0m\n\u001b[0;32m   2072\u001b[0m \u001b[1;33m\u001b[0m\u001b[0m\n\u001b[1;32m-> 2073\u001b[1;33m         \u001b[0mkwargs\u001b[0m \u001b[1;33m=\u001b[0m \u001b[0m_process_single_axis\u001b[0m\u001b[1;33m(\u001b[0m\u001b[0mxdata\u001b[0m\u001b[1;33m,\u001b[0m \u001b[0mself\u001b[0m\u001b[1;33m.\u001b[0m\u001b[0mxaxis\u001b[0m\u001b[1;33m,\u001b[0m \u001b[1;34m'xunits'\u001b[0m\u001b[1;33m,\u001b[0m \u001b[0mkwargs\u001b[0m\u001b[1;33m)\u001b[0m\u001b[1;33m\u001b[0m\u001b[1;33m\u001b[0m\u001b[0m\n\u001b[0m\u001b[0;32m   2074\u001b[0m         \u001b[0mkwargs\u001b[0m \u001b[1;33m=\u001b[0m \u001b[0m_process_single_axis\u001b[0m\u001b[1;33m(\u001b[0m\u001b[0mydata\u001b[0m\u001b[1;33m,\u001b[0m \u001b[0mself\u001b[0m\u001b[1;33m.\u001b[0m\u001b[0myaxis\u001b[0m\u001b[1;33m,\u001b[0m \u001b[1;34m'yunits'\u001b[0m\u001b[1;33m,\u001b[0m \u001b[0mkwargs\u001b[0m\u001b[1;33m)\u001b[0m\u001b[1;33m\u001b[0m\u001b[1;33m\u001b[0m\u001b[0m\n\u001b[0;32m   2075\u001b[0m         \u001b[1;32mreturn\u001b[0m \u001b[0mkwargs\u001b[0m\u001b[1;33m\u001b[0m\u001b[1;33m\u001b[0m\u001b[0m\n",
      "\u001b[1;32m~\\anaconda3\\lib\\site-packages\\matplotlib\\axes\\_base.py\u001b[0m in \u001b[0;36m_process_single_axis\u001b[1;34m(data, axis, unit_name, kwargs)\u001b[0m\n\u001b[0;32m   2054\u001b[0m                 \u001b[1;31m# We only need to update if there is nothing set yet.\u001b[0m\u001b[1;33m\u001b[0m\u001b[1;33m\u001b[0m\u001b[1;33m\u001b[0m\u001b[0m\n\u001b[0;32m   2055\u001b[0m                 \u001b[1;32mif\u001b[0m \u001b[1;32mnot\u001b[0m \u001b[0maxis\u001b[0m\u001b[1;33m.\u001b[0m\u001b[0mhave_units\u001b[0m\u001b[1;33m(\u001b[0m\u001b[1;33m)\u001b[0m\u001b[1;33m:\u001b[0m\u001b[1;33m\u001b[0m\u001b[1;33m\u001b[0m\u001b[0m\n\u001b[1;32m-> 2056\u001b[1;33m                     \u001b[0maxis\u001b[0m\u001b[1;33m.\u001b[0m\u001b[0mupdate_units\u001b[0m\u001b[1;33m(\u001b[0m\u001b[0mdata\u001b[0m\u001b[1;33m)\u001b[0m\u001b[1;33m\u001b[0m\u001b[1;33m\u001b[0m\u001b[0m\n\u001b[0m\u001b[0;32m   2057\u001b[0m \u001b[1;33m\u001b[0m\u001b[0m\n\u001b[0;32m   2058\u001b[0m             \u001b[1;31m# Check for units in the kwargs, and if present update axis\u001b[0m\u001b[1;33m\u001b[0m\u001b[1;33m\u001b[0m\u001b[1;33m\u001b[0m\u001b[0m\n",
      "\u001b[1;32m~\\anaconda3\\lib\\site-packages\\matplotlib\\axis.py\u001b[0m in \u001b[0;36mupdate_units\u001b[1;34m(self, data)\u001b[0m\n\u001b[0;32m   1514\u001b[0m         \u001b[0mneednew\u001b[0m \u001b[1;33m=\u001b[0m \u001b[0mself\u001b[0m\u001b[1;33m.\u001b[0m\u001b[0mconverter\u001b[0m \u001b[1;33m!=\u001b[0m \u001b[0mconverter\u001b[0m\u001b[1;33m\u001b[0m\u001b[1;33m\u001b[0m\u001b[0m\n\u001b[0;32m   1515\u001b[0m         \u001b[0mself\u001b[0m\u001b[1;33m.\u001b[0m\u001b[0mconverter\u001b[0m \u001b[1;33m=\u001b[0m \u001b[0mconverter\u001b[0m\u001b[1;33m\u001b[0m\u001b[1;33m\u001b[0m\u001b[0m\n\u001b[1;32m-> 1516\u001b[1;33m         \u001b[0mdefault\u001b[0m \u001b[1;33m=\u001b[0m \u001b[0mself\u001b[0m\u001b[1;33m.\u001b[0m\u001b[0mconverter\u001b[0m\u001b[1;33m.\u001b[0m\u001b[0mdefault_units\u001b[0m\u001b[1;33m(\u001b[0m\u001b[0mdata\u001b[0m\u001b[1;33m,\u001b[0m \u001b[0mself\u001b[0m\u001b[1;33m)\u001b[0m\u001b[1;33m\u001b[0m\u001b[1;33m\u001b[0m\u001b[0m\n\u001b[0m\u001b[0;32m   1517\u001b[0m         \u001b[1;32mif\u001b[0m \u001b[0mdefault\u001b[0m \u001b[1;32mis\u001b[0m \u001b[1;32mnot\u001b[0m \u001b[1;32mNone\u001b[0m \u001b[1;32mand\u001b[0m \u001b[0mself\u001b[0m\u001b[1;33m.\u001b[0m\u001b[0munits\u001b[0m \u001b[1;32mis\u001b[0m \u001b[1;32mNone\u001b[0m\u001b[1;33m:\u001b[0m\u001b[1;33m\u001b[0m\u001b[1;33m\u001b[0m\u001b[0m\n\u001b[0;32m   1518\u001b[0m             \u001b[0mself\u001b[0m\u001b[1;33m.\u001b[0m\u001b[0mset_units\u001b[0m\u001b[1;33m(\u001b[0m\u001b[0mdefault\u001b[0m\u001b[1;33m)\u001b[0m\u001b[1;33m\u001b[0m\u001b[1;33m\u001b[0m\u001b[0m\n",
      "\u001b[1;32m~\\anaconda3\\lib\\site-packages\\matplotlib\\category.py\u001b[0m in \u001b[0;36mdefault_units\u001b[1;34m(data, axis)\u001b[0m\n\u001b[0;32m    105\u001b[0m         \u001b[1;31m# the conversion call stack is default_units -> axis_info -> convert\u001b[0m\u001b[1;33m\u001b[0m\u001b[1;33m\u001b[0m\u001b[1;33m\u001b[0m\u001b[0m\n\u001b[0;32m    106\u001b[0m         \u001b[1;32mif\u001b[0m \u001b[0maxis\u001b[0m\u001b[1;33m.\u001b[0m\u001b[0munits\u001b[0m \u001b[1;32mis\u001b[0m \u001b[1;32mNone\u001b[0m\u001b[1;33m:\u001b[0m\u001b[1;33m\u001b[0m\u001b[1;33m\u001b[0m\u001b[0m\n\u001b[1;32m--> 107\u001b[1;33m             \u001b[0maxis\u001b[0m\u001b[1;33m.\u001b[0m\u001b[0mset_units\u001b[0m\u001b[1;33m(\u001b[0m\u001b[0mUnitData\u001b[0m\u001b[1;33m(\u001b[0m\u001b[0mdata\u001b[0m\u001b[1;33m)\u001b[0m\u001b[1;33m)\u001b[0m\u001b[1;33m\u001b[0m\u001b[1;33m\u001b[0m\u001b[0m\n\u001b[0m\u001b[0;32m    108\u001b[0m         \u001b[1;32melse\u001b[0m\u001b[1;33m:\u001b[0m\u001b[1;33m\u001b[0m\u001b[1;33m\u001b[0m\u001b[0m\n\u001b[0;32m    109\u001b[0m             \u001b[0maxis\u001b[0m\u001b[1;33m.\u001b[0m\u001b[0munits\u001b[0m\u001b[1;33m.\u001b[0m\u001b[0mupdate\u001b[0m\u001b[1;33m(\u001b[0m\u001b[0mdata\u001b[0m\u001b[1;33m)\u001b[0m\u001b[1;33m\u001b[0m\u001b[1;33m\u001b[0m\u001b[0m\n",
      "\u001b[1;32m~\\anaconda3\\lib\\site-packages\\matplotlib\\category.py\u001b[0m in \u001b[0;36m__init__\u001b[1;34m(self, data)\u001b[0m\n\u001b[0;32m    173\u001b[0m         \u001b[0mself\u001b[0m\u001b[1;33m.\u001b[0m\u001b[0m_counter\u001b[0m \u001b[1;33m=\u001b[0m \u001b[0mitertools\u001b[0m\u001b[1;33m.\u001b[0m\u001b[0mcount\u001b[0m\u001b[1;33m(\u001b[0m\u001b[1;33m)\u001b[0m\u001b[1;33m\u001b[0m\u001b[1;33m\u001b[0m\u001b[0m\n\u001b[0;32m    174\u001b[0m         \u001b[1;32mif\u001b[0m \u001b[0mdata\u001b[0m \u001b[1;32mis\u001b[0m \u001b[1;32mnot\u001b[0m \u001b[1;32mNone\u001b[0m\u001b[1;33m:\u001b[0m\u001b[1;33m\u001b[0m\u001b[1;33m\u001b[0m\u001b[0m\n\u001b[1;32m--> 175\u001b[1;33m             \u001b[0mself\u001b[0m\u001b[1;33m.\u001b[0m\u001b[0mupdate\u001b[0m\u001b[1;33m(\u001b[0m\u001b[0mdata\u001b[0m\u001b[1;33m)\u001b[0m\u001b[1;33m\u001b[0m\u001b[1;33m\u001b[0m\u001b[0m\n\u001b[0m\u001b[0;32m    176\u001b[0m \u001b[1;33m\u001b[0m\u001b[0m\n\u001b[0;32m    177\u001b[0m     \u001b[1;33m@\u001b[0m\u001b[0mstaticmethod\u001b[0m\u001b[1;33m\u001b[0m\u001b[1;33m\u001b[0m\u001b[0m\n",
      "\u001b[1;32m~\\anaconda3\\lib\\site-packages\\matplotlib\\category.py\u001b[0m in \u001b[0;36mupdate\u001b[1;34m(self, data)\u001b[0m\n\u001b[0;32m    210\u001b[0m         \u001b[1;32mfor\u001b[0m \u001b[0mval\u001b[0m \u001b[1;32min\u001b[0m \u001b[0mOrderedDict\u001b[0m\u001b[1;33m.\u001b[0m\u001b[0mfromkeys\u001b[0m\u001b[1;33m(\u001b[0m\u001b[0mdata\u001b[0m\u001b[1;33m)\u001b[0m\u001b[1;33m:\u001b[0m\u001b[1;33m\u001b[0m\u001b[1;33m\u001b[0m\u001b[0m\n\u001b[0;32m    211\u001b[0m             \u001b[1;31m# OrderedDict just iterates over unique values in data.\u001b[0m\u001b[1;33m\u001b[0m\u001b[1;33m\u001b[0m\u001b[1;33m\u001b[0m\u001b[0m\n\u001b[1;32m--> 212\u001b[1;33m             \u001b[0mcbook\u001b[0m\u001b[1;33m.\u001b[0m\u001b[0m_check_isinstance\u001b[0m\u001b[1;33m(\u001b[0m\u001b[1;33m(\u001b[0m\u001b[0mstr\u001b[0m\u001b[1;33m,\u001b[0m \u001b[0mbytes\u001b[0m\u001b[1;33m)\u001b[0m\u001b[1;33m,\u001b[0m \u001b[0mvalue\u001b[0m\u001b[1;33m=\u001b[0m\u001b[0mval\u001b[0m\u001b[1;33m)\u001b[0m\u001b[1;33m\u001b[0m\u001b[1;33m\u001b[0m\u001b[0m\n\u001b[0m\u001b[0;32m    213\u001b[0m             \u001b[1;32mif\u001b[0m \u001b[0mconvertible\u001b[0m\u001b[1;33m:\u001b[0m\u001b[1;33m\u001b[0m\u001b[1;33m\u001b[0m\u001b[0m\n\u001b[0;32m    214\u001b[0m                 \u001b[1;31m# this will only be called so long as convertible is True.\u001b[0m\u001b[1;33m\u001b[0m\u001b[1;33m\u001b[0m\u001b[1;33m\u001b[0m\u001b[0m\n",
      "\u001b[1;32m~\\anaconda3\\lib\\site-packages\\matplotlib\\cbook\\__init__.py\u001b[0m in \u001b[0;36m_check_isinstance\u001b[1;34m(_types, **kwargs)\u001b[0m\n\u001b[0;32m   2121\u001b[0m     \u001b[1;32mfor\u001b[0m \u001b[0mk\u001b[0m\u001b[1;33m,\u001b[0m \u001b[0mv\u001b[0m \u001b[1;32min\u001b[0m \u001b[0mkwargs\u001b[0m\u001b[1;33m.\u001b[0m\u001b[0mitems\u001b[0m\u001b[1;33m(\u001b[0m\u001b[1;33m)\u001b[0m\u001b[1;33m:\u001b[0m\u001b[1;33m\u001b[0m\u001b[1;33m\u001b[0m\u001b[0m\n\u001b[0;32m   2122\u001b[0m         \u001b[1;32mif\u001b[0m \u001b[1;32mnot\u001b[0m \u001b[0misinstance\u001b[0m\u001b[1;33m(\u001b[0m\u001b[0mv\u001b[0m\u001b[1;33m,\u001b[0m \u001b[0mtypes\u001b[0m\u001b[1;33m)\u001b[0m\u001b[1;33m:\u001b[0m\u001b[1;33m\u001b[0m\u001b[1;33m\u001b[0m\u001b[0m\n\u001b[1;32m-> 2123\u001b[1;33m             raise TypeError(\n\u001b[0m\u001b[0;32m   2124\u001b[0m                 \"{!r} must be an instance of {}, not a {}\".format(\n\u001b[0;32m   2125\u001b[0m                     \u001b[0mk\u001b[0m\u001b[1;33m,\u001b[0m\u001b[1;33m\u001b[0m\u001b[1;33m\u001b[0m\u001b[0m\n",
      "\u001b[1;31mTypeError\u001b[0m: 'value' must be an instance of str or bytes, not a float"
     ]
    },
    {
     "data": {
      "image/png": "[encoded data removed]",
      "text/plain": [
       "<Figure size 432x288 with 1 Axes>"
      ]
     },
     "metadata": {},
     "output_type": "display_data"
    }
   ],
   "source": [
    "sns.set()\n",
    "_ = plt.hist(violations_data[\"penalty\"])\n",
    "_ = plt.xlabel('Amount')\n",
    "_ = plt.ylabel('Count of Penalties at that Amount')\n",
    "plt.show()"
   ]
  },
  {
   "cell_type": "code",
   "execution_count": 26,
   "metadata": {},
   "outputs": [],
   "source": [
    "# Copy the license violations zip codes into a separate var."
   ]
  },
  {
   "cell_type": "code",
   "execution_count": 22,
   "metadata": {},
   "outputs": [
    {
     "data": {
      "text/plain": [
       "0      20910\n",
       "1      20912\n",
       "2      20912\n",
       "3      20912\n",
       "4      20902\n",
       "       ...  \n",
       "937    20902\n",
       "938    20902\n",
       "939    20906\n",
       "940    20906\n",
       "941    20906\n",
       "Name: zip, Length: 942, dtype: object"
      ]
     },
     "execution_count": 22,
     "metadata": {},
     "output_type": "execute_result"
    }
   ],
   "source": [
    "# Use a regular expression to pull out the zip codes.\n",
    "violations_data[\"zip\"]=violations_data[\"address\"].str.extract(r\"(\\d+$)\")\n",
    "# This regex matches the characters (r) that are digits (\\d) at the end ($). \n",
    "violations_data[\"zip\"]"
   ]
  },
  {
   "cell_type": "code",
   "execution_count": 23,
   "metadata": {},
   "outputs": [
    {
     "data": {
      "text/plain": [
       "0       609 SLIGO AVE , SILVER SPRING , MARYLAND - 20910\n",
       "1      7637 NEW HAMPSHIRE AVE , TAKOMA PARK , MARYLAN...\n",
       "2      7637 NEW HAMPSHIRE AVE , TAKOMA PARK , MARYLAN...\n",
       "3      7637 NEW HAMPSHIRE AVE , TAKOMA PARK , MARYLAN...\n",
       "4      2407 PRICE AVENUE , SILVER SPRING , MARYLAND -...\n",
       "                             ...                        \n",
       "937               11423 GEORGIA AVE. , WHEATON, MD 20902\n",
       "938               11423 GEORGIA AVE. , WHEATON, MD 20902\n",
       "939    14101 GEORGIA AVE. , ASPEN HILL , MARYLAND - 2...\n",
       "940         14101 GEORGIA AVE. , ASPEN HILL , MD - 20906\n",
       "941    14101 GEORGIA AVE. , ASPEN HILL , MARYLAND - 2...\n",
       "Name: address, Length: 942, dtype: object"
      ]
     },
     "execution_count": 23,
     "metadata": {},
     "output_type": "execute_result"
    }
   ],
   "source": [
    "violations_data[\"address\"]"
   ]
  },
  {
   "cell_type": "code",
   "execution_count": 29,
   "metadata": {},
   "outputs": [],
   "source": [
    "# Now I have the zip codes of the Alcohol Beverage License Violations in the var \"zip\".\n",
    "# Do frequency of violations by zip code."
   ]
  },
  {
   "cell_type": "code",
   "execution_count": 24,
   "metadata": {},
   "outputs": [
    {
     "data": {
      "image/png": "[encoded data removed]",
      "text/plain": [
       "<Figure size 432x288 with 1 Axes>"
      ]
     },
     "metadata": {},
     "output_type": "display_data"
    }
   ],
   "source": [
    "violations_data.sort_values(by=[\"zip\", \"facilityname\"])\n",
    "\n",
    "sns.set()\n",
    "_ = plt.hist(violations_data[\"zip\"])\n",
    "_ = plt.xlabel('Zip')\n",
    "_ = plt.ylabel('Count of Violations')\n",
    "plt.show()"
   ]
  },
  {
   "cell_type": "code",
   "execution_count": 25,
   "metadata": {},
   "outputs": [],
   "source": [
    "# This is too messy to see the zip codess. Try again."
   ]
  },
  {
   "cell_type": "code",
   "execution_count": 26,
   "metadata": {},
   "outputs": [
    {
     "data": {
      "text/plain": [
       "<matplotlib.axes._subplots.AxesSubplot at 0x2b87f002d60>"
      ]
     },
     "execution_count": 26,
     "metadata": {},
     "output_type": "execute_result"
    },
    {
     "data": {
      "image/png": "[encoded data removed]",
      "text/plain": [
       "<Figure size 432x288 with 1 Axes>"
      ]
     },
     "metadata": {},
     "output_type": "display_data"
    }
   ],
   "source": [
    "# This plots the top 20 most frequent zip codes. \n",
    "violations_data[\"zip\"].value_counts()[:20].plot(kind=\"barh\")\n"
   ]
  },
  {
   "cell_type": "code",
   "execution_count": null,
   "metadata": {},
   "outputs": [],
   "source": [
    "# This has the potential to be interesting as I recognize some of the zip codes/areas. \n",
    "# I'll come back to this."
   ]
  },
  {
   "cell_type": "code",
   "execution_count": null,
   "metadata": {},
   "outputs": [],
   "source": []
  },
  {
   "cell_type": "code",
   "execution_count": null,
   "metadata": {},
   "outputs": [],
   "source": [
    "# Investigate frequencies by types of violations. \n",
    "# Group the sale to minor and 6.1 sales or service to minors. "
   ]
  },
  {
   "cell_type": "code",
   "execution_count": 27,
   "metadata": {},
   "outputs": [
    {
     "ename": "NameError",
     "evalue": "name 'violations_minors' is not defined",
     "output_type": "error",
     "traceback": [
      "\u001b[1;31m---------------------------------------------------------------------------\u001b[0m",
      "\u001b[1;31mNameError\u001b[0m                                 Traceback (most recent call last)",
      "\u001b[1;32m<ipython-input-27-434f83afd19b>\u001b[0m in \u001b[0;36m<module>\u001b[1;34m\u001b[0m\n\u001b[1;32m----> 1\u001b[1;33m \u001b[0mviolations_minors\u001b[0m\u001b[1;33m[\u001b[0m\u001b[0mviolations_data\u001b[0m\u001b[1;33m[\u001b[0m\u001b[1;34m\"violation\"\u001b[0m\u001b[1;33m]\u001b[0m\u001b[1;33m.\u001b[0m\u001b[0misin\u001b[0m\u001b[1;33m(\u001b[0m\u001b[1;33m[\u001b[0m\u001b[1;34m\"SALE TO MINOR\"\u001b[0m\u001b[1;33m,\u001b[0m \u001b[1;34m\"6.1 SALES OR SERVICE TO MINORS/CONSUMPTION OR POSSESSION OF MINORS\"\u001b[0m\u001b[1;33m]\u001b[0m\u001b[1;33m)\u001b[0m\u001b[1;33m]\u001b[0m\u001b[1;33m\u001b[0m\u001b[1;33m\u001b[0m\u001b[0m\n\u001b[0m\u001b[0;32m      2\u001b[0m \u001b[0mviolations_minors\u001b[0m\u001b[1;33m[\u001b[0m\u001b[1;34m\"violation\"\u001b[0m\u001b[1;33m]\u001b[0m\u001b[1;33m\u001b[0m\u001b[1;33m\u001b[0m\u001b[0m\n",
      "\u001b[1;31mNameError\u001b[0m: name 'violations_minors' is not defined"
     ]
    }
   ],
   "source": [
    "#violations_minors[violations_data[\"violation\"].isin([\"SALE TO MINOR\", \"6.1 SALES OR SERVICE TO MINORS/CONSUMPTION OR POSSESSION OF MINORS\"])]\n",
    "#violations_minors[\"violation\"]"
   ]
  },
  {
   "cell_type": "code",
   "execution_count": 34,
   "metadata": {},
   "outputs": [
    {
     "ename": "ValueError",
     "evalue": "The truth value of a Series is ambiguous. Use a.empty, a.bool(), a.item(), a.any() or a.all().",
     "output_type": "error",
     "traceback": [
      "\u001b[1;31m---------------------------------------------------------------------------\u001b[0m",
      "\u001b[1;31mValueError\u001b[0m                                Traceback (most recent call last)",
      "\u001b[1;32m<ipython-input-34-d394253c914d>\u001b[0m in \u001b[0;36m<module>\u001b[1;34m\u001b[0m\n\u001b[1;32m----> 1\u001b[1;33m \u001b[0mviolations_minors\u001b[0m \u001b[1;33m=\u001b[0m \u001b[1;33m[\u001b[0m\u001b[1;33m(\u001b[0m\u001b[0mviolations_data\u001b[0m\u001b[1;33m[\u001b[0m\u001b[1;34m\"violation\"\u001b[0m\u001b[1;33m]\u001b[0m \u001b[1;33m==\u001b[0m \u001b[1;34m\"SALE TO MINOR\"\u001b[0m\u001b[1;33m)\u001b[0m \u001b[1;32mor\u001b[0m \u001b[1;33m(\u001b[0m\u001b[0mviolations_data\u001b[0m\u001b[1;33m[\u001b[0m\u001b[1;34m\"violation\"\u001b[0m\u001b[1;33m]\u001b[0m \u001b[1;33m==\u001b[0m \u001b[1;34m\"6.1 SALES OR SERVICE TO MINORS/CONSUMPTION OR POSSESSION OF MINORS\"\u001b[0m\u001b[1;33m)\u001b[0m\u001b[1;33m]\u001b[0m\u001b[1;33m\u001b[0m\u001b[1;33m\u001b[0m\u001b[0m\n\u001b[0m\u001b[0;32m      2\u001b[0m \u001b[0mviolations_minors\u001b[0m\u001b[1;33m[\u001b[0m\u001b[1;34m\"violation\"\u001b[0m\u001b[1;33m]\u001b[0m\u001b[1;33m\u001b[0m\u001b[1;33m\u001b[0m\u001b[0m\n",
      "\u001b[1;32m~\\anaconda3\\lib\\site-packages\\pandas\\core\\generic.py\u001b[0m in \u001b[0;36m__nonzero__\u001b[1;34m(self)\u001b[0m\n\u001b[0;32m   1476\u001b[0m \u001b[1;33m\u001b[0m\u001b[0m\n\u001b[0;32m   1477\u001b[0m     \u001b[1;32mdef\u001b[0m \u001b[0m__nonzero__\u001b[0m\u001b[1;33m(\u001b[0m\u001b[0mself\u001b[0m\u001b[1;33m)\u001b[0m\u001b[1;33m:\u001b[0m\u001b[1;33m\u001b[0m\u001b[1;33m\u001b[0m\u001b[0m\n\u001b[1;32m-> 1478\u001b[1;33m         raise ValueError(\n\u001b[0m\u001b[0;32m   1479\u001b[0m             \u001b[1;34mf\"The truth value of a {type(self).__name__} is ambiguous. \"\u001b[0m\u001b[1;33m\u001b[0m\u001b[1;33m\u001b[0m\u001b[0m\n\u001b[0;32m   1480\u001b[0m             \u001b[1;34m\"Use a.empty, a.bool(), a.item(), a.any() or a.all().\"\u001b[0m\u001b[1;33m\u001b[0m\u001b[1;33m\u001b[0m\u001b[0m\n",
      "\u001b[1;31mValueError\u001b[0m: The truth value of a Series is ambiguous. Use a.empty, a.bool(), a.item(), a.any() or a.all()."
     ]
    }
   ],
   "source": [
    "#violations_minors[(violations_data[\"violation\"] == \"SALE TO MINOR\") or (violations_data[\"violation\"] == \"6.1 SALES OR SERVICE TO MINORS/CONSUMPTION OR POSSESSION OF MINORS\")]\n",
    "#violations_minors[\"violation\"]"
   ]
  },
  {
   "cell_type": "code",
   "execution_count": null,
   "metadata": {},
   "outputs": [],
   "source": [
    "violations_minors = violations_data[\"violation\"].str.contains(\"minor\")\n",
    "type(violations_minors)"
   ]
  },
  {
   "cell_type": "code",
   "execution_count": null,
   "metadata": {},
   "outputs": [],
   "source": [
    "print(violations_minors)"
   ]
  },
  {
   "cell_type": "code",
   "execution_count": null,
   "metadata": {},
   "outputs": [],
   "source": [
    "violations_minors.describe(include=\"all\")"
   ]
  },
  {
   "cell_type": "code",
   "execution_count": 29,
   "metadata": {},
   "outputs": [],
   "source": [
    "# Once I get the violations involving minors into a data set...\n",
    "# Get the frequency by zip code for violations involving minors. See how it compares to all violations.\n",
    "# Does it follow the same frequency or do some zip codes have higher rates of violations by minors. \n",
    "# "
   ]
  },
  {
   "cell_type": "code",
   "execution_count": null,
   "metadata": {},
   "outputs": [],
   "source": []
  },
  {
   "cell_type": "code",
   "execution_count": 30,
   "metadata": {},
   "outputs": [],
   "source": [
    "# I may try to overlay the high school locations with areas of highest crime and/or alcohol violations. "
   ]
  },
  {
   "cell_type": "code",
   "execution_count": 64,
   "metadata": {},
   "outputs": [
    {
     "data": {
      "text/html": [
       "<div>\n",
       "<style scoped>\n",
       "    .dataframe tbody tr th:only-of-type {\n",
       "        vertical-align: middle;\n",
       "    }\n",
       "\n",
       "    .dataframe tbody tr th {\n",
       "        vertical-align: top;\n",
       "    }\n",
       "\n",
       "    .dataframe thead th {\n",
       "        text-align: right;\n",
       "    }\n",
       "</style>\n",
       "<table border=\"1\" class=\"dataframe\">\n",
       "  <thead>\n",
       "    <tr style=\"text-align: right;\">\n",
       "      <th></th>\n",
       "      <th>category</th>\n",
       "      <th>school_name</th>\n",
       "      <th>address</th>\n",
       "      <th>city</th>\n",
       "      <th>zip_code</th>\n",
       "      <th>phone</th>\n",
       "      <th>url</th>\n",
       "      <th>longitude</th>\n",
       "      <th>latitude</th>\n",
       "      <th>location</th>\n",
       "      <th>:@computed_region_vu5j_pcmz</th>\n",
       "      <th>:@computed_region_tx5f_5em3</th>\n",
       "      <th>:@computed_region_kbsp_ykn9</th>\n",
       "      <th>:@computed_region_d7bw_bq6x</th>\n",
       "      <th>:@computed_region_rbt8_3x7n</th>\n",
       "    </tr>\n",
       "  </thead>\n",
       "  <tbody>\n",
       "    <tr>\n",
       "      <th>0</th>\n",
       "      <td>HIGH SCHOOLS</td>\n",
       "      <td>Walter Johnson HS</td>\n",
       "      <td>6400 Rock Spring Dr</td>\n",
       "      <td>Bethesda</td>\n",
       "      <td>20814</td>\n",
       "      <td>301-803-7100</td>\n",
       "      <td>http://www.montgomeryschoolsmd.org/schools/wjhs</td>\n",
       "      <td>-77.1301017226</td>\n",
       "      <td>39.0253918855</td>\n",
       "      <td>{'latitude': '39.0253918855', 'longitude': '-7...</td>\n",
       "      <td>1</td>\n",
       "      <td>1</td>\n",
       "      <td>19</td>\n",
       "      <td>103</td>\n",
       "      <td>1</td>\n",
       "    </tr>\n",
       "    <tr>\n",
       "      <th>1</th>\n",
       "      <td>HIGH SCHOOLS</td>\n",
       "      <td>Bethesda-Chevy Chase HS</td>\n",
       "      <td>4301 East West Hwy</td>\n",
       "      <td>Bethesda</td>\n",
       "      <td>20814</td>\n",
       "      <td>240-497-6300</td>\n",
       "      <td>http://www.montgomeryschoolsmd.org/schools/bcchs</td>\n",
       "      <td>-77.0889699717</td>\n",
       "      <td>38.9868264765</td>\n",
       "      <td>{'latitude': '38.9868264765', 'longitude': '-7...</td>\n",
       "      <td>1</td>\n",
       "      <td>1</td>\n",
       "      <td>12</td>\n",
       "      <td>111</td>\n",
       "      <td>1</td>\n",
       "    </tr>\n",
       "    <tr>\n",
       "      <th>2</th>\n",
       "      <td>ELEMENTARY SCHOOLS</td>\n",
       "      <td>Bethesda ES</td>\n",
       "      <td>7600 Arlington Rd</td>\n",
       "      <td>Bethesda</td>\n",
       "      <td>20814</td>\n",
       "      <td>301-657-4979</td>\n",
       "      <td>http://www.montgomeryschoolsmd.org/schools/bet...</td>\n",
       "      <td>-77.0998645245</td>\n",
       "      <td>38.9864595389</td>\n",
       "      <td>{'latitude': '38.9864595389', 'longitude': '-7...</td>\n",
       "      <td>1</td>\n",
       "      <td>1</td>\n",
       "      <td>12</td>\n",
       "      <td>111</td>\n",
       "      <td>1</td>\n",
       "    </tr>\n",
       "    <tr>\n",
       "      <th>3</th>\n",
       "      <td>ELEMENTARY SCHOOLS</td>\n",
       "      <td>Garrett Park ES (at Grosvenor Center)</td>\n",
       "      <td>5701 Grosvenor La</td>\n",
       "      <td>Bethesda</td>\n",
       "      <td>20814</td>\n",
       "      <td>301-929-2170</td>\n",
       "      <td>http://www.montgomeryschoolsmd.org/schools/gar...</td>\n",
       "      <td>-77.1141310594</td>\n",
       "      <td>39.0235338133</td>\n",
       "      <td>{'latitude': '39.0235338133', 'longitude': '-7...</td>\n",
       "      <td>1</td>\n",
       "      <td>1</td>\n",
       "      <td>19</td>\n",
       "      <td>111</td>\n",
       "      <td>1</td>\n",
       "    </tr>\n",
       "    <tr>\n",
       "      <th>4</th>\n",
       "      <td>ELEMENTARY SCHOOLS</td>\n",
       "      <td>Somerset ES</td>\n",
       "      <td>5811 Warwick Pl</td>\n",
       "      <td>Chevy Chase</td>\n",
       "      <td>20815</td>\n",
       "      <td>301-657-4985</td>\n",
       "      <td>http://www.montgomeryschoolsmd.org/schools/som...</td>\n",
       "      <td>-77.092408162</td>\n",
       "      <td>38.9691922144</td>\n",
       "      <td>{'latitude': '38.9691922144', 'longitude': '-7...</td>\n",
       "      <td>1</td>\n",
       "      <td>1</td>\n",
       "      <td>5</td>\n",
       "      <td>110</td>\n",
       "      <td>7</td>\n",
       "    </tr>\n",
       "  </tbody>\n",
       "</table>\n",
       "</div>"
      ],
      "text/plain": [
       "             category                            school_name  \\\n",
       "0        HIGH SCHOOLS                      Walter Johnson HS   \n",
       "1        HIGH SCHOOLS                Bethesda-Chevy Chase HS   \n",
       "2  ELEMENTARY SCHOOLS                            Bethesda ES   \n",
       "3  ELEMENTARY SCHOOLS  Garrett Park ES (at Grosvenor Center)   \n",
       "4  ELEMENTARY SCHOOLS                            Somerset ES   \n",
       "\n",
       "               address         city zip_code         phone  \\\n",
       "0  6400 Rock Spring Dr     Bethesda    20814  301-803-7100   \n",
       "1   4301 East West Hwy     Bethesda    20814  240-497-6300   \n",
       "2    7600 Arlington Rd     Bethesda    20814  301-657-4979   \n",
       "3    5701 Grosvenor La     Bethesda    20814  301-929-2170   \n",
       "4      5811 Warwick Pl  Chevy Chase    20815  301-657-4985   \n",
       "\n",
       "                                                 url       longitude  \\\n",
       "0    http://www.montgomeryschoolsmd.org/schools/wjhs  -77.1301017226   \n",
       "1   http://www.montgomeryschoolsmd.org/schools/bcchs  -77.0889699717   \n",
       "2  http://www.montgomeryschoolsmd.org/schools/bet...  -77.0998645245   \n",
       "3  http://www.montgomeryschoolsmd.org/schools/gar...  -77.1141310594   \n",
       "4  http://www.montgomeryschoolsmd.org/schools/som...   -77.092408162   \n",
       "\n",
       "        latitude                                           location  \\\n",
       "0  39.0253918855  {'latitude': '39.0253918855', 'longitude': '-7...   \n",
       "1  38.9868264765  {'latitude': '38.9868264765', 'longitude': '-7...   \n",
       "2  38.9864595389  {'latitude': '38.9864595389', 'longitude': '-7...   \n",
       "3  39.0235338133  {'latitude': '39.0235338133', 'longitude': '-7...   \n",
       "4  38.9691922144  {'latitude': '38.9691922144', 'longitude': '-7...   \n",
       "\n",
       "  :@computed_region_vu5j_pcmz :@computed_region_tx5f_5em3  \\\n",
       "0                           1                           1   \n",
       "1                           1                           1   \n",
       "2                           1                           1   \n",
       "3                           1                           1   \n",
       "4                           1                           1   \n",
       "\n",
       "  :@computed_region_kbsp_ykn9 :@computed_region_d7bw_bq6x  \\\n",
       "0                          19                         103   \n",
       "1                          12                         111   \n",
       "2                          12                         111   \n",
       "3                          19                         111   \n",
       "4                           5                         110   \n",
       "\n",
       "  :@computed_region_rbt8_3x7n  \n",
       "0                           1  \n",
       "1                           1  \n",
       "2                           1  \n",
       "3                           1  \n",
       "4                           7  "
      ]
     },
     "execution_count": 64,
     "metadata": {},
     "output_type": "execute_result"
    }
   ],
   "source": [
    "# Import the public high schools data set.\n",
    "schools_data = pd.DataFrame(requests.get(\"https://data.montgomerycountymd.gov/resource/772q-4wm8.json\").json())\n",
    "schools_data.head()"
   ]
  },
  {
   "cell_type": "code",
   "execution_count": 65,
   "metadata": {},
   "outputs": [],
   "source": [
    "# Drop the unnecessary columns (i.e., category, elementary/middle schools, phone and url)."
   ]
  },
  {
   "cell_type": "code",
   "execution_count": 66,
   "metadata": {},
   "outputs": [
    {
     "name": "stdout",
     "output_type": "stream",
     "text": [
      "                 school_name                    address           city  \\\n",
      "0          Walter Johnson HS        6400 Rock Spring Dr       Bethesda   \n",
      "1    Bethesda-Chevy Chase HS         4301 East West Hwy       Bethesda   \n",
      "20           Walt Whitman HS          7100 Whittier Blv       Bethesda   \n",
      "28            Poolesville HS           17501 Willard Rd    Poolesville   \n",
      "37       Thomas S Wootton HS           2100 Wootton Pkw      Rockville   \n",
      "40              Rockville HS          2100 Baltimore Rd      Rockville   \n",
      "46     Richard Montgomery HS  250 Richard Montgomery Dr      Rockville   \n",
      "60      Winston Churchill HS      11300 Gainsborough Rd        Potomac   \n",
      "66     Col Zadok Magruder HS     5939 Muncaster Mill Rd      Rockville   \n",
      "72               Sherwood HS  300 Olney Sandy Spring Rd   Sandy Spring   \n",
      "75           Paint Branch HS     14121 Old Columbia Pik   Burtonsville   \n",
      "76             Clarksburg HS              22500 Wims Rd     Clarksburg   \n",
      "81               Damascus HS             25921 Ridge Rd       Damascus   \n",
      "87          Seneca Valley HS      19401 Crystal Rock Dr     Germantown   \n",
      "89              Northwest HS      13501 Richter Farm Rd     Germantown   \n",
      "106          Gaithersburg HS        314 S Frederick Ave   Gaithersburg   \n",
      "125        Quince Orchard HS    15800 Quince Orchard Rd   Gaithersburg   \n",
      "126          Watkins Mill HS       10301 Apple Ridge Rd   Gaithersburg   \n",
      "139       Albert Einstein HS      11135 Newport Mill Rd     Kensington   \n",
      "144             Northwood HS       919 University Blv W  Silver Spring   \n",
      "148      Montgomery Blair HS        51 E University Blv  Silver Spring   \n",
      "151        John F Kennedy HS           1901 Randolph Rd  Silver Spring   \n",
      "169           Springbrook HS        201 Valley Brook Dr  Silver Spring   \n",
      "180    James Hubert Blake HS             300 Norwood Rd  Silver Spring   \n",
      "189               Wheaton HS          12601 Dalewood Dr  Silver Spring   \n",
      "\n",
      "    zip_code       longitude       latitude  \\\n",
      "0      20814  -77.1301017226  39.0253918855   \n",
      "1      20814  -77.0889699717  38.9868264765   \n",
      "20     20817  -77.1276727865  38.9816307564   \n",
      "28     20837  -77.4187801451  39.1431033716   \n",
      "37     20850  -77.1831974358  39.0765821359   \n",
      "40     20851  -77.1182723989  39.0863478113   \n",
      "46     20852  -77.1457297834  39.0772920776   \n",
      "60     20854  -77.1731281364  39.0443047898   \n",
      "66     20855  -77.1188059149  39.1313109818   \n",
      "72     20860   -77.018771801   39.148342372   \n",
      "75     20866  -76.9471015401  39.0886791828   \n",
      "76     20871  -77.2655866221   39.225501825   \n",
      "81     20872  -77.2100198748  39.2824956463   \n",
      "87     20874  -77.2643319443  39.1750937217   \n",
      "89     20874  -77.2793294162  39.1515925975   \n",
      "106    20877  -77.1954776183  39.1348394458   \n",
      "125    20878   -77.254239085  39.1159327009   \n",
      "126    20879   -77.215836205   39.183966701   \n",
      "139    20895  -77.0670360163  39.0396158925   \n",
      "144    20901  -77.0224839838  39.0356942671   \n",
      "148    20901  -77.0124342871  39.0182729296   \n",
      "151    20902   -77.039027838  39.0657502712   \n",
      "169    20904  -77.0056814998  39.0578019375   \n",
      "180    20905  -77.0175061321  39.1133304559   \n",
      "189    20906  -77.0666690813  39.0613378725   \n",
      "\n",
      "                                              location  \\\n",
      "0    {'latitude': '39.0253918855', 'longitude': '-7...   \n",
      "1    {'latitude': '38.9868264765', 'longitude': '-7...   \n",
      "20   {'latitude': '38.9816307564', 'longitude': '-7...   \n",
      "28   {'latitude': '39.1431033716', 'longitude': '-7...   \n",
      "37   {'latitude': '39.0765821359', 'longitude': '-7...   \n",
      "40   {'latitude': '39.0863478113', 'longitude': '-7...   \n",
      "46   {'latitude': '39.0772920776', 'longitude': '-7...   \n",
      "60   {'latitude': '39.0443047898', 'longitude': '-7...   \n",
      "66   {'latitude': '39.1313109818', 'longitude': '-7...   \n",
      "72   {'latitude': '39.148342372', 'longitude': '-77...   \n",
      "75   {'latitude': '39.0886791828', 'longitude': '-7...   \n",
      "76   {'latitude': '39.225501825', 'longitude': '-77...   \n",
      "81   {'latitude': '39.2824956463', 'longitude': '-7...   \n",
      "87   {'latitude': '39.1750937217', 'longitude': '-7...   \n",
      "89   {'latitude': '39.1515925975', 'longitude': '-7...   \n",
      "106  {'latitude': '39.1348394458', 'longitude': '-7...   \n",
      "125  {'latitude': '39.1159327009', 'longitude': '-7...   \n",
      "126  {'latitude': '39.183966701', 'longitude': '-77...   \n",
      "139  {'latitude': '39.0396158925', 'longitude': '-7...   \n",
      "144  {'latitude': '39.0356942671', 'longitude': '-7...   \n",
      "148  {'latitude': '39.0182729296', 'longitude': '-7...   \n",
      "151  {'latitude': '39.0657502712', 'longitude': '-7...   \n",
      "169  {'latitude': '39.0578019375', 'longitude': '-7...   \n",
      "180  {'latitude': '39.1133304559', 'longitude': '-7...   \n",
      "189  {'latitude': '39.0613378725', 'longitude': '-7...   \n",
      "\n",
      "    :@computed_region_vu5j_pcmz :@computed_region_tx5f_5em3  \\\n",
      "0                             1                           1   \n",
      "1                             1                           1   \n",
      "20                            1                           1   \n",
      "28                            1                           1   \n",
      "37                            3                           3   \n",
      "40                            3                           3   \n",
      "46                            3                           3   \n",
      "60                            1                           1   \n",
      "66                            4                           4   \n",
      "72                            4                           4   \n",
      "75                            5                           5   \n",
      "76                            2                           2   \n",
      "81                            2                           2   \n",
      "87                            2                           2   \n",
      "89                            2                           2   \n",
      "106                           3                           3   \n",
      "125                           2                           2   \n",
      "126                           2                           2   \n",
      "139                           4                           4   \n",
      "144                           5                           5   \n",
      "148                           5                           5   \n",
      "151                           4                           4   \n",
      "169                           4                           4   \n",
      "180                           4                           4   \n",
      "189                           4                           4   \n",
      "\n",
      "    :@computed_region_kbsp_ykn9 :@computed_region_d7bw_bq6x  \\\n",
      "0                            19                         103   \n",
      "1                            12                         111   \n",
      "20                           12                         103   \n",
      "28                           34                          97   \n",
      "37                           25                          71   \n",
      "40                           25                          68   \n",
      "46                           25                          60   \n",
      "60                           20                          53   \n",
      "66                           55                          51   \n",
      "72                           35                          49   \n",
      "75                           53                          47   \n",
      "76                           50                          44   \n",
      "81                           51                          42   \n",
      "87                           39                          39   \n",
      "89                           39                          39   \n",
      "106                          36                          35   \n",
      "125                          24                          33   \n",
      "126                          38                          28   \n",
      "139                          15                          25   \n",
      "144                          17                          21   \n",
      "148                          13                          21   \n",
      "151                          23                           6   \n",
      "169                          26                          12   \n",
      "180                          26                           8   \n",
      "189                          23                           6   \n",
      "\n",
      "    :@computed_region_rbt8_3x7n  \n",
      "0                             1  \n",
      "1                             1  \n",
      "20                            1  \n",
      "28                           16  \n",
      "37                           12  \n",
      "40                           12  \n",
      "46                           12  \n",
      "60                            1  \n",
      "66                            1  \n",
      "72                            1  \n",
      "75                            1  \n",
      "76                            1  \n",
      "81                            1  \n",
      "87                            1  \n",
      "89                            1  \n",
      "106                          21  \n",
      "125                           1  \n",
      "126                           1  \n",
      "139                           1  \n",
      "144                           1  \n",
      "148                           1  \n",
      "151                           1  \n",
      "169                           1  \n",
      "180                           1  \n",
      "189                           1  \n"
     ]
    },
    {
     "name": "stderr",
     "output_type": "stream",
     "text": [
      "C:\\Users\\jenni\\anaconda3\\lib\\site-packages\\pandas\\core\\frame.py:3990: SettingWithCopyWarning:\n",
      "\n",
      "\n",
      "A value is trying to be set on a copy of a slice from a DataFrame\n",
      "\n",
      "See the caveats in the documentation: https://pandas.pydata.org/pandas-docs/stable/user_guide/indexing.html#returning-a-view-versus-a-copy\n",
      "\n"
     ]
    }
   ],
   "source": [
    "high_schools=schools_data[schools_data[\"category\"] == \"HIGH SCHOOLS\"]\n",
    "cols_drop=[\"category\",\"phone\",\"url\"]\n",
    "high_schools.drop(cols_drop, inplace=True, axis=1)\n",
    "print(high_schools)"
   ]
  },
  {
   "cell_type": "code",
   "execution_count": 67,
   "metadata": {},
   "outputs": [],
   "source": [
    "# Map the high school locations."
   ]
  },
  {
   "cell_type": "code",
   "execution_count": 68,
   "metadata": {
    "scrolled": true
   },
   "outputs": [
    {
     "data": {
      "application/vnd.plotly.v1+json": {
       "config": {
        "plotlyServerURL": "https://plot.ly"
       },
       "data": [
        {
         "customdata": [
          [
           "-77.1301017226",
           "39.0253918855"
          ],
          [
           "-77.0889699717",
           "38.9868264765"
          ],
          [
           "-77.1276727865",
           "38.9816307564"
          ],
          [
           "-77.4187801451",
           "39.1431033716"
          ],
          [
           "-77.1831974358",
           "39.0765821359"
          ],
          [
           "-77.1182723989",
           "39.0863478113"
          ],
          [
           "-77.1457297834",
           "39.0772920776"
          ],
          [
           "-77.1731281364",
           "39.0443047898"
          ],
          [
           "-77.1188059149",
           "39.1313109818"
          ],
          [
           "-77.018771801",
           "39.148342372"
          ],
          [
           "-76.9471015401",
           "39.0886791828"
          ],
          [
           "-77.2655866221",
           "39.225501825"
          ],
          [
           "-77.2100198748",
           "39.2824956463"
          ],
          [
           "-77.2643319443",
           "39.1750937217"
          ],
          [
           "-77.2793294162",
           "39.1515925975"
          ],
          [
           "-77.1954776183",
           "39.1348394458"
          ],
          [
           "-77.254239085",
           "39.1159327009"
          ],
          [
           "-77.215836205",
           "39.183966701"
          ],
          [
           "-77.0670360163",
           "39.0396158925"
          ],
          [
           "-77.0224839838",
           "39.0356942671"
          ],
          [
           "-77.0124342871",
           "39.0182729296"
          ],
          [
           "-77.039027838",
           "39.0657502712"
          ],
          [
           "-77.0056814998",
           "39.0578019375"
          ],
          [
           "-77.0175061321",
           "39.1133304559"
          ],
          [
           "-77.0666690813",
           "39.0613378725"
          ]
         ],
         "geo": "geo",
         "hovertemplate": "<b>%{hovertext}</b><br><br><extra></extra>",
         "hovertext": [
          "Walter Johnson HS",
          "Bethesda-Chevy Chase HS",
          "Walt Whitman HS",
          "Poolesville HS",
          "Thomas S Wootton HS",
          "Rockville HS",
          "Richard Montgomery HS",
          "Winston Churchill HS",
          "Col Zadok Magruder HS",
          "Sherwood HS",
          "Paint Branch HS",
          "Clarksburg HS",
          "Damascus HS",
          "Seneca Valley HS",
          "Northwest HS",
          "Gaithersburg HS",
          "Quince Orchard HS",
          "Watkins Mill HS",
          "Albert Einstein HS",
          "Northwood HS",
          "Montgomery Blair HS",
          "John F Kennedy HS",
          "Springbrook HS",
          "James Hubert Blake HS",
          "Wheaton HS"
         ],
         "lat": [
          "39.0253918855",
          "38.9868264765",
          "38.9816307564",
          "39.1431033716",
          "39.0765821359",
          "39.0863478113",
          "39.0772920776",
          "39.0443047898",
          "39.1313109818",
          "39.148342372",
          "39.0886791828",
          "39.225501825",
          "39.2824956463",
          "39.1750937217",
          "39.1515925975",
          "39.1348394458",
          "39.1159327009",
          "39.183966701",
          "39.0396158925",
          "39.0356942671",
          "39.0182729296",
          "39.0657502712",
          "39.0578019375",
          "39.1133304559",
          "39.0613378725"
         ],
         "legendgroup": "",
         "lon": [
          "-77.1301017226",
          "-77.0889699717",
          "-77.1276727865",
          "-77.4187801451",
          "-77.1831974358",
          "-77.1182723989",
          "-77.1457297834",
          "-77.1731281364",
          "-77.1188059149",
          "-77.018771801",
          "-76.9471015401",
          "-77.2655866221",
          "-77.2100198748",
          "-77.2643319443",
          "-77.2793294162",
          "-77.1954776183",
          "-77.254239085",
          "-77.215836205",
          "-77.0670360163",
          "-77.0224839838",
          "-77.0124342871",
          "-77.039027838",
          "-77.0056814998",
          "-77.0175061321",
          "-77.0666690813"
         ],
         "marker": {
          "color": "#636efa"
         },
         "name": "",
         "showlegend": false,
         "type": "scattergeo"
        }
       ],
       "layout": {
        "geo": {
         "center": {
          "lat": 39.098,
          "lon": -77.14
         },
         "domain": {
          "x": [
           0,
           1
          ],
          "y": [
           0,
           1
          ]
         },
         "projection": {
          "type": "albers usa"
         }
        },
        "legend": {
         "tracegroupgap": 0
        },
        "margin": {
         "t": 60
        },
        "template": {
         "data": {
          "bar": [
           {
            "error_x": {
             "color": "#2a3f5f"
            },
            "error_y": {
             "color": "#2a3f5f"
            },
            "marker": {
             "line": {
              "color": "#E5ECF6",
              "width": 0.5
             }
            },
            "type": "bar"
           }
          ],
          "barpolar": [
           {
            "marker": {
             "line": {
              "color": "#E5ECF6",
              "width": 0.5
             }
            },
            "type": "barpolar"
           }
          ],
          "carpet": [
           {
            "aaxis": {
             "endlinecolor": "#2a3f5f",
             "gridcolor": "white",
             "linecolor": "white",
             "minorgridcolor": "white",
             "startlinecolor": "#2a3f5f"
            },
            "baxis": {
             "endlinecolor": "#2a3f5f",
             "gridcolor": "white",
             "linecolor": "white",
             "minorgridcolor": "white",
             "startlinecolor": "#2a3f5f"
            },
            "type": "carpet"
           }
          ],
          "choropleth": [
           {
            "colorbar": {
             "outlinewidth": 0,
             "ticks": ""
            },
            "type": "choropleth"
           }
          ],
          "contour": [
           {
            "colorbar": {
             "outlinewidth": 0,
             "ticks": ""
            },
            "colorscale": [
             [
              0,
              "#0d0887"
             ],
             [
              0.1111111111111111,
              "#46039f"
             ],
             [
              0.2222222222222222,
              "#7201a8"
             ],
             [
              0.3333333333333333,
              "#9c179e"
             ],
             [
              0.4444444444444444,
              "#bd3786"
             ],
             [
              0.5555555555555556,
              "#d8576b"
             ],
             [
              0.6666666666666666,
              "#ed7953"
             ],
             [
              0.7777777777777778,
              "#fb9f3a"
             ],
             [
              0.8888888888888888,
              "#fdca26"
             ],
             [
              1,
              "#f0f921"
             ]
            ],
            "type": "contour"
           }
          ],
          "contourcarpet": [
           {
            "colorbar": {
             "outlinewidth": 0,
             "ticks": ""
            },
            "type": "contourcarpet"
           }
          ],
          "heatmap": [
           {
            "colorbar": {
             "outlinewidth": 0,
             "ticks": ""
            },
            "colorscale": [
             [
              0,
              "#0d0887"
             ],
             [
              0.1111111111111111,
              "#46039f"
             ],
             [
              0.2222222222222222,
              "#7201a8"
             ],
             [
              0.3333333333333333,
              "#9c179e"
             ],
             [
              0.4444444444444444,
              "#bd3786"
             ],
             [
              0.5555555555555556,
              "#d8576b"
             ],
             [
              0.6666666666666666,
              "#ed7953"
             ],
             [
              0.7777777777777778,
              "#fb9f3a"
             ],
             [
              0.8888888888888888,
              "#fdca26"
             ],
             [
              1,
              "#f0f921"
             ]
            ],
            "type": "heatmap"
           }
          ],
          "heatmapgl": [
           {
            "colorbar": {
             "outlinewidth": 0,
             "ticks": ""
            },
            "colorscale": [
             [
              0,
              "#0d0887"
             ],
             [
              0.1111111111111111,
              "#46039f"
             ],
             [
              0.2222222222222222,
              "#7201a8"
             ],
             [
              0.3333333333333333,
              "#9c179e"
             ],
             [
              0.4444444444444444,
              "#bd3786"
             ],
             [
              0.5555555555555556,
              "#d8576b"
             ],
             [
              0.6666666666666666,
              "#ed7953"
             ],
             [
              0.7777777777777778,
              "#fb9f3a"
             ],
             [
              0.8888888888888888,
              "#fdca26"
             ],
             [
              1,
              "#f0f921"
             ]
            ],
            "type": "heatmapgl"
           }
          ],
          "histogram": [
           {
            "marker": {
             "colorbar": {
              "outlinewidth": 0,
              "ticks": ""
             }
            },
            "type": "histogram"
           }
          ],
          "histogram2d": [
           {
            "colorbar": {
             "outlinewidth": 0,
             "ticks": ""
            },
            "colorscale": [
             [
              0,
              "#0d0887"
             ],
             [
              0.1111111111111111,
              "#46039f"
             ],
             [
              0.2222222222222222,
              "#7201a8"
             ],
             [
              0.3333333333333333,
              "#9c179e"
             ],
             [
              0.4444444444444444,
              "#bd3786"
             ],
             [
              0.5555555555555556,
              "#d8576b"
             ],
             [
              0.6666666666666666,
              "#ed7953"
             ],
             [
              0.7777777777777778,
              "#fb9f3a"
             ],
             [
              0.8888888888888888,
              "#fdca26"
             ],
             [
              1,
              "#f0f921"
             ]
            ],
            "type": "histogram2d"
           }
          ],
          "histogram2dcontour": [
           {
            "colorbar": {
             "outlinewidth": 0,
             "ticks": ""
            },
            "colorscale": [
             [
              0,
              "#0d0887"
             ],
             [
              0.1111111111111111,
              "#46039f"
             ],
             [
              0.2222222222222222,
              "#7201a8"
             ],
             [
              0.3333333333333333,
              "#9c179e"
             ],
             [
              0.4444444444444444,
              "#bd3786"
             ],
             [
              0.5555555555555556,
              "#d8576b"
             ],
             [
              0.6666666666666666,
              "#ed7953"
             ],
             [
              0.7777777777777778,
              "#fb9f3a"
             ],
             [
              0.8888888888888888,
              "#fdca26"
             ],
             [
              1,
              "#f0f921"
             ]
            ],
            "type": "histogram2dcontour"
           }
          ],
          "mesh3d": [
           {
            "colorbar": {
             "outlinewidth": 0,
             "ticks": ""
            },
            "type": "mesh3d"
           }
          ],
          "parcoords": [
           {
            "line": {
             "colorbar": {
              "outlinewidth": 0,
              "ticks": ""
             }
            },
            "type": "parcoords"
           }
          ],
          "pie": [
           {
            "automargin": true,
            "type": "pie"
           }
          ],
          "scatter": [
           {
            "marker": {
             "colorbar": {
              "outlinewidth": 0,
              "ticks": ""
             }
            },
            "type": "scatter"
           }
          ],
          "scatter3d": [
           {
            "line": {
             "colorbar": {
              "outlinewidth": 0,
              "ticks": ""
             }
            },
            "marker": {
             "colorbar": {
              "outlinewidth": 0,
              "ticks": ""
             }
            },
            "type": "scatter3d"
           }
          ],
          "scattercarpet": [
           {
            "marker": {
             "colorbar": {
              "outlinewidth": 0,
              "ticks": ""
             }
            },
            "type": "scattercarpet"
           }
          ],
          "scattergeo": [
           {
            "marker": {
             "colorbar": {
              "outlinewidth": 0,
              "ticks": ""
             }
            },
            "type": "scattergeo"
           }
          ],
          "scattergl": [
           {
            "marker": {
             "colorbar": {
              "outlinewidth": 0,
              "ticks": ""
             }
            },
            "type": "scattergl"
           }
          ],
          "scattermapbox": [
           {
            "marker": {
             "colorbar": {
              "outlinewidth": 0,
              "ticks": ""
             }
            },
            "type": "scattermapbox"
           }
          ],
          "scatterpolar": [
           {
            "marker": {
             "colorbar": {
              "outlinewidth": 0,
              "ticks": ""
             }
            },
            "type": "scatterpolar"
           }
          ],
          "scatterpolargl": [
           {
            "marker": {
             "colorbar": {
              "outlinewidth": 0,
              "ticks": ""
             }
            },
            "type": "scatterpolargl"
           }
          ],
          "scatterternary": [
           {
            "marker": {
             "colorbar": {
              "outlinewidth": 0,
              "ticks": ""
             }
            },
            "type": "scatterternary"
           }
          ],
          "surface": [
           {
            "colorbar": {
             "outlinewidth": 0,
             "ticks": ""
            },
            "colorscale": [
             [
              0,
              "#0d0887"
             ],
             [
              0.1111111111111111,
              "#46039f"
             ],
             [
              0.2222222222222222,
              "#7201a8"
             ],
             [
              0.3333333333333333,
              "#9c179e"
             ],
             [
              0.4444444444444444,
              "#bd3786"
             ],
             [
              0.5555555555555556,
              "#d8576b"
             ],
             [
              0.6666666666666666,
              "#ed7953"
             ],
             [
              0.7777777777777778,
              "#fb9f3a"
             ],
             [
              0.8888888888888888,
              "#fdca26"
             ],
             [
              1,
              "#f0f921"
             ]
            ],
            "type": "surface"
           }
          ],
          "table": [
           {
            "cells": {
             "fill": {
              "color": "#EBF0F8"
             },
             "line": {
              "color": "white"
             }
            },
            "header": {
             "fill": {
              "color": "#C8D4E3"
             },
             "line": {
              "color": "white"
             }
            },
            "type": "table"
           }
          ]
         },
         "layout": {
          "annotationdefaults": {
           "arrowcolor": "#2a3f5f",
           "arrowhead": 0,
           "arrowwidth": 1
          },
          "coloraxis": {
           "colorbar": {
            "outlinewidth": 0,
            "ticks": ""
           }
          },
          "colorscale": {
           "diverging": [
            [
             0,
             "#8e0152"
            ],
            [
             0.1,
             "#c51b7d"
            ],
            [
             0.2,
             "#de77ae"
            ],
            [
             0.3,
             "#f1b6da"
            ],
            [
             0.4,
             "#fde0ef"
            ],
            [
             0.5,
             "#f7f7f7"
            ],
            [
             0.6,
             "#e6f5d0"
            ],
            [
             0.7,
             "#b8e186"
            ],
            [
             0.8,
             "#7fbc41"
            ],
            [
             0.9,
             "#4d9221"
            ],
            [
             1,
             "#276419"
            ]
           ],
           "sequential": [
            [
             0,
             "#0d0887"
            ],
            [
             0.1111111111111111,
             "#46039f"
            ],
            [
             0.2222222222222222,
             "#7201a8"
            ],
            [
             0.3333333333333333,
             "#9c179e"
            ],
            [
             0.4444444444444444,
             "#bd3786"
            ],
            [
             0.5555555555555556,
             "#d8576b"
            ],
            [
             0.6666666666666666,
             "#ed7953"
            ],
            [
             0.7777777777777778,
             "#fb9f3a"
            ],
            [
             0.8888888888888888,
             "#fdca26"
            ],
            [
             1,
             "#f0f921"
            ]
           ],
           "sequentialminus": [
            [
             0,
             "#0d0887"
            ],
            [
             0.1111111111111111,
             "#46039f"
            ],
            [
             0.2222222222222222,
             "#7201a8"
            ],
            [
             0.3333333333333333,
             "#9c179e"
            ],
            [
             0.4444444444444444,
             "#bd3786"
            ],
            [
             0.5555555555555556,
             "#d8576b"
            ],
            [
             0.6666666666666666,
             "#ed7953"
            ],
            [
             0.7777777777777778,
             "#fb9f3a"
            ],
            [
             0.8888888888888888,
             "#fdca26"
            ],
            [
             1,
             "#f0f921"
            ]
           ]
          },
          "colorway": [
           "#636efa",
           "#EF553B",
           "#00cc96",
           "#ab63fa",
           "#FFA15A",
           "#19d3f3",
           "#FF6692",
           "#B6E880",
           "#FF97FF",
           "#FECB52"
          ],
          "font": {
           "color": "#2a3f5f"
          },
          "geo": {
           "bgcolor": "white",
           "lakecolor": "white",
           "landcolor": "#E5ECF6",
           "showlakes": true,
           "showland": true,
           "subunitcolor": "white"
          },
          "hoverlabel": {
           "align": "left"
          },
          "hovermode": "closest",
          "mapbox": {
           "style": "light"
          },
          "paper_bgcolor": "white",
          "plot_bgcolor": "#E5ECF6",
          "polar": {
           "angularaxis": {
            "gridcolor": "white",
            "linecolor": "white",
            "ticks": ""
           },
           "bgcolor": "#E5ECF6",
           "radialaxis": {
            "gridcolor": "white",
            "linecolor": "white",
            "ticks": ""
           }
          },
          "scene": {
           "xaxis": {
            "backgroundcolor": "#E5ECF6",
            "gridcolor": "white",
            "gridwidth": 2,
            "linecolor": "white",
            "showbackground": true,
            "ticks": "",
            "zerolinecolor": "white"
           },
           "yaxis": {
            "backgroundcolor": "#E5ECF6",
            "gridcolor": "white",
            "gridwidth": 2,
            "linecolor": "white",
            "showbackground": true,
            "ticks": "",
            "zerolinecolor": "white"
           },
           "zaxis": {
            "backgroundcolor": "#E5ECF6",
            "gridcolor": "white",
            "gridwidth": 2,
            "linecolor": "white",
            "showbackground": true,
            "ticks": "",
            "zerolinecolor": "white"
           }
          },
          "shapedefaults": {
           "line": {
            "color": "#2a3f5f"
           }
          },
          "ternary": {
           "aaxis": {
            "gridcolor": "white",
            "linecolor": "white",
            "ticks": ""
           },
           "baxis": {
            "gridcolor": "white",
            "linecolor": "white",
            "ticks": ""
           },
           "bgcolor": "#E5ECF6",
           "caxis": {
            "gridcolor": "white",
            "linecolor": "white",
            "ticks": ""
           }
          },
          "title": {
           "x": 0.05
          },
          "xaxis": {
           "automargin": true,
           "gridcolor": "white",
           "linecolor": "white",
           "ticks": "",
           "title": {
            "standoff": 15
           },
           "zerolinecolor": "white",
           "zerolinewidth": 2
          },
          "yaxis": {
           "automargin": true,
           "gridcolor": "white",
           "linecolor": "white",
           "ticks": "",
           "title": {
            "standoff": 15
           },
           "zerolinecolor": "white",
           "zerolinewidth": 2
          }
         }
        }
       }
      },
      "text/html": [
       "<div>                            <div id=\"957252b4-b2ab-45e2-be0f-94e47bff02d1\" class=\"plotly-graph-div\" style=\"height:525px; width:100%;\"></div>            <script type=\"text/javascript\">                require([\"plotly\"], function(Plotly) {                    window.PLOTLYENV=window.PLOTLYENV || {};                                    if (document.getElementById(\"957252b4-b2ab-45e2-be0f-94e47bff02d1\")) {                    Plotly.newPlot(                        \"957252b4-b2ab-45e2-be0f-94e47bff02d1\",                        [{\"customdata\": [[\"-77.1301017226\", \"39.0253918855\"], [\"-77.0889699717\", \"38.9868264765\"], [\"-77.1276727865\", \"38.9816307564\"], [\"-77.4187801451\", \"39.1431033716\"], [\"-77.1831974358\", \"39.0765821359\"], [\"-77.1182723989\", \"39.0863478113\"], [\"-77.1457297834\", \"39.0772920776\"], [\"-77.1731281364\", \"39.0443047898\"], [\"-77.1188059149\", \"39.1313109818\"], [\"-77.018771801\", \"39.148342372\"], [\"-76.9471015401\", \"39.0886791828\"], [\"-77.2655866221\", \"39.225501825\"], [\"-77.2100198748\", \"39.2824956463\"], [\"-77.2643319443\", \"39.1750937217\"], [\"-77.2793294162\", \"39.1515925975\"], [\"-77.1954776183\", \"39.1348394458\"], [\"-77.254239085\", \"39.1159327009\"], [\"-77.215836205\", \"39.183966701\"], [\"-77.0670360163\", \"39.0396158925\"], [\"-77.0224839838\", \"39.0356942671\"], [\"-77.0124342871\", \"39.0182729296\"], [\"-77.039027838\", \"39.0657502712\"], [\"-77.0056814998\", \"39.0578019375\"], [\"-77.0175061321\", \"39.1133304559\"], [\"-77.0666690813\", \"39.0613378725\"]], \"geo\": \"geo\", \"hovertemplate\": \"<b>%{hovertext}</b><br><br><extra></extra>\", \"hovertext\": [\"Walter Johnson HS\", \"Bethesda-Chevy Chase HS\", \"Walt Whitman HS\", \"Poolesville HS\", \"Thomas S Wootton HS\", \"Rockville HS\", \"Richard Montgomery HS\", \"Winston Churchill HS\", \"Col Zadok Magruder HS\", \"Sherwood HS\", \"Paint Branch HS\", \"Clarksburg HS\", \"Damascus HS\", \"Seneca Valley HS\", \"Northwest HS\", \"Gaithersburg HS\", \"Quince Orchard HS\", \"Watkins Mill HS\", \"Albert Einstein HS\", \"Northwood HS\", \"Montgomery Blair HS\", \"John F Kennedy HS\", \"Springbrook HS\", \"James Hubert Blake HS\", \"Wheaton HS\"], \"lat\": [\"39.0253918855\", \"38.9868264765\", \"38.9816307564\", \"39.1431033716\", \"39.0765821359\", \"39.0863478113\", \"39.0772920776\", \"39.0443047898\", \"39.1313109818\", \"39.148342372\", \"39.0886791828\", \"39.225501825\", \"39.2824956463\", \"39.1750937217\", \"39.1515925975\", \"39.1348394458\", \"39.1159327009\", \"39.183966701\", \"39.0396158925\", \"39.0356942671\", \"39.0182729296\", \"39.0657502712\", \"39.0578019375\", \"39.1133304559\", \"39.0613378725\"], \"legendgroup\": \"\", \"lon\": [\"-77.1301017226\", \"-77.0889699717\", \"-77.1276727865\", \"-77.4187801451\", \"-77.1831974358\", \"-77.1182723989\", \"-77.1457297834\", \"-77.1731281364\", \"-77.1188059149\", \"-77.018771801\", \"-76.9471015401\", \"-77.2655866221\", \"-77.2100198748\", \"-77.2643319443\", \"-77.2793294162\", \"-77.1954776183\", \"-77.254239085\", \"-77.215836205\", \"-77.0670360163\", \"-77.0224839838\", \"-77.0124342871\", \"-77.039027838\", \"-77.0056814998\", \"-77.0175061321\", \"-77.0666690813\"], \"marker\": {\"color\": \"#636efa\"}, \"name\": \"\", \"showlegend\": false, \"type\": \"scattergeo\"}],                        {\"geo\": {\"center\": {\"lat\": 39.098, \"lon\": -77.14}, \"domain\": {\"x\": [0.0, 1.0], \"y\": [0.0, 1.0]}, \"projection\": {\"type\": \"albers usa\"}}, \"legend\": {\"tracegroupgap\": 0}, \"margin\": {\"t\": 60}, \"template\": {\"data\": {\"bar\": [{\"error_x\": {\"color\": \"#2a3f5f\"}, \"error_y\": {\"color\": \"#2a3f5f\"}, \"marker\": {\"line\": {\"color\": \"#E5ECF6\", \"width\": 0.5}}, \"type\": \"bar\"}], \"barpolar\": [{\"marker\": {\"line\": {\"color\": \"#E5ECF6\", \"width\": 0.5}}, \"type\": \"barpolar\"}], \"carpet\": [{\"aaxis\": {\"endlinecolor\": \"#2a3f5f\", \"gridcolor\": \"white\", \"linecolor\": \"white\", \"minorgridcolor\": \"white\", \"startlinecolor\": \"#2a3f5f\"}, \"baxis\": {\"endlinecolor\": \"#2a3f5f\", \"gridcolor\": \"white\", \"linecolor\": \"white\", \"minorgridcolor\": \"white\", \"startlinecolor\": \"#2a3f5f\"}, \"type\": \"carpet\"}], \"choropleth\": [{\"colorbar\": {\"outlinewidth\": 0, \"ticks\": \"\"}, \"type\": \"choropleth\"}], \"contour\": [{\"colorbar\": {\"outlinewidth\": 0, \"ticks\": \"\"}, \"colorscale\": [[0.0, \"#0d0887\"], [0.1111111111111111, \"#46039f\"], [0.2222222222222222, \"#7201a8\"], [0.3333333333333333, \"#9c179e\"], [0.4444444444444444, \"#bd3786\"], [0.5555555555555556, \"#d8576b\"], [0.6666666666666666, \"#ed7953\"], [0.7777777777777778, \"#fb9f3a\"], [0.8888888888888888, \"#fdca26\"], [1.0, \"#f0f921\"]], \"type\": \"contour\"}], \"contourcarpet\": [{\"colorbar\": {\"outlinewidth\": 0, \"ticks\": \"\"}, \"type\": \"contourcarpet\"}], \"heatmap\": [{\"colorbar\": {\"outlinewidth\": 0, \"ticks\": \"\"}, \"colorscale\": [[0.0, \"#0d0887\"], [0.1111111111111111, \"#46039f\"], [0.2222222222222222, \"#7201a8\"], [0.3333333333333333, \"#9c179e\"], [0.4444444444444444, \"#bd3786\"], [0.5555555555555556, \"#d8576b\"], [0.6666666666666666, \"#ed7953\"], [0.7777777777777778, \"#fb9f3a\"], [0.8888888888888888, \"#fdca26\"], [1.0, \"#f0f921\"]], \"type\": \"heatmap\"}], \"heatmapgl\": [{\"colorbar\": {\"outlinewidth\": 0, \"ticks\": \"\"}, \"colorscale\": [[0.0, \"#0d0887\"], [0.1111111111111111, \"#46039f\"], [0.2222222222222222, \"#7201a8\"], [0.3333333333333333, \"#9c179e\"], [0.4444444444444444, \"#bd3786\"], [0.5555555555555556, \"#d8576b\"], [0.6666666666666666, \"#ed7953\"], [0.7777777777777778, \"#fb9f3a\"], [0.8888888888888888, \"#fdca26\"], [1.0, \"#f0f921\"]], \"type\": \"heatmapgl\"}], \"histogram\": [{\"marker\": {\"colorbar\": {\"outlinewidth\": 0, \"ticks\": \"\"}}, \"type\": \"histogram\"}], \"histogram2d\": [{\"colorbar\": {\"outlinewidth\": 0, \"ticks\": \"\"}, \"colorscale\": [[0.0, \"#0d0887\"], [0.1111111111111111, \"#46039f\"], [0.2222222222222222, \"#7201a8\"], [0.3333333333333333, \"#9c179e\"], [0.4444444444444444, \"#bd3786\"], [0.5555555555555556, \"#d8576b\"], [0.6666666666666666, \"#ed7953\"], [0.7777777777777778, \"#fb9f3a\"], [0.8888888888888888, \"#fdca26\"], [1.0, \"#f0f921\"]], \"type\": \"histogram2d\"}], \"histogram2dcontour\": [{\"colorbar\": {\"outlinewidth\": 0, \"ticks\": \"\"}, \"colorscale\": [[0.0, \"#0d0887\"], [0.1111111111111111, \"#46039f\"], [0.2222222222222222, \"#7201a8\"], [0.3333333333333333, \"#9c179e\"], [0.4444444444444444, \"#bd3786\"], [0.5555555555555556, \"#d8576b\"], [0.6666666666666666, \"#ed7953\"], [0.7777777777777778, \"#fb9f3a\"], [0.8888888888888888, \"#fdca26\"], [1.0, \"#f0f921\"]], \"type\": \"histogram2dcontour\"}], \"mesh3d\": [{\"colorbar\": {\"outlinewidth\": 0, \"ticks\": \"\"}, \"type\": \"mesh3d\"}], \"parcoords\": [{\"line\": {\"colorbar\": {\"outlinewidth\": 0, \"ticks\": \"\"}}, \"type\": \"parcoords\"}], \"pie\": [{\"automargin\": true, \"type\": \"pie\"}], \"scatter\": [{\"marker\": {\"colorbar\": {\"outlinewidth\": 0, \"ticks\": \"\"}}, \"type\": \"scatter\"}], \"scatter3d\": [{\"line\": {\"colorbar\": {\"outlinewidth\": 0, \"ticks\": \"\"}}, \"marker\": {\"colorbar\": {\"outlinewidth\": 0, \"ticks\": \"\"}}, \"type\": \"scatter3d\"}], \"scattercarpet\": [{\"marker\": {\"colorbar\": {\"outlinewidth\": 0, \"ticks\": \"\"}}, \"type\": \"scattercarpet\"}], \"scattergeo\": [{\"marker\": {\"colorbar\": {\"outlinewidth\": 0, \"ticks\": \"\"}}, \"type\": \"scattergeo\"}], \"scattergl\": [{\"marker\": {\"colorbar\": {\"outlinewidth\": 0, \"ticks\": \"\"}}, \"type\": \"scattergl\"}], \"scattermapbox\": [{\"marker\": {\"colorbar\": {\"outlinewidth\": 0, \"ticks\": \"\"}}, \"type\": \"scattermapbox\"}], \"scatterpolar\": [{\"marker\": {\"colorbar\": {\"outlinewidth\": 0, \"ticks\": \"\"}}, \"type\": \"scatterpolar\"}], \"scatterpolargl\": [{\"marker\": {\"colorbar\": {\"outlinewidth\": 0, \"ticks\": \"\"}}, \"type\": \"scatterpolargl\"}], \"scatterternary\": [{\"marker\": {\"colorbar\": {\"outlinewidth\": 0, \"ticks\": \"\"}}, \"type\": \"scatterternary\"}], \"surface\": [{\"colorbar\": {\"outlinewidth\": 0, \"ticks\": \"\"}, \"colorscale\": [[0.0, \"#0d0887\"], [0.1111111111111111, \"#46039f\"], [0.2222222222222222, \"#7201a8\"], [0.3333333333333333, \"#9c179e\"], [0.4444444444444444, \"#bd3786\"], [0.5555555555555556, \"#d8576b\"], [0.6666666666666666, \"#ed7953\"], [0.7777777777777778, \"#fb9f3a\"], [0.8888888888888888, \"#fdca26\"], [1.0, \"#f0f921\"]], \"type\": \"surface\"}], \"table\": [{\"cells\": {\"fill\": {\"color\": \"#EBF0F8\"}, \"line\": {\"color\": \"white\"}}, \"header\": {\"fill\": {\"color\": \"#C8D4E3\"}, \"line\": {\"color\": \"white\"}}, \"type\": \"table\"}]}, \"layout\": {\"annotationdefaults\": {\"arrowcolor\": \"#2a3f5f\", \"arrowhead\": 0, \"arrowwidth\": 1}, \"coloraxis\": {\"colorbar\": {\"outlinewidth\": 0, \"ticks\": \"\"}}, \"colorscale\": {\"diverging\": [[0, \"#8e0152\"], [0.1, \"#c51b7d\"], [0.2, \"#de77ae\"], [0.3, \"#f1b6da\"], [0.4, \"#fde0ef\"], [0.5, \"#f7f7f7\"], [0.6, \"#e6f5d0\"], [0.7, \"#b8e186\"], [0.8, \"#7fbc41\"], [0.9, \"#4d9221\"], [1, \"#276419\"]], \"sequential\": [[0.0, \"#0d0887\"], [0.1111111111111111, \"#46039f\"], [0.2222222222222222, \"#7201a8\"], [0.3333333333333333, \"#9c179e\"], [0.4444444444444444, \"#bd3786\"], [0.5555555555555556, \"#d8576b\"], [0.6666666666666666, \"#ed7953\"], [0.7777777777777778, \"#fb9f3a\"], [0.8888888888888888, \"#fdca26\"], [1.0, \"#f0f921\"]], \"sequentialminus\": [[0.0, \"#0d0887\"], [0.1111111111111111, \"#46039f\"], [0.2222222222222222, \"#7201a8\"], [0.3333333333333333, \"#9c179e\"], [0.4444444444444444, \"#bd3786\"], [0.5555555555555556, \"#d8576b\"], [0.6666666666666666, \"#ed7953\"], [0.7777777777777778, \"#fb9f3a\"], [0.8888888888888888, \"#fdca26\"], [1.0, \"#f0f921\"]]}, \"colorway\": [\"#636efa\", \"#EF553B\", \"#00cc96\", \"#ab63fa\", \"#FFA15A\", \"#19d3f3\", \"#FF6692\", \"#B6E880\", \"#FF97FF\", \"#FECB52\"], \"font\": {\"color\": \"#2a3f5f\"}, \"geo\": {\"bgcolor\": \"white\", \"lakecolor\": \"white\", \"landcolor\": \"#E5ECF6\", \"showlakes\": true, \"showland\": true, \"subunitcolor\": \"white\"}, \"hoverlabel\": {\"align\": \"left\"}, \"hovermode\": \"closest\", \"mapbox\": {\"style\": \"light\"}, \"paper_bgcolor\": \"white\", \"plot_bgcolor\": \"#E5ECF6\", \"polar\": {\"angularaxis\": {\"gridcolor\": \"white\", \"linecolor\": \"white\", \"ticks\": \"\"}, \"bgcolor\": \"#E5ECF6\", \"radialaxis\": {\"gridcolor\": \"white\", \"linecolor\": \"white\", \"ticks\": \"\"}}, \"scene\": {\"xaxis\": {\"backgroundcolor\": \"#E5ECF6\", \"gridcolor\": \"white\", \"gridwidth\": 2, \"linecolor\": \"white\", \"showbackground\": true, \"ticks\": \"\", \"zerolinecolor\": \"white\"}, \"yaxis\": {\"backgroundcolor\": \"#E5ECF6\", \"gridcolor\": \"white\", \"gridwidth\": 2, \"linecolor\": \"white\", \"showbackground\": true, \"ticks\": \"\", \"zerolinecolor\": \"white\"}, \"zaxis\": {\"backgroundcolor\": \"#E5ECF6\", \"gridcolor\": \"white\", \"gridwidth\": 2, \"linecolor\": \"white\", \"showbackground\": true, \"ticks\": \"\", \"zerolinecolor\": \"white\"}}, \"shapedefaults\": {\"line\": {\"color\": \"#2a3f5f\"}}, \"ternary\": {\"aaxis\": {\"gridcolor\": \"white\", \"linecolor\": \"white\", \"ticks\": \"\"}, \"baxis\": {\"gridcolor\": \"white\", \"linecolor\": \"white\", \"ticks\": \"\"}, \"bgcolor\": \"#E5ECF6\", \"caxis\": {\"gridcolor\": \"white\", \"linecolor\": \"white\", \"ticks\": \"\"}}, \"title\": {\"x\": 0.05}, \"xaxis\": {\"automargin\": true, \"gridcolor\": \"white\", \"linecolor\": \"white\", \"ticks\": \"\", \"title\": {\"standoff\": 15}, \"zerolinecolor\": \"white\", \"zerolinewidth\": 2}, \"yaxis\": {\"automargin\": true, \"gridcolor\": \"white\", \"linecolor\": \"white\", \"ticks\": \"\", \"title\": {\"standoff\": 15}, \"zerolinecolor\": \"white\", \"zerolinewidth\": 2}}}},                        {\"responsive\": true}                    ).then(function(){\n",
       "                            \n",
       "var gd = document.getElementById('957252b4-b2ab-45e2-be0f-94e47bff02d1');\n",
       "var x = new MutationObserver(function (mutations, observer) {{\n",
       "        var display = window.getComputedStyle(gd).display;\n",
       "        if (!display || display === 'none') {{\n",
       "            console.log([gd, 'removed!']);\n",
       "            Plotly.purge(gd);\n",
       "            observer.disconnect();\n",
       "        }}\n",
       "}});\n",
       "\n",
       "// Listen for the removal of the full notebook cells\n",
       "var notebookContainer = gd.closest('#notebook-container');\n",
       "if (notebookContainer) {{\n",
       "    x.observe(notebookContainer, {childList: true});\n",
       "}}\n",
       "\n",
       "// Listen for the clearing of the current output cell\n",
       "var outputEl = gd.closest('.output');\n",
       "if (outputEl) {{\n",
       "    x.observe(outputEl, {childList: true});\n",
       "}}\n",
       "\n",
       "                        })                };                });            </script>        </div>"
      ]
     },
     "metadata": {},
     "output_type": "display_data"
    }
   ],
   "source": [
    "# Import the plotly express package\n",
    "\n",
    "import plotly.express as px\n",
    "\n",
    "fig_schools = px.scatter_geo(high_schools, \n",
    "                     lon=\"longitude\", \n",
    "                     lat=\"latitude\",\n",
    "                     # choose the map chart's projection\n",
    "                     projection=\"albers usa\",\n",
    "                     center=dict(lon=-77.14, lat=39.098),\n",
    "                     # columns which is in bold in the pop up\n",
    "                     hover_name = \"school_name\",\n",
    "                     # format of the popup not to display these columns' data\n",
    "                     hover_data = {\"longitude\": False, \"latitude\": False})\n",
    "fig_schools.show()\n",
    "\n"
   ]
  },
  {
   "cell_type": "code",
   "execution_count": 69,
   "metadata": {},
   "outputs": [],
   "source": [
    "# I'm having trouble zooming in on this map. I decided to use a different map (below) that includes streets."
   ]
  },
  {
   "cell_type": "code",
   "execution_count": 70,
   "metadata": {},
   "outputs": [
    {
     "name": "stderr",
     "output_type": "stream",
     "text": [
      "<ipython-input-70-afdd23549f67>:2: SettingWithCopyWarning:\n",
      "\n",
      "\n",
      "A value is trying to be set on a copy of a slice from a DataFrame.\n",
      "Try using .loc[row_indexer,col_indexer] = value instead\n",
      "\n",
      "See the caveats in the documentation: https://pandas.pydata.org/pandas-docs/stable/user_guide/indexing.html#returning-a-view-versus-a-copy\n",
      "\n",
      "<ipython-input-70-afdd23549f67>:3: SettingWithCopyWarning:\n",
      "\n",
      "\n",
      "A value is trying to be set on a copy of a slice from a DataFrame.\n",
      "Try using .loc[row_indexer,col_indexer] = value instead\n",
      "\n",
      "See the caveats in the documentation: https://pandas.pydata.org/pandas-docs/stable/user_guide/indexing.html#returning-a-view-versus-a-copy\n",
      "\n"
     ]
    },
    {
     "data": {
      "application/vnd.plotly.v1+json": {
       "config": {
        "plotlyServerURL": "https://plot.ly"
       },
       "data": [
        {
         "customdata": [
          [
           39.0253918855,
           -77.1301017226
          ],
          [
           38.9868264765,
           -77.0889699717
          ],
          [
           38.9816307564,
           -77.1276727865
          ],
          [
           39.1431033716,
           -77.4187801451
          ],
          [
           39.0765821359,
           -77.1831974358
          ],
          [
           39.0863478113,
           -77.1182723989
          ],
          [
           39.0772920776,
           -77.1457297834
          ],
          [
           39.0443047898,
           -77.1731281364
          ],
          [
           39.1313109818,
           -77.1188059149
          ],
          [
           39.148342372,
           -77.018771801
          ],
          [
           39.0886791828,
           -76.9471015401
          ],
          [
           39.225501825,
           -77.2655866221
          ],
          [
           39.2824956463,
           -77.2100198748
          ],
          [
           39.1750937217,
           -77.2643319443
          ],
          [
           39.1515925975,
           -77.2793294162
          ],
          [
           39.1348394458,
           -77.1954776183
          ],
          [
           39.1159327009,
           -77.254239085
          ],
          [
           39.183966701,
           -77.215836205
          ],
          [
           39.0396158925,
           -77.0670360163
          ],
          [
           39.0356942671,
           -77.0224839838
          ],
          [
           39.0182729296,
           -77.0124342871
          ],
          [
           39.0657502712,
           -77.039027838
          ],
          [
           39.0578019375,
           -77.0056814998
          ],
          [
           39.1133304559,
           -77.0175061321
          ],
          [
           39.0613378725,
           -77.0666690813
          ]
         ],
         "hovertemplate": "<b>%{hovertext}</b><br><br><extra></extra>",
         "hovertext": [
          "Walter Johnson HS",
          "Bethesda-Chevy Chase HS",
          "Walt Whitman HS",
          "Poolesville HS",
          "Thomas S Wootton HS",
          "Rockville HS",
          "Richard Montgomery HS",
          "Winston Churchill HS",
          "Col Zadok Magruder HS",
          "Sherwood HS",
          "Paint Branch HS",
          "Clarksburg HS",
          "Damascus HS",
          "Seneca Valley HS",
          "Northwest HS",
          "Gaithersburg HS",
          "Quince Orchard HS",
          "Watkins Mill HS",
          "Albert Einstein HS",
          "Northwood HS",
          "Montgomery Blair HS",
          "John F Kennedy HS",
          "Springbrook HS",
          "James Hubert Blake HS",
          "Wheaton HS"
         ],
         "lat": [
          39.0253918855,
          38.9868264765,
          38.9816307564,
          39.1431033716,
          39.0765821359,
          39.0863478113,
          39.0772920776,
          39.0443047898,
          39.1313109818,
          39.148342372,
          39.0886791828,
          39.225501825,
          39.2824956463,
          39.1750937217,
          39.1515925975,
          39.1348394458,
          39.1159327009,
          39.183966701,
          39.0396158925,
          39.0356942671,
          39.0182729296,
          39.0657502712,
          39.0578019375,
          39.1133304559,
          39.0613378725
         ],
         "legendgroup": "",
         "lon": [
          -77.1301017226,
          -77.0889699717,
          -77.1276727865,
          -77.4187801451,
          -77.1831974358,
          -77.1182723989,
          -77.1457297834,
          -77.1731281364,
          -77.1188059149,
          -77.018771801,
          -76.9471015401,
          -77.2655866221,
          -77.2100198748,
          -77.2643319443,
          -77.2793294162,
          -77.1954776183,
          -77.254239085,
          -77.215836205,
          -77.0670360163,
          -77.0224839838,
          -77.0124342871,
          -77.039027838,
          -77.0056814998,
          -77.0175061321,
          -77.0666690813
         ],
         "marker": {
          "color": "#636efa"
         },
         "mode": "markers",
         "name": "",
         "showlegend": false,
         "subplot": "mapbox",
         "type": "scattermapbox"
        }
       ],
       "layout": {
        "legend": {
         "tracegroupgap": 0
        },
        "mapbox": {
         "center": {
          "lat": 39.098041524228,
          "lon": -77.13544764961998
         },
         "domain": {
          "x": [
           0,
           1
          ],
          "y": [
           0,
           1
          ]
         },
         "style": "open-street-map",
         "zoom": 9
        },
        "margin": {
         "b": 0,
         "l": 0,
         "r": 0,
         "t": 0
        },
        "template": {
         "data": {
          "bar": [
           {
            "error_x": {
             "color": "#2a3f5f"
            },
            "error_y": {
             "color": "#2a3f5f"
            },
            "marker": {
             "line": {
              "color": "#E5ECF6",
              "width": 0.5
             }
            },
            "type": "bar"
           }
          ],
          "barpolar": [
           {
            "marker": {
             "line": {
              "color": "#E5ECF6",
              "width": 0.5
             }
            },
            "type": "barpolar"
           }
          ],
          "carpet": [
           {
            "aaxis": {
             "endlinecolor": "#2a3f5f",
             "gridcolor": "white",
             "linecolor": "white",
             "minorgridcolor": "white",
             "startlinecolor": "#2a3f5f"
            },
            "baxis": {
             "endlinecolor": "#2a3f5f",
             "gridcolor": "white",
             "linecolor": "white",
             "minorgridcolor": "white",
             "startlinecolor": "#2a3f5f"
            },
            "type": "carpet"
           }
          ],
          "choropleth": [
           {
            "colorbar": {
             "outlinewidth": 0,
             "ticks": ""
            },
            "type": "choropleth"
           }
          ],
          "contour": [
           {
            "colorbar": {
             "outlinewidth": 0,
             "ticks": ""
            },
            "colorscale": [
             [
              0,
              "#0d0887"
             ],
             [
              0.1111111111111111,
              "#46039f"
             ],
             [
              0.2222222222222222,
              "#7201a8"
             ],
             [
              0.3333333333333333,
              "#9c179e"
             ],
             [
              0.4444444444444444,
              "#bd3786"
             ],
             [
              0.5555555555555556,
              "#d8576b"
             ],
             [
              0.6666666666666666,
              "#ed7953"
             ],
             [
              0.7777777777777778,
              "#fb9f3a"
             ],
             [
              0.8888888888888888,
              "#fdca26"
             ],
             [
              1,
              "#f0f921"
             ]
            ],
            "type": "contour"
           }
          ],
          "contourcarpet": [
           {
            "colorbar": {
             "outlinewidth": 0,
             "ticks": ""
            },
            "type": "contourcarpet"
           }
          ],
          "heatmap": [
           {
            "colorbar": {
             "outlinewidth": 0,
             "ticks": ""
            },
            "colorscale": [
             [
              0,
              "#0d0887"
             ],
             [
              0.1111111111111111,
              "#46039f"
             ],
             [
              0.2222222222222222,
              "#7201a8"
             ],
             [
              0.3333333333333333,
              "#9c179e"
             ],
             [
              0.4444444444444444,
              "#bd3786"
             ],
             [
              0.5555555555555556,
              "#d8576b"
             ],
             [
              0.6666666666666666,
              "#ed7953"
             ],
             [
              0.7777777777777778,
              "#fb9f3a"
             ],
             [
              0.8888888888888888,
              "#fdca26"
             ],
             [
              1,
              "#f0f921"
             ]
            ],
            "type": "heatmap"
           }
          ],
          "heatmapgl": [
           {
            "colorbar": {
             "outlinewidth": 0,
             "ticks": ""
            },
            "colorscale": [
             [
              0,
              "#0d0887"
             ],
             [
              0.1111111111111111,
              "#46039f"
             ],
             [
              0.2222222222222222,
              "#7201a8"
             ],
             [
              0.3333333333333333,
              "#9c179e"
             ],
             [
              0.4444444444444444,
              "#bd3786"
             ],
             [
              0.5555555555555556,
              "#d8576b"
             ],
             [
              0.6666666666666666,
              "#ed7953"
             ],
             [
              0.7777777777777778,
              "#fb9f3a"
             ],
             [
              0.8888888888888888,
              "#fdca26"
             ],
             [
              1,
              "#f0f921"
             ]
            ],
            "type": "heatmapgl"
           }
          ],
          "histogram": [
           {
            "marker": {
             "colorbar": {
              "outlinewidth": 0,
              "ticks": ""
             }
            },
            "type": "histogram"
           }
          ],
          "histogram2d": [
           {
            "colorbar": {
             "outlinewidth": 0,
             "ticks": ""
            },
            "colorscale": [
             [
              0,
              "#0d0887"
             ],
             [
              0.1111111111111111,
              "#46039f"
             ],
             [
              0.2222222222222222,
              "#7201a8"
             ],
             [
              0.3333333333333333,
              "#9c179e"
             ],
             [
              0.4444444444444444,
              "#bd3786"
             ],
             [
              0.5555555555555556,
              "#d8576b"
             ],
             [
              0.6666666666666666,
              "#ed7953"
             ],
             [
              0.7777777777777778,
              "#fb9f3a"
             ],
             [
              0.8888888888888888,
              "#fdca26"
             ],
             [
              1,
              "#f0f921"
             ]
            ],
            "type": "histogram2d"
           }
          ],
          "histogram2dcontour": [
           {
            "colorbar": {
             "outlinewidth": 0,
             "ticks": ""
            },
            "colorscale": [
             [
              0,
              "#0d0887"
             ],
             [
              0.1111111111111111,
              "#46039f"
             ],
             [
              0.2222222222222222,
              "#7201a8"
             ],
             [
              0.3333333333333333,
              "#9c179e"
             ],
             [
              0.4444444444444444,
              "#bd3786"
             ],
             [
              0.5555555555555556,
              "#d8576b"
             ],
             [
              0.6666666666666666,
              "#ed7953"
             ],
             [
              0.7777777777777778,
              "#fb9f3a"
             ],
             [
              0.8888888888888888,
              "#fdca26"
             ],
             [
              1,
              "#f0f921"
             ]
            ],
            "type": "histogram2dcontour"
           }
          ],
          "mesh3d": [
           {
            "colorbar": {
             "outlinewidth": 0,
             "ticks": ""
            },
            "type": "mesh3d"
           }
          ],
          "parcoords": [
           {
            "line": {
             "colorbar": {
              "outlinewidth": 0,
              "ticks": ""
             }
            },
            "type": "parcoords"
           }
          ],
          "pie": [
           {
            "automargin": true,
            "type": "pie"
           }
          ],
          "scatter": [
           {
            "marker": {
             "colorbar": {
              "outlinewidth": 0,
              "ticks": ""
             }
            },
            "type": "scatter"
           }
          ],
          "scatter3d": [
           {
            "line": {
             "colorbar": {
              "outlinewidth": 0,
              "ticks": ""
             }
            },
            "marker": {
             "colorbar": {
              "outlinewidth": 0,
              "ticks": ""
             }
            },
            "type": "scatter3d"
           }
          ],
          "scattercarpet": [
           {
            "marker": {
             "colorbar": {
              "outlinewidth": 0,
              "ticks": ""
             }
            },
            "type": "scattercarpet"
           }
          ],
          "scattergeo": [
           {
            "marker": {
             "colorbar": {
              "outlinewidth": 0,
              "ticks": ""
             }
            },
            "type": "scattergeo"
           }
          ],
          "scattergl": [
           {
            "marker": {
             "colorbar": {
              "outlinewidth": 0,
              "ticks": ""
             }
            },
            "type": "scattergl"
           }
          ],
          "scattermapbox": [
           {
            "marker": {
             "colorbar": {
              "outlinewidth": 0,
              "ticks": ""
             }
            },
            "type": "scattermapbox"
           }
          ],
          "scatterpolar": [
           {
            "marker": {
             "colorbar": {
              "outlinewidth": 0,
              "ticks": ""
             }
            },
            "type": "scatterpolar"
           }
          ],
          "scatterpolargl": [
           {
            "marker": {
             "colorbar": {
              "outlinewidth": 0,
              "ticks": ""
             }
            },
            "type": "scatterpolargl"
           }
          ],
          "scatterternary": [
           {
            "marker": {
             "colorbar": {
              "outlinewidth": 0,
              "ticks": ""
             }
            },
            "type": "scatterternary"
           }
          ],
          "surface": [
           {
            "colorbar": {
             "outlinewidth": 0,
             "ticks": ""
            },
            "colorscale": [
             [
              0,
              "#0d0887"
             ],
             [
              0.1111111111111111,
              "#46039f"
             ],
             [
              0.2222222222222222,
              "#7201a8"
             ],
             [
              0.3333333333333333,
              "#9c179e"
             ],
             [
              0.4444444444444444,
              "#bd3786"
             ],
             [
              0.5555555555555556,
              "#d8576b"
             ],
             [
              0.6666666666666666,
              "#ed7953"
             ],
             [
              0.7777777777777778,
              "#fb9f3a"
             ],
             [
              0.8888888888888888,
              "#fdca26"
             ],
             [
              1,
              "#f0f921"
             ]
            ],
            "type": "surface"
           }
          ],
          "table": [
           {
            "cells": {
             "fill": {
              "color": "#EBF0F8"
             },
             "line": {
              "color": "white"
             }
            },
            "header": {
             "fill": {
              "color": "#C8D4E3"
             },
             "line": {
              "color": "white"
             }
            },
            "type": "table"
           }
          ]
         },
         "layout": {
          "annotationdefaults": {
           "arrowcolor": "#2a3f5f",
           "arrowhead": 0,
           "arrowwidth": 1
          },
          "coloraxis": {
           "colorbar": {
            "outlinewidth": 0,
            "ticks": ""
           }
          },
          "colorscale": {
           "diverging": [
            [
             0,
             "#8e0152"
            ],
            [
             0.1,
             "#c51b7d"
            ],
            [
             0.2,
             "#de77ae"
            ],
            [
             0.3,
             "#f1b6da"
            ],
            [
             0.4,
             "#fde0ef"
            ],
            [
             0.5,
             "#f7f7f7"
            ],
            [
             0.6,
             "#e6f5d0"
            ],
            [
             0.7,
             "#b8e186"
            ],
            [
             0.8,
             "#7fbc41"
            ],
            [
             0.9,
             "#4d9221"
            ],
            [
             1,
             "#276419"
            ]
           ],
           "sequential": [
            [
             0,
             "#0d0887"
            ],
            [
             0.1111111111111111,
             "#46039f"
            ],
            [
             0.2222222222222222,
             "#7201a8"
            ],
            [
             0.3333333333333333,
             "#9c179e"
            ],
            [
             0.4444444444444444,
             "#bd3786"
            ],
            [
             0.5555555555555556,
             "#d8576b"
            ],
            [
             0.6666666666666666,
             "#ed7953"
            ],
            [
             0.7777777777777778,
             "#fb9f3a"
            ],
            [
             0.8888888888888888,
             "#fdca26"
            ],
            [
             1,
             "#f0f921"
            ]
           ],
           "sequentialminus": [
            [
             0,
             "#0d0887"
            ],
            [
             0.1111111111111111,
             "#46039f"
            ],
            [
             0.2222222222222222,
             "#7201a8"
            ],
            [
             0.3333333333333333,
             "#9c179e"
            ],
            [
             0.4444444444444444,
             "#bd3786"
            ],
            [
             0.5555555555555556,
             "#d8576b"
            ],
            [
             0.6666666666666666,
             "#ed7953"
            ],
            [
             0.7777777777777778,
             "#fb9f3a"
            ],
            [
             0.8888888888888888,
             "#fdca26"
            ],
            [
             1,
             "#f0f921"
            ]
           ]
          },
          "colorway": [
           "#636efa",
           "#EF553B",
           "#00cc96",
           "#ab63fa",
           "#FFA15A",
           "#19d3f3",
           "#FF6692",
           "#B6E880",
           "#FF97FF",
           "#FECB52"
          ],
          "font": {
           "color": "#2a3f5f"
          },
          "geo": {
           "bgcolor": "white",
           "lakecolor": "white",
           "landcolor": "#E5ECF6",
           "showlakes": true,
           "showland": true,
           "subunitcolor": "white"
          },
          "hoverlabel": {
           "align": "left"
          },
          "hovermode": "closest",
          "mapbox": {
           "style": "light"
          },
          "paper_bgcolor": "white",
          "plot_bgcolor": "#E5ECF6",
          "polar": {
           "angularaxis": {
            "gridcolor": "white",
            "linecolor": "white",
            "ticks": ""
           },
           "bgcolor": "#E5ECF6",
           "radialaxis": {
            "gridcolor": "white",
            "linecolor": "white",
            "ticks": ""
           }
          },
          "scene": {
           "xaxis": {
            "backgroundcolor": "#E5ECF6",
            "gridcolor": "white",
            "gridwidth": 2,
            "linecolor": "white",
            "showbackground": true,
            "ticks": "",
            "zerolinecolor": "white"
           },
           "yaxis": {
            "backgroundcolor": "#E5ECF6",
            "gridcolor": "white",
            "gridwidth": 2,
            "linecolor": "white",
            "showbackground": true,
            "ticks": "",
            "zerolinecolor": "white"
           },
           "zaxis": {
            "backgroundcolor": "#E5ECF6",
            "gridcolor": "white",
            "gridwidth": 2,
            "linecolor": "white",
            "showbackground": true,
            "ticks": "",
            "zerolinecolor": "white"
           }
          },
          "shapedefaults": {
           "line": {
            "color": "#2a3f5f"
           }
          },
          "ternary": {
           "aaxis": {
            "gridcolor": "white",
            "linecolor": "white",
            "ticks": ""
           },
           "baxis": {
            "gridcolor": "white",
            "linecolor": "white",
            "ticks": ""
           },
           "bgcolor": "#E5ECF6",
           "caxis": {
            "gridcolor": "white",
            "linecolor": "white",
            "ticks": ""
           }
          },
          "title": {
           "x": 0.05
          },
          "xaxis": {
           "automargin": true,
           "gridcolor": "white",
           "linecolor": "white",
           "ticks": "",
           "title": {
            "standoff": 15
           },
           "zerolinecolor": "white",
           "zerolinewidth": 2
          },
          "yaxis": {
           "automargin": true,
           "gridcolor": "white",
           "linecolor": "white",
           "ticks": "",
           "title": {
            "standoff": 15
           },
           "zerolinecolor": "white",
           "zerolinewidth": 2
          }
         }
        }
       }
      },
      "text/html": [
       "<div>                            <div id=\"68c585df-c4b4-4039-8a6a-b3c07c589b07\" class=\"plotly-graph-div\" style=\"height:525px; width:100%;\"></div>            <script type=\"text/javascript\">                require([\"plotly\"], function(Plotly) {                    window.PLOTLYENV=window.PLOTLYENV || {};                                    if (document.getElementById(\"68c585df-c4b4-4039-8a6a-b3c07c589b07\")) {                    Plotly.newPlot(                        \"68c585df-c4b4-4039-8a6a-b3c07c589b07\",                        [{\"customdata\": [[39.0253918855, -77.1301017226], [38.9868264765, -77.0889699717], [38.9816307564, -77.1276727865], [39.1431033716, -77.4187801451], [39.0765821359, -77.1831974358], [39.0863478113, -77.1182723989], [39.0772920776, -77.1457297834], [39.0443047898, -77.1731281364], [39.1313109818, -77.1188059149], [39.148342372, -77.018771801], [39.0886791828, -76.9471015401], [39.225501825, -77.2655866221], [39.2824956463, -77.2100198748], [39.1750937217, -77.2643319443], [39.1515925975, -77.2793294162], [39.1348394458, -77.1954776183], [39.1159327009, -77.254239085], [39.183966701, -77.215836205], [39.0396158925, -77.0670360163], [39.0356942671, -77.0224839838], [39.0182729296, -77.0124342871], [39.0657502712, -77.039027838], [39.0578019375, -77.0056814998], [39.1133304559, -77.0175061321], [39.0613378725, -77.0666690813]], \"hovertemplate\": \"<b>%{hovertext}</b><br><br><extra></extra>\", \"hovertext\": [\"Walter Johnson HS\", \"Bethesda-Chevy Chase HS\", \"Walt Whitman HS\", \"Poolesville HS\", \"Thomas S Wootton HS\", \"Rockville HS\", \"Richard Montgomery HS\", \"Winston Churchill HS\", \"Col Zadok Magruder HS\", \"Sherwood HS\", \"Paint Branch HS\", \"Clarksburg HS\", \"Damascus HS\", \"Seneca Valley HS\", \"Northwest HS\", \"Gaithersburg HS\", \"Quince Orchard HS\", \"Watkins Mill HS\", \"Albert Einstein HS\", \"Northwood HS\", \"Montgomery Blair HS\", \"John F Kennedy HS\", \"Springbrook HS\", \"James Hubert Blake HS\", \"Wheaton HS\"], \"lat\": [39.0253918855, 38.9868264765, 38.9816307564, 39.1431033716, 39.0765821359, 39.0863478113, 39.0772920776, 39.0443047898, 39.1313109818, 39.148342372, 39.0886791828, 39.225501825, 39.2824956463, 39.1750937217, 39.1515925975, 39.1348394458, 39.1159327009, 39.183966701, 39.0396158925, 39.0356942671, 39.0182729296, 39.0657502712, 39.0578019375, 39.1133304559, 39.0613378725], \"legendgroup\": \"\", \"lon\": [-77.1301017226, -77.0889699717, -77.1276727865, -77.4187801451, -77.1831974358, -77.1182723989, -77.1457297834, -77.1731281364, -77.1188059149, -77.018771801, -76.9471015401, -77.2655866221, -77.2100198748, -77.2643319443, -77.2793294162, -77.1954776183, -77.254239085, -77.215836205, -77.0670360163, -77.0224839838, -77.0124342871, -77.039027838, -77.0056814998, -77.0175061321, -77.0666690813], \"marker\": {\"color\": \"#636efa\"}, \"mode\": \"markers\", \"name\": \"\", \"showlegend\": false, \"subplot\": \"mapbox\", \"type\": \"scattermapbox\"}],                        {\"legend\": {\"tracegroupgap\": 0}, \"mapbox\": {\"center\": {\"lat\": 39.098041524228, \"lon\": -77.13544764961998}, \"domain\": {\"x\": [0.0, 1.0], \"y\": [0.0, 1.0]}, \"style\": \"open-street-map\", \"zoom\": 9}, \"margin\": {\"b\": 0, \"l\": 0, \"r\": 0, \"t\": 0}, \"template\": {\"data\": {\"bar\": [{\"error_x\": {\"color\": \"#2a3f5f\"}, \"error_y\": {\"color\": \"#2a3f5f\"}, \"marker\": {\"line\": {\"color\": \"#E5ECF6\", \"width\": 0.5}}, \"type\": \"bar\"}], \"barpolar\": [{\"marker\": {\"line\": {\"color\": \"#E5ECF6\", \"width\": 0.5}}, \"type\": \"barpolar\"}], \"carpet\": [{\"aaxis\": {\"endlinecolor\": \"#2a3f5f\", \"gridcolor\": \"white\", \"linecolor\": \"white\", \"minorgridcolor\": \"white\", \"startlinecolor\": \"#2a3f5f\"}, \"baxis\": {\"endlinecolor\": \"#2a3f5f\", \"gridcolor\": \"white\", \"linecolor\": \"white\", \"minorgridcolor\": \"white\", \"startlinecolor\": \"#2a3f5f\"}, \"type\": \"carpet\"}], \"choropleth\": [{\"colorbar\": {\"outlinewidth\": 0, \"ticks\": \"\"}, \"type\": \"choropleth\"}], \"contour\": [{\"colorbar\": {\"outlinewidth\": 0, \"ticks\": \"\"}, \"colorscale\": [[0.0, \"#0d0887\"], [0.1111111111111111, \"#46039f\"], [0.2222222222222222, \"#7201a8\"], [0.3333333333333333, \"#9c179e\"], [0.4444444444444444, \"#bd3786\"], [0.5555555555555556, \"#d8576b\"], [0.6666666666666666, \"#ed7953\"], [0.7777777777777778, \"#fb9f3a\"], [0.8888888888888888, \"#fdca26\"], [1.0, \"#f0f921\"]], \"type\": \"contour\"}], \"contourcarpet\": [{\"colorbar\": {\"outlinewidth\": 0, \"ticks\": \"\"}, \"type\": \"contourcarpet\"}], \"heatmap\": [{\"colorbar\": {\"outlinewidth\": 0, \"ticks\": \"\"}, \"colorscale\": [[0.0, \"#0d0887\"], [0.1111111111111111, \"#46039f\"], [0.2222222222222222, \"#7201a8\"], [0.3333333333333333, \"#9c179e\"], [0.4444444444444444, \"#bd3786\"], [0.5555555555555556, \"#d8576b\"], [0.6666666666666666, \"#ed7953\"], [0.7777777777777778, \"#fb9f3a\"], [0.8888888888888888, \"#fdca26\"], [1.0, \"#f0f921\"]], \"type\": \"heatmap\"}], \"heatmapgl\": [{\"colorbar\": {\"outlinewidth\": 0, \"ticks\": \"\"}, \"colorscale\": [[0.0, \"#0d0887\"], [0.1111111111111111, \"#46039f\"], [0.2222222222222222, \"#7201a8\"], [0.3333333333333333, \"#9c179e\"], [0.4444444444444444, \"#bd3786\"], [0.5555555555555556, \"#d8576b\"], [0.6666666666666666, \"#ed7953\"], [0.7777777777777778, \"#fb9f3a\"], [0.8888888888888888, \"#fdca26\"], [1.0, \"#f0f921\"]], \"type\": \"heatmapgl\"}], \"histogram\": [{\"marker\": {\"colorbar\": {\"outlinewidth\": 0, \"ticks\": \"\"}}, \"type\": \"histogram\"}], \"histogram2d\": [{\"colorbar\": {\"outlinewidth\": 0, \"ticks\": \"\"}, \"colorscale\": [[0.0, \"#0d0887\"], [0.1111111111111111, \"#46039f\"], [0.2222222222222222, \"#7201a8\"], [0.3333333333333333, \"#9c179e\"], [0.4444444444444444, \"#bd3786\"], [0.5555555555555556, \"#d8576b\"], [0.6666666666666666, \"#ed7953\"], [0.7777777777777778, \"#fb9f3a\"], [0.8888888888888888, \"#fdca26\"], [1.0, \"#f0f921\"]], \"type\": \"histogram2d\"}], \"histogram2dcontour\": [{\"colorbar\": {\"outlinewidth\": 0, \"ticks\": \"\"}, \"colorscale\": [[0.0, \"#0d0887\"], [0.1111111111111111, \"#46039f\"], [0.2222222222222222, \"#7201a8\"], [0.3333333333333333, \"#9c179e\"], [0.4444444444444444, \"#bd3786\"], [0.5555555555555556, \"#d8576b\"], [0.6666666666666666, \"#ed7953\"], [0.7777777777777778, \"#fb9f3a\"], [0.8888888888888888, \"#fdca26\"], [1.0, \"#f0f921\"]], \"type\": \"histogram2dcontour\"}], \"mesh3d\": [{\"colorbar\": {\"outlinewidth\": 0, \"ticks\": \"\"}, \"type\": \"mesh3d\"}], \"parcoords\": [{\"line\": {\"colorbar\": {\"outlinewidth\": 0, \"ticks\": \"\"}}, \"type\": \"parcoords\"}], \"pie\": [{\"automargin\": true, \"type\": \"pie\"}], \"scatter\": [{\"marker\": {\"colorbar\": {\"outlinewidth\": 0, \"ticks\": \"\"}}, \"type\": \"scatter\"}], \"scatter3d\": [{\"line\": {\"colorbar\": {\"outlinewidth\": 0, \"ticks\": \"\"}}, \"marker\": {\"colorbar\": {\"outlinewidth\": 0, \"ticks\": \"\"}}, \"type\": \"scatter3d\"}], \"scattercarpet\": [{\"marker\": {\"colorbar\": {\"outlinewidth\": 0, \"ticks\": \"\"}}, \"type\": \"scattercarpet\"}], \"scattergeo\": [{\"marker\": {\"colorbar\": {\"outlinewidth\": 0, \"ticks\": \"\"}}, \"type\": \"scattergeo\"}], \"scattergl\": [{\"marker\": {\"colorbar\": {\"outlinewidth\": 0, \"ticks\": \"\"}}, \"type\": \"scattergl\"}], \"scattermapbox\": [{\"marker\": {\"colorbar\": {\"outlinewidth\": 0, \"ticks\": \"\"}}, \"type\": \"scattermapbox\"}], \"scatterpolar\": [{\"marker\": {\"colorbar\": {\"outlinewidth\": 0, \"ticks\": \"\"}}, \"type\": \"scatterpolar\"}], \"scatterpolargl\": [{\"marker\": {\"colorbar\": {\"outlinewidth\": 0, \"ticks\": \"\"}}, \"type\": \"scatterpolargl\"}], \"scatterternary\": [{\"marker\": {\"colorbar\": {\"outlinewidth\": 0, \"ticks\": \"\"}}, \"type\": \"scatterternary\"}], \"surface\": [{\"colorbar\": {\"outlinewidth\": 0, \"ticks\": \"\"}, \"colorscale\": [[0.0, \"#0d0887\"], [0.1111111111111111, \"#46039f\"], [0.2222222222222222, \"#7201a8\"], [0.3333333333333333, \"#9c179e\"], [0.4444444444444444, \"#bd3786\"], [0.5555555555555556, \"#d8576b\"], [0.6666666666666666, \"#ed7953\"], [0.7777777777777778, \"#fb9f3a\"], [0.8888888888888888, \"#fdca26\"], [1.0, \"#f0f921\"]], \"type\": \"surface\"}], \"table\": [{\"cells\": {\"fill\": {\"color\": \"#EBF0F8\"}, \"line\": {\"color\": \"white\"}}, \"header\": {\"fill\": {\"color\": \"#C8D4E3\"}, \"line\": {\"color\": \"white\"}}, \"type\": \"table\"}]}, \"layout\": {\"annotationdefaults\": {\"arrowcolor\": \"#2a3f5f\", \"arrowhead\": 0, \"arrowwidth\": 1}, \"coloraxis\": {\"colorbar\": {\"outlinewidth\": 0, \"ticks\": \"\"}}, \"colorscale\": {\"diverging\": [[0, \"#8e0152\"], [0.1, \"#c51b7d\"], [0.2, \"#de77ae\"], [0.3, \"#f1b6da\"], [0.4, \"#fde0ef\"], [0.5, \"#f7f7f7\"], [0.6, \"#e6f5d0\"], [0.7, \"#b8e186\"], [0.8, \"#7fbc41\"], [0.9, \"#4d9221\"], [1, \"#276419\"]], \"sequential\": [[0.0, \"#0d0887\"], [0.1111111111111111, \"#46039f\"], [0.2222222222222222, \"#7201a8\"], [0.3333333333333333, \"#9c179e\"], [0.4444444444444444, \"#bd3786\"], [0.5555555555555556, \"#d8576b\"], [0.6666666666666666, \"#ed7953\"], [0.7777777777777778, \"#fb9f3a\"], [0.8888888888888888, \"#fdca26\"], [1.0, \"#f0f921\"]], \"sequentialminus\": [[0.0, \"#0d0887\"], [0.1111111111111111, \"#46039f\"], [0.2222222222222222, \"#7201a8\"], [0.3333333333333333, \"#9c179e\"], [0.4444444444444444, \"#bd3786\"], [0.5555555555555556, \"#d8576b\"], [0.6666666666666666, \"#ed7953\"], [0.7777777777777778, \"#fb9f3a\"], [0.8888888888888888, \"#fdca26\"], [1.0, \"#f0f921\"]]}, \"colorway\": [\"#636efa\", \"#EF553B\", \"#00cc96\", \"#ab63fa\", \"#FFA15A\", \"#19d3f3\", \"#FF6692\", \"#B6E880\", \"#FF97FF\", \"#FECB52\"], \"font\": {\"color\": \"#2a3f5f\"}, \"geo\": {\"bgcolor\": \"white\", \"lakecolor\": \"white\", \"landcolor\": \"#E5ECF6\", \"showlakes\": true, \"showland\": true, \"subunitcolor\": \"white\"}, \"hoverlabel\": {\"align\": \"left\"}, \"hovermode\": \"closest\", \"mapbox\": {\"style\": \"light\"}, \"paper_bgcolor\": \"white\", \"plot_bgcolor\": \"#E5ECF6\", \"polar\": {\"angularaxis\": {\"gridcolor\": \"white\", \"linecolor\": \"white\", \"ticks\": \"\"}, \"bgcolor\": \"#E5ECF6\", \"radialaxis\": {\"gridcolor\": \"white\", \"linecolor\": \"white\", \"ticks\": \"\"}}, \"scene\": {\"xaxis\": {\"backgroundcolor\": \"#E5ECF6\", \"gridcolor\": \"white\", \"gridwidth\": 2, \"linecolor\": \"white\", \"showbackground\": true, \"ticks\": \"\", \"zerolinecolor\": \"white\"}, \"yaxis\": {\"backgroundcolor\": \"#E5ECF6\", \"gridcolor\": \"white\", \"gridwidth\": 2, \"linecolor\": \"white\", \"showbackground\": true, \"ticks\": \"\", \"zerolinecolor\": \"white\"}, \"zaxis\": {\"backgroundcolor\": \"#E5ECF6\", \"gridcolor\": \"white\", \"gridwidth\": 2, \"linecolor\": \"white\", \"showbackground\": true, \"ticks\": \"\", \"zerolinecolor\": \"white\"}}, \"shapedefaults\": {\"line\": {\"color\": \"#2a3f5f\"}}, \"ternary\": {\"aaxis\": {\"gridcolor\": \"white\", \"linecolor\": \"white\", \"ticks\": \"\"}, \"baxis\": {\"gridcolor\": \"white\", \"linecolor\": \"white\", \"ticks\": \"\"}, \"bgcolor\": \"#E5ECF6\", \"caxis\": {\"gridcolor\": \"white\", \"linecolor\": \"white\", \"ticks\": \"\"}}, \"title\": {\"x\": 0.05}, \"xaxis\": {\"automargin\": true, \"gridcolor\": \"white\", \"linecolor\": \"white\", \"ticks\": \"\", \"title\": {\"standoff\": 15}, \"zerolinecolor\": \"white\", \"zerolinewidth\": 2}, \"yaxis\": {\"automargin\": true, \"gridcolor\": \"white\", \"linecolor\": \"white\", \"ticks\": \"\", \"title\": {\"standoff\": 15}, \"zerolinecolor\": \"white\", \"zerolinewidth\": 2}}}},                        {\"responsive\": true}                    ).then(function(){\n",
       "                            \n",
       "var gd = document.getElementById('68c585df-c4b4-4039-8a6a-b3c07c589b07');\n",
       "var x = new MutationObserver(function (mutations, observer) {{\n",
       "        var display = window.getComputedStyle(gd).display;\n",
       "        if (!display || display === 'none') {{\n",
       "            console.log([gd, 'removed!']);\n",
       "            Plotly.purge(gd);\n",
       "            observer.disconnect();\n",
       "        }}\n",
       "}});\n",
       "\n",
       "// Listen for the removal of the full notebook cells\n",
       "var notebookContainer = gd.closest('#notebook-container');\n",
       "if (notebookContainer) {{\n",
       "    x.observe(notebookContainer, {childList: true});\n",
       "}}\n",
       "\n",
       "// Listen for the clearing of the current output cell\n",
       "var outputEl = gd.closest('.output');\n",
       "if (outputEl) {{\n",
       "    x.observe(outputEl, {childList: true});\n",
       "}}\n",
       "\n",
       "                        })                };                });            </script>        </div>"
      ]
     },
     "metadata": {},
     "output_type": "display_data"
    }
   ],
   "source": [
    "# Follow instructions from here: https://plotly.com/python/mapbox-layers/#openstreetmap-tiles-no-token-needed\n",
    "high_schools['latitude']=high_schools['latitude'].astype(float)\n",
    "high_schools['longitude']=high_schools['longitude'].astype(float)\n",
    "\n",
    "fig_schools_map = px.scatter_mapbox(high_schools, lat=\"latitude\", lon=\"longitude\", hover_name=\"school_name\", zoom=9, \n",
    "                         hover_data={\"latitude\":False, \"longitude\":False})\n",
    "fig_schools_map.update_layout(mapbox_style=\"open-street-map\")\n",
    "fig_schools_map.update_layout(margin={\"r\":0,\"t\":0,\"l\":0,\"b\":0})\n",
    "fig_schools_map.show()\n"
   ]
  },
  {
   "cell_type": "code",
   "execution_count": 71,
   "metadata": {},
   "outputs": [],
   "source": [
    "# Note To Self: I don't know what to do about the warnings (above)\n",
    "    # A value is trying to be set on a copy of a slice from a DataFrame.\n",
    "    # Try using .loc[row_indexer,col_indexer] = value instead"
   ]
  },
  {
   "cell_type": "code",
   "execution_count": 72,
   "metadata": {},
   "outputs": [],
   "source": [
    "# Note To Self: While this map is OK, I can't decide what would make it better. \n",
    "# I was not able to make the points/circles bigger.\n",
    "# I tried zooming in closer but then not all of the high schools show up.\n",
    "# I tried to get the city to display as well as the HS name but was not able to get this to work."
   ]
  },
  {
   "cell_type": "code",
   "execution_count": 73,
   "metadata": {},
   "outputs": [],
   "source": [
    "# Note To Self: I was able to clean the violation addresses in excel, upload to geocodio, then use that csv to map. \n",
    "# However, I want to be able to do this directly from the dataMontgomery API. \n",
    "\n",
    "# I tried again for the geolocation using geopy (below) following these instructions from towardsdatascience.com.\n",
    "#  https://towardsdatascience.com/pythons-geocoding-convert-a-list-of-addresses-into-a-map-f522ef513fd6\n",
    "# I think there is a limit to how many times I can use the geolocater/site though. Not sure about that. "
   ]
  },
  {
   "cell_type": "code",
   "execution_count": 74,
   "metadata": {
    "scrolled": true
   },
   "outputs": [
    {
     "data": {
      "text/html": [
       "<div>\n",
       "<style scoped>\n",
       "    .dataframe tbody tr th:only-of-type {\n",
       "        vertical-align: middle;\n",
       "    }\n",
       "\n",
       "    .dataframe tbody tr th {\n",
       "        vertical-align: top;\n",
       "    }\n",
       "\n",
       "    .dataframe thead th {\n",
       "        text-align: right;\n",
       "    }\n",
       "</style>\n",
       "<table border=\"1\" class=\"dataframe\">\n",
       "  <thead>\n",
       "    <tr style=\"text-align: right;\">\n",
       "      <th></th>\n",
       "      <th>facilityname</th>\n",
       "      <th>address</th>\n",
       "      <th>violationdate</th>\n",
       "      <th>violation</th>\n",
       "      <th>disposition</th>\n",
       "      <th>dispositiondate</th>\n",
       "    </tr>\n",
       "  </thead>\n",
       "  <tbody>\n",
       "    <tr>\n",
       "      <th>0</th>\n",
       "      <td>EL CARACOL CAFE</td>\n",
       "      <td>609 SLIGO AVE , SILVER SPRING , MARYLAND - 20910</td>\n",
       "      <td>2020-09-19T00:00:00.000</td>\n",
       "      <td>5.7 DISPLAY OF LICENSE</td>\n",
       "      <td>$100 +ALERT</td>\n",
       "      <td>NaN</td>\n",
       "    </tr>\n",
       "    <tr>\n",
       "      <th>1</th>\n",
       "      <td>MOGOTILLO RESTAURANT</td>\n",
       "      <td>7637 NEW HAMPSHIRE AVE , TAKOMA PARK , MARYLAN...</td>\n",
       "      <td>2020-09-19T00:00:00.000</td>\n",
       "      <td>5.5 RECORDS</td>\n",
       "      <td>$500 +ALERT</td>\n",
       "      <td>NaN</td>\n",
       "    </tr>\n",
       "    <tr>\n",
       "      <th>2</th>\n",
       "      <td>MOGOTILLO RESTAURANT</td>\n",
       "      <td>7637 NEW HAMPSHIRE AVE , TAKOMA PARK , MARYLAN...</td>\n",
       "      <td>2020-09-19T00:00:00.000</td>\n",
       "      <td>6.9 STORAGE</td>\n",
       "      <td>$1600 +ALERT</td>\n",
       "      <td>NaN</td>\n",
       "    </tr>\n",
       "    <tr>\n",
       "      <th>3</th>\n",
       "      <td>MOGOTILLO RESTAURANT</td>\n",
       "      <td>7637 NEW HAMPSHIRE AVE , TAKOMA PARK , MARYLAN...</td>\n",
       "      <td>2020-09-19T00:00:00.000</td>\n",
       "      <td>5.7 DISPLAY OF LICENSE</td>\n",
       "      <td>$100 +ALERT</td>\n",
       "      <td>NaN</td>\n",
       "    </tr>\n",
       "    <tr>\n",
       "      <th>4</th>\n",
       "      <td>GISELE'S CREOLE CUISINE</td>\n",
       "      <td>2407 PRICE AVENUE , SILVER SPRING , MARYLAND -...</td>\n",
       "      <td>2020-09-18T00:00:00.000</td>\n",
       "      <td>6.9 STORAGE</td>\n",
       "      <td>$400 +ALERT</td>\n",
       "      <td>NaN</td>\n",
       "    </tr>\n",
       "  </tbody>\n",
       "</table>\n",
       "</div>"
      ],
      "text/plain": [
       "              facilityname                                            address  \\\n",
       "0          EL CARACOL CAFE   609 SLIGO AVE , SILVER SPRING , MARYLAND - 20910   \n",
       "1     MOGOTILLO RESTAURANT  7637 NEW HAMPSHIRE AVE , TAKOMA PARK , MARYLAN...   \n",
       "2     MOGOTILLO RESTAURANT  7637 NEW HAMPSHIRE AVE , TAKOMA PARK , MARYLAN...   \n",
       "3     MOGOTILLO RESTAURANT  7637 NEW HAMPSHIRE AVE , TAKOMA PARK , MARYLAN...   \n",
       "4  GISELE'S CREOLE CUISINE  2407 PRICE AVENUE , SILVER SPRING , MARYLAND -...   \n",
       "\n",
       "             violationdate               violation   disposition  \\\n",
       "0  2020-09-19T00:00:00.000  5.7 DISPLAY OF LICENSE   $100 +ALERT   \n",
       "1  2020-09-19T00:00:00.000             5.5 RECORDS   $500 +ALERT   \n",
       "2  2020-09-19T00:00:00.000             6.9 STORAGE  $1600 +ALERT   \n",
       "3  2020-09-19T00:00:00.000  5.7 DISPLAY OF LICENSE   $100 +ALERT   \n",
       "4  2020-09-18T00:00:00.000             6.9 STORAGE   $400 +ALERT   \n",
       "\n",
       "  dispositiondate  \n",
       "0             NaN  \n",
       "1             NaN  \n",
       "2             NaN  \n",
       "3             NaN  \n",
       "4             NaN  "
      ]
     },
     "execution_count": 74,
     "metadata": {},
     "output_type": "execute_result"
    }
   ],
   "source": [
    "# Import the violations data set (I don't need to do this repeatedly but sometimes I am picking up here when I start again)\n",
    "violations_data = pd.DataFrame(requests.get(\"https://data.montgomerycountymd.gov/resource/4tja-rkhg.json\").json())\n",
    "violations_data.head()"
   ]
  },
  {
   "cell_type": "code",
   "execution_count": 75,
   "metadata": {},
   "outputs": [],
   "source": [
    "# I had to pip install geopy on the cmd line to get this to work.\n",
    "from geopy.geocoders import Nominatim\n",
    "geolocator = Nominatim(user_agent=\"sample app\")\n",
    "# Apply geolocator.geocode to the address column\n",
    "violations_data[\"location\"]=violations_data[\"address\"].apply(geolocator.geocode)"
   ]
  },
  {
   "cell_type": "code",
   "execution_count": 76,
   "metadata": {},
   "outputs": [],
   "source": [
    "violations_data[\"point\"]=violations_data[\"location\"].apply(lambda loc: tuple(loc.point) if loc else None)"
   ]
  },
  {
   "cell_type": "code",
   "execution_count": 77,
   "metadata": {},
   "outputs": [],
   "source": [
    "# Then pull the values into 3 diff vars (the 3rd one is altitude)"
   ]
  },
  {
   "cell_type": "code",
   "execution_count": 78,
   "metadata": {},
   "outputs": [],
   "source": [
    "violations_data[[\"latitude\", \"longitude\", \"altitude\"]] = pd.DataFrame(violations_data[\"point\"].to_list(), index=violations_data.index)"
   ]
  },
  {
   "cell_type": "code",
   "execution_count": 79,
   "metadata": {},
   "outputs": [
    {
     "data": {
      "application/vnd.plotly.v1+json": {
       "config": {
        "plotlyServerURL": "https://plot.ly"
       },
       "data": [
        {
         "customdata": [
          [
           38.99138597377822,
           -77.01326413525605
          ],
          [
           38.98697573079014,
           -76.98814714615902
          ],
          [
           38.98697573079014,
           -76.98814714615902
          ],
          [
           38.98697573079014,
           -76.98814714615902
          ],
          [
           null,
           null
          ],
          [
           39.123894914438225,
           -77.23474192889417
          ],
          [
           39.123894914438225,
           -77.23474192889417
          ],
          [
           39.1755424,
           -77.2735302
          ],
          [
           null,
           null
          ],
          [
           39.0852353,
           -77.1520479
          ],
          [
           38.98927069387755,
           -77.09833110204082
          ],
          [
           38.98927069387755,
           -77.09833110204082
          ],
          [
           38.987118462105684,
           -77.09612400455666
          ],
          [
           38.987118462105684,
           -77.09612400455666
          ],
          [
           38.98985604616847,
           -77.09749100369302
          ],
          [
           38.9891129,
           -77.0964201
          ],
          [
           38.9819665,
           -77.0957562
          ],
          [
           38.9814586,
           -77.0954615
          ],
          [
           38.99069373469388,
           -77.09813485714285
          ],
          [
           null,
           null
          ],
          [
           39.05643459090909,
           -77.08336809090909
          ],
          [
           39.05643459090909,
           -77.08336809090909
          ],
          [
           38.9964816,
           -77.0287784
          ],
          [
           39.057021291939925,
           -77.08160629941511
          ],
          [
           39.057021291939925,
           -77.08160629941511
          ],
          [
           39.055382785714286,
           -77.08344871428571
          ],
          [
           39.055382785714286,
           -77.08344871428571
          ],
          [
           null,
           null
          ],
          [
           39.1645596,
           -77.2735678
          ],
          [
           38.98082435294118,
           -77.09689335294118
          ],
          [
           null,
           null
          ],
          [
           null,
           null
          ],
          [
           null,
           null
          ],
          [
           39.040105,
           -77.052877
          ],
          [
           39.1515068774244,
           -77.06388213557206
          ],
          [
           null,
           null
          ],
          [
           39.147637,
           -77.067027
          ],
          [
           39.1317698,
           -77.0716129
          ],
          [
           39.149635918367345,
           -77.02648991836735
          ],
          [
           39.177414,
           -77.057955
          ],
          [
           null,
           null
          ],
          [
           null,
           null
          ],
          [
           39.147637,
           -77.067027
          ],
          [
           38.990799,
           -77.098958
          ],
          [
           38.990799,
           -77.098958
          ],
          [
           null,
           null
          ],
          [
           38.98068,
           -77.092708
          ],
          [
           38.98068,
           -77.092708
          ],
          [
           38.9444624,
           -77.1169554
          ],
          [
           38.9444624,
           -77.1169554
          ],
          [
           38.9444624,
           -77.1169554
          ],
          [
           39.01493575,
           -77.10666245
          ],
          [
           null,
           null
          ],
          [
           39.142029449999995,
           -77.19888840000002
          ],
          [
           null,
           null
          ],
          [
           null,
           null
          ],
          [
           38.98088244195773,
           -77.09943903838155
          ],
          [
           38.980879930349275,
           -77.09949884605786
          ],
          [
           38.9819987,
           -77.0968942
          ],
          [
           38.9882534,
           -77.0967105
          ],
          [
           39.1475796,
           -77.1460316
          ],
          [
           39.15411175174163,
           -77.06883812122973
          ],
          [
           38.988485795918365,
           -77.09763812244897
          ],
          [
           null,
           null
          ],
          [
           null,
           null
          ],
          [
           null,
           null
          ],
          [
           null,
           null
          ],
          [
           null,
           null
          ],
          [
           null,
           null
          ],
          [
           39.071481,
           -77.13279557142857
          ],
          [
           null,
           null
          ],
          [
           null,
           null
          ],
          [
           39.2299919,
           -77.2494971
          ],
          [
           39.2299919,
           -77.2494971
          ],
          [
           38.99612745,
           -77.03017159890564
          ],
          [
           null,
           null
          ],
          [
           null,
           null
          ],
          [
           null,
           null
          ],
          [
           null,
           null
          ],
          [
           null,
           null
          ],
          [
           null,
           null
          ],
          [
           39.1149525,
           -77.2045334
          ],
          [
           null,
           null
          ],
          [
           null,
           null
          ],
          [
           39.04067831951807,
           -77.1587549168796
          ],
          [
           39.024686,
           -77.12500800000001
          ],
          [
           39.024686,
           -77.12500800000001
          ],
          [
           39.04921628571429,
           -77.11680695918368
          ],
          [
           39.02267684691909,
           -77.12355879661723
          ],
          [
           39.02267684691909,
           -77.12355879661723
          ],
          [
           39.02267684691909,
           -77.12355879661723
          ],
          [
           39.0151244,
           -77.1189082
          ],
          [
           38.98330452133209,
           -77.09397762508787
          ],
          [
           39.02294165805497,
           -77.12374238139472
          ],
          [
           38.982224,
           -77.093446
          ],
          [
           38.982224,
           -77.093446
          ],
          [
           39.15352762735433,
           -77.06782576155013
          ],
          [
           null,
           null
          ],
          [
           null,
           null
          ],
          [
           39.15439517775158,
           -77.19669695492125
          ],
          [
           38.9820079,
           -77.0967658
          ],
          [
           38.99013795290929,
           -77.097213256232
          ],
          [
           38.988568428571426,
           -77.09685108163265
          ],
          [
           38.9819938,
           -77.0962831
          ],
          [
           38.981243,
           -77.096991
          ],
          [
           38.98999618367347,
           -77.09889428571428
          ],
          [
           38.98987755102041,
           -77.09904385714286
          ],
          [
           38.98885846938776,
           -77.09846751020409
          ],
          [
           null,
           null
          ],
          [
           null,
           null
          ],
          [
           39.06335073894634,
           -77.12750620969042
          ],
          [
           39.08462136406919,
           -77.13597436710572
          ],
          [
           39.08462136406919,
           -77.13597436710572
          ],
          [
           39.08462136406919,
           -77.13597436710572
          ],
          [
           39.093489,
           -77.1203217
          ],
          [
           38.9928644,
           -77.0263599
          ],
          [
           39.1703668,
           -77.26138270342067
          ],
          [
           38.99001675,
           -77.02653225
          ],
          [
           39.180195,
           -77.2686267
          ],
          [
           39.11725137152072,
           -77.20545429945753
          ],
          [
           39.11725137152072,
           -77.20545429945753
          ],
          [
           null,
           null
          ],
          [
           null,
           null
          ],
          [
           null,
           null
          ],
          [
           39.1723536,
           -77.2057490682522
          ],
          [
           39.1159716,
           -77.1971755
          ],
          [
           null,
           null
          ],
          [
           null,
           null
          ],
          [
           null,
           null
          ],
          [
           39.0504613,
           -77.1171829
          ],
          [
           null,
           null
          ],
          [
           null,
           null
          ],
          [
           39.07779438064628,
           -77.1401117727007
          ],
          [
           39.07779438064628,
           -77.1401117727007
          ],
          [
           39.071311785714286,
           -77.13264255102041
          ],
          [
           39.071311785714286,
           -77.13264255102041
          ],
          [
           39.06353599220674,
           -77.12528919509484
          ],
          [
           39.06353599220674,
           -77.12528919509484
          ],
          [
           39.0016961,
           -77.1096966
          ],
          [
           38.98082435294118,
           -77.09689335294118
          ],
          [
           null,
           null
          ],
          [
           null,
           null
          ],
          [
           null,
           null
          ],
          [
           null,
           null
          ],
          [
           39.05701125,
           -77.10759691916681
          ],
          [
           39.05701125,
           -77.10759691916681
          ],
          [
           39.05701125,
           -77.10759691916681
          ],
          [
           39.05701125,
           -77.10759691916681
          ],
          [
           39.05701125,
           -77.10759691916681
          ],
          [
           39.05701125,
           -77.10759691916681
          ],
          [
           39.0586561,
           -77.1213411
          ],
          [
           39.0586561,
           -77.1213411
          ],
          [
           39.0586561,
           -77.1213411
          ],
          [
           39.1421769512826,
           -77.19437246288334
          ],
          [
           38.990547,
           -77.0967539
          ],
          [
           39.147637,
           -77.067027
          ],
          [
           39.151791,
           -77.06173942857143
          ],
          [
           38.9915027,
           -77.0257357
          ],
          [
           38.9915027,
           -77.0257357
          ],
          [
           38.9915027,
           -77.0257357
          ],
          [
           38.9915027,
           -77.0257357
          ],
          [
           38.9915027,
           -77.0257357
          ],
          [
           38.993527,
           -77.026964
          ],
          [
           39.0866765,
           -77.151961
          ],
          [
           null,
           null
          ],
          [
           39.07477714327396,
           -77.1364203651608
          ],
          [
           39.07477714327396,
           -77.1364203651608
          ],
          [
           39.0847348,
           -77.1527255
          ],
          [
           39.0847348,
           -77.1527255
          ],
          [
           39.0858823,
           -77.1510647
          ],
          [
           39.0858823,
           -77.1510647
          ],
          [
           39.1218445,
           -77.235203
          ],
          [
           39.1218445,
           -77.235203
          ],
          [
           39.171714449999996,
           -77.26135151429727
          ],
          [
           39.171714449999996,
           -77.26135151429727
          ],
          [
           39.1178126,
           -77.25011829307479
          ],
          [
           39.117140020408165,
           -77.19873565306122
          ],
          [
           39.117140020408165,
           -77.19873565306122
          ],
          [
           null,
           null
          ],
          [
           null,
           null
          ],
          [
           39.08757521395991,
           -77.15044403150489
          ],
          [
           39.08757521395991,
           -77.15044403150489
          ],
          [
           null,
           null
          ],
          [
           39.10639246705118,
           -77.15811189685004
          ],
          [
           39.10639246705118,
           -77.15811189685004
          ],
          [
           39.10639246705118,
           -77.15811189685004
          ],
          [
           39.0871475,
           -77.1524065
          ],
          [
           39.0871475,
           -77.1524065
          ],
          [
           39.0871475,
           -77.1524065
          ],
          [
           39.1554675,
           -77.2087106
          ],
          [
           39.1421769512826,
           -77.19437246288334
          ],
          [
           39.1421769512826,
           -77.19437246288334
          ],
          [
           39.1421769512826,
           -77.19437246288334
          ],
          [
           null,
           null
          ],
          [
           38.99001675,
           -77.02653225
          ],
          [
           38.99001675,
           -77.02653225
          ],
          [
           39.11725137152072,
           -77.20545429945753
          ],
          [
           39.040105,
           -77.052877
          ],
          [
           38.98139,
           -77.09799081632653
          ],
          [
           39.1226905,
           -77.2326126
          ],
          [
           null,
           null
          ],
          [
           null,
           null
          ],
          [
           39.041293,
           -77.157818
          ],
          [
           39.0501787,
           -77.1161949
          ],
          [
           39.0501787,
           -77.1161949
          ],
          [
           39.0501787,
           -77.1161949
          ],
          [
           39.1089615,
           -76.9363388
          ],
          [
           38.9856873,
           -77.0961397
          ],
          [
           null,
           null
          ],
          [
           null,
           null
          ],
          [
           null,
           null
          ],
          [
           39.16203940816326,
           -77.28138046938776
          ],
          [
           39.14420567438288,
           -77.40946907431915
          ],
          [
           39.14420567438288,
           -77.40946907431915
          ],
          [
           39.0871475,
           -77.1524065
          ],
          [
           39.039860653061226,
           -77.05251273469388
          ],
          [
           null,
           null
          ],
          [
           null,
           null
          ],
          [
           38.988872,
           -77.001255
          ],
          [
           39.1421769512826,
           -77.19437246288334
          ],
          [
           39.1421769512826,
           -77.19437246288334
          ],
          [
           39.1421769512826,
           -77.19437246288334
          ],
          [
           null,
           null
          ],
          [
           38.991089136363634,
           -77.02649895454546
          ],
          [
           38.9915027,
           -77.0257357
          ],
          [
           39.1703668,
           -77.26138270342067
          ],
          [
           38.99612745,
           -77.03017159890564
          ],
          [
           39.077376948254326,
           -77.19600198769824
          ],
          [
           null,
           null
          ],
          [
           38.9968428,
           -77.0278347
          ],
          [
           null,
           null
          ],
          [
           38.9752476,
           -77.010517
          ],
          [
           null,
           null
          ],
          [
           null,
           null
          ],
          [
           38.9907043,
           -77.0236094
          ],
          [
           39.1175087,
           -77.1855122
          ],
          [
           null,
           null
          ],
          [
           38.9915027,
           -77.0257357
          ],
          [
           39.1248173,
           -77.180825
          ],
          [
           38.9971305,
           -77.0293589
          ],
          [
           39.03960890503173,
           -77.05406359112202
          ],
          [
           null,
           null
          ],
          [
           39.093489,
           -77.1203217
          ],
          [
           39.140862130649275,
           -77.22168146229096
          ],
          [
           39.1433438,
           -77.2188765
          ],
          [
           null,
           null
          ],
          [
           39.1240727,
           -77.239757
          ],
          [
           null,
           null
          ],
          [
           null,
           null
          ],
          [
           39.1110397,
           -77.1873926
          ],
          [
           38.9938453,
           -77.02899980000001
          ],
          [
           38.99151594897959,
           -77.09559670408163
          ],
          [
           38.99151594897959,
           -77.09559670408163
          ],
          [
           null,
           null
          ],
          [
           null,
           null
          ],
          [
           39.17929152966844,
           -77.24036874534242
          ],
          [
           null,
           null
          ],
          [
           38.9812558,
           -77.0958574
          ],
          [
           null,
           null
          ],
          [
           null,
           null
          ],
          [
           38.9812558,
           -77.0958574
          ],
          [
           38.9812558,
           -77.0958574
          ],
          [
           39.0318393,
           -77.0483782
          ],
          [
           39.0847348,
           -77.1527255
          ],
          [
           39.0914079,
           -77.1848878
          ],
          [
           null,
           null
          ],
          [
           39.06088666666667,
           -77.125706
          ],
          [
           39.16162908163265,
           -77.28060169387756
          ],
          [
           39.1040733,
           -77.1897983
          ],
          [
           39.1110397,
           -77.1873926
          ],
          [
           null,
           null
          ],
          [
           39.0908647,
           -77.1792262
          ],
          [
           39.1110397,
           -77.1873926
          ],
          [
           null,
           null
          ],
          [
           null,
           null
          ],
          [
           39.03356794808669,
           -77.07258890988565
          ],
          [
           39.0586561,
           -77.1213411
          ],
          [
           39.0599847,
           -77.1572139
          ],
          [
           39.06224755958698,
           -77.15927098510035
          ],
          [
           null,
           null
          ],
          [
           null,
           null
          ],
          [
           39.0604355,
           -77.1567896
          ],
          [
           null,
           null
          ],
          [
           null,
           null
          ],
          [
           39.039850379332016,
           -77.15691187838678
          ],
          [
           39.1110397,
           -77.1873926
          ],
          [
           null,
           null
          ],
          [
           39.0858823,
           -77.1510647
          ],
          [
           39.085703,
           -77.152832
          ],
          [
           null,
           null
          ],
          [
           38.991278,
           -77.014128
          ],
          [
           39.007540032786885,
           -77.03963786885247
          ],
          [
           39.007540032786885,
           -77.03963786885247
          ],
          [
           39.05096834386468,
           -77.11634615774572
          ],
          [
           39.05096834386468,
           -77.11634615774572
          ],
          [
           39.061868,
           -77.124356
          ],
          [
           39.049986,
           -77.1172258
          ],
          [
           39.0507166,
           -77.1186558
          ],
          [
           39.058673999999996,
           -77.12300285714285
          ],
          [
           39.05875628571429,
           -77.12403967346938
          ],
          [
           39.086231,
           -77.152081
          ],
          [
           null,
           null
          ],
          [
           39.1433438,
           -77.2188765
          ],
          [
           39.10498851082301,
           -77.15696220865841
          ],
          [
           39.0914079,
           -77.1848878
          ],
          [
           39.084158,
           -77.150812
          ],
          [
           39.0501787,
           -77.1161949
          ],
          [
           39.03058881283507,
           -77.08230207228249
          ],
          [
           null,
           null
          ],
          [
           null,
           null
          ],
          [
           39.116452306122454,
           -77.19804671428572
          ],
          [
           39.07475179800113,
           -77.1363852513974
          ],
          [
           39.07813790979538,
           -77.14060135025923
          ],
          [
           39.06080229671414,
           -77.12293645263843
          ],
          [
           39.07140007142857,
           -77.13272238775511
          ],
          [
           39.07140007142857,
           -77.13272238775511
          ],
          [
           39.12898395,
           -77.18536805
          ],
          [
           null,
           null
          ],
          [
           39.12723002821239,
           -77.18427923949605
          ],
          [
           39.071275,
           -77.1326092857143
          ],
          [
           39.1166494,
           -77.2165837
          ],
          [
           39.095107,
           -77.140608
          ],
          [
           39.1167066,
           -77.1979014
          ],
          [
           null,
           null
          ],
          [
           null,
           null
          ],
          [
           null,
           null
          ],
          [
           39.113162450000004,
           -77.19201825393212
          ],
          [
           null,
           null
          ],
          [
           38.99382584532019,
           -77.0255967372195
          ],
          [
           38.99261158333333,
           -77.02649013888889
          ],
          [
           null,
           null
          ],
          [
           39.1214491,
           -77.2336371
          ],
          [
           39.1491879,
           -77.2133841
          ],
          [
           38.97429655315256,
           -76.99557946603198
          ],
          [
           39.0355341,
           -77.052144
          ],
          [
           null,
           null
          ],
          [
           null,
           null
          ],
          [
           39.13577030063653,
           -77.19185448545656
          ],
          [
           39.039908,
           -77.053373
          ],
          [
           39.1178126,
           -77.25011829307479
          ],
          [
           39.1240727,
           -77.239757
          ],
          [
           39.121183215013446,
           -77.2376635314911
          ],
          [
           39.11628186556362,
           -77.20720322642677
          ],
          [
           39.039860653061226,
           -77.05251273469388
          ],
          [
           39.039860653061226,
           -77.05251273469388
          ],
          [
           38.99123070343513,
           -77.01448994459709
          ],
          [
           null,
           null
          ],
          [
           null,
           null
          ],
          [
           39.1703668,
           -77.26138270342067
          ],
          [
           null,
           null
          ],
          [
           null,
           null
          ],
          [
           38.993587,
           -77.0263765
          ],
          [
           null,
           null
          ],
          [
           null,
           null
          ],
          [
           39.16024400151952,
           -77.22245794037303
          ],
          [
           39.16382145,
           -77.2255354
          ],
          [
           39.163146850000004,
           -77.20546499782192
          ],
          [
           39.163146850000004,
           -77.20546499782192
          ],
          [
           39.163146850000004,
           -77.20546499782192
          ],
          [
           39.20227745,
           -77.25938632747882
          ],
          [
           39.1436911,
           -77.2013037
          ],
          [
           39.1779191,
           -77.2661115
          ],
          [
           null,
           null
          ],
          [
           null,
           null
          ],
          [
           null,
           null
          ],
          [
           null,
           null
          ],
          [
           null,
           null
          ],
          [
           null,
           null
          ],
          [
           39.1703668,
           -77.26138270342067
          ],
          [
           null,
           null
          ],
          [
           39.1134857,
           -77.1874205
          ],
          [
           39.1165285,
           -77.20674855767594
          ],
          [
           39.1165285,
           -77.20674855767594
          ],
          [
           39.1165285,
           -77.20674855767594
          ],
          [
           39.1159716,
           -77.1971755
          ],
          [
           39.1159716,
           -77.1971755
          ],
          [
           39.115747915680984,
           -77.20404941273483
          ],
          [
           39.152204,
           -77.1725418
          ],
          [
           39.152204,
           -77.1725418
          ],
          [
           39.152204,
           -77.1725418
          ],
          [
           null,
           null
          ],
          [
           null,
           null
          ],
          [
           39.1420895,
           -77.19599146160911
          ],
          [
           39.18543487574541,
           -77.18925939009677
          ],
          [
           null,
           null
          ],
          [
           null,
           null
          ],
          [
           null,
           null
          ],
          [
           39.1475796,
           -77.1460316
          ],
          [
           39.1475796,
           -77.1460316
          ],
          [
           39.1089615,
           -76.9363388
          ],
          [
           39.179475102208315,
           -77.23831032263958
          ],
          [
           39.18093615,
           -77.27205397084549
          ],
          [
           39.14222585,
           -77.19773386590501
          ],
          [
           39.143695,
           -77.2174621
          ],
          [
           39.15306206650691,
           -77.19867235158705
          ],
          [
           null,
           null
          ],
          [
           null,
           null
          ],
          [
           39.15439517775158,
           -77.19669695492125
          ],
          [
           39.15439517775158,
           -77.19669695492125
          ],
          [
           39.2388035,
           -77.27915975
          ],
          [
           39.2388035,
           -77.27915975
          ],
          [
           null,
           null
          ],
          [
           39.2834443058446,
           -77.21089108104601
          ],
          [
           39.2834443058446,
           -77.21089108104601
          ],
          [
           39.2834443058446,
           -77.21089108104601
          ],
          [
           39.2834443058446,
           -77.21089108104601
          ],
          [
           39.28967595,
           -77.20513162291894
          ],
          [
           39.28967595,
           -77.20513162291894
          ],
          [
           null,
           null
          ],
          [
           null,
           null
          ],
          [
           39.2379436,
           -77.2764202
          ],
          [
           39.1444302,
           -77.2185632
          ],
          [
           39.1444302,
           -77.2185632
          ],
          [
           39.1444302,
           -77.2185632
          ],
          [
           38.99261158333333,
           -77.02649013888889
          ],
          [
           38.99261158333333,
           -77.02649013888889
          ],
          [
           38.9947906,
           -77.0252185
          ],
          [
           38.9947906,
           -77.0252185
          ],
          [
           39.1500082,
           -77.012913
          ],
          [
           38.9810441,
           -77.097258
          ],
          [
           39.179475102208315,
           -77.23831032263958
          ],
          [
           39.1245655,
           -77.236983
          ],
          [
           39.1245655,
           -77.236983
          ],
          [
           39.1775673,
           -77.2382332495155
          ],
          [
           39.1231469,
           -77.2366579
          ],
          [
           39.1819021,
           -77.2652694
          ],
          [
           39.1979099,
           -77.2542768
          ],
          [
           39.180195,
           -77.2686267
          ],
          [
           39.0093475,
           -76.9796375
          ],
          [
           39.0093475,
           -76.9796375
          ],
          [
           null,
           null
          ],
          [
           null,
           null
          ],
          [
           39.061868,
           -77.124356
          ],
          [
           39.03904136734694,
           -77.05083992857143
          ],
          [
           39.0355341,
           -77.052144
          ],
          [
           null,
           null
          ],
          [
           null,
           null
          ],
          [
           39.039685530612246,
           -77.05103678571429
          ],
          [
           null,
           null
          ],
          [
           null,
           null
          ],
          [
           39.04147348979592,
           -77.04843936734694
          ],
          [
           38.9750251,
           -77.0122986
          ],
          [
           38.9750251,
           -77.0122986
          ],
          [
           38.99778167635398,
           -77.02685013818059
          ],
          [
           39.0400472,
           -77.0513606
          ],
          [
           null,
           null
          ],
          [
           null,
           null
          ],
          [
           null,
           null
          ],
          [
           39.1166494,
           -77.2165837
          ],
          [
           39.1166494,
           -77.2165837
          ],
          [
           39.0501787,
           -77.1161949
          ],
          [
           39.0501787,
           -77.1161949
          ],
          [
           39.28967595,
           -77.20513162291894
          ],
          [
           38.9914874,
           -77.0261537
          ],
          [
           null,
           null
          ],
          [
           39.03953687755102,
           -77.05099135714286
          ],
          [
           39.039685530612246,
           -77.05103678571429
          ],
          [
           39.118668,
           -77.18308436734694
          ],
          [
           39.085512,
           -77.1510615
          ],
          [
           39.085512,
           -77.1510615
          ],
          [
           39.085512,
           -77.1510615
          ],
          [
           39.1433438,
           -77.2188765
          ],
          [
           39.1433438,
           -77.2188765
          ],
          [
           39.1292598,
           -77.18565966807108
          ],
          [
           39.1292598,
           -77.18565966807108
          ],
          [
           39.1292598,
           -77.18565966807108
          ],
          [
           39.179475102208315,
           -77.23831032263958
          ],
          [
           null,
           null
          ],
          [
           39.01493575,
           -77.10666245
          ],
          [
           39.1008427,
           -77.0749673
          ],
          [
           39.085512,
           -77.1510615
          ],
          [
           39.085512,
           -77.1510615
          ],
          [
           39.085512,
           -77.1510615
          ],
          [
           39.1143509,
           -77.1708971
          ],
          [
           38.9744221879884,
           -76.9954345752674
          ],
          [
           38.9744221879884,
           -76.9954345752674
          ],
          [
           38.9744221879884,
           -76.9954345752674
          ],
          [
           38.9960146,
           -77.0283063
          ],
          [
           38.9741537,
           -77.0123738
          ],
          [
           null,
           null
          ],
          [
           39.03585,
           -77.0498435
          ],
          [
           39.03585,
           -77.0498435
          ],
          [
           39.1175087,
           -77.1855122
          ],
          [
           39.141936400000006,
           -77.19355583644284
          ],
          [
           39.1645596,
           -77.2735678
          ],
          [
           39.01493575,
           -77.10666245
          ],
          [
           null,
           null
          ],
          [
           39.01493575,
           -77.10666245
          ],
          [
           39.01493575,
           -77.10666245
          ],
          [
           null,
           null
          ],
          [
           38.99229825,
           -77.02647999999999
          ],
          [
           38.99702055,
           -77.02664820845709
          ],
          [
           null,
           null
          ],
          [
           38.993092,
           -77.026508
          ],
          [
           38.993092,
           -77.026508
          ],
          [
           38.99229825,
           -77.02647999999999
          ],
          [
           38.9876824,
           -77.0975584
          ],
          [
           38.9898183,
           -77.0979171
          ],
          [
           38.99069373469388,
           -77.09813485714285
          ],
          [
           39.093489,
           -77.1203217
          ],
          [
           39.1425576,
           -77.19342395
          ],
          [
           38.992377,
           -77.026483
          ],
          [
           38.991718,
           -77.026469
          ],
          [
           38.9956504,
           -77.0247958740113
          ],
          [
           38.99263133333333,
           -77.02649055555555
          ],
          [
           null,
           null
          ],
          [
           39.040191,
           -77.051573
          ],
          [
           39.040191,
           -77.051573
          ],
          [
           39.1226905,
           -77.2326126
          ],
          [
           39.0157402,
           -76.9776253
          ],
          [
           39.1248173,
           -77.180825
          ],
          [
           39.0914079,
           -77.1848878
          ],
          [
           38.9906014,
           -77.0298019
          ],
          [
           38.9914874,
           -77.0261537
          ],
          [
           38.98998491666667,
           -77.02653341666667
          ],
          [
           38.98998491666667,
           -77.02653341666667
          ],
          [
           38.9928644,
           -77.0263599
          ],
          [
           38.987118462105684,
           -77.09612400455666
          ],
          [
           38.988957469387756,
           -77.09863551020408
          ],
          [
           38.9979273,
           -77.0286378
          ],
          [
           38.97429655315256,
           -76.99557946603198
          ],
          [
           39.143528849999996,
           -77.21747406700663
          ],
          [
           38.9945068,
           -77.0256901
          ],
          [
           null,
           null
          ],
          [
           39.1444302,
           -77.2185632
          ],
          [
           39.008693134542355,
           -77.04087955796096
          ],
          [
           38.98996987755102,
           -77.09526446938774
          ],
          [
           38.98996987755102,
           -77.09526446938774
          ],
          [
           38.98888457142857,
           -77.09844214285715
          ],
          [
           38.989067285714285,
           -77.09826457142857
          ],
          [
           null,
           null
          ],
          [
           39.0157402,
           -76.9776253
          ],
          [
           39.0157402,
           -76.9776253
          ],
          [
           null,
           null
          ],
          [
           39.039908,
           -77.053373
          ],
          [
           39.008693134542355,
           -77.04087955796096
          ],
          [
           38.980524789473684,
           -77.09221621052632
          ],
          [
           38.980524789473684,
           -77.09221621052632
          ],
          [
           38.9831456,
           -77.0933909
          ],
          [
           38.9831456,
           -77.0933909
          ],
          [
           38.9831456,
           -77.0933909
          ],
          [
           39.15291935,
           -77.19662446028352
          ],
          [
           39.12898395,
           -77.18536805
          ],
          [
           39.1292598,
           -77.18565966807108
          ],
          [
           38.9818258,
           -77.0977274
          ],
          [
           38.98871571428572,
           -77.09767857142857
          ],
          [
           null,
           null
          ],
          [
           39.114949316853796,
           -77.20478778834352
          ],
          [
           38.9890033,
           -77.0976716
          ],
          [
           39.0211099,
           -77.0129367
          ],
          [
           39.0003696,
           -77.0173417
          ],
          [
           38.99265055,
           -77.04907723338383
          ],
          [
           39.02097874210191,
           -77.01205317034056
          ],
          [
           39.02097874210191,
           -77.01205317034056
          ],
          [
           39.021438,
           -77.011856
          ],
          [
           39.00805941891892,
           -77.04011171621622
          ],
          [
           38.993958346938776,
           -77.02253014285715
          ],
          [
           null,
           null
          ],
          [
           38.990472653061225,
           -77.02386608163266
          ],
          [
           39.182643,
           -77.109489
          ],
          [
           38.989907301939525,
           -77.09744050415466
          ],
          [
           39.0655207,
           -77.15059065488532
          ],
          [
           38.99535,
           -77.0271602
          ],
          [
           38.99535,
           -77.0271602
          ],
          [
           38.99702055,
           -77.02664820845709
          ],
          [
           39.1106369,
           -77.0755935
          ],
          [
           39.1106369,
           -77.0755935
          ],
          [
           39.1455637,
           -77.4183487
          ],
          [
           null,
           null
          ],
          [
           39.11637941524913,
           -76.96613830338183
          ],
          [
           39.11637941524913,
           -76.96613830338183
          ],
          [
           38.989600764705884,
           -77.09823832352942
          ],
          [
           null,
           null
          ],
          [
           38.9971305,
           -77.0293589
          ],
          [
           38.9888431,
           -77.1007905
          ],
          [
           38.9888061,
           -77.1007019
          ],
          [
           38.9888061,
           -77.1007019
          ],
          [
           null,
           null
          ],
          [
           38.9966583,
           -77.0302758
          ],
          [
           39.177932846153844,
           -77.27167606593406
          ],
          [
           39.1475796,
           -77.1460316
          ],
          [
           39.1459638,
           -77.4168558
          ],
          [
           39.20469475,
           -77.1404031099037
          ],
          [
           39.106375616161614,
           -77.15172032323233
          ],
          [
           39.0586561,
           -77.1213411
          ],
          [
           null,
           null
          ],
          [
           null,
           null
          ],
          [
           null,
           null
          ],
          [
           null,
           null
          ],
          [
           38.998097955261166,
           -77.03830412042966
          ],
          [
           38.998097955261166,
           -77.03830412042966
          ],
          [
           null,
           null
          ],
          [
           38.99857332332426,
           -77.03981650941807
          ],
          [
           38.9869488,
           -77.09826715006304
          ],
          [
           38.990547,
           -77.0967539
          ],
          [
           38.990547,
           -77.0967539
          ],
          [
           38.98872144897959,
           -77.09740853061224
          ],
          [
           38.980707107569046,
           -77.09980413965683
          ],
          [
           39.0157402,
           -76.9776253
          ],
          [
           38.9820079,
           -77.0967658
          ],
          [
           39.0655207,
           -77.15059065488532
          ],
          [
           39.0655207,
           -77.15059065488532
          ],
          [
           38.9811415,
           -77.097956
          ],
          [
           38.981357897959185,
           -77.09833959183673
          ],
          [
           38.981357897959185,
           -77.09833959183673
          ],
          [
           38.98139,
           -77.09799081632653
          ],
          [
           38.98139,
           -77.09799081632653
          ],
          [
           38.9819987,
           -77.0968942
          ],
          [
           38.9819987,
           -77.0968942
          ],
          [
           38.9819987,
           -77.0968942
          ],
          [
           38.9817932,
           -77.0962192
          ],
          [
           38.989907301939525,
           -77.09744050415466
          ],
          [
           39.141816285714285,
           -77.19601514285714
          ],
          [
           39.141816285714285,
           -77.19601514285714
          ],
          [
           39.141816285714285,
           -77.19601514285714
          ],
          [
           null,
           null
          ],
          [
           null,
           null
          ],
          [
           null,
           null
          ],
          [
           39.0214162,
           -77.1399852
          ],
          [
           39.0214162,
           -77.1399852
          ],
          [
           39.0214162,
           -77.1399852
          ],
          [
           null,
           null
          ],
          [
           39.03356794808669,
           -77.07258890988565
          ],
          [
           39.05643459090909,
           -77.08336809090909
          ],
          [
           null,
           null
          ],
          [
           39.02556356253034,
           -77.07178888633658
          ],
          [
           38.9441713,
           -77.1167329
          ],
          [
           38.975375,
           -77.161596
          ],
          [
           39.01719335,
           -77.2107049
          ],
          [
           39.01719335,
           -77.2107049
          ],
          [
           39.01719335,
           -77.2107049
          ],
          [
           39.05701125,
           -77.10759691916681
          ],
          [
           39.1868161,
           -77.25215732023571
          ],
          [
           39.1868161,
           -77.25215732023571
          ],
          [
           39.10639246705118,
           -77.15811189685004
          ],
          [
           null,
           null
          ],
          [
           null,
           null
          ],
          [
           null,
           null
          ],
          [
           null,
           null
          ],
          [
           null,
           null
          ],
          [
           null,
           null
          ],
          [
           39.07437734337349,
           -77.11309501204819
          ],
          [
           39.07437734337349,
           -77.11309501204819
          ],
          [
           39.07437734337349,
           -77.11309501204819
          ],
          [
           39.07482783381962,
           -77.1364905926876
          ],
          [
           39.1779191,
           -77.2661115
          ],
          [
           null,
           null
          ],
          [
           39.17929152966844,
           -77.24036874534242
          ],
          [
           39.17929152966844,
           -77.24036874534242
          ],
          [
           39.17929152966844,
           -77.24036874534242
          ],
          [
           39.17999538053491,
           -77.23977215376507
          ],
          [
           null,
           null
          ],
          [
           null,
           null
          ],
          [
           39.1218445,
           -77.235203
          ],
          [
           null,
           null
          ],
          [
           39.093625140155524,
           -77.15362021830875
          ],
          [
           39.093625140155524,
           -77.15362021830875
          ],
          [
           39.1234721,
           -77.2370213
          ],
          [
           39.1143509,
           -77.1708971
          ],
          [
           39.1143509,
           -77.1708971
          ],
          [
           38.9915027,
           -77.0257357
          ],
          [
           38.99382584532019,
           -77.0255967372195
          ],
          [
           39.12898395,
           -77.18536805
          ],
          [
           38.974505944545626,
           -76.99533798142433
          ],
          [
           39.12898395,
           -77.18536805
          ],
          [
           39.039860653061226,
           -77.05251273469388
          ],
          [
           39.040191,
           -77.051573
          ],
          [
           39.040191,
           -77.051573
          ],
          [
           38.9971305,
           -77.0293589
          ],
          [
           38.98890526530612,
           -77.09868624489795
          ],
          [
           39.00805941891892,
           -77.04011171621622
          ],
          [
           39.0157402,
           -76.9776253
          ],
          [
           38.98890526530612,
           -77.09868624489795
          ],
          [
           39.1234721,
           -77.2370213
          ],
          [
           39.1008427,
           -77.0749673
          ],
          [
           39.1008427,
           -77.0749673
          ],
          [
           39.1243133,
           -77.157929
          ],
          [
           39.06353599220674,
           -77.12528919509484
          ],
          [
           39.093442,
           -77.123169
          ],
          [
           39.093442,
           -77.123169
          ],
          [
           null,
           null
          ],
          [
           null,
           null
          ],
          [
           null,
           null
          ],
          [
           39.040330673469384,
           -77.05059071428572
          ],
          [
           39.04051042857142,
           -77.04939385714286
          ],
          [
           39.140862130649275,
           -77.22168146229096
          ],
          [
           39.086231,
           -77.152081
          ],
          [
           39.086231,
           -77.152081
          ],
          [
           39.093489,
           -77.1203217
          ],
          [
           39.04020605962505,
           -77.0497650018637
          ],
          [
           39.1421769512826,
           -77.19437246288334
          ],
          [
           null,
           null
          ],
          [
           null,
           null
          ],
          [
           39.04020605962505,
           -77.0497650018637
          ],
          [
           null,
           null
          ],
          [
           39.039108465151116,
           -77.05163977447386
          ],
          [
           39.04020281192501,
           -77.04972340037274
          ],
          [
           39.086231,
           -77.152081
          ],
          [
           39.0157402,
           -76.9776253
          ],
          [
           39.04173375,
           -77.0479905
          ],
          [
           39.04173375,
           -77.0479905
          ],
          [
           null,
           null
          ],
          [
           null,
           null
          ],
          [
           39.07437734337349,
           -77.11309501204819
          ],
          [
           39.06916820390183,
           -77.1301004120463
          ],
          [
           null,
           null
          ],
          [
           39.086231,
           -77.152081
          ],
          [
           39.03966362756875,
           -77.05396044743102
          ],
          [
           39.03966362756875,
           -77.05396044743102
          ],
          [
           39.0355341,
           -77.052144
          ],
          [
           39.03585,
           -77.0498435
          ],
          [
           39.03585,
           -77.0498435
          ],
          [
           null,
           null
          ],
          [
           38.9964816,
           -77.0287784
          ],
          [
           38.9964816,
           -77.0287784
          ],
          [
           null,
           null
          ],
          [
           39.03960890503173,
           -77.05406359112202
          ],
          [
           39.140862130649275,
           -77.22168146229096
          ],
          [
           39.15488120815368,
           -77.06369869329886
          ],
          [
           null,
           null
          ],
          [
           null,
           null
          ],
          [
           null,
           null
          ],
          [
           null,
           null
          ],
          [
           null,
           null
          ],
          [
           38.98890526530612,
           -77.09868624489795
          ],
          [
           39.1040733,
           -77.1897983
          ],
          [
           null,
           null
          ],
          [
           null,
           null
          ],
          [
           null,
           null
          ],
          [
           null,
           null
          ],
          [
           null,
           null
          ],
          [
           39.1110397,
           -77.1873926
          ],
          [
           39.1173327,
           -77.1989699
          ],
          [
           39.03987287831272,
           -77.15695543641341
          ],
          [
           39.0572511,
           -77.1213396
          ],
          [
           39.063596665902246,
           -77.12533655000338
          ],
          [
           39.06307660799537,
           -77.12490866420879
          ],
          [
           39.06307660799537,
           -77.12490866420879
          ],
          [
           null,
           null
          ],
          [
           null,
           null
          ],
          [
           null,
           null
          ],
          [
           39.05854254010539,
           -77.11897241966831
          ],
          [
           39.06580958755448,
           -77.12705969091215
          ],
          [
           39.0586561,
           -77.1213411
          ],
          [
           39.0586561,
           -77.1213411
          ],
          [
           39.084082,
           -77.154656
          ],
          [
           39.1143509,
           -77.1708971
          ],
          [
           null,
           null
          ],
          [
           null,
           null
          ],
          [
           39.06335073894634,
           -77.12750620969042
          ],
          [
           39.0888995,
           -77.15407847278232
          ],
          [
           null,
           null
          ],
          [
           39.07779438064628,
           -77.1401117727007
          ],
          [
           39.07779438064628,
           -77.1401117727007
          ],
          [
           39.07779438064628,
           -77.1401117727007
          ],
          [
           39.0247476,
           -77.1253328
          ],
          [
           39.0847348,
           -77.1527255
          ],
          [
           39.0847348,
           -77.1527255
          ],
          [
           39.1979099,
           -77.2542768
          ],
          [
           39.180195,
           -77.2686267
          ],
          [
           39.1979099,
           -77.2542768
          ],
          [
           39.20227745,
           -77.25938632747882
          ],
          [
           39.180195,
           -77.2686267
          ],
          [
           null,
           null
          ],
          [
           39.0406292,
           -77.1555153
          ],
          [
           39.040676,
           -77.1554615
          ],
          [
           39.0409912,
           -77.1570706
          ],
          [
           39.05701125,
           -77.10759691916681
          ],
          [
           39.0016961,
           -77.1096966
          ],
          [
           39.14214460826296,
           -77.22119808659998
          ],
          [
           39.03960890503173,
           -77.05406359112202
          ],
          [
           null,
           null
          ],
          [
           39.0982451,
           -77.13580350000001
          ],
          [
           39.08558658333333,
           -77.151849
          ],
          [
           39.071275,
           -77.1326092857143
          ],
          [
           39.074074473895585,
           -77.11243383534138
          ],
          [
           null,
           null
          ],
          [
           39.201833,
           -77.2461273
          ],
          [
           39.1788945,
           -77.23799795
          ],
          [
           null,
           null
          ],
          [
           null,
           null
          ],
          [
           null,
           null
          ],
          [
           null,
           null
          ],
          [
           null,
           null
          ],
          [
           null,
           null
          ],
          [
           39.140862130649275,
           -77.22168146229096
          ],
          [
           38.9964816,
           -77.0287784
          ],
          [
           null,
           null
          ],
          [
           38.98431735,
           -77.09606487949507
          ],
          [
           null,
           null
          ],
          [
           38.98493900027173,
           -77.09587469216137
          ],
          [
           38.98493900027173,
           -77.09587469216137
          ],
          [
           38.98493900027173,
           -77.09587469216137
          ],
          [
           38.9881328,
           -77.0962282
          ],
          [
           39.104064,
           -77.29324
          ],
          [
           39.133045,
           -77.398391
          ],
          [
           39.2010678,
           -77.2470505
          ],
          [
           39.130634343066035,
           -77.20683369437182
          ],
          [
           39.130634343066035,
           -77.20683369437182
          ],
          [
           null,
           null
          ],
          [
           null,
           null
          ],
          [
           null,
           null
          ],
          [
           null,
           null
          ],
          [
           39.141936400000006,
           -77.19355583644284
          ],
          [
           39.142029449999995,
           -77.19888840000002
          ],
          [
           39.142029449999995,
           -77.19888840000002
          ],
          [
           null,
           null
          ],
          [
           null,
           null
          ],
          [
           39.160638642857144,
           -77.27954589795918
          ],
          [
           39.18109265,
           -77.26669204860714
          ],
          [
           39.18060655,
           -77.26832809999999
          ],
          [
           39.1834531,
           -77.26173745
          ],
          [
           39.1142267,
           -77.2077006
          ],
          [
           39.04939,
           -77.1162308
          ],
          [
           39.1219563,
           -77.2383761
          ],
          [
           39.1219563,
           -77.2383761
          ],
          [
           39.07437734337349,
           -77.11309501204819
          ],
          [
           39.1292598,
           -77.18565966807108
          ],
          [
           39.1292598,
           -77.18565966807108
          ],
          [
           38.9928644,
           -77.0263599
          ],
          [
           39.0157402,
           -76.9776253
          ],
          [
           39.1245655,
           -77.236983
          ],
          [
           39.1175087,
           -77.1855122
          ],
          [
           null,
           null
          ],
          [
           39.0586561,
           -77.1213411
          ],
          [
           39.086231,
           -77.152081
          ],
          [
           39.0157402,
           -76.9776253
          ],
          [
           39.16024400151952,
           -77.22245794037303
          ],
          [
           39.0004921,
           -76.99595073907244
          ],
          [
           39.02097874210191,
           -77.01205317034056
          ],
          [
           39.04939,
           -77.1162308
          ],
          [
           39.027926,
           -77.07669646153846
          ],
          [
           39.150809295918364,
           -77.20965079591836
          ],
          [
           39.1421769512826,
           -77.19437246288334
          ],
          [
           39.1421769512826,
           -77.19437246288334
          ],
          [
           39.1421769512826,
           -77.19437246288334
          ],
          [
           39.15488455,
           -77.20497292504044
          ],
          [
           39.15488455,
           -77.20497292504044
          ],
          [
           39.13573751774924,
           -77.19182558314607
          ],
          [
           39.115747915680984,
           -77.20404941273483
          ],
          [
           39.1217204,
           -77.2349303
          ],
          [
           39.0867546,
           -77.1509833
          ],
          [
           39.1475796,
           -77.1460316
          ],
          [
           39.14653920000001,
           -77.20415215
          ],
          [
           39.14653920000001,
           -77.20415215
          ],
          [
           39.039908,
           -77.053373
          ],
          [
           39.1175087,
           -77.1855122
          ],
          [
           39.1166494,
           -77.2165837
          ],
          [
           39.1220792,
           -77.23445489168421
          ],
          [
           39.1134857,
           -77.1874205
          ],
          [
           39.13577030063653,
           -77.19185448545656
          ],
          [
           39.126946,
           -77.180119
          ],
          [
           39.126946,
           -77.180119
          ],
          [
           null,
           null
          ],
          [
           39.15291935,
           -77.19662446028352
          ],
          [
           39.15291935,
           -77.19662446028352
          ],
          [
           39.15291935,
           -77.19662446028352
          ],
          [
           39.1171361,
           -77.198504
          ],
          [
           39.1167066,
           -77.1979014
          ],
          [
           39.1143145,
           -77.20526555000001
          ],
          [
           null,
           null
          ],
          [
           38.9919378,
           -77.0242871
          ],
          [
           null,
           null
          ],
          [
           null,
           null
          ],
          [
           38.98139,
           -77.09799081632653
          ],
          [
           38.9824443,
           -77.09304
          ],
          [
           39.111933,
           -77.1614581
          ],
          [
           39.03966362756875,
           -77.05396044743102
          ],
          [
           39.002099080551865,
           -77.053171005384
          ],
          [
           39.002099080551865,
           -77.053171005384
          ],
          [
           39.0164491,
           -77.0187655
          ],
          [
           39.0215021,
           -76.9395644
          ],
          [
           39.0215021,
           -76.9395644
          ],
          [
           39.01233059787804,
           -77.0295519690913
          ],
          [
           38.9912274,
           -77.0959347
          ],
          [
           39.0016961,
           -77.1096966
          ],
          [
           38.9956334,
           -77.0247557
          ],
          [
           39.16382145,
           -77.2255354
          ],
          [
           null,
           null
          ],
          [
           39.15291935,
           -77.19662446028352
          ],
          [
           39.15291935,
           -77.19662446028352
          ],
          [
           38.991278,
           -77.014128
          ],
          [
           38.99905555,
           -77.00232150742197
          ],
          [
           38.99905555,
           -77.00232150742197
          ],
          [
           38.99905555,
           -77.00232150742197
          ],
          [
           38.9856873,
           -77.0961397
          ],
          [
           38.991927122448985,
           -77.01009542857143
          ],
          [
           38.98493900027173,
           -77.09587469216137
          ],
          [
           38.97425467487395,
           -76.99562776295352
          ],
          [
           38.97425467487395,
           -76.99562776295352
          ],
          [
           39.0157402,
           -76.9776253
          ],
          [
           39.0157402,
           -76.9776253
          ],
          [
           39.0157402,
           -76.9776253
          ],
          [
           39.0157402,
           -76.9776253
          ],
          [
           39.0157402,
           -76.9776253
          ],
          [
           39.1166494,
           -77.2165837
          ],
          [
           38.98913085714286,
           -77.09745385714285
          ],
          [
           38.99014555173807,
           -77.09747902103435
          ],
          [
           38.98995855771059,
           -77.09739000461629
          ],
          [
           39.111933,
           -77.1614581
          ],
          [
           39.111933,
           -77.1614581
          ],
          [
           39.17695245,
           -77.2389728040718
          ],
          [
           null,
           null
          ],
          [
           38.9814452,
           -77.0960185
          ],
          [
           38.9814452,
           -77.0960185
          ],
          [
           null,
           null
          ],
          [
           38.997061099999996,
           -77.03270800509875
          ],
          [
           39.0093475,
           -76.9796375
          ],
          [
           38.99814954324767,
           -77.03846827115352
          ],
          [
           39.1166494,
           -77.2165837
          ],
          [
           39.027926,
           -77.07669646153846
          ],
          [
           39.1166494,
           -77.2165837
          ],
          [
           39.1166494,
           -77.2165837
          ],
          [
           38.98262876599038,
           -77.09397327479519
          ],
          [
           38.98262876599038,
           -77.09397327479519
          ],
          [
           null,
           null
          ],
          [
           39.1166494,
           -77.2165837
          ],
          [
           39.008693134542355,
           -77.04087955796096
          ],
          [
           38.9911789,
           -77.0294874
          ],
          [
           38.99001675,
           -77.02653225
          ],
          [
           39.0653747,
           -77.12772538926663
          ],
          [
           null,
           null
          ],
          [
           38.9960146,
           -77.0283063
          ],
          [
           38.973458583125776,
           -77.15541871516724
          ],
          [
           38.9971305,
           -77.0293589
          ],
          [
           null,
           null
          ],
          [
           39.028293,
           -77.008974
          ],
          [
           39.1231469,
           -77.2366579
          ],
          [
           null,
           null
          ],
          [
           39.036753380307346,
           -77.05063898164278
          ],
          [
           null,
           null
          ],
          [
           null,
           null
          ],
          [
           38.98697573079014,
           -76.98814714615902
          ],
          [
           38.98697573079014,
           -76.98814714615902
          ],
          [
           null,
           null
          ],
          [
           null,
           null
          ],
          [
           39.03904136734694,
           -77.05083992857143
          ],
          [
           39.0428632164972,
           -77.0522466864871
          ],
          [
           39.0428632164972,
           -77.0522466864871
          ],
          [
           39.085330150000004,
           -77.0777321177553
          ],
          [
           39.085330150000004,
           -77.0777321177553
          ],
          [
           39.085330150000004,
           -77.0777321177553
          ]
         ],
         "hovertemplate": "<b>%{hovertext}</b><br><br><extra></extra>",
         "hovertext": [
          "EL CARACOL CAFE",
          "MOGOTILLO RESTAURANT",
          "MOGOTILLO RESTAURANT",
          "MOGOTILLO RESTAURANT",
          "GISELE'S CREOLE CUISINE",
          "CASPIAN HOUSE OF KABOB",
          "CASPIAN HOUSE OF KABOB",
          "VILLAGE WEST LIQUOR",
          "Q' VIVA COCINA & LOUNGE",
          "FINNEGAN'S WAKE IRISH PUB",
          "CUBANO'S RESTAURANT 2",
          "CUBANO'S RESTAURANT 2",
          "BLACK'S BAR & KITCHEN",
          "BLACK'S BAR & KITCHEN",
          "BRICKSIDE",
          "DOG HAUS BIERGARTEN",
          "JALEO",
          "MON AMI GABI",
          "TIA QUETA RESTAURANT",
          "WOODMONT MARKET",
          "KOREAN KORNER",
          "KOREAN KORNER",
          "OUTBACK STEAKHOUSE - SILVER SPRING",
          "RINCON MAGICO BAR & GRILL",
          "RINCON MAGICO BAR & GRILL",
          "RODMANS PARTY BOUTIQUE",
          "RODMANS PARTY BOUTIQUE",
          "SOLE D'ITALIA RESTAURANT",
          "SHOPPERS FOOD WAREHOUSE",
          "DRYBAR",
          "DOLLAR PLUS STORE",
          "HAKUNA MATATA GRILL",
          "STAINED GLASS PUB",
          "SUPER CHICKEN",
          "CAVA MEZZE-OLNEY",
          "EMPIRE CAFE & MARKET",
          "MANNEQUIN PIS",
          "ROOTS MARKET",
          "SMOKETOWN BBQ",
          "THE MANOR AT SILO FALLS",
          "DENISE MEXICAN BAR & GRILL",
          "KABUTO",
          "WASABI ZEN",
          "ARIA, BEER, WINE & DELI",
          "ARIA, BEER, WINE & DELI",
          "BETHESDA MARKET",
          "LANCE'S BEER & WINE",
          "LANCE'S BEER & WINE",
          "PASSION FIN ASIAN BISTRO",
          "PASSION FIN ASIAN BISTRO",
          "PASSION FIN ASIAN BISTRO",
          "PROMENADE MARKET & DELI",
          "SUSHI OISHII",
          "LA CASITA",
          "TACO DADDY CANTINA",
          "CASA OAXACA",
          "CHERCHER ETHIOPIAN CUISINE",
          "HIMALAYAN HERITAGE",
          "MAMMA LUCIA - BETHESDA",
          "MEDIUM RARE",
          "REDMILL MARKET BEER & WINE",
          "THAI CUISINE",
          "VUK",
          "A BITE OF CHINA",
          "A BITE OF CHINA",
          "BETHESDA N. MARRIOTT HOTEL/CONF CTR",
          "KABUTO",
          "KABUTO",
          "KABUTO",
          "TEMARI CAFE",
          "VIET PHO & GRILL",
          "VIET PHO & GRILL",
          "VILLA MAYA RESTAURANT",
          "VILLA MAYA RESTAURANT",
          "CUBANO'S",
          "EVALASH AND NAIL LOUNGE",
          "CLYDE'S OF CHEVY CHASE",
          "MEIWAH RESTAURANT",
          "MEIWAH RESTAURANT",
          "P.F. CHANG'S CHINA BISTRO - C/CHASE",
          "THE LITTLE BEET TABLE",
          "BURGERIM",
          "FLOR DE LUNA RESTAURANT",
          "QUINCYS SOUTH BAR & GRILLE",
          "SISTERS THAI",
          "BALDUCCI'S",
          "BALDUCCI'S",
          "COMMONWEALTH INDIAN",
          "FLOWER CHILD-BETHESDA",
          "FLOWER CHILD-BETHESDA",
          "FLOWER CHILD-BETHESDA",
          "FOGO DE CHAO",
          "MORTON'S - THE STEAKHOUSE",
          "WILDWOOD KITCHEN",
          "WORLD OF BEER-BETHESDA",
          "WORLD OF BEER-BETHESDA",
          "LEDO PIZZA OLNEY",
          "FU LIN RESTAURANT",
          "OM INDIAN RESTAURANT",
          "MONTGOMERY VILLAGE BEER & WINE",
          "CAFE DELUXE - BETHESDA",
          "FLANAGAN'S HARP & FIDDLE RESTAURANT",
          "HANARO RESTAURANT AND LOUNGE",
          "MATCHBOX-BETHESDA",
          "PIEOLOGY-BETHESDA",
          "SATSUMA",
          "THE BETHESDA BAZAR",
          "TRATTORIA SORRENTO",
          "ON THE VINE",
          "ON THE VINE",
          "THE BEER & WINE CELLAR",
          "TIA OCHI",
          "TIA OCHI",
          "TIA OCHI",
          "URBAN BAR-B-QUE CO.",
          "MIX BAR & GRILL",
          "OUTBACK STEAKHOUSE - GERMANTOWN",
          "BALAGGER RESTUARANT",
          "RED ROBIN GOURMET BURGERS & BREWS",
          "LIFETIME ATHLETIC",
          "LIFETIME ATHLETIC",
          "6/12 CONVENIENT MART",
          "DOWNTOWN BEER & WINE",
          "EL ESTERON RESTAURANT",
          "GRAPE & GRAIN",
          "TARA THAI RESTAURANT",
          "AKIRA RAMEN IZAKAYA",
          "AKIRA RAMEN IZAKAYA",
          "AKIRA RAMEN IZAKAYA",
          "BURGERFI",
          "GYROLAND",
          "GYROLAND",
          "OM INDIAN RESTAURANT",
          "OM INDIAN RESTAURANT",
          "PIKE CHICKEN & BEER",
          "PIKE CHICKEN & BEER",
          "PIZZA CS",
          "PIZZA CS",
          "ST. ARNOLD'S MUSSEL BAR",
          "DRYBAR",
          "7 LOCKS BREWING",
          "CAFE 20/20",
          "CAFE 20/20",
          "CAFE 20/20",
          "EL PATIO",
          "EL PATIO",
          "EL PATIO",
          "MIKE & SONS SUB SHOP",
          "MIKE & SONS SUB SHOP",
          "MIKE & SONS SUB SHOP",
          "SLAPFISH",
          "SLAPFISH",
          "SLAPFISH",
          "GAITHERSBURG SUPERMARKET",
          "SALA THAI BETHESDA",
          "MANNEQUIN PLS",
          "SOL AZTECA RESTAURANT",
          "KALDI'S COFFEE",
          "KALDI'S COFFEE",
          "KALDI'S COFFEE",
          "KALDI'S COFFEE",
          "KALDI'S COFFEE",
          "THE REPUBLIC GARDEN",
          "LA CANELA",
          "LA TASCA",
          "NIWANO HANA",
          "NIWANO HANA",
          "TRAPEZARIA MEDITERRANEAN KUZINA",
          "TRAPEZARIA MEDITERRANEAN KUZINA",
          "BUFFALO WILD WINGS",
          "BUFFALO WILD WINGS",
          "VASILI'S KITCHEN",
          "VASILI'S KITCHEN",
          "LEDO PIZZA",
          "LEDO PIZZA",
          "GEMELLI'S ITALIAN MARKET",
          "NANDO'S PERI PERI - GAITHERSBURG",
          "NANDO'S PERI PERI - GAITHERSBURG",
          "BB.Q CHICKEN & BEER",
          "BB.Q CHICKEN & BEER",
          "HOT POT LEGEND",
          "HOT POT LEGEND",
          "KING'S CRAFT BEER & WINE DELI",
          "MATRESHKA",
          "MATRESHKA",
          "MATRESHKA",
          "THE SPOT",
          "THE SPOT",
          "THE SPOT",
          "TRAN DINH BEER, WINE, & DELI",
          "GAITHERSBURG SUPERMARKET",
          "GAITHERSBURG SUPERMARKET",
          "GAITHERSBURG SUPERMARKET",
          "DOWNTOWN BEER & WINE",
          "BALAGGER RESTAURANT",
          "BALAGGER RESTAURANT",
          "LIFETIME ATHLETIC",
          "SUPER CHICKEN",
          "LE PAIN QUOTIDIEN",
          "BUCA DI BEPPO",
          "EL ENCANTO",
          "RAINBOW RESTAURANT",
          "BROADWAY PIZZA",
          "KUSSHI",
          "KUSSHI",
          "KUSSHI",
          "HICKORY BAR & GRILL",
          "CHIPOTLE MEXICAN GRILL",
          "PASSION NAIL SPA",
          "PASSION NAIL SPA",
          "WISTERIA BEER AND WINE",
          "CANA BEER AND WINE",
          "WATERSHED CAFE",
          "WATERSHED CAFE",
          "THE SPOT",
          "LA COLOMBIANA RESTAURANT",
          "BOYDS COUNTRY STORE",
          "JINYA RAMEN BAR",
          "BANTA BAA RESTAURANT",
          "GAITHERSBURG SUPERMARKET",
          "GAITHERSBURG SUPERMARKET",
          "GAITHERSBURG SUPERMARKET",
          "FOOD STOP MINI MART",
          "GOLF ULTRA LOUNGE",
          "KALDI'S COFFEE",
          "OUTBACK STEAKHOUSE",
          "CUBANO'S",
          "THE VILLAGE AT ROCKVILLE",
          "MYTHOS MEDITTERANEAN GREEK RESTAURANT",
          "ABOL RESTAURANT",
          "AKIRA RAMEN IZAKAYA",
          "CIELO ROJO",
          "EL ENCANTO",
          "ENGOCHA MARKET",
          "ETHIO ADDIS MARKET",
          "GODAVARI",
          "GREAT SHOALS",
          "KALDI'S COFFEE",
          "MINERVA INDIAN CUISINE",
          "PORT AU PRINCE",
          "SARITA'S CHICKEN RESTAURANT",
          "THE GRILLE AT FLOWER HILL",
          "URBAN BAR-B-QUE CO",
          "URBAN CRAWFISH",
          "HIBACHI SUSHI SUPREME BUFFET",
          "AKIRA RAMEN IZAKAYA",
          "GIUSEPPI'S PIZZA PLUS",
          "LIA'S",
          "SPICE XING",
          "THAT'S AMORE",
          "TACOS, TORTAS & TEQUILA",
          "GUAPOS II",
          "GUAPOS II",
          "MAKI BAR",
          "DON POLLO OF POTOMAC",
          "NEW VILLAGE RESTAURANT",
          "GORDON BIERSCH BREWERY RESTAURANT",
          "TERRAIN CAFE",
          "ASIA NINE II",
          "ASIA NINE II",
          "TERRAIN CAFE",
          "TERRAIN CAFE",
          "WHEATON SPORT BAR & GRILL",
          "TRAPEZARIA MEDITERRANEAN KUZINA",
          "FLOWER CHILD",
          "FOOD STOP MINI MART",
          "ARMAND'S PIZZERIA & GRILLE",
          "BHIMAS KITCHEN & BAKERY",
          "COURTYARD BY MARRIOTT",
          "MAMMA LUCIA'S",
          "NANTUCKET'S REEF",
          "RADISSON HOTEL DC",
          "THAT'S AMORE",
          "THAI PAVILION",
          "HOLA BEER & WINE",
          "KENSINGTON SUB & PIZZA",
          "HONEY PIG",
          "ADDIE'S",
          "GRAND FUSION",
          "GRINGOS & MARIACHIS",
          "MONTEREY MART & CAFE",
          "SUGO MACARONI BAR",
          "THAI FARM",
          "THAI FARM",
          "WORLD GOURMET WINE & BEER",
          "THAT'S AMORE",
          "AKIRA RAMEN IZAKAYA",
          "BUFFALO WILD WINGS",
          "SAMOVAR",
          "SPICE XING",
          "BEMNET SUPERMARKET AND DELI",
          "FANTASY NAIL SPA",
          "FANTASY NAIL SPA",
          "CANOPY",
          "CANOPY",
          "MATCHBOX",
          "PINSTRIPES",
          "PINSTRIPES",
          "QDOBA MEXICAN GRILL",
          "ROLLINS BEER & WINE",
          "BAR LOUIE",
          "CAVA RESTAURANT",
          "HIBACHI SUSHI SUPREME BUFFET",
          "KWIK-STOP BEER, WINE & DELI",
          "LEDO PIZZA",
          "WORLD OF BEER",
          "OWENS ORDINARY",
          "HOWARD DELI",
          "THE DAILY DISH",
          "VEGETABLE GARDEN",
          "217 BOARDWALK PL.",
          "BELBY DISCOUNT BEER & WINE",
          "EL MARIACHI",
          "EVEN HOTEL",
          "IRON AGE",
          "IRON AGE",
          "ISLAND PRIDE OASIS",
          "LIVE CRAWFISH & SEAFOOD",
          "NEW FORTUNE RESTAURANT",
          "TALBOTT BEER & WINE",
          "RIVERSIDE HOTPOT CUISINE",
          "TEX'S PLACE",
          "COURTYARD BY MARRIOTT",
          "ETCHIONS COUNTRY STORE",
          "HOLA BEER & WINE",
          "RINCON PERUANO",
          "SPRINGHILL SUITES GAITHERSBURG",
          "WINGSTOP",
          "EVA LOUNGE",
          "SOCIETY RESTAURANT & LOUNGE",
          "B&B BEER AND WINE",
          "PACIFICA CAFE",
          "THE HILTON AT GAITHERSBURG",
          "ARADA MARKET",
          "BAR LOUIE WHEATON",
          "BECLAWS",
          "BECLAWS",
          "DOCK OF THE BAY",
          "CHEESE & WINE SHOPPE",
          "GEMELLI'S ITALIAN MARKET",
          "GIUSEPPI'S PIZZA PLUS",
          "SIN & GRIN",
          "ZIKI JAPANESE STEAK HOUSE",
          "LA COLOMBIANA RESTAURANT",
          "LA COLOMBIANA RESTAURANT",
          "AMY TEX-MEX BAR AND GRILL",
          "GREAT SHOALS",
          "GREAT SHOALS",
          "OUTBACK STEAKHOUSE",
          "PACCI'S TRATTORIA",
          "SUPER CHICKEN",
          "THE QUARRY HOUSE TAVERN",
          "AGRODOLCE",
          "AGRODOLCE",
          "BARKING MAD CAFE",
          "BEST BEER, WINE, & DELI",
          "CHOICE MARKET",
          "CHOICE MARKET",
          "CHOICE MARKET",
          "DON POLLO-GERMANTOWN",
          "JO'S BEER AND WINE",
          "ABI AZTECA GRILL",
          "ASIA NINE II",
          "LA MADELEINE-CROWN",
          "MEZEH MEDITERRANEAN GRILL",
          "MEZEH MEDITERRANEAN GRILL",
          "MEZEH MEDITERRANEAN GRILL",
          "MEZEH MEDITERRANEAN GRILL",
          "OUTBACK STEAKHOUSE",
          "RED BOWL",
          "RED LOBSTER-GAITHERSBURG",
          "TACO BAR",
          "TACO BAR",
          "TACO BAR",
          "TARA THAI RESTAURANT",
          "TARA THAI RESTAURANT",
          "TED'S MONTANA GRILL",
          "3 STAR CONVENIENCE STORE",
          "ACAJULTA RESTAURANT",
          "ACAJULTA RESTAURANT",
          "AY JALISCO",
          "CONVENIENT BEER & WINE",
          "DON JORGE'S RESTAURANT BAR & GRILL",
          "GOSHEN PLAZA BEER & WINE",
          "MOONLIGHT BAR",
          "MOONLIGHT BAR",
          "MYTHOS MEDITTERANEAN GREEK RESTAURANT",
          "REDMILL MARKET BEER & WINE",
          "SASUNS",
          "HICKORY BAR & GRILL",
          "HONEY PIG",
          "LA MEXICANA",
          "ANTOJITOS RESTAURANT",
          "DIAMOND SQUARE BEER & WINE",
          "LAKESIDE BEER AND WINE",
          "LATINO MARKET GROCERY",
          "LATINO MARKET GROCERY",
          "MONTGOMERY VILLAGE BEER & WINE",
          "MONTGOMERY VILLAGE BEER & WINE",
          "CLARKSBURG GROCERIES BEER & WINE",
          "CLARKSBURG GROCERIES BEER & WINE",
          "LITTLE BENNETT GOLF COURSE",
          "NEW YORK J & P PIZZA",
          "NEW YORK J & P PIZZA",
          "NEW YORK J & P PIZZA",
          "NEW YORK J & P PIZZA",
          "PERUVIAN CHICKEN & GRILL",
          "PERUVIAN CHICKEN & GRILL",
          "TGI FRIDAYS",
          "TOKYO FIRE",
          "UPCOUNTY FINE WINE & BEER",
          "LIMARIA POLLO A LA BRASA",
          "LIMARIA POLLO A LA BRASA",
          "LIMARIA POLLO A LA BRASA",
          "SOCIETY RESTAURANT & LOUNGE",
          "SOCIETY RESTAURANT & LOUNGE",
          "CITY TASTE ASIAN CUISINE",
          "CITY TASTE ASIAN CUISINE",
          "EL ANDARIEGO",
          "NANDO'S PERI PERI",
          "CHAPEL BEER & WINE",
          "CHIPOTLE MEXICAN GRILL - KENTLANDS",
          "CHIPOTLE MEXICAN GRILL - KENTLANDS",
          "MIDDLEBROOK DISCOUNT B&W",
          "NOT YOUR AVERAGE JOE'S",
          "SABAI SABAI...SIMPLY THAI",
          "SENECA MEADOWS BEER & WINE",
          "SENOR TEQUILA'S",
          "URBAN BAR-B-QUE",
          "URBAN BAR-B-QUE",
          "EL SOL SALVADOREAN & MEXICAN RESTAURANT",
          "EL SOL SALVADOREAN & MEXICAN RESTAURANT",
          "MATCHBOX",
          "CANCUN GRILL RESTAURANT, THE",
          "CHOICE WINE & BEER",
          "GISELES CREOLE CUISINE",
          "GISELES CREOLE CUISINE",
          "RIVERSIDE LOUNGE",
          "RUMBA Y CARBON",
          "RUMBA Y CARBON",
          "WHEATON WINERY",
          "MARK'S KITCHEN",
          "MARK'S KITCHEN",
          "PHO TAN VINH",
          "SEAFOOD IN THE BUFF",
          "SUPER CHICKEN",
          "SUPER CHICKEN",
          "TOKYO SUSHI",
          "RIVERSIDE HOTPOT CUISINE",
          "RIVERSIDE HOTPOT CUISINE",
          "OWENS ORDINARY",
          "OWENS ORDINARY",
          "PERUVIAN CHICKEN & GRILL",
          "FIRE STATION 1",
          "EL ESTERON RESTAURANT",
          "LA ANTIGUA RESTAURANT",
          "RIVERSIDE LOUNGE",
          "I ROCK KARAOKE LOUNGE",
          "PANDORA SEAFOOD HOUSE",
          "PANDORA SEAFOOD HOUSE",
          "PANDORA SEAFOOD HOUSE",
          "HIBACHI SUSHI SUPREME BUFFET",
          "HIBACHI SUSHI SUPREME BUFFET",
          "RESTAURANT POLLOS EL MESON",
          "RESTAURANT POLLOS EL MESON",
          "RESTAURANT POLLOS EL MESON",
          "HONEY PIG",
          "EL ENCANTO",
          "CAFE PROMENADE",
          "ROSSMOOR LEISURE WORLD",
          "PANDORA SEAFOOD HOUSE",
          "PANDORA SEAFOOD HOUSE",
          "PANDORA SEAFOOD HOUSE",
          "FONTINA GRILLE",
          "LA FONDA CHIQUITA CAFE",
          "LA FONDA CHIQUITA CAFE",
          "LA FONDA CHIQUITA CAFE",
          "SILVER SPRING HILTON HOTEL",
          "TAKOMA BEVERAGE COMPANY",
          "BECLAWS",
          "7  ELEVEN FOOD STORE 11713A",
          "7  ELEVEN FOOD STORE 11713A",
          "GODAVARI",
          "GREEN GROWLER'S",
          "RAINBOW SUSHI",
          "CAFE PROMENADE",
          "LEDO PIZZA",
          "PROMENADE MARKET & DELI",
          "PROMENADE MARKET & DELI",
          "WESTLAKE BEER & WINE",
          "ODALIS",
          "DAVE & BUSTER'S",
          "I STAR COFFEE",
          "LUCY ETHIOPIAN RESTAURANT",
          "LUCY ETHIOPIAN RESTAURANT",
          "ODALIS",
          "BISTRO PROVENCE",
          "DINGNESH ETHIOPIAN RESTAURANT",
          "TIA QUETA RESTAURANT",
          "VILLAGE BEER & WINE",
          "MI PUEBLITO RESTAURANT",
          "ABYSSINIA RESTAURANT",
          "BEATESUB MARKET & CARRYOUT",
          "COURTYARD BY MARRIOTT - SILVER SPRING",
          "OLAZZO RESTAURANT",
          "LITTLE DIPPER HOT POT SAUCE",
          "H RESTAURANT AND NIGHT CLUB",
          "H RESTAURANT AND NIGHT CLUB",
          "BUCA DI BEPPO",
          "ANDY'S BEER AND WINE",
          "MINERVA INDIAN CUISINE",
          "PHOLUSCIOUS",
          "BUMP N GRIND",
          "FIRE STATION 1",
          "LOTUS CAFE",
          "LOTUS CAFE",
          "MIX BAR & GRILLE",
          "BLACK'S BAR & KETCHEN",
          "PASSAGE TO INDIA",
          "ALL SET",
          "ARADA MARKET",
          "CALIFORNIA GRILL",
          "GHAR-E-KABAB",
          "KEMP MILL BEER WINE & DELI",
          "LIMARIA POLLO A LA BRASA",
          "ARMANDS CHICAGO PIZZERIA",
          "BENIHANA OF TOKYO",
          "BENIHANA OF TOKYO",
          "GRINGOS & MARIACHIS",
          "HECKMAN'S DELICATESSEN",
          "P.F. CHANG'S CHINA BISTRO",
          "PRIME BEER & WINE",
          "PRIME BEER & WINE",
          "WHITE OAK CONVENIENCE STORE",
          "CHEESE & WINE SHOPPE",
          "ARMANDS CHICAGO PIZZERIA",
          "PI PIZZERIA",
          "PI PIZZERIA",
          "SHANGRI-LA",
          "SHANGRI-LA",
          "SHANGRI-LA",
          "WOK EXPRESS",
          "ISLAND PRIDE OASIS",
          "RESTAURANT POLLOS EL MESON",
          "LUKE'S LOBSTER",
          "UNION JACK'S",
          "CHARM THAI RESTAURANT",
          "OLD TOWN POUR HOUSE",
          "ROCK BOTTOM BREWERY",
          "CORNER PUB",
          "ERTTERS SUPERMARKET",
          "PARKWAY DELICATESSEN",
          "PERUVIAN COUNTRY CHICKEN",
          "PERUVIAN COUNTRY CHICKEN",
          "WOODMOOR SUPERMARKET",
          "WOODSIDE DELI",
          "ARAT KILO MARKET AND RESTAURANT",
          "SILVER SPRING MART",
          "ZENE'S DELI & WORLDMARKET",
          "SARDIS FUSION",
          "TURNTABLE",
          "CLYDES TOWER OAKS LODGE",
          "EGGSPECTATION",
          "LINCOLN'S BAR-B-Q",
          "NOT YOUR AVERAGE JOE'S",
          "NORTHWEST PARK GOLF SNACK BAR",
          "NORTHWEST PARK GOLF SNACK BAR",
          "POOLESVILLE GOLF COURSE",
          "RATTLEWOOD GOLF COURSE",
          "SPENCERVILLE MARKET",
          "SPENCERVILLE MARKET",
          "BACCHUS OF LEBANON",
          "DUCK DUCK GOOSE",
          "EL AGUILA",
          "LE VIEUX LOGIS",
          "LILIT CAFE",
          "LILIT CAFE",
          "MI RANCHO",
          "TASTEE DINER",
          "CURRY PLACE",
          "GREATEST AMERICAN HOT DOGS",
          "BASSETT'S",
          "THE OFFICE CAFE & LOUNGE",
          "BRANDED 72",
          "DIETLES",
          "SUMMER HOUSE SANTA MONICA/STELLA BARRA PIZZERIA",
          "BRIGGS CHANEY DELI",
          "THE YO YO CAFE",
          "CURACION NAILS, BODY & SUCESS SANCTUARY",
          "EL AGUILA RESTAURANT",
          "EL AGUILA RESTAURANT",
          "MAMMA LUCIA",
          "SUMMIT HILLS MINI MART",
          "M & N PIZZA",
          "SALA THAI BETHESDA",
          "SALA THAI BETHESDA",
          "BANGKOK GARDEN RESTAURANT",
          "BETHESDA CRAB HOUSE",
          "POCKET BAR & GRILL",
          "CAFE DELUXE",
          "CLYDES TOWER OAKS LODGE",
          "CLYDES TOWER OAKS LODGE",
          "CORK & FORK",
          "LEBANESE TAVERNA",
          "LEBANESE TAVERNA",
          "LE PAIN QUOTIDIEN",
          "LE PAIN QUOTIDIEN",
          "MAMMA LUCIA",
          "MAMMA LUCIA",
          "MAMMA LUCIA",
          "MUSSEL BAR BY RW",
          "TURNTABLE",
          "CANCUN MEXICAN CUISINE",
          "CANCUN MEXICAN CUISINE",
          "CANCUN MEXICAN CUISINE",
          "GENTLEMAN JIM'S RESTAURANT",
          "GENTLEMAN JIM'S RESTAURANT",
          "GENTLEMAN JIM'S RESTAURANT",
          "ARCLIGHT CINEMAS",
          "BOBBY'S BURGER PALACE",
          "CALIFORNIA PIZZA KITCHEN",
          "LUCKY STRIKE",
          "KENSINGTON SUB & PIZZA",
          "KOREAN KORNER",
          "MOTI'S MARKET",
          "THE DISH & DRAM",
          "7-ELEVEN GLEN ECHO",
          "BETHESDA CO-OP",
          "MIX BAR & GRILLE",
          "MIX BAR & GRILLE",
          "MIX BAR & GRILLE",
          "EL PATIO",
          "HOLIDAY INN EXPRESS & SUITES",
          "HOLIDAY INN EXPRESS & SUITES",
          "IL PIZZICO",
          "GORDON BIERSCH BREWERY RESTAURANT",
          "MISO CAFE",
          "GENTLEMAN JIM'S RESTAURANT",
          "GENTLEMAN JIM'S RESTAURANT",
          "GENTLEMAN JIM'S RESTAURANT",
          "GISELES CREOLE CUISINE",
          "KAYPI RESTAURANT",
          "KAYPI RESTAURANT",
          "KAYPI RESTAURANT",
          "MISSON BBQ",
          "ABI AZTECA GRILL",
          "DAWSON'S MARKET",
          "NEW VILLAGE RESTAURANT",
          "NEW VILLAGE RESTAURANT",
          "NEW VILLAGE RESTAURANT",
          "SAKURA JAPAN STEAK & SEAFOOD",
          "TACO BAR",
          "TACO BAR",
          "VASILI'S KITCHEN",
          "OLD WORLD FAVORITES",
          "THE THAI CUISINE RESTAURANT",
          "THE THAI CUISINE RESTAURANT",
          "BOULEVARD TAVERN",
          "FONTINA GRILLE",
          "FONTINA GRILLE",
          "KALDI'S COFFEE",
          "EVA LOUNGE",
          "ISLAND PRIDE OASIS",
          "CONGRESS RESTAURANT AND LOUNGE",
          "ISLAND PRIDE OASIS",
          "LA COLOMBIANA RESTAURANT",
          "H RESTAURANT AND NIGHT CLUB",
          "H RESTAURANT AND NIGHT CLUB",
          "EL AGUILA",
          "4935 BAR & KITCHEN",
          "WOODSIDE DELI",
          "POLLO-MEX",
          "4935 BAR & KITCHEN",
          "BOULEVARD TAVERN",
          "ROSSMOOR LEISURE WORLD",
          "ROSSMOOR LEISURE WORLD",
          "NEEDWOOD GOLF COURSE SNACK BAR",
          "PIZZA CS",
          "REDGATE GOLF COURSE",
          "REDGATE GOLF COURSE",
          "CALIENTE RESTAURANT & BAR",
          "CALIENTE RESTAURANT & BAR",
          "GOURMET INSPIRATIONS",
          "SQUIRES ROCK CREEK CHOPHOUSE",
          "THAI TASTE",
          "URBAN CRAWFISH",
          "BAR LOUIE",
          "BAR LOUIE",
          "VILLA MAYA RESTAURANT",
          "ERTA ALE RESTAURANT & CAFE",
          "GAITHERSBURG SUPERMARKET",
          "BECLAWS",
          "DOLLAR PLUS STORE #7",
          "ERTA ALE RESTAURANT & CAFE",
          "FOOD STOP MINI MART",
          "MOBY DICK SEAFOOD",
          "SUYAMASTER",
          "BAR LOUIE",
          "POCKET BAR & GRILL",
          "RUAN THAI",
          "RUAN THAI",
          "SIRIWAN THAI RESTAURANT",
          "SIRIWAN THAI RESTAURANT",
          "KAYPI RESTAURANT",
          "SAFFRON INDIAN CUISINE",
          "SPICE XING",
          "BAR LOUIE",
          "ASI ES MI TIERRA",
          "ASI ES MI TIERRA",
          "BAR LOUIE WHEATON",
          "GLENMONT BEER WINE & DELI",
          "GLENMONT BEER WINE & DELI",
          "HOLLYWOOD EAST CAFE - WESTFIELD",
          "IRENE'S PUPUSAS",
          "IRENE'S PUPUSAS",
          "LEDO'S LEISURE WORLD",
          "SARITA'S CHICKEN RESTAURANT",
          "URBAN CRAWFISH",
          "HUNAN DELIGHT",
          "LA FOGATA RESTAURANT",
          "LA FOGATA RESTAURANT",
          "OUTBACK STEAKHOUSE",
          "OUTBACK STEAKHOUSE",
          "SOLE D'ITALIA RESTAURANT",
          "4935 BAR & KITCHEN",
          "COURTYARD BY MARRIOTT",
          "EL BOTANERO",
          "LEDO PIZZA AND PASTA",
          "NAGOYA SUSHI",
          "POTOMAC BEER & WINE",
          "SUSHI OISHII",
          "THAT'S AMORE",
          "COPPER CANYON GRILL",
          "ATTMAN'S DELI",
          "CHUY'S",
          "FUDDRUCKERS",
          "MODERN MARKET ROCKVILLE",
          "MODERN MARKET ROCKVILLE",
          "CAFE 20/20",
          "CAFE 20/20",
          "CAFE 20/20",
          "GILLY'S CRAFT BEER & FINE WINE",
          "MI RANCHO-ROCKVILLE",
          "SMASHBURGER (ROCKVILLLE)",
          "TARA THAI",
          "BOMBAY BISTRO",
          "FONTINA GRILLE",
          "KING FARM WINE & BEER",
          "KING FARM WINE & BEER",
          "THE BEER & WINE CELLAR",
          "TIGER BEER WINE DELI",
          "MISO CAFE",
          "SUPER BOWL NOODLE HOUSE",
          "SUPER BOWL NOODLE HOUSE",
          "SUPER BOWL NOODLE HOUSE",
          "TARA THAI- MONTGOMERY MALL",
          "TRAPEZARIA MEDITERRANEAN KUZINA",
          "TRAPEZARIA MEDITERRANEAN KUZINA",
          "DA MARCO",
          "FAIRFIELD INN-GERMANTOWN",
          "FAMOUS DAVE'S",
          "QUICK STOP BEER & WINE",
          "RED ROBIN",
          "SMASHBURGER",
          "GREGORIO'S TRATTORIA",
          "LAHINCH TAVERN & GRILL",
          "THE GRILLED OYSTER COMPANY",
          "MOM'S ORGANIC MARKET",
          "ST. ARNOLD'S MUSSEL BAR",
          "QUINCY'S BAR & GRILLE",
          "SARITA'S CHICKEN RESTAURANT",
          "DOWNTOWN BEER AND WINE",
          "GUDE DELI",
          "LEBANESE TAVERNA CAFE",
          "TALBOTT BEER & WINE",
          "TWINBROOK DELICATESSEN",
          "CAMBRIA HOTEL & SUITES",
          "APPLEBEE'S",
          "BONCHON OF GERMANTOWN",
          "HAMPTON INN & SUITES",
          "RINCON PERUANO",
          "CHIPOTLE MEXICAN GRILL",
          "CHIPOTLE MEXICAN GRILL",
          "CHIPOTLE MEXICAN GRILL",
          "SUSHI KO",
          "URBAN CRAWFISH",
          "IRENE'S PUPUSAS",
          "BEER, WINE & CO",
          "DAILY GRILL",
          "FISH TACO",
          "GESTE FOODS & WINE",
          "GESTE FOODS & WINE",
          "GESTE FOODS & WINE",
          "WINTHORPE VALENTINE'S COMMUNITY RESTAURANT",
          "6/12 CONVENIENT MART",
          "MEXICAN GRILL",
          "MILESTONE BEER, WINE & DELI",
          "BRIGHTON BEER & WINE",
          "BRIGHTON BEER & WINE",
          "FLOR DE LUNA RESTAURANT",
          "CAFE 20/20",
          "CAFE 20/20",
          "PICCA POLLO A LA BRASA",
          "GROWLERS",
          "LA CASITA",
          "LA CASITA",
          "AZUL BAR & GRILL",
          "AZUL BAR & GRILL",
          "KINGSVIEW BEER & WINE",
          "& PIZZA",
          "RUBY TUESDAY",
          "THE GREENE TURTLE",
          "DOWNTOWN CROWN WINE & BEER",
          "& PIZZA",
          "LE PALAIS",
          "LE PALAIS",
          "KAYPI RESTAURANT",
          "RESTAURANT POLLOS EL MESON",
          "RESTAURANT POLLOS EL MESON",
          "MIX BAR & GRILLE",
          "BOMBAY INDIAN RESTAURANT",
          "CHIPOTLE MEXICAN GRILL - KENTLANDS",
          "GODAVARI",
          "VIET PHO & GRILL",
          "SMASHBURGER (ROCKVILLLE)",
          "BAR LOUIE",
          "POLLO-MEX",
          "BARKING MAD CAFE",
          "SAMANTHA'S",
          "PERUVIAN COUNTRY CHICKEN",
          "& PIZZA",
          "JAVA NATION",
          "YU-ZHOU CAFE",
          "GAITHERSBURG SUPERMARKET",
          "GAITHERSBURG SUPERMARKET",
          "GAITHERSBURG SUPERMARKET",
          "RUBY TUESDAY",
          "RUBY TUESDAY",
          "SARDI'S POLLO A LA BRASA",
          "TED'S MONTANA GRILL",
          "THAI TANIUM",
          "PETER CHANG'S CHINA BISTRO",
          "GREATEST AMERICAN HOT DOGS",
          "GUAPO'S",
          "GUAPO'S",
          "CHEESE & WINE SHOPPE",
          "DULCINEA BAR & GRILL",
          "MUDDY BRANCH BEER & WINE",
          "PASHA LAND",
          "RED LOBSTER-GAITHERSBURG",
          "DOCK OF THE BAY",
          "HYATT SUMMERFIELD SUITES",
          "HYATT SUMMERFIELD SUITES",
          "THE BURGER JOINT",
          "TEXAS PARRILLADA",
          "TEXAS PARRILLADA",
          "TEXAS PARRILLADA",
          "CALIFORNIA PIZZA KITCHEN",
          "COURTYARD BY MARRIOTT",
          "TED'S BULLETIN",
          "AZUL BAR & GRILL",
          "LESAAC CAFE",
          "NOODLES & COMPANY",
          "NOODLES & COMPANY",
          "LE PAIN QUOTIDIEN",
          "RUTH'S CHRIS STEAK HOUSE",
          "BIG WAN'S CUISINE",
          "ASI ES MI TIERRA",
          "EL NORTENO",
          "EL NORTENO",
          "FOREST GLEN DELI",
          "KOI ASIAN CUISINE",
          "KOI ASIAN CUISINE",
          "SLIGO PARK GOLF COURSE SNACK BAR",
          "DOUBLETREE HOTEL",
          "ST. ARNOLD'S MUSSEL BAR",
          "BURGERFI",
          "BEST BEER, WINE, & DELI",
          "NOODLES & COMPANY",
          "WOK EXPRESS",
          "WOK EXPRESS",
          "BEMNET SUPERMARKET AND DELI",
          "BESTWAY MARYLAND SUPERMKT.",
          "BESTWAY MARYLAND SUPERMKT.",
          "BESTWAY MARYLAND SUPERMKT.",
          "CHIPOTLE MEXICAN GRILL",
          "FOUR U",
          "GESTE FOODS & WINE",
          "WALIA ETHIOPIAN RESTAURANT",
          "WALIA ETHIOPIAN RESTAURANT",
          "FUSION BAR & GRILL",
          "FUSION BAR & GRILL",
          "FUSION BAR & GRILL",
          "FUSION BAR & GRILL",
          "FUSION BAR & GRILL",
          "OGEI'S CHICKEN & SUBS",
          "KADHAI INDIAN CUISINE",
          "NEWS EXPRESS",
          "SMOKE BBQ",
          "BIG WAN'S CUISINE",
          "BIG WAN'S CUISINE",
          "GERMANTOWN BEER, WINE & PLUS",
          "SMASHBURGER",
          "TANDOORI NIGHTS-BETHESDA",
          "TANDOORI NIGHTS-BETHESDA",
          "RUMBA Y CARBON",
          "FENWICK BEER & WINE",
          "HILLANDALE BEER & WINE",
          "SPRING BEER & WINE",
          "OGEI'S CHICKEN & SUBS",
          "JAVA NATION",
          "OGEI'S CHICKEN & SUBS",
          "OGEI'S CHICKEN & SUBS",
          "THE BARKING DOG",
          "THE BARKING DOG",
          "AZUL BAR & GRILL",
          "OGEI'S CHICKEN & SUBS",
          "ARMANDS CHICAGO PIZZERIA",
          "IKKO",
          "JACKIE'S",
          "MILLER'S ALE HOUSE",
          "SHEGER SPRING CAFE",
          "SILVER SPRING HILTON HOTEL",
          "CAPTAIN'S MARKET",
          "EL AGUILA",
          "PHO VIET STAR",
          "29 CONVENIENCE MART",
          "NOT YOUR AVERAGE JOE'S",
          "CALIENTE RESTAURANT & BAR",
          "EL PUENTE DE ORO",
          "EL SOL SALVADOREAN & MEXICAN RESTAURANT",
          "EL SOL SALVADOREAN & MEXICAN RESTAURANT",
          "MOGOTILLO RESTAURANT",
          "MOGOTILLO RESTAURANT",
          "FOOD STOP MINI MART",
          "MASTER 8 BILLIARDS",
          "CANCUN GRILL RESTAURANT, THE",
          "JOSE'S GRILL",
          "JOSE'S GRILL",
          "SEVEN-ELEVEN STORE",
          "SEVEN-ELEVEN STORE",
          "SEVEN-ELEVEN STORE"
         ],
         "lat": [
          38.99138597377822,
          38.98697573079014,
          38.98697573079014,
          38.98697573079014,
          null,
          39.123894914438225,
          39.123894914438225,
          39.1755424,
          null,
          39.0852353,
          38.98927069387755,
          38.98927069387755,
          38.987118462105684,
          38.987118462105684,
          38.98985604616847,
          38.9891129,
          38.9819665,
          38.9814586,
          38.99069373469388,
          null,
          39.05643459090909,
          39.05643459090909,
          38.9964816,
          39.057021291939925,
          39.057021291939925,
          39.055382785714286,
          39.055382785714286,
          null,
          39.1645596,
          38.98082435294118,
          null,
          null,
          null,
          39.040105,
          39.1515068774244,
          null,
          39.147637,
          39.1317698,
          39.149635918367345,
          39.177414,
          null,
          null,
          39.147637,
          38.990799,
          38.990799,
          null,
          38.98068,
          38.98068,
          38.9444624,
          38.9444624,
          38.9444624,
          39.01493575,
          null,
          39.142029449999995,
          null,
          null,
          38.98088244195773,
          38.980879930349275,
          38.9819987,
          38.9882534,
          39.1475796,
          39.15411175174163,
          38.988485795918365,
          null,
          null,
          null,
          null,
          null,
          null,
          39.071481,
          null,
          null,
          39.2299919,
          39.2299919,
          38.99612745,
          null,
          null,
          null,
          null,
          null,
          null,
          39.1149525,
          null,
          null,
          39.04067831951807,
          39.024686,
          39.024686,
          39.04921628571429,
          39.02267684691909,
          39.02267684691909,
          39.02267684691909,
          39.0151244,
          38.98330452133209,
          39.02294165805497,
          38.982224,
          38.982224,
          39.15352762735433,
          null,
          null,
          39.15439517775158,
          38.9820079,
          38.99013795290929,
          38.988568428571426,
          38.9819938,
          38.981243,
          38.98999618367347,
          38.98987755102041,
          38.98885846938776,
          null,
          null,
          39.06335073894634,
          39.08462136406919,
          39.08462136406919,
          39.08462136406919,
          39.093489,
          38.9928644,
          39.1703668,
          38.99001675,
          39.180195,
          39.11725137152072,
          39.11725137152072,
          null,
          null,
          null,
          39.1723536,
          39.1159716,
          null,
          null,
          null,
          39.0504613,
          null,
          null,
          39.07779438064628,
          39.07779438064628,
          39.071311785714286,
          39.071311785714286,
          39.06353599220674,
          39.06353599220674,
          39.0016961,
          38.98082435294118,
          null,
          null,
          null,
          null,
          39.05701125,
          39.05701125,
          39.05701125,
          39.05701125,
          39.05701125,
          39.05701125,
          39.0586561,
          39.0586561,
          39.0586561,
          39.1421769512826,
          38.990547,
          39.147637,
          39.151791,
          38.9915027,
          38.9915027,
          38.9915027,
          38.9915027,
          38.9915027,
          38.993527,
          39.0866765,
          null,
          39.07477714327396,
          39.07477714327396,
          39.0847348,
          39.0847348,
          39.0858823,
          39.0858823,
          39.1218445,
          39.1218445,
          39.171714449999996,
          39.171714449999996,
          39.1178126,
          39.117140020408165,
          39.117140020408165,
          null,
          null,
          39.08757521395991,
          39.08757521395991,
          null,
          39.10639246705118,
          39.10639246705118,
          39.10639246705118,
          39.0871475,
          39.0871475,
          39.0871475,
          39.1554675,
          39.1421769512826,
          39.1421769512826,
          39.1421769512826,
          null,
          38.99001675,
          38.99001675,
          39.11725137152072,
          39.040105,
          38.98139,
          39.1226905,
          null,
          null,
          39.041293,
          39.0501787,
          39.0501787,
          39.0501787,
          39.1089615,
          38.9856873,
          null,
          null,
          null,
          39.16203940816326,
          39.14420567438288,
          39.14420567438288,
          39.0871475,
          39.039860653061226,
          null,
          null,
          38.988872,
          39.1421769512826,
          39.1421769512826,
          39.1421769512826,
          null,
          38.991089136363634,
          38.9915027,
          39.1703668,
          38.99612745,
          39.077376948254326,
          null,
          38.9968428,
          null,
          38.9752476,
          null,
          null,
          38.9907043,
          39.1175087,
          null,
          38.9915027,
          39.1248173,
          38.9971305,
          39.03960890503173,
          null,
          39.093489,
          39.140862130649275,
          39.1433438,
          null,
          39.1240727,
          null,
          null,
          39.1110397,
          38.9938453,
          38.99151594897959,
          38.99151594897959,
          null,
          null,
          39.17929152966844,
          null,
          38.9812558,
          null,
          null,
          38.9812558,
          38.9812558,
          39.0318393,
          39.0847348,
          39.0914079,
          null,
          39.06088666666667,
          39.16162908163265,
          39.1040733,
          39.1110397,
          null,
          39.0908647,
          39.1110397,
          null,
          null,
          39.03356794808669,
          39.0586561,
          39.0599847,
          39.06224755958698,
          null,
          null,
          39.0604355,
          null,
          null,
          39.039850379332016,
          39.1110397,
          null,
          39.0858823,
          39.085703,
          null,
          38.991278,
          39.007540032786885,
          39.007540032786885,
          39.05096834386468,
          39.05096834386468,
          39.061868,
          39.049986,
          39.0507166,
          39.058673999999996,
          39.05875628571429,
          39.086231,
          null,
          39.1433438,
          39.10498851082301,
          39.0914079,
          39.084158,
          39.0501787,
          39.03058881283507,
          null,
          null,
          39.116452306122454,
          39.07475179800113,
          39.07813790979538,
          39.06080229671414,
          39.07140007142857,
          39.07140007142857,
          39.12898395,
          null,
          39.12723002821239,
          39.071275,
          39.1166494,
          39.095107,
          39.1167066,
          null,
          null,
          null,
          39.113162450000004,
          null,
          38.99382584532019,
          38.99261158333333,
          null,
          39.1214491,
          39.1491879,
          38.97429655315256,
          39.0355341,
          null,
          null,
          39.13577030063653,
          39.039908,
          39.1178126,
          39.1240727,
          39.121183215013446,
          39.11628186556362,
          39.039860653061226,
          39.039860653061226,
          38.99123070343513,
          null,
          null,
          39.1703668,
          null,
          null,
          38.993587,
          null,
          null,
          39.16024400151952,
          39.16382145,
          39.163146850000004,
          39.163146850000004,
          39.163146850000004,
          39.20227745,
          39.1436911,
          39.1779191,
          null,
          null,
          null,
          null,
          null,
          null,
          39.1703668,
          null,
          39.1134857,
          39.1165285,
          39.1165285,
          39.1165285,
          39.1159716,
          39.1159716,
          39.115747915680984,
          39.152204,
          39.152204,
          39.152204,
          null,
          null,
          39.1420895,
          39.18543487574541,
          null,
          null,
          null,
          39.1475796,
          39.1475796,
          39.1089615,
          39.179475102208315,
          39.18093615,
          39.14222585,
          39.143695,
          39.15306206650691,
          null,
          null,
          39.15439517775158,
          39.15439517775158,
          39.2388035,
          39.2388035,
          null,
          39.2834443058446,
          39.2834443058446,
          39.2834443058446,
          39.2834443058446,
          39.28967595,
          39.28967595,
          null,
          null,
          39.2379436,
          39.1444302,
          39.1444302,
          39.1444302,
          38.99261158333333,
          38.99261158333333,
          38.9947906,
          38.9947906,
          39.1500082,
          38.9810441,
          39.179475102208315,
          39.1245655,
          39.1245655,
          39.1775673,
          39.1231469,
          39.1819021,
          39.1979099,
          39.180195,
          39.0093475,
          39.0093475,
          null,
          null,
          39.061868,
          39.03904136734694,
          39.0355341,
          null,
          null,
          39.039685530612246,
          null,
          null,
          39.04147348979592,
          38.9750251,
          38.9750251,
          38.99778167635398,
          39.0400472,
          null,
          null,
          null,
          39.1166494,
          39.1166494,
          39.0501787,
          39.0501787,
          39.28967595,
          38.9914874,
          null,
          39.03953687755102,
          39.039685530612246,
          39.118668,
          39.085512,
          39.085512,
          39.085512,
          39.1433438,
          39.1433438,
          39.1292598,
          39.1292598,
          39.1292598,
          39.179475102208315,
          null,
          39.01493575,
          39.1008427,
          39.085512,
          39.085512,
          39.085512,
          39.1143509,
          38.9744221879884,
          38.9744221879884,
          38.9744221879884,
          38.9960146,
          38.9741537,
          null,
          39.03585,
          39.03585,
          39.1175087,
          39.141936400000006,
          39.1645596,
          39.01493575,
          null,
          39.01493575,
          39.01493575,
          null,
          38.99229825,
          38.99702055,
          null,
          38.993092,
          38.993092,
          38.99229825,
          38.9876824,
          38.9898183,
          38.99069373469388,
          39.093489,
          39.1425576,
          38.992377,
          38.991718,
          38.9956504,
          38.99263133333333,
          null,
          39.040191,
          39.040191,
          39.1226905,
          39.0157402,
          39.1248173,
          39.0914079,
          38.9906014,
          38.9914874,
          38.98998491666667,
          38.98998491666667,
          38.9928644,
          38.987118462105684,
          38.988957469387756,
          38.9979273,
          38.97429655315256,
          39.143528849999996,
          38.9945068,
          null,
          39.1444302,
          39.008693134542355,
          38.98996987755102,
          38.98996987755102,
          38.98888457142857,
          38.989067285714285,
          null,
          39.0157402,
          39.0157402,
          null,
          39.039908,
          39.008693134542355,
          38.980524789473684,
          38.980524789473684,
          38.9831456,
          38.9831456,
          38.9831456,
          39.15291935,
          39.12898395,
          39.1292598,
          38.9818258,
          38.98871571428572,
          null,
          39.114949316853796,
          38.9890033,
          39.0211099,
          39.0003696,
          38.99265055,
          39.02097874210191,
          39.02097874210191,
          39.021438,
          39.00805941891892,
          38.993958346938776,
          null,
          38.990472653061225,
          39.182643,
          38.989907301939525,
          39.0655207,
          38.99535,
          38.99535,
          38.99702055,
          39.1106369,
          39.1106369,
          39.1455637,
          null,
          39.11637941524913,
          39.11637941524913,
          38.989600764705884,
          null,
          38.9971305,
          38.9888431,
          38.9888061,
          38.9888061,
          null,
          38.9966583,
          39.177932846153844,
          39.1475796,
          39.1459638,
          39.20469475,
          39.106375616161614,
          39.0586561,
          null,
          null,
          null,
          null,
          38.998097955261166,
          38.998097955261166,
          null,
          38.99857332332426,
          38.9869488,
          38.990547,
          38.990547,
          38.98872144897959,
          38.980707107569046,
          39.0157402,
          38.9820079,
          39.0655207,
          39.0655207,
          38.9811415,
          38.981357897959185,
          38.981357897959185,
          38.98139,
          38.98139,
          38.9819987,
          38.9819987,
          38.9819987,
          38.9817932,
          38.989907301939525,
          39.141816285714285,
          39.141816285714285,
          39.141816285714285,
          null,
          null,
          null,
          39.0214162,
          39.0214162,
          39.0214162,
          null,
          39.03356794808669,
          39.05643459090909,
          null,
          39.02556356253034,
          38.9441713,
          38.975375,
          39.01719335,
          39.01719335,
          39.01719335,
          39.05701125,
          39.1868161,
          39.1868161,
          39.10639246705118,
          null,
          null,
          null,
          null,
          null,
          null,
          39.07437734337349,
          39.07437734337349,
          39.07437734337349,
          39.07482783381962,
          39.1779191,
          null,
          39.17929152966844,
          39.17929152966844,
          39.17929152966844,
          39.17999538053491,
          null,
          null,
          39.1218445,
          null,
          39.093625140155524,
          39.093625140155524,
          39.1234721,
          39.1143509,
          39.1143509,
          38.9915027,
          38.99382584532019,
          39.12898395,
          38.974505944545626,
          39.12898395,
          39.039860653061226,
          39.040191,
          39.040191,
          38.9971305,
          38.98890526530612,
          39.00805941891892,
          39.0157402,
          38.98890526530612,
          39.1234721,
          39.1008427,
          39.1008427,
          39.1243133,
          39.06353599220674,
          39.093442,
          39.093442,
          null,
          null,
          null,
          39.040330673469384,
          39.04051042857142,
          39.140862130649275,
          39.086231,
          39.086231,
          39.093489,
          39.04020605962505,
          39.1421769512826,
          null,
          null,
          39.04020605962505,
          null,
          39.039108465151116,
          39.04020281192501,
          39.086231,
          39.0157402,
          39.04173375,
          39.04173375,
          null,
          null,
          39.07437734337349,
          39.06916820390183,
          null,
          39.086231,
          39.03966362756875,
          39.03966362756875,
          39.0355341,
          39.03585,
          39.03585,
          null,
          38.9964816,
          38.9964816,
          null,
          39.03960890503173,
          39.140862130649275,
          39.15488120815368,
          null,
          null,
          null,
          null,
          null,
          38.98890526530612,
          39.1040733,
          null,
          null,
          null,
          null,
          null,
          39.1110397,
          39.1173327,
          39.03987287831272,
          39.0572511,
          39.063596665902246,
          39.06307660799537,
          39.06307660799537,
          null,
          null,
          null,
          39.05854254010539,
          39.06580958755448,
          39.0586561,
          39.0586561,
          39.084082,
          39.1143509,
          null,
          null,
          39.06335073894634,
          39.0888995,
          null,
          39.07779438064628,
          39.07779438064628,
          39.07779438064628,
          39.0247476,
          39.0847348,
          39.0847348,
          39.1979099,
          39.180195,
          39.1979099,
          39.20227745,
          39.180195,
          null,
          39.0406292,
          39.040676,
          39.0409912,
          39.05701125,
          39.0016961,
          39.14214460826296,
          39.03960890503173,
          null,
          39.0982451,
          39.08558658333333,
          39.071275,
          39.074074473895585,
          null,
          39.201833,
          39.1788945,
          null,
          null,
          null,
          null,
          null,
          null,
          39.140862130649275,
          38.9964816,
          null,
          38.98431735,
          null,
          38.98493900027173,
          38.98493900027173,
          38.98493900027173,
          38.9881328,
          39.104064,
          39.133045,
          39.2010678,
          39.130634343066035,
          39.130634343066035,
          null,
          null,
          null,
          null,
          39.141936400000006,
          39.142029449999995,
          39.142029449999995,
          null,
          null,
          39.160638642857144,
          39.18109265,
          39.18060655,
          39.1834531,
          39.1142267,
          39.04939,
          39.1219563,
          39.1219563,
          39.07437734337349,
          39.1292598,
          39.1292598,
          38.9928644,
          39.0157402,
          39.1245655,
          39.1175087,
          null,
          39.0586561,
          39.086231,
          39.0157402,
          39.16024400151952,
          39.0004921,
          39.02097874210191,
          39.04939,
          39.027926,
          39.150809295918364,
          39.1421769512826,
          39.1421769512826,
          39.1421769512826,
          39.15488455,
          39.15488455,
          39.13573751774924,
          39.115747915680984,
          39.1217204,
          39.0867546,
          39.1475796,
          39.14653920000001,
          39.14653920000001,
          39.039908,
          39.1175087,
          39.1166494,
          39.1220792,
          39.1134857,
          39.13577030063653,
          39.126946,
          39.126946,
          null,
          39.15291935,
          39.15291935,
          39.15291935,
          39.1171361,
          39.1167066,
          39.1143145,
          null,
          38.9919378,
          null,
          null,
          38.98139,
          38.9824443,
          39.111933,
          39.03966362756875,
          39.002099080551865,
          39.002099080551865,
          39.0164491,
          39.0215021,
          39.0215021,
          39.01233059787804,
          38.9912274,
          39.0016961,
          38.9956334,
          39.16382145,
          null,
          39.15291935,
          39.15291935,
          38.991278,
          38.99905555,
          38.99905555,
          38.99905555,
          38.9856873,
          38.991927122448985,
          38.98493900027173,
          38.97425467487395,
          38.97425467487395,
          39.0157402,
          39.0157402,
          39.0157402,
          39.0157402,
          39.0157402,
          39.1166494,
          38.98913085714286,
          38.99014555173807,
          38.98995855771059,
          39.111933,
          39.111933,
          39.17695245,
          null,
          38.9814452,
          38.9814452,
          null,
          38.997061099999996,
          39.0093475,
          38.99814954324767,
          39.1166494,
          39.027926,
          39.1166494,
          39.1166494,
          38.98262876599038,
          38.98262876599038,
          null,
          39.1166494,
          39.008693134542355,
          38.9911789,
          38.99001675,
          39.0653747,
          null,
          38.9960146,
          38.973458583125776,
          38.9971305,
          null,
          39.028293,
          39.1231469,
          null,
          39.036753380307346,
          null,
          null,
          38.98697573079014,
          38.98697573079014,
          null,
          null,
          39.03904136734694,
          39.0428632164972,
          39.0428632164972,
          39.085330150000004,
          39.085330150000004,
          39.085330150000004
         ],
         "legendgroup": "",
         "lon": [
          -77.01326413525605,
          -76.98814714615902,
          -76.98814714615902,
          -76.98814714615902,
          null,
          -77.23474192889417,
          -77.23474192889417,
          -77.2735302,
          null,
          -77.1520479,
          -77.09833110204082,
          -77.09833110204082,
          -77.09612400455666,
          -77.09612400455666,
          -77.09749100369302,
          -77.0964201,
          -77.0957562,
          -77.0954615,
          -77.09813485714285,
          null,
          -77.08336809090909,
          -77.08336809090909,
          -77.0287784,
          -77.08160629941511,
          -77.08160629941511,
          -77.08344871428571,
          -77.08344871428571,
          null,
          -77.2735678,
          -77.09689335294118,
          null,
          null,
          null,
          -77.052877,
          -77.06388213557206,
          null,
          -77.067027,
          -77.0716129,
          -77.02648991836735,
          -77.057955,
          null,
          null,
          -77.067027,
          -77.098958,
          -77.098958,
          null,
          -77.092708,
          -77.092708,
          -77.1169554,
          -77.1169554,
          -77.1169554,
          -77.10666245,
          null,
          -77.19888840000002,
          null,
          null,
          -77.09943903838155,
          -77.09949884605786,
          -77.0968942,
          -77.0967105,
          -77.1460316,
          -77.06883812122973,
          -77.09763812244897,
          null,
          null,
          null,
          null,
          null,
          null,
          -77.13279557142857,
          null,
          null,
          -77.2494971,
          -77.2494971,
          -77.03017159890564,
          null,
          null,
          null,
          null,
          null,
          null,
          -77.2045334,
          null,
          null,
          -77.1587549168796,
          -77.12500800000001,
          -77.12500800000001,
          -77.11680695918368,
          -77.12355879661723,
          -77.12355879661723,
          -77.12355879661723,
          -77.1189082,
          -77.09397762508787,
          -77.12374238139472,
          -77.093446,
          -77.093446,
          -77.06782576155013,
          null,
          null,
          -77.19669695492125,
          -77.0967658,
          -77.097213256232,
          -77.09685108163265,
          -77.0962831,
          -77.096991,
          -77.09889428571428,
          -77.09904385714286,
          -77.09846751020409,
          null,
          null,
          -77.12750620969042,
          -77.13597436710572,
          -77.13597436710572,
          -77.13597436710572,
          -77.1203217,
          -77.0263599,
          -77.26138270342067,
          -77.02653225,
          -77.2686267,
          -77.20545429945753,
          -77.20545429945753,
          null,
          null,
          null,
          -77.2057490682522,
          -77.1971755,
          null,
          null,
          null,
          -77.1171829,
          null,
          null,
          -77.1401117727007,
          -77.1401117727007,
          -77.13264255102041,
          -77.13264255102041,
          -77.12528919509484,
          -77.12528919509484,
          -77.1096966,
          -77.09689335294118,
          null,
          null,
          null,
          null,
          -77.10759691916681,
          -77.10759691916681,
          -77.10759691916681,
          -77.10759691916681,
          -77.10759691916681,
          -77.10759691916681,
          -77.1213411,
          -77.1213411,
          -77.1213411,
          -77.19437246288334,
          -77.0967539,
          -77.067027,
          -77.06173942857143,
          -77.0257357,
          -77.0257357,
          -77.0257357,
          -77.0257357,
          -77.0257357,
          -77.026964,
          -77.151961,
          null,
          -77.1364203651608,
          -77.1364203651608,
          -77.1527255,
          -77.1527255,
          -77.1510647,
          -77.1510647,
          -77.235203,
          -77.235203,
          -77.26135151429727,
          -77.26135151429727,
          -77.25011829307479,
          -77.19873565306122,
          -77.19873565306122,
          null,
          null,
          -77.15044403150489,
          -77.15044403150489,
          null,
          -77.15811189685004,
          -77.15811189685004,
          -77.15811189685004,
          -77.1524065,
          -77.1524065,
          -77.1524065,
          -77.2087106,
          -77.19437246288334,
          -77.19437246288334,
          -77.19437246288334,
          null,
          -77.02653225,
          -77.02653225,
          -77.20545429945753,
          -77.052877,
          -77.09799081632653,
          -77.2326126,
          null,
          null,
          -77.157818,
          -77.1161949,
          -77.1161949,
          -77.1161949,
          -76.9363388,
          -77.0961397,
          null,
          null,
          null,
          -77.28138046938776,
          -77.40946907431915,
          -77.40946907431915,
          -77.1524065,
          -77.05251273469388,
          null,
          null,
          -77.001255,
          -77.19437246288334,
          -77.19437246288334,
          -77.19437246288334,
          null,
          -77.02649895454546,
          -77.0257357,
          -77.26138270342067,
          -77.03017159890564,
          -77.19600198769824,
          null,
          -77.0278347,
          null,
          -77.010517,
          null,
          null,
          -77.0236094,
          -77.1855122,
          null,
          -77.0257357,
          -77.180825,
          -77.0293589,
          -77.05406359112202,
          null,
          -77.1203217,
          -77.22168146229096,
          -77.2188765,
          null,
          -77.239757,
          null,
          null,
          -77.1873926,
          -77.02899980000001,
          -77.09559670408163,
          -77.09559670408163,
          null,
          null,
          -77.24036874534242,
          null,
          -77.0958574,
          null,
          null,
          -77.0958574,
          -77.0958574,
          -77.0483782,
          -77.1527255,
          -77.1848878,
          null,
          -77.125706,
          -77.28060169387756,
          -77.1897983,
          -77.1873926,
          null,
          -77.1792262,
          -77.1873926,
          null,
          null,
          -77.07258890988565,
          -77.1213411,
          -77.1572139,
          -77.15927098510035,
          null,
          null,
          -77.1567896,
          null,
          null,
          -77.15691187838678,
          -77.1873926,
          null,
          -77.1510647,
          -77.152832,
          null,
          -77.014128,
          -77.03963786885247,
          -77.03963786885247,
          -77.11634615774572,
          -77.11634615774572,
          -77.124356,
          -77.1172258,
          -77.1186558,
          -77.12300285714285,
          -77.12403967346938,
          -77.152081,
          null,
          -77.2188765,
          -77.15696220865841,
          -77.1848878,
          -77.150812,
          -77.1161949,
          -77.08230207228249,
          null,
          null,
          -77.19804671428572,
          -77.1363852513974,
          -77.14060135025923,
          -77.12293645263843,
          -77.13272238775511,
          -77.13272238775511,
          -77.18536805,
          null,
          -77.18427923949605,
          -77.1326092857143,
          -77.2165837,
          -77.140608,
          -77.1979014,
          null,
          null,
          null,
          -77.19201825393212,
          null,
          -77.0255967372195,
          -77.02649013888889,
          null,
          -77.2336371,
          -77.2133841,
          -76.99557946603198,
          -77.052144,
          null,
          null,
          -77.19185448545656,
          -77.053373,
          -77.25011829307479,
          -77.239757,
          -77.2376635314911,
          -77.20720322642677,
          -77.05251273469388,
          -77.05251273469388,
          -77.01448994459709,
          null,
          null,
          -77.26138270342067,
          null,
          null,
          -77.0263765,
          null,
          null,
          -77.22245794037303,
          -77.2255354,
          -77.20546499782192,
          -77.20546499782192,
          -77.20546499782192,
          -77.25938632747882,
          -77.2013037,
          -77.2661115,
          null,
          null,
          null,
          null,
          null,
          null,
          -77.26138270342067,
          null,
          -77.1874205,
          -77.20674855767594,
          -77.20674855767594,
          -77.20674855767594,
          -77.1971755,
          -77.1971755,
          -77.20404941273483,
          -77.1725418,
          -77.1725418,
          -77.1725418,
          null,
          null,
          -77.19599146160911,
          -77.18925939009677,
          null,
          null,
          null,
          -77.1460316,
          -77.1460316,
          -76.9363388,
          -77.23831032263958,
          -77.27205397084549,
          -77.19773386590501,
          -77.2174621,
          -77.19867235158705,
          null,
          null,
          -77.19669695492125,
          -77.19669695492125,
          -77.27915975,
          -77.27915975,
          null,
          -77.21089108104601,
          -77.21089108104601,
          -77.21089108104601,
          -77.21089108104601,
          -77.20513162291894,
          -77.20513162291894,
          null,
          null,
          -77.2764202,
          -77.2185632,
          -77.2185632,
          -77.2185632,
          -77.02649013888889,
          -77.02649013888889,
          -77.0252185,
          -77.0252185,
          -77.012913,
          -77.097258,
          -77.23831032263958,
          -77.236983,
          -77.236983,
          -77.2382332495155,
          -77.2366579,
          -77.2652694,
          -77.2542768,
          -77.2686267,
          -76.9796375,
          -76.9796375,
          null,
          null,
          -77.124356,
          -77.05083992857143,
          -77.052144,
          null,
          null,
          -77.05103678571429,
          null,
          null,
          -77.04843936734694,
          -77.0122986,
          -77.0122986,
          -77.02685013818059,
          -77.0513606,
          null,
          null,
          null,
          -77.2165837,
          -77.2165837,
          -77.1161949,
          -77.1161949,
          -77.20513162291894,
          -77.0261537,
          null,
          -77.05099135714286,
          -77.05103678571429,
          -77.18308436734694,
          -77.1510615,
          -77.1510615,
          -77.1510615,
          -77.2188765,
          -77.2188765,
          -77.18565966807108,
          -77.18565966807108,
          -77.18565966807108,
          -77.23831032263958,
          null,
          -77.10666245,
          -77.0749673,
          -77.1510615,
          -77.1510615,
          -77.1510615,
          -77.1708971,
          -76.9954345752674,
          -76.9954345752674,
          -76.9954345752674,
          -77.0283063,
          -77.0123738,
          null,
          -77.0498435,
          -77.0498435,
          -77.1855122,
          -77.19355583644284,
          -77.2735678,
          -77.10666245,
          null,
          -77.10666245,
          -77.10666245,
          null,
          -77.02647999999999,
          -77.02664820845709,
          null,
          -77.026508,
          -77.026508,
          -77.02647999999999,
          -77.0975584,
          -77.0979171,
          -77.09813485714285,
          -77.1203217,
          -77.19342395,
          -77.026483,
          -77.026469,
          -77.0247958740113,
          -77.02649055555555,
          null,
          -77.051573,
          -77.051573,
          -77.2326126,
          -76.9776253,
          -77.180825,
          -77.1848878,
          -77.0298019,
          -77.0261537,
          -77.02653341666667,
          -77.02653341666667,
          -77.0263599,
          -77.09612400455666,
          -77.09863551020408,
          -77.0286378,
          -76.99557946603198,
          -77.21747406700663,
          -77.0256901,
          null,
          -77.2185632,
          -77.04087955796096,
          -77.09526446938774,
          -77.09526446938774,
          -77.09844214285715,
          -77.09826457142857,
          null,
          -76.9776253,
          -76.9776253,
          null,
          -77.053373,
          -77.04087955796096,
          -77.09221621052632,
          -77.09221621052632,
          -77.0933909,
          -77.0933909,
          -77.0933909,
          -77.19662446028352,
          -77.18536805,
          -77.18565966807108,
          -77.0977274,
          -77.09767857142857,
          null,
          -77.20478778834352,
          -77.0976716,
          -77.0129367,
          -77.0173417,
          -77.04907723338383,
          -77.01205317034056,
          -77.01205317034056,
          -77.011856,
          -77.04011171621622,
          -77.02253014285715,
          null,
          -77.02386608163266,
          -77.109489,
          -77.09744050415466,
          -77.15059065488532,
          -77.0271602,
          -77.0271602,
          -77.02664820845709,
          -77.0755935,
          -77.0755935,
          -77.4183487,
          null,
          -76.96613830338183,
          -76.96613830338183,
          -77.09823832352942,
          null,
          -77.0293589,
          -77.1007905,
          -77.1007019,
          -77.1007019,
          null,
          -77.0302758,
          -77.27167606593406,
          -77.1460316,
          -77.4168558,
          -77.1404031099037,
          -77.15172032323233,
          -77.1213411,
          null,
          null,
          null,
          null,
          -77.03830412042966,
          -77.03830412042966,
          null,
          -77.03981650941807,
          -77.09826715006304,
          -77.0967539,
          -77.0967539,
          -77.09740853061224,
          -77.09980413965683,
          -76.9776253,
          -77.0967658,
          -77.15059065488532,
          -77.15059065488532,
          -77.097956,
          -77.09833959183673,
          -77.09833959183673,
          -77.09799081632653,
          -77.09799081632653,
          -77.0968942,
          -77.0968942,
          -77.0968942,
          -77.0962192,
          -77.09744050415466,
          -77.19601514285714,
          -77.19601514285714,
          -77.19601514285714,
          null,
          null,
          null,
          -77.1399852,
          -77.1399852,
          -77.1399852,
          null,
          -77.07258890988565,
          -77.08336809090909,
          null,
          -77.07178888633658,
          -77.1167329,
          -77.161596,
          -77.2107049,
          -77.2107049,
          -77.2107049,
          -77.10759691916681,
          -77.25215732023571,
          -77.25215732023571,
          -77.15811189685004,
          null,
          null,
          null,
          null,
          null,
          null,
          -77.11309501204819,
          -77.11309501204819,
          -77.11309501204819,
          -77.1364905926876,
          -77.2661115,
          null,
          -77.24036874534242,
          -77.24036874534242,
          -77.24036874534242,
          -77.23977215376507,
          null,
          null,
          -77.235203,
          null,
          -77.15362021830875,
          -77.15362021830875,
          -77.2370213,
          -77.1708971,
          -77.1708971,
          -77.0257357,
          -77.0255967372195,
          -77.18536805,
          -76.99533798142433,
          -77.18536805,
          -77.05251273469388,
          -77.051573,
          -77.051573,
          -77.0293589,
          -77.09868624489795,
          -77.04011171621622,
          -76.9776253,
          -77.09868624489795,
          -77.2370213,
          -77.0749673,
          -77.0749673,
          -77.157929,
          -77.12528919509484,
          -77.123169,
          -77.123169,
          null,
          null,
          null,
          -77.05059071428572,
          -77.04939385714286,
          -77.22168146229096,
          -77.152081,
          -77.152081,
          -77.1203217,
          -77.0497650018637,
          -77.19437246288334,
          null,
          null,
          -77.0497650018637,
          null,
          -77.05163977447386,
          -77.04972340037274,
          -77.152081,
          -76.9776253,
          -77.0479905,
          -77.0479905,
          null,
          null,
          -77.11309501204819,
          -77.1301004120463,
          null,
          -77.152081,
          -77.05396044743102,
          -77.05396044743102,
          -77.052144,
          -77.0498435,
          -77.0498435,
          null,
          -77.0287784,
          -77.0287784,
          null,
          -77.05406359112202,
          -77.22168146229096,
          -77.06369869329886,
          null,
          null,
          null,
          null,
          null,
          -77.09868624489795,
          -77.1897983,
          null,
          null,
          null,
          null,
          null,
          -77.1873926,
          -77.1989699,
          -77.15695543641341,
          -77.1213396,
          -77.12533655000338,
          -77.12490866420879,
          -77.12490866420879,
          null,
          null,
          null,
          -77.11897241966831,
          -77.12705969091215,
          -77.1213411,
          -77.1213411,
          -77.154656,
          -77.1708971,
          null,
          null,
          -77.12750620969042,
          -77.15407847278232,
          null,
          -77.1401117727007,
          -77.1401117727007,
          -77.1401117727007,
          -77.1253328,
          -77.1527255,
          -77.1527255,
          -77.2542768,
          -77.2686267,
          -77.2542768,
          -77.25938632747882,
          -77.2686267,
          null,
          -77.1555153,
          -77.1554615,
          -77.1570706,
          -77.10759691916681,
          -77.1096966,
          -77.22119808659998,
          -77.05406359112202,
          null,
          -77.13580350000001,
          -77.151849,
          -77.1326092857143,
          -77.11243383534138,
          null,
          -77.2461273,
          -77.23799795,
          null,
          null,
          null,
          null,
          null,
          null,
          -77.22168146229096,
          -77.0287784,
          null,
          -77.09606487949507,
          null,
          -77.09587469216137,
          -77.09587469216137,
          -77.09587469216137,
          -77.0962282,
          -77.29324,
          -77.398391,
          -77.2470505,
          -77.20683369437182,
          -77.20683369437182,
          null,
          null,
          null,
          null,
          -77.19355583644284,
          -77.19888840000002,
          -77.19888840000002,
          null,
          null,
          -77.27954589795918,
          -77.26669204860714,
          -77.26832809999999,
          -77.26173745,
          -77.2077006,
          -77.1162308,
          -77.2383761,
          -77.2383761,
          -77.11309501204819,
          -77.18565966807108,
          -77.18565966807108,
          -77.0263599,
          -76.9776253,
          -77.236983,
          -77.1855122,
          null,
          -77.1213411,
          -77.152081,
          -76.9776253,
          -77.22245794037303,
          -76.99595073907244,
          -77.01205317034056,
          -77.1162308,
          -77.07669646153846,
          -77.20965079591836,
          -77.19437246288334,
          -77.19437246288334,
          -77.19437246288334,
          -77.20497292504044,
          -77.20497292504044,
          -77.19182558314607,
          -77.20404941273483,
          -77.2349303,
          -77.1509833,
          -77.1460316,
          -77.20415215,
          -77.20415215,
          -77.053373,
          -77.1855122,
          -77.2165837,
          -77.23445489168421,
          -77.1874205,
          -77.19185448545656,
          -77.180119,
          -77.180119,
          null,
          -77.19662446028352,
          -77.19662446028352,
          -77.19662446028352,
          -77.198504,
          -77.1979014,
          -77.20526555000001,
          null,
          -77.0242871,
          null,
          null,
          -77.09799081632653,
          -77.09304,
          -77.1614581,
          -77.05396044743102,
          -77.053171005384,
          -77.053171005384,
          -77.0187655,
          -76.9395644,
          -76.9395644,
          -77.0295519690913,
          -77.0959347,
          -77.1096966,
          -77.0247557,
          -77.2255354,
          null,
          -77.19662446028352,
          -77.19662446028352,
          -77.014128,
          -77.00232150742197,
          -77.00232150742197,
          -77.00232150742197,
          -77.0961397,
          -77.01009542857143,
          -77.09587469216137,
          -76.99562776295352,
          -76.99562776295352,
          -76.9776253,
          -76.9776253,
          -76.9776253,
          -76.9776253,
          -76.9776253,
          -77.2165837,
          -77.09745385714285,
          -77.09747902103435,
          -77.09739000461629,
          -77.1614581,
          -77.1614581,
          -77.2389728040718,
          null,
          -77.0960185,
          -77.0960185,
          null,
          -77.03270800509875,
          -76.9796375,
          -77.03846827115352,
          -77.2165837,
          -77.07669646153846,
          -77.2165837,
          -77.2165837,
          -77.09397327479519,
          -77.09397327479519,
          null,
          -77.2165837,
          -77.04087955796096,
          -77.0294874,
          -77.02653225,
          -77.12772538926663,
          null,
          -77.0283063,
          -77.15541871516724,
          -77.0293589,
          null,
          -77.008974,
          -77.2366579,
          null,
          -77.05063898164278,
          null,
          null,
          -76.98814714615902,
          -76.98814714615902,
          null,
          null,
          -77.05083992857143,
          -77.0522466864871,
          -77.0522466864871,
          -77.0777321177553,
          -77.0777321177553,
          -77.0777321177553
         ],
         "marker": {
          "color": "#636efa"
         },
         "mode": "markers",
         "name": "",
         "showlegend": false,
         "subplot": "mapbox",
         "type": "scattermapbox"
        }
       ],
       "layout": {
        "legend": {
         "tracegroupgap": 0
        },
        "mapbox": {
         "center": {
          "lat": 39.067911246913404,
          "lon": -77.12568645355933
         },
         "domain": {
          "x": [
           0,
           1
          ],
          "y": [
           0,
           1
          ]
         },
         "style": "open-street-map",
         "zoom": 9
        },
        "margin": {
         "b": 0,
         "l": 0,
         "r": 0,
         "t": 0
        },
        "template": {
         "data": {
          "bar": [
           {
            "error_x": {
             "color": "#2a3f5f"
            },
            "error_y": {
             "color": "#2a3f5f"
            },
            "marker": {
             "line": {
              "color": "#E5ECF6",
              "width": 0.5
             }
            },
            "type": "bar"
           }
          ],
          "barpolar": [
           {
            "marker": {
             "line": {
              "color": "#E5ECF6",
              "width": 0.5
             }
            },
            "type": "barpolar"
           }
          ],
          "carpet": [
           {
            "aaxis": {
             "endlinecolor": "#2a3f5f",
             "gridcolor": "white",
             "linecolor": "white",
             "minorgridcolor": "white",
             "startlinecolor": "#2a3f5f"
            },
            "baxis": {
             "endlinecolor": "#2a3f5f",
             "gridcolor": "white",
             "linecolor": "white",
             "minorgridcolor": "white",
             "startlinecolor": "#2a3f5f"
            },
            "type": "carpet"
           }
          ],
          "choropleth": [
           {
            "colorbar": {
             "outlinewidth": 0,
             "ticks": ""
            },
            "type": "choropleth"
           }
          ],
          "contour": [
           {
            "colorbar": {
             "outlinewidth": 0,
             "ticks": ""
            },
            "colorscale": [
             [
              0,
              "#0d0887"
             ],
             [
              0.1111111111111111,
              "#46039f"
             ],
             [
              0.2222222222222222,
              "#7201a8"
             ],
             [
              0.3333333333333333,
              "#9c179e"
             ],
             [
              0.4444444444444444,
              "#bd3786"
             ],
             [
              0.5555555555555556,
              "#d8576b"
             ],
             [
              0.6666666666666666,
              "#ed7953"
             ],
             [
              0.7777777777777778,
              "#fb9f3a"
             ],
             [
              0.8888888888888888,
              "#fdca26"
             ],
             [
              1,
              "#f0f921"
             ]
            ],
            "type": "contour"
           }
          ],
          "contourcarpet": [
           {
            "colorbar": {
             "outlinewidth": 0,
             "ticks": ""
            },
            "type": "contourcarpet"
           }
          ],
          "heatmap": [
           {
            "colorbar": {
             "outlinewidth": 0,
             "ticks": ""
            },
            "colorscale": [
             [
              0,
              "#0d0887"
             ],
             [
              0.1111111111111111,
              "#46039f"
             ],
             [
              0.2222222222222222,
              "#7201a8"
             ],
             [
              0.3333333333333333,
              "#9c179e"
             ],
             [
              0.4444444444444444,
              "#bd3786"
             ],
             [
              0.5555555555555556,
              "#d8576b"
             ],
             [
              0.6666666666666666,
              "#ed7953"
             ],
             [
              0.7777777777777778,
              "#fb9f3a"
             ],
             [
              0.8888888888888888,
              "#fdca26"
             ],
             [
              1,
              "#f0f921"
             ]
            ],
            "type": "heatmap"
           }
          ],
          "heatmapgl": [
           {
            "colorbar": {
             "outlinewidth": 0,
             "ticks": ""
            },
            "colorscale": [
             [
              0,
              "#0d0887"
             ],
             [
              0.1111111111111111,
              "#46039f"
             ],
             [
              0.2222222222222222,
              "#7201a8"
             ],
             [
              0.3333333333333333,
              "#9c179e"
             ],
             [
              0.4444444444444444,
              "#bd3786"
             ],
             [
              0.5555555555555556,
              "#d8576b"
             ],
             [
              0.6666666666666666,
              "#ed7953"
             ],
             [
              0.7777777777777778,
              "#fb9f3a"
             ],
             [
              0.8888888888888888,
              "#fdca26"
             ],
             [
              1,
              "#f0f921"
             ]
            ],
            "type": "heatmapgl"
           }
          ],
          "histogram": [
           {
            "marker": {
             "colorbar": {
              "outlinewidth": 0,
              "ticks": ""
             }
            },
            "type": "histogram"
           }
          ],
          "histogram2d": [
           {
            "colorbar": {
             "outlinewidth": 0,
             "ticks": ""
            },
            "colorscale": [
             [
              0,
              "#0d0887"
             ],
             [
              0.1111111111111111,
              "#46039f"
             ],
             [
              0.2222222222222222,
              "#7201a8"
             ],
             [
              0.3333333333333333,
              "#9c179e"
             ],
             [
              0.4444444444444444,
              "#bd3786"
             ],
             [
              0.5555555555555556,
              "#d8576b"
             ],
             [
              0.6666666666666666,
              "#ed7953"
             ],
             [
              0.7777777777777778,
              "#fb9f3a"
             ],
             [
              0.8888888888888888,
              "#fdca26"
             ],
             [
              1,
              "#f0f921"
             ]
            ],
            "type": "histogram2d"
           }
          ],
          "histogram2dcontour": [
           {
            "colorbar": {
             "outlinewidth": 0,
             "ticks": ""
            },
            "colorscale": [
             [
              0,
              "#0d0887"
             ],
             [
              0.1111111111111111,
              "#46039f"
             ],
             [
              0.2222222222222222,
              "#7201a8"
             ],
             [
              0.3333333333333333,
              "#9c179e"
             ],
             [
              0.4444444444444444,
              "#bd3786"
             ],
             [
              0.5555555555555556,
              "#d8576b"
             ],
             [
              0.6666666666666666,
              "#ed7953"
             ],
             [
              0.7777777777777778,
              "#fb9f3a"
             ],
             [
              0.8888888888888888,
              "#fdca26"
             ],
             [
              1,
              "#f0f921"
             ]
            ],
            "type": "histogram2dcontour"
           }
          ],
          "mesh3d": [
           {
            "colorbar": {
             "outlinewidth": 0,
             "ticks": ""
            },
            "type": "mesh3d"
           }
          ],
          "parcoords": [
           {
            "line": {
             "colorbar": {
              "outlinewidth": 0,
              "ticks": ""
             }
            },
            "type": "parcoords"
           }
          ],
          "pie": [
           {
            "automargin": true,
            "type": "pie"
           }
          ],
          "scatter": [
           {
            "marker": {
             "colorbar": {
              "outlinewidth": 0,
              "ticks": ""
             }
            },
            "type": "scatter"
           }
          ],
          "scatter3d": [
           {
            "line": {
             "colorbar": {
              "outlinewidth": 0,
              "ticks": ""
             }
            },
            "marker": {
             "colorbar": {
              "outlinewidth": 0,
              "ticks": ""
             }
            },
            "type": "scatter3d"
           }
          ],
          "scattercarpet": [
           {
            "marker": {
             "colorbar": {
              "outlinewidth": 0,
              "ticks": ""
             }
            },
            "type": "scattercarpet"
           }
          ],
          "scattergeo": [
           {
            "marker": {
             "colorbar": {
              "outlinewidth": 0,
              "ticks": ""
             }
            },
            "type": "scattergeo"
           }
          ],
          "scattergl": [
           {
            "marker": {
             "colorbar": {
              "outlinewidth": 0,
              "ticks": ""
             }
            },
            "type": "scattergl"
           }
          ],
          "scattermapbox": [
           {
            "marker": {
             "colorbar": {
              "outlinewidth": 0,
              "ticks": ""
             }
            },
            "type": "scattermapbox"
           }
          ],
          "scatterpolar": [
           {
            "marker": {
             "colorbar": {
              "outlinewidth": 0,
              "ticks": ""
             }
            },
            "type": "scatterpolar"
           }
          ],
          "scatterpolargl": [
           {
            "marker": {
             "colorbar": {
              "outlinewidth": 0,
              "ticks": ""
             }
            },
            "type": "scatterpolargl"
           }
          ],
          "scatterternary": [
           {
            "marker": {
             "colorbar": {
              "outlinewidth": 0,
              "ticks": ""
             }
            },
            "type": "scatterternary"
           }
          ],
          "surface": [
           {
            "colorbar": {
             "outlinewidth": 0,
             "ticks": ""
            },
            "colorscale": [
             [
              0,
              "#0d0887"
             ],
             [
              0.1111111111111111,
              "#46039f"
             ],
             [
              0.2222222222222222,
              "#7201a8"
             ],
             [
              0.3333333333333333,
              "#9c179e"
             ],
             [
              0.4444444444444444,
              "#bd3786"
             ],
             [
              0.5555555555555556,
              "#d8576b"
             ],
             [
              0.6666666666666666,
              "#ed7953"
             ],
             [
              0.7777777777777778,
              "#fb9f3a"
             ],
             [
              0.8888888888888888,
              "#fdca26"
             ],
             [
              1,
              "#f0f921"
             ]
            ],
            "type": "surface"
           }
          ],
          "table": [
           {
            "cells": {
             "fill": {
              "color": "#EBF0F8"
             },
             "line": {
              "color": "white"
             }
            },
            "header": {
             "fill": {
              "color": "#C8D4E3"
             },
             "line": {
              "color": "white"
             }
            },
            "type": "table"
           }
          ]
         },
         "layout": {
          "annotationdefaults": {
           "arrowcolor": "#2a3f5f",
           "arrowhead": 0,
           "arrowwidth": 1
          },
          "coloraxis": {
           "colorbar": {
            "outlinewidth": 0,
            "ticks": ""
           }
          },
          "colorscale": {
           "diverging": [
            [
             0,
             "#8e0152"
            ],
            [
             0.1,
             "#c51b7d"
            ],
            [
             0.2,
             "#de77ae"
            ],
            [
             0.3,
             "#f1b6da"
            ],
            [
             0.4,
             "#fde0ef"
            ],
            [
             0.5,
             "#f7f7f7"
            ],
            [
             0.6,
             "#e6f5d0"
            ],
            [
             0.7,
             "#b8e186"
            ],
            [
             0.8,
             "#7fbc41"
            ],
            [
             0.9,
             "#4d9221"
            ],
            [
             1,
             "#276419"
            ]
           ],
           "sequential": [
            [
             0,
             "#0d0887"
            ],
            [
             0.1111111111111111,
             "#46039f"
            ],
            [
             0.2222222222222222,
             "#7201a8"
            ],
            [
             0.3333333333333333,
             "#9c179e"
            ],
            [
             0.4444444444444444,
             "#bd3786"
            ],
            [
             0.5555555555555556,
             "#d8576b"
            ],
            [
             0.6666666666666666,
             "#ed7953"
            ],
            [
             0.7777777777777778,
             "#fb9f3a"
            ],
            [
             0.8888888888888888,
             "#fdca26"
            ],
            [
             1,
             "#f0f921"
            ]
           ],
           "sequentialminus": [
            [
             0,
             "#0d0887"
            ],
            [
             0.1111111111111111,
             "#46039f"
            ],
            [
             0.2222222222222222,
             "#7201a8"
            ],
            [
             0.3333333333333333,
             "#9c179e"
            ],
            [
             0.4444444444444444,
             "#bd3786"
            ],
            [
             0.5555555555555556,
             "#d8576b"
            ],
            [
             0.6666666666666666,
             "#ed7953"
            ],
            [
             0.7777777777777778,
             "#fb9f3a"
            ],
            [
             0.8888888888888888,
             "#fdca26"
            ],
            [
             1,
             "#f0f921"
            ]
           ]
          },
          "colorway": [
           "#636efa",
           "#EF553B",
           "#00cc96",
           "#ab63fa",
           "#FFA15A",
           "#19d3f3",
           "#FF6692",
           "#B6E880",
           "#FF97FF",
           "#FECB52"
          ],
          "font": {
           "color": "#2a3f5f"
          },
          "geo": {
           "bgcolor": "white",
           "lakecolor": "white",
           "landcolor": "#E5ECF6",
           "showlakes": true,
           "showland": true,
           "subunitcolor": "white"
          },
          "hoverlabel": {
           "align": "left"
          },
          "hovermode": "closest",
          "mapbox": {
           "style": "light"
          },
          "paper_bgcolor": "white",
          "plot_bgcolor": "#E5ECF6",
          "polar": {
           "angularaxis": {
            "gridcolor": "white",
            "linecolor": "white",
            "ticks": ""
           },
           "bgcolor": "#E5ECF6",
           "radialaxis": {
            "gridcolor": "white",
            "linecolor": "white",
            "ticks": ""
           }
          },
          "scene": {
           "xaxis": {
            "backgroundcolor": "#E5ECF6",
            "gridcolor": "white",
            "gridwidth": 2,
            "linecolor": "white",
            "showbackground": true,
            "ticks": "",
            "zerolinecolor": "white"
           },
           "yaxis": {
            "backgroundcolor": "#E5ECF6",
            "gridcolor": "white",
            "gridwidth": 2,
            "linecolor": "white",
            "showbackground": true,
            "ticks": "",
            "zerolinecolor": "white"
           },
           "zaxis": {
            "backgroundcolor": "#E5ECF6",
            "gridcolor": "white",
            "gridwidth": 2,
            "linecolor": "white",
            "showbackground": true,
            "ticks": "",
            "zerolinecolor": "white"
           }
          },
          "shapedefaults": {
           "line": {
            "color": "#2a3f5f"
           }
          },
          "ternary": {
           "aaxis": {
            "gridcolor": "white",
            "linecolor": "white",
            "ticks": ""
           },
           "baxis": {
            "gridcolor": "white",
            "linecolor": "white",
            "ticks": ""
           },
           "bgcolor": "#E5ECF6",
           "caxis": {
            "gridcolor": "white",
            "linecolor": "white",
            "ticks": ""
           }
          },
          "title": {
           "x": 0.05
          },
          "xaxis": {
           "automargin": true,
           "gridcolor": "white",
           "linecolor": "white",
           "ticks": "",
           "title": {
            "standoff": 15
           },
           "zerolinecolor": "white",
           "zerolinewidth": 2
          },
          "yaxis": {
           "automargin": true,
           "gridcolor": "white",
           "linecolor": "white",
           "ticks": "",
           "title": {
            "standoff": 15
           },
           "zerolinecolor": "white",
           "zerolinewidth": 2
          }
         }
        }
       }
      },
      "text/html": [
       "<div>                            <div id=\"89ca6ffd-9d1f-457e-bc3c-6c1cf582cc33\" class=\"plotly-graph-div\" style=\"height:525px; width:100%;\"></div>            <script type=\"text/javascript\">                require([\"plotly\"], function(Plotly) {                    window.PLOTLYENV=window.PLOTLYENV || {};                                    if (document.getElementById(\"89ca6ffd-9d1f-457e-bc3c-6c1cf582cc33\")) {                    Plotly.newPlot(                        \"89ca6ffd-9d1f-457e-bc3c-6c1cf582cc33\",                        [{\"customdata\": [[38.99138597377822, -77.01326413525605], [38.98697573079014, -76.98814714615902], [38.98697573079014, -76.98814714615902], [38.98697573079014, -76.98814714615902], [null, null], [39.123894914438225, -77.23474192889417], [39.123894914438225, -77.23474192889417], [39.1755424, -77.2735302], [null, null], [39.0852353, -77.1520479], [38.98927069387755, -77.09833110204082], [38.98927069387755, -77.09833110204082], [38.987118462105684, -77.09612400455666], [38.987118462105684, -77.09612400455666], [38.98985604616847, -77.09749100369302], [38.9891129, -77.0964201], [38.9819665, -77.0957562], [38.9814586, -77.0954615], [38.99069373469388, -77.09813485714285], [null, null], [39.05643459090909, -77.08336809090909], [39.05643459090909, -77.08336809090909], [38.9964816, -77.0287784], [39.057021291939925, -77.08160629941511], [39.057021291939925, -77.08160629941511], [39.055382785714286, -77.08344871428571], [39.055382785714286, -77.08344871428571], [null, null], [39.1645596, -77.2735678], [38.98082435294118, -77.09689335294118], [null, null], [null, null], [null, null], [39.040105, -77.052877], [39.1515068774244, -77.06388213557206], [null, null], [39.147637, -77.067027], [39.1317698, -77.0716129], [39.149635918367345, -77.02648991836735], [39.177414, -77.057955], [null, null], [null, null], [39.147637, -77.067027], [38.990799, -77.098958], [38.990799, -77.098958], [null, null], [38.98068, -77.092708], [38.98068, -77.092708], [38.9444624, -77.1169554], [38.9444624, -77.1169554], [38.9444624, -77.1169554], [39.01493575, -77.10666245], [null, null], [39.142029449999995, -77.19888840000002], [null, null], [null, null], [38.98088244195773, -77.09943903838155], [38.980879930349275, -77.09949884605786], [38.9819987, -77.0968942], [38.9882534, -77.0967105], [39.1475796, -77.1460316], [39.15411175174163, -77.06883812122973], [38.988485795918365, -77.09763812244897], [null, null], [null, null], [null, null], [null, null], [null, null], [null, null], [39.071481, -77.13279557142857], [null, null], [null, null], [39.2299919, -77.2494971], [39.2299919, -77.2494971], [38.99612745, -77.03017159890564], [null, null], [null, null], [null, null], [null, null], [null, null], [null, null], [39.1149525, -77.2045334], [null, null], [null, null], [39.04067831951807, -77.1587549168796], [39.024686, -77.12500800000001], [39.024686, -77.12500800000001], [39.04921628571429, -77.11680695918368], [39.02267684691909, -77.12355879661723], [39.02267684691909, -77.12355879661723], [39.02267684691909, -77.12355879661723], [39.0151244, -77.1189082], [38.98330452133209, -77.09397762508787], [39.02294165805497, -77.12374238139472], [38.982224, -77.093446], [38.982224, -77.093446], [39.15352762735433, -77.06782576155013], [null, null], [null, null], [39.15439517775158, -77.19669695492125], [38.9820079, -77.0967658], [38.99013795290929, -77.097213256232], [38.988568428571426, -77.09685108163265], [38.9819938, -77.0962831], [38.981243, -77.096991], [38.98999618367347, -77.09889428571428], [38.98987755102041, -77.09904385714286], [38.98885846938776, -77.09846751020409], [null, null], [null, null], [39.06335073894634, -77.12750620969042], [39.08462136406919, -77.13597436710572], [39.08462136406919, -77.13597436710572], [39.08462136406919, -77.13597436710572], [39.093489, -77.1203217], [38.9928644, -77.0263599], [39.1703668, -77.26138270342067], [38.99001675, -77.02653225], [39.180195, -77.2686267], [39.11725137152072, -77.20545429945753], [39.11725137152072, -77.20545429945753], [null, null], [null, null], [null, null], [39.1723536, -77.2057490682522], [39.1159716, -77.1971755], [null, null], [null, null], [null, null], [39.0504613, -77.1171829], [null, null], [null, null], [39.07779438064628, -77.1401117727007], [39.07779438064628, -77.1401117727007], [39.071311785714286, -77.13264255102041], [39.071311785714286, -77.13264255102041], [39.06353599220674, -77.12528919509484], [39.06353599220674, -77.12528919509484], [39.0016961, -77.1096966], [38.98082435294118, -77.09689335294118], [null, null], [null, null], [null, null], [null, null], [39.05701125, -77.10759691916681], [39.05701125, -77.10759691916681], [39.05701125, -77.10759691916681], [39.05701125, -77.10759691916681], [39.05701125, -77.10759691916681], [39.05701125, -77.10759691916681], [39.0586561, -77.1213411], [39.0586561, -77.1213411], [39.0586561, -77.1213411], [39.1421769512826, -77.19437246288334], [38.990547, -77.0967539], [39.147637, -77.067027], [39.151791, -77.06173942857143], [38.9915027, -77.0257357], [38.9915027, -77.0257357], [38.9915027, -77.0257357], [38.9915027, -77.0257357], [38.9915027, -77.0257357], [38.993527, -77.026964], [39.0866765, -77.151961], [null, null], [39.07477714327396, -77.1364203651608], [39.07477714327396, -77.1364203651608], [39.0847348, -77.1527255], [39.0847348, -77.1527255], [39.0858823, -77.1510647], [39.0858823, -77.1510647], [39.1218445, -77.235203], [39.1218445, -77.235203], [39.171714449999996, -77.26135151429727], [39.171714449999996, -77.26135151429727], [39.1178126, -77.25011829307479], [39.117140020408165, -77.19873565306122], [39.117140020408165, -77.19873565306122], [null, null], [null, null], [39.08757521395991, -77.15044403150489], [39.08757521395991, -77.15044403150489], [null, null], [39.10639246705118, -77.15811189685004], [39.10639246705118, -77.15811189685004], [39.10639246705118, -77.15811189685004], [39.0871475, -77.1524065], [39.0871475, -77.1524065], [39.0871475, -77.1524065], [39.1554675, -77.2087106], [39.1421769512826, -77.19437246288334], [39.1421769512826, -77.19437246288334], [39.1421769512826, -77.19437246288334], [null, null], [38.99001675, -77.02653225], [38.99001675, -77.02653225], [39.11725137152072, -77.20545429945753], [39.040105, -77.052877], [38.98139, -77.09799081632653], [39.1226905, -77.2326126], [null, null], [null, null], [39.041293, -77.157818], [39.0501787, -77.1161949], [39.0501787, -77.1161949], [39.0501787, -77.1161949], [39.1089615, -76.9363388], [38.9856873, -77.0961397], [null, null], [null, null], [null, null], [39.16203940816326, -77.28138046938776], [39.14420567438288, -77.40946907431915], [39.14420567438288, -77.40946907431915], [39.0871475, -77.1524065], [39.039860653061226, -77.05251273469388], [null, null], [null, null], [38.988872, -77.001255], [39.1421769512826, -77.19437246288334], [39.1421769512826, -77.19437246288334], [39.1421769512826, -77.19437246288334], [null, null], [38.991089136363634, -77.02649895454546], [38.9915027, -77.0257357], [39.1703668, -77.26138270342067], [38.99612745, -77.03017159890564], [39.077376948254326, -77.19600198769824], [null, null], [38.9968428, -77.0278347], [null, null], [38.9752476, -77.010517], [null, null], [null, null], [38.9907043, -77.0236094], [39.1175087, -77.1855122], [null, null], [38.9915027, -77.0257357], [39.1248173, -77.180825], [38.9971305, -77.0293589], [39.03960890503173, -77.05406359112202], [null, null], [39.093489, -77.1203217], [39.140862130649275, -77.22168146229096], [39.1433438, -77.2188765], [null, null], [39.1240727, -77.239757], [null, null], [null, null], [39.1110397, -77.1873926], [38.9938453, -77.02899980000001], [38.99151594897959, -77.09559670408163], [38.99151594897959, -77.09559670408163], [null, null], [null, null], [39.17929152966844, -77.24036874534242], [null, null], [38.9812558, -77.0958574], [null, null], [null, null], [38.9812558, -77.0958574], [38.9812558, -77.0958574], [39.0318393, -77.0483782], [39.0847348, -77.1527255], [39.0914079, -77.1848878], [null, null], [39.06088666666667, -77.125706], [39.16162908163265, -77.28060169387756], [39.1040733, -77.1897983], [39.1110397, -77.1873926], [null, null], [39.0908647, -77.1792262], [39.1110397, -77.1873926], [null, null], [null, null], [39.03356794808669, -77.07258890988565], [39.0586561, -77.1213411], [39.0599847, -77.1572139], [39.06224755958698, -77.15927098510035], [null, null], [null, null], [39.0604355, -77.1567896], [null, null], [null, null], [39.039850379332016, -77.15691187838678], [39.1110397, -77.1873926], [null, null], [39.0858823, -77.1510647], [39.085703, -77.152832], [null, null], [38.991278, -77.014128], [39.007540032786885, -77.03963786885247], [39.007540032786885, -77.03963786885247], [39.05096834386468, -77.11634615774572], [39.05096834386468, -77.11634615774572], [39.061868, -77.124356], [39.049986, -77.1172258], [39.0507166, -77.1186558], [39.058673999999996, -77.12300285714285], [39.05875628571429, -77.12403967346938], [39.086231, -77.152081], [null, null], [39.1433438, -77.2188765], [39.10498851082301, -77.15696220865841], [39.0914079, -77.1848878], [39.084158, -77.150812], [39.0501787, -77.1161949], [39.03058881283507, -77.08230207228249], [null, null], [null, null], [39.116452306122454, -77.19804671428572], [39.07475179800113, -77.1363852513974], [39.07813790979538, -77.14060135025923], [39.06080229671414, -77.12293645263843], [39.07140007142857, -77.13272238775511], [39.07140007142857, -77.13272238775511], [39.12898395, -77.18536805], [null, null], [39.12723002821239, -77.18427923949605], [39.071275, -77.1326092857143], [39.1166494, -77.2165837], [39.095107, -77.140608], [39.1167066, -77.1979014], [null, null], [null, null], [null, null], [39.113162450000004, -77.19201825393212], [null, null], [38.99382584532019, -77.0255967372195], [38.99261158333333, -77.02649013888889], [null, null], [39.1214491, -77.2336371], [39.1491879, -77.2133841], [38.97429655315256, -76.99557946603198], [39.0355341, -77.052144], [null, null], [null, null], [39.13577030063653, -77.19185448545656], [39.039908, -77.053373], [39.1178126, -77.25011829307479], [39.1240727, -77.239757], [39.121183215013446, -77.2376635314911], [39.11628186556362, -77.20720322642677], [39.039860653061226, -77.05251273469388], [39.039860653061226, -77.05251273469388], [38.99123070343513, -77.01448994459709], [null, null], [null, null], [39.1703668, -77.26138270342067], [null, null], [null, null], [38.993587, -77.0263765], [null, null], [null, null], [39.16024400151952, -77.22245794037303], [39.16382145, -77.2255354], [39.163146850000004, -77.20546499782192], [39.163146850000004, -77.20546499782192], [39.163146850000004, -77.20546499782192], [39.20227745, -77.25938632747882], [39.1436911, -77.2013037], [39.1779191, -77.2661115], [null, null], [null, null], [null, null], [null, null], [null, null], [null, null], [39.1703668, -77.26138270342067], [null, null], [39.1134857, -77.1874205], [39.1165285, -77.20674855767594], [39.1165285, -77.20674855767594], [39.1165285, -77.20674855767594], [39.1159716, -77.1971755], [39.1159716, -77.1971755], [39.115747915680984, -77.20404941273483], [39.152204, -77.1725418], [39.152204, -77.1725418], [39.152204, -77.1725418], [null, null], [null, null], [39.1420895, -77.19599146160911], [39.18543487574541, -77.18925939009677], [null, null], [null, null], [null, null], [39.1475796, -77.1460316], [39.1475796, -77.1460316], [39.1089615, -76.9363388], [39.179475102208315, -77.23831032263958], [39.18093615, -77.27205397084549], [39.14222585, -77.19773386590501], [39.143695, -77.2174621], [39.15306206650691, -77.19867235158705], [null, null], [null, null], [39.15439517775158, -77.19669695492125], [39.15439517775158, -77.19669695492125], [39.2388035, -77.27915975], [39.2388035, -77.27915975], [null, null], [39.2834443058446, -77.21089108104601], [39.2834443058446, -77.21089108104601], [39.2834443058446, -77.21089108104601], [39.2834443058446, -77.21089108104601], [39.28967595, -77.20513162291894], [39.28967595, -77.20513162291894], [null, null], [null, null], [39.2379436, -77.2764202], [39.1444302, -77.2185632], [39.1444302, -77.2185632], [39.1444302, -77.2185632], [38.99261158333333, -77.02649013888889], [38.99261158333333, -77.02649013888889], [38.9947906, -77.0252185], [38.9947906, -77.0252185], [39.1500082, -77.012913], [38.9810441, -77.097258], [39.179475102208315, -77.23831032263958], [39.1245655, -77.236983], [39.1245655, -77.236983], [39.1775673, -77.2382332495155], [39.1231469, -77.2366579], [39.1819021, -77.2652694], [39.1979099, -77.2542768], [39.180195, -77.2686267], [39.0093475, -76.9796375], [39.0093475, -76.9796375], [null, null], [null, null], [39.061868, -77.124356], [39.03904136734694, -77.05083992857143], [39.0355341, -77.052144], [null, null], [null, null], [39.039685530612246, -77.05103678571429], [null, null], [null, null], [39.04147348979592, -77.04843936734694], [38.9750251, -77.0122986], [38.9750251, -77.0122986], [38.99778167635398, -77.02685013818059], [39.0400472, -77.0513606], [null, null], [null, null], [null, null], [39.1166494, -77.2165837], [39.1166494, -77.2165837], [39.0501787, -77.1161949], [39.0501787, -77.1161949], [39.28967595, -77.20513162291894], [38.9914874, -77.0261537], [null, null], [39.03953687755102, -77.05099135714286], [39.039685530612246, -77.05103678571429], [39.118668, -77.18308436734694], [39.085512, -77.1510615], [39.085512, -77.1510615], [39.085512, -77.1510615], [39.1433438, -77.2188765], [39.1433438, -77.2188765], [39.1292598, -77.18565966807108], [39.1292598, -77.18565966807108], [39.1292598, -77.18565966807108], [39.179475102208315, -77.23831032263958], [null, null], [39.01493575, -77.10666245], [39.1008427, -77.0749673], [39.085512, -77.1510615], [39.085512, -77.1510615], [39.085512, -77.1510615], [39.1143509, -77.1708971], [38.9744221879884, -76.9954345752674], [38.9744221879884, -76.9954345752674], [38.9744221879884, -76.9954345752674], [38.9960146, -77.0283063], [38.9741537, -77.0123738], [null, null], [39.03585, -77.0498435], [39.03585, -77.0498435], [39.1175087, -77.1855122], [39.141936400000006, -77.19355583644284], [39.1645596, -77.2735678], [39.01493575, -77.10666245], [null, null], [39.01493575, -77.10666245], [39.01493575, -77.10666245], [null, null], [38.99229825, -77.02647999999999], [38.99702055, -77.02664820845709], [null, null], [38.993092, -77.026508], [38.993092, -77.026508], [38.99229825, -77.02647999999999], [38.9876824, -77.0975584], [38.9898183, -77.0979171], [38.99069373469388, -77.09813485714285], [39.093489, -77.1203217], [39.1425576, -77.19342395], [38.992377, -77.026483], [38.991718, -77.026469], [38.9956504, -77.0247958740113], [38.99263133333333, -77.02649055555555], [null, null], [39.040191, -77.051573], [39.040191, -77.051573], [39.1226905, -77.2326126], [39.0157402, -76.9776253], [39.1248173, -77.180825], [39.0914079, -77.1848878], [38.9906014, -77.0298019], [38.9914874, -77.0261537], [38.98998491666667, -77.02653341666667], [38.98998491666667, -77.02653341666667], [38.9928644, -77.0263599], [38.987118462105684, -77.09612400455666], [38.988957469387756, -77.09863551020408], [38.9979273, -77.0286378], [38.97429655315256, -76.99557946603198], [39.143528849999996, -77.21747406700663], [38.9945068, -77.0256901], [null, null], [39.1444302, -77.2185632], [39.008693134542355, -77.04087955796096], [38.98996987755102, -77.09526446938774], [38.98996987755102, -77.09526446938774], [38.98888457142857, -77.09844214285715], [38.989067285714285, -77.09826457142857], [null, null], [39.0157402, -76.9776253], [39.0157402, -76.9776253], [null, null], [39.039908, -77.053373], [39.008693134542355, -77.04087955796096], [38.980524789473684, -77.09221621052632], [38.980524789473684, -77.09221621052632], [38.9831456, -77.0933909], [38.9831456, -77.0933909], [38.9831456, -77.0933909], [39.15291935, -77.19662446028352], [39.12898395, -77.18536805], [39.1292598, -77.18565966807108], [38.9818258, -77.0977274], [38.98871571428572, -77.09767857142857], [null, null], [39.114949316853796, -77.20478778834352], [38.9890033, -77.0976716], [39.0211099, -77.0129367], [39.0003696, -77.0173417], [38.99265055, -77.04907723338383], [39.02097874210191, -77.01205317034056], [39.02097874210191, -77.01205317034056], [39.021438, -77.011856], [39.00805941891892, -77.04011171621622], [38.993958346938776, -77.02253014285715], [null, null], [38.990472653061225, -77.02386608163266], [39.182643, -77.109489], [38.989907301939525, -77.09744050415466], [39.0655207, -77.15059065488532], [38.99535, -77.0271602], [38.99535, -77.0271602], [38.99702055, -77.02664820845709], [39.1106369, -77.0755935], [39.1106369, -77.0755935], [39.1455637, -77.4183487], [null, null], [39.11637941524913, -76.96613830338183], [39.11637941524913, -76.96613830338183], [38.989600764705884, -77.09823832352942], [null, null], [38.9971305, -77.0293589], [38.9888431, -77.1007905], [38.9888061, -77.1007019], [38.9888061, -77.1007019], [null, null], [38.9966583, -77.0302758], [39.177932846153844, -77.27167606593406], [39.1475796, -77.1460316], [39.1459638, -77.4168558], [39.20469475, -77.1404031099037], [39.106375616161614, -77.15172032323233], [39.0586561, -77.1213411], [null, null], [null, null], [null, null], [null, null], [38.998097955261166, -77.03830412042966], [38.998097955261166, -77.03830412042966], [null, null], [38.99857332332426, -77.03981650941807], [38.9869488, -77.09826715006304], [38.990547, -77.0967539], [38.990547, -77.0967539], [38.98872144897959, -77.09740853061224], [38.980707107569046, -77.09980413965683], [39.0157402, -76.9776253], [38.9820079, -77.0967658], [39.0655207, -77.15059065488532], [39.0655207, -77.15059065488532], [38.9811415, -77.097956], [38.981357897959185, -77.09833959183673], [38.981357897959185, -77.09833959183673], [38.98139, -77.09799081632653], [38.98139, -77.09799081632653], [38.9819987, -77.0968942], [38.9819987, -77.0968942], [38.9819987, -77.0968942], [38.9817932, -77.0962192], [38.989907301939525, -77.09744050415466], [39.141816285714285, -77.19601514285714], [39.141816285714285, -77.19601514285714], [39.141816285714285, -77.19601514285714], [null, null], [null, null], [null, null], [39.0214162, -77.1399852], [39.0214162, -77.1399852], [39.0214162, -77.1399852], [null, null], [39.03356794808669, -77.07258890988565], [39.05643459090909, -77.08336809090909], [null, null], [39.02556356253034, -77.07178888633658], [38.9441713, -77.1167329], [38.975375, -77.161596], [39.01719335, -77.2107049], [39.01719335, -77.2107049], [39.01719335, -77.2107049], [39.05701125, -77.10759691916681], [39.1868161, -77.25215732023571], [39.1868161, -77.25215732023571], [39.10639246705118, -77.15811189685004], [null, null], [null, null], [null, null], [null, null], [null, null], [null, null], [39.07437734337349, -77.11309501204819], [39.07437734337349, -77.11309501204819], [39.07437734337349, -77.11309501204819], [39.07482783381962, -77.1364905926876], [39.1779191, -77.2661115], [null, null], [39.17929152966844, -77.24036874534242], [39.17929152966844, -77.24036874534242], [39.17929152966844, -77.24036874534242], [39.17999538053491, -77.23977215376507], [null, null], [null, null], [39.1218445, -77.235203], [null, null], [39.093625140155524, -77.15362021830875], [39.093625140155524, -77.15362021830875], [39.1234721, -77.2370213], [39.1143509, -77.1708971], [39.1143509, -77.1708971], [38.9915027, -77.0257357], [38.99382584532019, -77.0255967372195], [39.12898395, -77.18536805], [38.974505944545626, -76.99533798142433], [39.12898395, -77.18536805], [39.039860653061226, -77.05251273469388], [39.040191, -77.051573], [39.040191, -77.051573], [38.9971305, -77.0293589], [38.98890526530612, -77.09868624489795], [39.00805941891892, -77.04011171621622], [39.0157402, -76.9776253], [38.98890526530612, -77.09868624489795], [39.1234721, -77.2370213], [39.1008427, -77.0749673], [39.1008427, -77.0749673], [39.1243133, -77.157929], [39.06353599220674, -77.12528919509484], [39.093442, -77.123169], [39.093442, -77.123169], [null, null], [null, null], [null, null], [39.040330673469384, -77.05059071428572], [39.04051042857142, -77.04939385714286], [39.140862130649275, -77.22168146229096], [39.086231, -77.152081], [39.086231, -77.152081], [39.093489, -77.1203217], [39.04020605962505, -77.0497650018637], [39.1421769512826, -77.19437246288334], [null, null], [null, null], [39.04020605962505, -77.0497650018637], [null, null], [39.039108465151116, -77.05163977447386], [39.04020281192501, -77.04972340037274], [39.086231, -77.152081], [39.0157402, -76.9776253], [39.04173375, -77.0479905], [39.04173375, -77.0479905], [null, null], [null, null], [39.07437734337349, -77.11309501204819], [39.06916820390183, -77.1301004120463], [null, null], [39.086231, -77.152081], [39.03966362756875, -77.05396044743102], [39.03966362756875, -77.05396044743102], [39.0355341, -77.052144], [39.03585, -77.0498435], [39.03585, -77.0498435], [null, null], [38.9964816, -77.0287784], [38.9964816, -77.0287784], [null, null], [39.03960890503173, -77.05406359112202], [39.140862130649275, -77.22168146229096], [39.15488120815368, -77.06369869329886], [null, null], [null, null], [null, null], [null, null], [null, null], [38.98890526530612, -77.09868624489795], [39.1040733, -77.1897983], [null, null], [null, null], [null, null], [null, null], [null, null], [39.1110397, -77.1873926], [39.1173327, -77.1989699], [39.03987287831272, -77.15695543641341], [39.0572511, -77.1213396], [39.063596665902246, -77.12533655000338], [39.06307660799537, -77.12490866420879], [39.06307660799537, -77.12490866420879], [null, null], [null, null], [null, null], [39.05854254010539, -77.11897241966831], [39.06580958755448, -77.12705969091215], [39.0586561, -77.1213411], [39.0586561, -77.1213411], [39.084082, -77.154656], [39.1143509, -77.1708971], [null, null], [null, null], [39.06335073894634, -77.12750620969042], [39.0888995, -77.15407847278232], [null, null], [39.07779438064628, -77.1401117727007], [39.07779438064628, -77.1401117727007], [39.07779438064628, -77.1401117727007], [39.0247476, -77.1253328], [39.0847348, -77.1527255], [39.0847348, -77.1527255], [39.1979099, -77.2542768], [39.180195, -77.2686267], [39.1979099, -77.2542768], [39.20227745, -77.25938632747882], [39.180195, -77.2686267], [null, null], [39.0406292, -77.1555153], [39.040676, -77.1554615], [39.0409912, -77.1570706], [39.05701125, -77.10759691916681], [39.0016961, -77.1096966], [39.14214460826296, -77.22119808659998], [39.03960890503173, -77.05406359112202], [null, null], [39.0982451, -77.13580350000001], [39.08558658333333, -77.151849], [39.071275, -77.1326092857143], [39.074074473895585, -77.11243383534138], [null, null], [39.201833, -77.2461273], [39.1788945, -77.23799795], [null, null], [null, null], [null, null], [null, null], [null, null], [null, null], [39.140862130649275, -77.22168146229096], [38.9964816, -77.0287784], [null, null], [38.98431735, -77.09606487949507], [null, null], [38.98493900027173, -77.09587469216137], [38.98493900027173, -77.09587469216137], [38.98493900027173, -77.09587469216137], [38.9881328, -77.0962282], [39.104064, -77.29324], [39.133045, -77.398391], [39.2010678, -77.2470505], [39.130634343066035, -77.20683369437182], [39.130634343066035, -77.20683369437182], [null, null], [null, null], [null, null], [null, null], [39.141936400000006, -77.19355583644284], [39.142029449999995, -77.19888840000002], [39.142029449999995, -77.19888840000002], [null, null], [null, null], [39.160638642857144, -77.27954589795918], [39.18109265, -77.26669204860714], [39.18060655, -77.26832809999999], [39.1834531, -77.26173745], [39.1142267, -77.2077006], [39.04939, -77.1162308], [39.1219563, -77.2383761], [39.1219563, -77.2383761], [39.07437734337349, -77.11309501204819], [39.1292598, -77.18565966807108], [39.1292598, -77.18565966807108], [38.9928644, -77.0263599], [39.0157402, -76.9776253], [39.1245655, -77.236983], [39.1175087, -77.1855122], [null, null], [39.0586561, -77.1213411], [39.086231, -77.152081], [39.0157402, -76.9776253], [39.16024400151952, -77.22245794037303], [39.0004921, -76.99595073907244], [39.02097874210191, -77.01205317034056], [39.04939, -77.1162308], [39.027926, -77.07669646153846], [39.150809295918364, -77.20965079591836], [39.1421769512826, -77.19437246288334], [39.1421769512826, -77.19437246288334], [39.1421769512826, -77.19437246288334], [39.15488455, -77.20497292504044], [39.15488455, -77.20497292504044], [39.13573751774924, -77.19182558314607], [39.115747915680984, -77.20404941273483], [39.1217204, -77.2349303], [39.0867546, -77.1509833], [39.1475796, -77.1460316], [39.14653920000001, -77.20415215], [39.14653920000001, -77.20415215], [39.039908, -77.053373], [39.1175087, -77.1855122], [39.1166494, -77.2165837], [39.1220792, -77.23445489168421], [39.1134857, -77.1874205], [39.13577030063653, -77.19185448545656], [39.126946, -77.180119], [39.126946, -77.180119], [null, null], [39.15291935, -77.19662446028352], [39.15291935, -77.19662446028352], [39.15291935, -77.19662446028352], [39.1171361, -77.198504], [39.1167066, -77.1979014], [39.1143145, -77.20526555000001], [null, null], [38.9919378, -77.0242871], [null, null], [null, null], [38.98139, -77.09799081632653], [38.9824443, -77.09304], [39.111933, -77.1614581], [39.03966362756875, -77.05396044743102], [39.002099080551865, -77.053171005384], [39.002099080551865, -77.053171005384], [39.0164491, -77.0187655], [39.0215021, -76.9395644], [39.0215021, -76.9395644], [39.01233059787804, -77.0295519690913], [38.9912274, -77.0959347], [39.0016961, -77.1096966], [38.9956334, -77.0247557], [39.16382145, -77.2255354], [null, null], [39.15291935, -77.19662446028352], [39.15291935, -77.19662446028352], [38.991278, -77.014128], [38.99905555, -77.00232150742197], [38.99905555, -77.00232150742197], [38.99905555, -77.00232150742197], [38.9856873, -77.0961397], [38.991927122448985, -77.01009542857143], [38.98493900027173, -77.09587469216137], [38.97425467487395, -76.99562776295352], [38.97425467487395, -76.99562776295352], [39.0157402, -76.9776253], [39.0157402, -76.9776253], [39.0157402, -76.9776253], [39.0157402, -76.9776253], [39.0157402, -76.9776253], [39.1166494, -77.2165837], [38.98913085714286, -77.09745385714285], [38.99014555173807, -77.09747902103435], [38.98995855771059, -77.09739000461629], [39.111933, -77.1614581], [39.111933, -77.1614581], [39.17695245, -77.2389728040718], [null, null], [38.9814452, -77.0960185], [38.9814452, -77.0960185], [null, null], [38.997061099999996, -77.03270800509875], [39.0093475, -76.9796375], [38.99814954324767, -77.03846827115352], [39.1166494, -77.2165837], [39.027926, -77.07669646153846], [39.1166494, -77.2165837], [39.1166494, -77.2165837], [38.98262876599038, -77.09397327479519], [38.98262876599038, -77.09397327479519], [null, null], [39.1166494, -77.2165837], [39.008693134542355, -77.04087955796096], [38.9911789, -77.0294874], [38.99001675, -77.02653225], [39.0653747, -77.12772538926663], [null, null], [38.9960146, -77.0283063], [38.973458583125776, -77.15541871516724], [38.9971305, -77.0293589], [null, null], [39.028293, -77.008974], [39.1231469, -77.2366579], [null, null], [39.036753380307346, -77.05063898164278], [null, null], [null, null], [38.98697573079014, -76.98814714615902], [38.98697573079014, -76.98814714615902], [null, null], [null, null], [39.03904136734694, -77.05083992857143], [39.0428632164972, -77.0522466864871], [39.0428632164972, -77.0522466864871], [39.085330150000004, -77.0777321177553], [39.085330150000004, -77.0777321177553], [39.085330150000004, -77.0777321177553]], \"hovertemplate\": \"<b>%{hovertext}</b><br><br><extra></extra>\", \"hovertext\": [\"EL CARACOL CAFE\", \"MOGOTILLO RESTAURANT\", \"MOGOTILLO RESTAURANT\", \"MOGOTILLO RESTAURANT\", \"GISELE'S CREOLE CUISINE\", \"CASPIAN HOUSE OF KABOB\", \"CASPIAN HOUSE OF KABOB\", \"VILLAGE WEST LIQUOR\", \"Q' VIVA COCINA & LOUNGE\", \"FINNEGAN'S WAKE IRISH PUB\", \"CUBANO'S RESTAURANT 2\", \"CUBANO'S RESTAURANT 2\", \"BLACK'S BAR & KITCHEN\", \"BLACK'S BAR & KITCHEN\", \"BRICKSIDE\", \"DOG HAUS BIERGARTEN\", \"JALEO\", \"MON AMI GABI\", \"TIA QUETA RESTAURANT\", \"WOODMONT MARKET\", \"KOREAN KORNER\", \"KOREAN KORNER\", \"OUTBACK STEAKHOUSE - SILVER SPRING\", \"RINCON MAGICO BAR & GRILL\", \"RINCON MAGICO BAR & GRILL\", \"RODMANS PARTY BOUTIQUE\", \"RODMANS PARTY BOUTIQUE\", \"SOLE D'ITALIA RESTAURANT\", \"SHOPPERS FOOD WAREHOUSE\", \"DRYBAR\", \"DOLLAR PLUS STORE\", \"HAKUNA MATATA GRILL\", \"STAINED GLASS PUB\", \"SUPER CHICKEN\", \"CAVA MEZZE-OLNEY\", \"EMPIRE CAFE & MARKET\", \"MANNEQUIN PIS\", \"ROOTS MARKET\", \"SMOKETOWN BBQ\", \"THE MANOR AT SILO FALLS\", \"DENISE MEXICAN BAR & GRILL\", \"KABUTO\", \"WASABI ZEN\", \"ARIA, BEER, WINE & DELI\", \"ARIA, BEER, WINE & DELI\", \"BETHESDA MARKET\", \"LANCE'S BEER & WINE\", \"LANCE'S BEER & WINE\", \"PASSION FIN ASIAN BISTRO\", \"PASSION FIN ASIAN BISTRO\", \"PASSION FIN ASIAN BISTRO\", \"PROMENADE MARKET & DELI\", \"SUSHI OISHII\", \"LA CASITA\", \"TACO DADDY CANTINA\", \"CASA OAXACA\", \"CHERCHER ETHIOPIAN CUISINE\", \"HIMALAYAN HERITAGE\", \"MAMMA LUCIA - BETHESDA\", \"MEDIUM RARE\", \"REDMILL MARKET BEER & WINE\", \"THAI CUISINE\", \"VUK\", \"A BITE OF CHINA\", \"A BITE OF CHINA\", \"BETHESDA N. MARRIOTT HOTEL/CONF CTR\", \"KABUTO\", \"KABUTO\", \"KABUTO\", \"TEMARI CAFE\", \"VIET PHO & GRILL\", \"VIET PHO & GRILL\", \"VILLA MAYA RESTAURANT\", \"VILLA MAYA RESTAURANT\", \"CUBANO'S\", \"EVALASH AND NAIL LOUNGE\", \"CLYDE'S OF CHEVY CHASE\", \"MEIWAH RESTAURANT\", \"MEIWAH RESTAURANT\", \"P.F. CHANG'S CHINA BISTRO - C/CHASE\", \"THE LITTLE BEET TABLE\", \"BURGERIM\", \"FLOR DE LUNA RESTAURANT\", \"QUINCYS SOUTH BAR & GRILLE\", \"SISTERS THAI\", \"BALDUCCI'S\", \"BALDUCCI'S\", \"COMMONWEALTH INDIAN\", \"FLOWER CHILD-BETHESDA\", \"FLOWER CHILD-BETHESDA\", \"FLOWER CHILD-BETHESDA\", \"FOGO DE CHAO\", \"MORTON'S - THE STEAKHOUSE\", \"WILDWOOD KITCHEN\", \"WORLD OF BEER-BETHESDA\", \"WORLD OF BEER-BETHESDA\", \"LEDO PIZZA OLNEY\", \"FU LIN RESTAURANT\", \"OM INDIAN RESTAURANT\", \"MONTGOMERY VILLAGE BEER & WINE\", \"CAFE DELUXE - BETHESDA\", \"FLANAGAN'S HARP & FIDDLE RESTAURANT\", \"HANARO RESTAURANT AND LOUNGE\", \"MATCHBOX-BETHESDA\", \"PIEOLOGY-BETHESDA\", \"SATSUMA\", \"THE BETHESDA BAZAR\", \"TRATTORIA SORRENTO\", \"ON THE VINE\", \"ON THE VINE\", \"THE BEER & WINE CELLAR\", \"TIA OCHI\", \"TIA OCHI\", \"TIA OCHI\", \"URBAN BAR-B-QUE CO.\", \"MIX BAR & GRILL\", \"OUTBACK STEAKHOUSE - GERMANTOWN\", \"BALAGGER RESTUARANT\", \"RED ROBIN GOURMET BURGERS & BREWS\", \"LIFETIME ATHLETIC\", \"LIFETIME ATHLETIC\", \"6/12 CONVENIENT MART\", \"DOWNTOWN BEER & WINE\", \"EL ESTERON RESTAURANT\", \"GRAPE & GRAIN\", \"TARA THAI RESTAURANT\", \"AKIRA RAMEN IZAKAYA\", \"AKIRA RAMEN IZAKAYA\", \"AKIRA RAMEN IZAKAYA\", \"BURGERFI\", \"GYROLAND\", \"GYROLAND\", \"OM INDIAN RESTAURANT\", \"OM INDIAN RESTAURANT\", \"PIKE CHICKEN & BEER\", \"PIKE CHICKEN & BEER\", \"PIZZA CS\", \"PIZZA CS\", \"ST. ARNOLD'S MUSSEL BAR\", \"DRYBAR\", \"7 LOCKS BREWING\", \"CAFE 20/20\", \"CAFE 20/20\", \"CAFE 20/20\", \"EL PATIO\", \"EL PATIO\", \"EL PATIO\", \"MIKE & SONS SUB SHOP\", \"MIKE & SONS SUB SHOP\", \"MIKE & SONS SUB SHOP\", \"SLAPFISH\", \"SLAPFISH\", \"SLAPFISH\", \"GAITHERSBURG SUPERMARKET\", \"SALA THAI BETHESDA\", \"MANNEQUIN PLS\", \"SOL AZTECA RESTAURANT\", \"KALDI'S COFFEE\", \"KALDI'S COFFEE\", \"KALDI'S COFFEE\", \"KALDI'S COFFEE\", \"KALDI'S COFFEE\", \"THE REPUBLIC GARDEN\", \"LA CANELA\", \"LA TASCA\", \"NIWANO HANA\", \"NIWANO HANA\", \"TRAPEZARIA MEDITERRANEAN KUZINA\", \"TRAPEZARIA MEDITERRANEAN KUZINA\", \"BUFFALO WILD WINGS\", \"BUFFALO WILD WINGS\", \"VASILI'S KITCHEN\", \"VASILI'S KITCHEN\", \"LEDO PIZZA\", \"LEDO PIZZA\", \"GEMELLI'S ITALIAN MARKET\", \"NANDO'S PERI PERI - GAITHERSBURG\", \"NANDO'S PERI PERI - GAITHERSBURG\", \"BB.Q CHICKEN & BEER\", \"BB.Q CHICKEN & BEER\", \"HOT POT LEGEND\", \"HOT POT LEGEND\", \"KING'S CRAFT BEER & WINE DELI\", \"MATRESHKA\", \"MATRESHKA\", \"MATRESHKA\", \"THE SPOT\", \"THE SPOT\", \"THE SPOT\", \"TRAN DINH BEER, WINE, & DELI\", \"GAITHERSBURG SUPERMARKET\", \"GAITHERSBURG SUPERMARKET\", \"GAITHERSBURG SUPERMARKET\", \"DOWNTOWN BEER & WINE\", \"BALAGGER RESTAURANT\", \"BALAGGER RESTAURANT\", \"LIFETIME ATHLETIC\", \"SUPER CHICKEN\", \"LE PAIN QUOTIDIEN\", \"BUCA DI BEPPO\", \"EL ENCANTO\", \"RAINBOW RESTAURANT\", \"BROADWAY PIZZA\", \"KUSSHI\", \"KUSSHI\", \"KUSSHI\", \"HICKORY BAR & GRILL\", \"CHIPOTLE MEXICAN GRILL\", \"PASSION NAIL SPA\", \"PASSION NAIL SPA\", \"WISTERIA BEER AND WINE\", \"CANA BEER AND WINE\", \"WATERSHED CAFE\", \"WATERSHED CAFE\", \"THE SPOT\", \"LA COLOMBIANA RESTAURANT\", \"BOYDS COUNTRY STORE\", \"JINYA RAMEN BAR\", \"BANTA BAA RESTAURANT\", \"GAITHERSBURG SUPERMARKET\", \"GAITHERSBURG SUPERMARKET\", \"GAITHERSBURG SUPERMARKET\", \"FOOD STOP MINI MART\", \"GOLF ULTRA LOUNGE\", \"KALDI'S COFFEE\", \"OUTBACK STEAKHOUSE\", \"CUBANO'S\", \"THE VILLAGE AT ROCKVILLE\", \"MYTHOS MEDITTERANEAN GREEK RESTAURANT\", \"ABOL RESTAURANT\", \"AKIRA RAMEN IZAKAYA\", \"CIELO ROJO\", \"EL ENCANTO\", \"ENGOCHA MARKET\", \"ETHIO ADDIS MARKET\", \"GODAVARI\", \"GREAT SHOALS\", \"KALDI'S COFFEE\", \"MINERVA INDIAN CUISINE\", \"PORT AU PRINCE\", \"SARITA'S CHICKEN RESTAURANT\", \"THE GRILLE AT FLOWER HILL\", \"URBAN BAR-B-QUE CO\", \"URBAN CRAWFISH\", \"HIBACHI SUSHI SUPREME BUFFET\", \"AKIRA RAMEN IZAKAYA\", \"GIUSEPPI'S PIZZA PLUS\", \"LIA'S\", \"SPICE XING\", \"THAT'S AMORE\", \"TACOS, TORTAS & TEQUILA\", \"GUAPOS II\", \"GUAPOS II\", \"MAKI BAR\", \"DON POLLO OF POTOMAC\", \"NEW VILLAGE RESTAURANT\", \"GORDON BIERSCH BREWERY RESTAURANT\", \"TERRAIN CAFE\", \"ASIA NINE II\", \"ASIA NINE II\", \"TERRAIN CAFE\", \"TERRAIN CAFE\", \"WHEATON SPORT BAR & GRILL\", \"TRAPEZARIA MEDITERRANEAN KUZINA\", \"FLOWER CHILD\", \"FOOD STOP MINI MART\", \"ARMAND'S PIZZERIA & GRILLE\", \"BHIMAS KITCHEN & BAKERY\", \"COURTYARD BY MARRIOTT\", \"MAMMA LUCIA'S\", \"NANTUCKET'S REEF\", \"RADISSON HOTEL DC\", \"THAT'S AMORE\", \"THAI PAVILION\", \"HOLA BEER & WINE\", \"KENSINGTON SUB & PIZZA\", \"HONEY PIG\", \"ADDIE'S\", \"GRAND FUSION\", \"GRINGOS & MARIACHIS\", \"MONTEREY MART & CAFE\", \"SUGO MACARONI BAR\", \"THAI FARM\", \"THAI FARM\", \"WORLD GOURMET WINE & BEER\", \"THAT'S AMORE\", \"AKIRA RAMEN IZAKAYA\", \"BUFFALO WILD WINGS\", \"SAMOVAR\", \"SPICE XING\", \"BEMNET SUPERMARKET AND DELI\", \"FANTASY NAIL SPA\", \"FANTASY NAIL SPA\", \"CANOPY\", \"CANOPY\", \"MATCHBOX\", \"PINSTRIPES\", \"PINSTRIPES\", \"QDOBA MEXICAN GRILL\", \"ROLLINS BEER & WINE\", \"BAR LOUIE\", \"CAVA RESTAURANT\", \"HIBACHI SUSHI SUPREME BUFFET\", \"KWIK-STOP BEER, WINE & DELI\", \"LEDO PIZZA\", \"WORLD OF BEER\", \"OWENS ORDINARY\", \"HOWARD DELI\", \"THE DAILY DISH\", \"VEGETABLE GARDEN\", \"217 BOARDWALK PL.\", \"BELBY DISCOUNT BEER & WINE\", \"EL MARIACHI\", \"EVEN HOTEL\", \"IRON AGE\", \"IRON AGE\", \"ISLAND PRIDE OASIS\", \"LIVE CRAWFISH & SEAFOOD\", \"NEW FORTUNE RESTAURANT\", \"TALBOTT BEER & WINE\", \"RIVERSIDE HOTPOT CUISINE\", \"TEX'S PLACE\", \"COURTYARD BY MARRIOTT\", \"ETCHIONS COUNTRY STORE\", \"HOLA BEER & WINE\", \"RINCON PERUANO\", \"SPRINGHILL SUITES GAITHERSBURG\", \"WINGSTOP\", \"EVA LOUNGE\", \"SOCIETY RESTAURANT & LOUNGE\", \"B&B BEER AND WINE\", \"PACIFICA CAFE\", \"THE HILTON AT GAITHERSBURG\", \"ARADA MARKET\", \"BAR LOUIE WHEATON\", \"BECLAWS\", \"BECLAWS\", \"DOCK OF THE BAY\", \"CHEESE & WINE SHOPPE\", \"GEMELLI'S ITALIAN MARKET\", \"GIUSEPPI'S PIZZA PLUS\", \"SIN & GRIN\", \"ZIKI JAPANESE STEAK HOUSE\", \"LA COLOMBIANA RESTAURANT\", \"LA COLOMBIANA RESTAURANT\", \"AMY TEX-MEX BAR AND GRILL\", \"GREAT SHOALS\", \"GREAT SHOALS\", \"OUTBACK STEAKHOUSE\", \"PACCI'S TRATTORIA\", \"SUPER CHICKEN\", \"THE QUARRY HOUSE TAVERN\", \"AGRODOLCE\", \"AGRODOLCE\", \"BARKING MAD CAFE\", \"BEST BEER, WINE, & DELI\", \"CHOICE MARKET\", \"CHOICE MARKET\", \"CHOICE MARKET\", \"DON POLLO-GERMANTOWN\", \"JO'S BEER AND WINE\", \"ABI AZTECA GRILL\", \"ASIA NINE II\", \"LA MADELEINE-CROWN\", \"MEZEH MEDITERRANEAN GRILL\", \"MEZEH MEDITERRANEAN GRILL\", \"MEZEH MEDITERRANEAN GRILL\", \"MEZEH MEDITERRANEAN GRILL\", \"OUTBACK STEAKHOUSE\", \"RED BOWL\", \"RED LOBSTER-GAITHERSBURG\", \"TACO BAR\", \"TACO BAR\", \"TACO BAR\", \"TARA THAI RESTAURANT\", \"TARA THAI RESTAURANT\", \"TED'S MONTANA GRILL\", \"3 STAR CONVENIENCE STORE\", \"ACAJULTA RESTAURANT\", \"ACAJULTA RESTAURANT\", \"AY JALISCO\", \"CONVENIENT BEER & WINE\", \"DON JORGE'S RESTAURANT BAR & GRILL\", \"GOSHEN PLAZA BEER & WINE\", \"MOONLIGHT BAR\", \"MOONLIGHT BAR\", \"MYTHOS MEDITTERANEAN GREEK RESTAURANT\", \"REDMILL MARKET BEER & WINE\", \"SASUNS\", \"HICKORY BAR & GRILL\", \"HONEY PIG\", \"LA MEXICANA\", \"ANTOJITOS RESTAURANT\", \"DIAMOND SQUARE BEER & WINE\", \"LAKESIDE BEER AND WINE\", \"LATINO MARKET GROCERY\", \"LATINO MARKET GROCERY\", \"MONTGOMERY VILLAGE BEER & WINE\", \"MONTGOMERY VILLAGE BEER & WINE\", \"CLARKSBURG GROCERIES BEER & WINE\", \"CLARKSBURG GROCERIES BEER & WINE\", \"LITTLE BENNETT GOLF COURSE\", \"NEW YORK J & P PIZZA\", \"NEW YORK J & P PIZZA\", \"NEW YORK J & P PIZZA\", \"NEW YORK J & P PIZZA\", \"PERUVIAN CHICKEN & GRILL\", \"PERUVIAN CHICKEN & GRILL\", \"TGI FRIDAYS\", \"TOKYO FIRE\", \"UPCOUNTY FINE WINE & BEER\", \"LIMARIA POLLO A LA BRASA\", \"LIMARIA POLLO A LA BRASA\", \"LIMARIA POLLO A LA BRASA\", \"SOCIETY RESTAURANT & LOUNGE\", \"SOCIETY RESTAURANT & LOUNGE\", \"CITY TASTE ASIAN CUISINE\", \"CITY TASTE ASIAN CUISINE\", \"EL ANDARIEGO\", \"NANDO'S PERI PERI\", \"CHAPEL BEER & WINE\", \"CHIPOTLE MEXICAN GRILL - KENTLANDS\", \"CHIPOTLE MEXICAN GRILL - KENTLANDS\", \"MIDDLEBROOK DISCOUNT B&W\", \"NOT YOUR AVERAGE JOE'S\", \"SABAI SABAI...SIMPLY THAI\", \"SENECA MEADOWS BEER & WINE\", \"SENOR TEQUILA'S\", \"URBAN BAR-B-QUE\", \"URBAN BAR-B-QUE\", \"EL SOL SALVADOREAN & MEXICAN RESTAURANT\", \"EL SOL SALVADOREAN & MEXICAN RESTAURANT\", \"MATCHBOX\", \"CANCUN GRILL RESTAURANT, THE\", \"CHOICE WINE & BEER\", \"GISELES CREOLE CUISINE\", \"GISELES CREOLE CUISINE\", \"RIVERSIDE LOUNGE\", \"RUMBA Y CARBON\", \"RUMBA Y CARBON\", \"WHEATON WINERY\", \"MARK'S KITCHEN\", \"MARK'S KITCHEN\", \"PHO TAN VINH\", \"SEAFOOD IN THE BUFF\", \"SUPER CHICKEN\", \"SUPER CHICKEN\", \"TOKYO SUSHI\", \"RIVERSIDE HOTPOT CUISINE\", \"RIVERSIDE HOTPOT CUISINE\", \"OWENS ORDINARY\", \"OWENS ORDINARY\", \"PERUVIAN CHICKEN & GRILL\", \"FIRE STATION 1\", \"EL ESTERON RESTAURANT\", \"LA ANTIGUA RESTAURANT\", \"RIVERSIDE LOUNGE\", \"I ROCK KARAOKE LOUNGE\", \"PANDORA SEAFOOD HOUSE\", \"PANDORA SEAFOOD HOUSE\", \"PANDORA SEAFOOD HOUSE\", \"HIBACHI SUSHI SUPREME BUFFET\", \"HIBACHI SUSHI SUPREME BUFFET\", \"RESTAURANT POLLOS EL MESON\", \"RESTAURANT POLLOS EL MESON\", \"RESTAURANT POLLOS EL MESON\", \"HONEY PIG\", \"EL ENCANTO\", \"CAFE PROMENADE\", \"ROSSMOOR LEISURE WORLD\", \"PANDORA SEAFOOD HOUSE\", \"PANDORA SEAFOOD HOUSE\", \"PANDORA SEAFOOD HOUSE\", \"FONTINA GRILLE\", \"LA FONDA CHIQUITA CAFE\", \"LA FONDA CHIQUITA CAFE\", \"LA FONDA CHIQUITA CAFE\", \"SILVER SPRING HILTON HOTEL\", \"TAKOMA BEVERAGE COMPANY\", \"BECLAWS\", \"7  ELEVEN FOOD STORE 11713A\", \"7  ELEVEN FOOD STORE 11713A\", \"GODAVARI\", \"GREEN GROWLER'S\", \"RAINBOW SUSHI\", \"CAFE PROMENADE\", \"LEDO PIZZA\", \"PROMENADE MARKET & DELI\", \"PROMENADE MARKET & DELI\", \"WESTLAKE BEER & WINE\", \"ODALIS\", \"DAVE & BUSTER'S\", \"I STAR COFFEE\", \"LUCY ETHIOPIAN RESTAURANT\", \"LUCY ETHIOPIAN RESTAURANT\", \"ODALIS\", \"BISTRO PROVENCE\", \"DINGNESH ETHIOPIAN RESTAURANT\", \"TIA QUETA RESTAURANT\", \"VILLAGE BEER & WINE\", \"MI PUEBLITO RESTAURANT\", \"ABYSSINIA RESTAURANT\", \"BEATESUB MARKET & CARRYOUT\", \"COURTYARD BY MARRIOTT - SILVER SPRING\", \"OLAZZO RESTAURANT\", \"LITTLE DIPPER HOT POT SAUCE\", \"H RESTAURANT AND NIGHT CLUB\", \"H RESTAURANT AND NIGHT CLUB\", \"BUCA DI BEPPO\", \"ANDY'S BEER AND WINE\", \"MINERVA INDIAN CUISINE\", \"PHOLUSCIOUS\", \"BUMP N GRIND\", \"FIRE STATION 1\", \"LOTUS CAFE\", \"LOTUS CAFE\", \"MIX BAR & GRILLE\", \"BLACK'S BAR & KETCHEN\", \"PASSAGE TO INDIA\", \"ALL SET\", \"ARADA MARKET\", \"CALIFORNIA GRILL\", \"GHAR-E-KABAB\", \"KEMP MILL BEER WINE & DELI\", \"LIMARIA POLLO A LA BRASA\", \"ARMANDS CHICAGO PIZZERIA\", \"BENIHANA OF TOKYO\", \"BENIHANA OF TOKYO\", \"GRINGOS & MARIACHIS\", \"HECKMAN'S DELICATESSEN\", \"P.F. CHANG'S CHINA BISTRO\", \"PRIME BEER & WINE\", \"PRIME BEER & WINE\", \"WHITE OAK CONVENIENCE STORE\", \"CHEESE & WINE SHOPPE\", \"ARMANDS CHICAGO PIZZERIA\", \"PI PIZZERIA\", \"PI PIZZERIA\", \"SHANGRI-LA\", \"SHANGRI-LA\", \"SHANGRI-LA\", \"WOK EXPRESS\", \"ISLAND PRIDE OASIS\", \"RESTAURANT POLLOS EL MESON\", \"LUKE'S LOBSTER\", \"UNION JACK'S\", \"CHARM THAI RESTAURANT\", \"OLD TOWN POUR HOUSE\", \"ROCK BOTTOM BREWERY\", \"CORNER PUB\", \"ERTTERS SUPERMARKET\", \"PARKWAY DELICATESSEN\", \"PERUVIAN COUNTRY CHICKEN\", \"PERUVIAN COUNTRY CHICKEN\", \"WOODMOOR SUPERMARKET\", \"WOODSIDE DELI\", \"ARAT KILO MARKET AND RESTAURANT\", \"SILVER SPRING MART\", \"ZENE'S DELI & WORLDMARKET\", \"SARDIS FUSION\", \"TURNTABLE\", \"CLYDES TOWER OAKS LODGE\", \"EGGSPECTATION\", \"LINCOLN'S BAR-B-Q\", \"NOT YOUR AVERAGE JOE'S\", \"NORTHWEST PARK GOLF SNACK BAR\", \"NORTHWEST PARK GOLF SNACK BAR\", \"POOLESVILLE GOLF COURSE\", \"RATTLEWOOD GOLF COURSE\", \"SPENCERVILLE MARKET\", \"SPENCERVILLE MARKET\", \"BACCHUS OF LEBANON\", \"DUCK DUCK GOOSE\", \"EL AGUILA\", \"LE VIEUX LOGIS\", \"LILIT CAFE\", \"LILIT CAFE\", \"MI RANCHO\", \"TASTEE DINER\", \"CURRY PLACE\", \"GREATEST AMERICAN HOT DOGS\", \"BASSETT'S\", \"THE OFFICE CAFE & LOUNGE\", \"BRANDED 72\", \"DIETLES\", \"SUMMER HOUSE SANTA MONICA/STELLA BARRA PIZZERIA\", \"BRIGGS CHANEY DELI\", \"THE YO YO CAFE\", \"CURACION NAILS, BODY & SUCESS SANCTUARY\", \"EL AGUILA RESTAURANT\", \"EL AGUILA RESTAURANT\", \"MAMMA LUCIA\", \"SUMMIT HILLS MINI MART\", \"M & N PIZZA\", \"SALA THAI BETHESDA\", \"SALA THAI BETHESDA\", \"BANGKOK GARDEN RESTAURANT\", \"BETHESDA CRAB HOUSE\", \"POCKET BAR & GRILL\", \"CAFE DELUXE\", \"CLYDES TOWER OAKS LODGE\", \"CLYDES TOWER OAKS LODGE\", \"CORK & FORK\", \"LEBANESE TAVERNA\", \"LEBANESE TAVERNA\", \"LE PAIN QUOTIDIEN\", \"LE PAIN QUOTIDIEN\", \"MAMMA LUCIA\", \"MAMMA LUCIA\", \"MAMMA LUCIA\", \"MUSSEL BAR BY RW\", \"TURNTABLE\", \"CANCUN MEXICAN CUISINE\", \"CANCUN MEXICAN CUISINE\", \"CANCUN MEXICAN CUISINE\", \"GENTLEMAN JIM'S RESTAURANT\", \"GENTLEMAN JIM'S RESTAURANT\", \"GENTLEMAN JIM'S RESTAURANT\", \"ARCLIGHT CINEMAS\", \"BOBBY'S BURGER PALACE\", \"CALIFORNIA PIZZA KITCHEN\", \"LUCKY STRIKE\", \"KENSINGTON SUB & PIZZA\", \"KOREAN KORNER\", \"MOTI'S MARKET\", \"THE DISH & DRAM\", \"7-ELEVEN GLEN ECHO\", \"BETHESDA CO-OP\", \"MIX BAR & GRILLE\", \"MIX BAR & GRILLE\", \"MIX BAR & GRILLE\", \"EL PATIO\", \"HOLIDAY INN EXPRESS & SUITES\", \"HOLIDAY INN EXPRESS & SUITES\", \"IL PIZZICO\", \"GORDON BIERSCH BREWERY RESTAURANT\", \"MISO CAFE\", \"GENTLEMAN JIM'S RESTAURANT\", \"GENTLEMAN JIM'S RESTAURANT\", \"GENTLEMAN JIM'S RESTAURANT\", \"GISELES CREOLE CUISINE\", \"KAYPI RESTAURANT\", \"KAYPI RESTAURANT\", \"KAYPI RESTAURANT\", \"MISSON BBQ\", \"ABI AZTECA GRILL\", \"DAWSON'S MARKET\", \"NEW VILLAGE RESTAURANT\", \"NEW VILLAGE RESTAURANT\", \"NEW VILLAGE RESTAURANT\", \"SAKURA JAPAN STEAK & SEAFOOD\", \"TACO BAR\", \"TACO BAR\", \"VASILI'S KITCHEN\", \"OLD WORLD FAVORITES\", \"THE THAI CUISINE RESTAURANT\", \"THE THAI CUISINE RESTAURANT\", \"BOULEVARD TAVERN\", \"FONTINA GRILLE\", \"FONTINA GRILLE\", \"KALDI'S COFFEE\", \"EVA LOUNGE\", \"ISLAND PRIDE OASIS\", \"CONGRESS RESTAURANT AND LOUNGE\", \"ISLAND PRIDE OASIS\", \"LA COLOMBIANA RESTAURANT\", \"H RESTAURANT AND NIGHT CLUB\", \"H RESTAURANT AND NIGHT CLUB\", \"EL AGUILA\", \"4935 BAR & KITCHEN\", \"WOODSIDE DELI\", \"POLLO-MEX\", \"4935 BAR & KITCHEN\", \"BOULEVARD TAVERN\", \"ROSSMOOR LEISURE WORLD\", \"ROSSMOOR LEISURE WORLD\", \"NEEDWOOD GOLF COURSE SNACK BAR\", \"PIZZA CS\", \"REDGATE GOLF COURSE\", \"REDGATE GOLF COURSE\", \"CALIENTE RESTAURANT & BAR\", \"CALIENTE RESTAURANT & BAR\", \"GOURMET INSPIRATIONS\", \"SQUIRES ROCK CREEK CHOPHOUSE\", \"THAI TASTE\", \"URBAN CRAWFISH\", \"BAR LOUIE\", \"BAR LOUIE\", \"VILLA MAYA RESTAURANT\", \"ERTA ALE RESTAURANT & CAFE\", \"GAITHERSBURG SUPERMARKET\", \"BECLAWS\", \"DOLLAR PLUS STORE #7\", \"ERTA ALE RESTAURANT & CAFE\", \"FOOD STOP MINI MART\", \"MOBY DICK SEAFOOD\", \"SUYAMASTER\", \"BAR LOUIE\", \"POCKET BAR & GRILL\", \"RUAN THAI\", \"RUAN THAI\", \"SIRIWAN THAI RESTAURANT\", \"SIRIWAN THAI RESTAURANT\", \"KAYPI RESTAURANT\", \"SAFFRON INDIAN CUISINE\", \"SPICE XING\", \"BAR LOUIE\", \"ASI ES MI TIERRA\", \"ASI ES MI TIERRA\", \"BAR LOUIE WHEATON\", \"GLENMONT BEER WINE & DELI\", \"GLENMONT BEER WINE & DELI\", \"HOLLYWOOD EAST CAFE - WESTFIELD\", \"IRENE'S PUPUSAS\", \"IRENE'S PUPUSAS\", \"LEDO'S LEISURE WORLD\", \"SARITA'S CHICKEN RESTAURANT\", \"URBAN CRAWFISH\", \"HUNAN DELIGHT\", \"LA FOGATA RESTAURANT\", \"LA FOGATA RESTAURANT\", \"OUTBACK STEAKHOUSE\", \"OUTBACK STEAKHOUSE\", \"SOLE D'ITALIA RESTAURANT\", \"4935 BAR & KITCHEN\", \"COURTYARD BY MARRIOTT\", \"EL BOTANERO\", \"LEDO PIZZA AND PASTA\", \"NAGOYA SUSHI\", \"POTOMAC BEER & WINE\", \"SUSHI OISHII\", \"THAT'S AMORE\", \"COPPER CANYON GRILL\", \"ATTMAN'S DELI\", \"CHUY'S\", \"FUDDRUCKERS\", \"MODERN MARKET ROCKVILLE\", \"MODERN MARKET ROCKVILLE\", \"CAFE 20/20\", \"CAFE 20/20\", \"CAFE 20/20\", \"GILLY'S CRAFT BEER & FINE WINE\", \"MI RANCHO-ROCKVILLE\", \"SMASHBURGER (ROCKVILLLE)\", \"TARA THAI\", \"BOMBAY BISTRO\", \"FONTINA GRILLE\", \"KING FARM WINE & BEER\", \"KING FARM WINE & BEER\", \"THE BEER & WINE CELLAR\", \"TIGER BEER WINE DELI\", \"MISO CAFE\", \"SUPER BOWL NOODLE HOUSE\", \"SUPER BOWL NOODLE HOUSE\", \"SUPER BOWL NOODLE HOUSE\", \"TARA THAI- MONTGOMERY MALL\", \"TRAPEZARIA MEDITERRANEAN KUZINA\", \"TRAPEZARIA MEDITERRANEAN KUZINA\", \"DA MARCO\", \"FAIRFIELD INN-GERMANTOWN\", \"FAMOUS DAVE'S\", \"QUICK STOP BEER & WINE\", \"RED ROBIN\", \"SMASHBURGER\", \"GREGORIO'S TRATTORIA\", \"LAHINCH TAVERN & GRILL\", \"THE GRILLED OYSTER COMPANY\", \"MOM'S ORGANIC MARKET\", \"ST. ARNOLD'S MUSSEL BAR\", \"QUINCY'S BAR & GRILLE\", \"SARITA'S CHICKEN RESTAURANT\", \"DOWNTOWN BEER AND WINE\", \"GUDE DELI\", \"LEBANESE TAVERNA CAFE\", \"TALBOTT BEER & WINE\", \"TWINBROOK DELICATESSEN\", \"CAMBRIA HOTEL & SUITES\", \"APPLEBEE'S\", \"BONCHON OF GERMANTOWN\", \"HAMPTON INN & SUITES\", \"RINCON PERUANO\", \"CHIPOTLE MEXICAN GRILL\", \"CHIPOTLE MEXICAN GRILL\", \"CHIPOTLE MEXICAN GRILL\", \"SUSHI KO\", \"URBAN CRAWFISH\", \"IRENE'S PUPUSAS\", \"BEER, WINE & CO\", \"DAILY GRILL\", \"FISH TACO\", \"GESTE FOODS & WINE\", \"GESTE FOODS & WINE\", \"GESTE FOODS & WINE\", \"WINTHORPE VALENTINE'S COMMUNITY RESTAURANT\", \"6/12 CONVENIENT MART\", \"MEXICAN GRILL\", \"MILESTONE BEER, WINE & DELI\", \"BRIGHTON BEER & WINE\", \"BRIGHTON BEER & WINE\", \"FLOR DE LUNA RESTAURANT\", \"CAFE 20/20\", \"CAFE 20/20\", \"PICCA POLLO A LA BRASA\", \"GROWLERS\", \"LA CASITA\", \"LA CASITA\", \"AZUL BAR & GRILL\", \"AZUL BAR & GRILL\", \"KINGSVIEW BEER & WINE\", \"& PIZZA\", \"RUBY TUESDAY\", \"THE GREENE TURTLE\", \"DOWNTOWN CROWN WINE & BEER\", \"& PIZZA\", \"LE PALAIS\", \"LE PALAIS\", \"KAYPI RESTAURANT\", \"RESTAURANT POLLOS EL MESON\", \"RESTAURANT POLLOS EL MESON\", \"MIX BAR & GRILLE\", \"BOMBAY INDIAN RESTAURANT\", \"CHIPOTLE MEXICAN GRILL - KENTLANDS\", \"GODAVARI\", \"VIET PHO & GRILL\", \"SMASHBURGER (ROCKVILLLE)\", \"BAR LOUIE\", \"POLLO-MEX\", \"BARKING MAD CAFE\", \"SAMANTHA'S\", \"PERUVIAN COUNTRY CHICKEN\", \"& PIZZA\", \"JAVA NATION\", \"YU-ZHOU CAFE\", \"GAITHERSBURG SUPERMARKET\", \"GAITHERSBURG SUPERMARKET\", \"GAITHERSBURG SUPERMARKET\", \"RUBY TUESDAY\", \"RUBY TUESDAY\", \"SARDI'S POLLO A LA BRASA\", \"TED'S MONTANA GRILL\", \"THAI TANIUM\", \"PETER CHANG'S CHINA BISTRO\", \"GREATEST AMERICAN HOT DOGS\", \"GUAPO'S\", \"GUAPO'S\", \"CHEESE & WINE SHOPPE\", \"DULCINEA BAR & GRILL\", \"MUDDY BRANCH BEER & WINE\", \"PASHA LAND\", \"RED LOBSTER-GAITHERSBURG\", \"DOCK OF THE BAY\", \"HYATT SUMMERFIELD SUITES\", \"HYATT SUMMERFIELD SUITES\", \"THE BURGER JOINT\", \"TEXAS PARRILLADA\", \"TEXAS PARRILLADA\", \"TEXAS PARRILLADA\", \"CALIFORNIA PIZZA KITCHEN\", \"COURTYARD BY MARRIOTT\", \"TED'S BULLETIN\", \"AZUL BAR & GRILL\", \"LESAAC CAFE\", \"NOODLES & COMPANY\", \"NOODLES & COMPANY\", \"LE PAIN QUOTIDIEN\", \"RUTH'S CHRIS STEAK HOUSE\", \"BIG WAN'S CUISINE\", \"ASI ES MI TIERRA\", \"EL NORTENO\", \"EL NORTENO\", \"FOREST GLEN DELI\", \"KOI ASIAN CUISINE\", \"KOI ASIAN CUISINE\", \"SLIGO PARK GOLF COURSE SNACK BAR\", \"DOUBLETREE HOTEL\", \"ST. ARNOLD'S MUSSEL BAR\", \"BURGERFI\", \"BEST BEER, WINE, & DELI\", \"NOODLES & COMPANY\", \"WOK EXPRESS\", \"WOK EXPRESS\", \"BEMNET SUPERMARKET AND DELI\", \"BESTWAY MARYLAND SUPERMKT.\", \"BESTWAY MARYLAND SUPERMKT.\", \"BESTWAY MARYLAND SUPERMKT.\", \"CHIPOTLE MEXICAN GRILL\", \"FOUR U\", \"GESTE FOODS & WINE\", \"WALIA ETHIOPIAN RESTAURANT\", \"WALIA ETHIOPIAN RESTAURANT\", \"FUSION BAR & GRILL\", \"FUSION BAR & GRILL\", \"FUSION BAR & GRILL\", \"FUSION BAR & GRILL\", \"FUSION BAR & GRILL\", \"OGEI'S CHICKEN & SUBS\", \"KADHAI INDIAN CUISINE\", \"NEWS EXPRESS\", \"SMOKE BBQ\", \"BIG WAN'S CUISINE\", \"BIG WAN'S CUISINE\", \"GERMANTOWN BEER, WINE & PLUS\", \"SMASHBURGER\", \"TANDOORI NIGHTS-BETHESDA\", \"TANDOORI NIGHTS-BETHESDA\", \"RUMBA Y CARBON\", \"FENWICK BEER & WINE\", \"HILLANDALE BEER & WINE\", \"SPRING BEER & WINE\", \"OGEI'S CHICKEN & SUBS\", \"JAVA NATION\", \"OGEI'S CHICKEN & SUBS\", \"OGEI'S CHICKEN & SUBS\", \"THE BARKING DOG\", \"THE BARKING DOG\", \"AZUL BAR & GRILL\", \"OGEI'S CHICKEN & SUBS\", \"ARMANDS CHICAGO PIZZERIA\", \"IKKO\", \"JACKIE'S\", \"MILLER'S ALE HOUSE\", \"SHEGER SPRING CAFE\", \"SILVER SPRING HILTON HOTEL\", \"CAPTAIN'S MARKET\", \"EL AGUILA\", \"PHO VIET STAR\", \"29 CONVENIENCE MART\", \"NOT YOUR AVERAGE JOE'S\", \"CALIENTE RESTAURANT & BAR\", \"EL PUENTE DE ORO\", \"EL SOL SALVADOREAN & MEXICAN RESTAURANT\", \"EL SOL SALVADOREAN & MEXICAN RESTAURANT\", \"MOGOTILLO RESTAURANT\", \"MOGOTILLO RESTAURANT\", \"FOOD STOP MINI MART\", \"MASTER 8 BILLIARDS\", \"CANCUN GRILL RESTAURANT, THE\", \"JOSE'S GRILL\", \"JOSE'S GRILL\", \"SEVEN-ELEVEN STORE\", \"SEVEN-ELEVEN STORE\", \"SEVEN-ELEVEN STORE\"], \"lat\": [38.99138597377822, 38.98697573079014, 38.98697573079014, 38.98697573079014, null, 39.123894914438225, 39.123894914438225, 39.1755424, null, 39.0852353, 38.98927069387755, 38.98927069387755, 38.987118462105684, 38.987118462105684, 38.98985604616847, 38.9891129, 38.9819665, 38.9814586, 38.99069373469388, null, 39.05643459090909, 39.05643459090909, 38.9964816, 39.057021291939925, 39.057021291939925, 39.055382785714286, 39.055382785714286, null, 39.1645596, 38.98082435294118, null, null, null, 39.040105, 39.1515068774244, null, 39.147637, 39.1317698, 39.149635918367345, 39.177414, null, null, 39.147637, 38.990799, 38.990799, null, 38.98068, 38.98068, 38.9444624, 38.9444624, 38.9444624, 39.01493575, null, 39.142029449999995, null, null, 38.98088244195773, 38.980879930349275, 38.9819987, 38.9882534, 39.1475796, 39.15411175174163, 38.988485795918365, null, null, null, null, null, null, 39.071481, null, null, 39.2299919, 39.2299919, 38.99612745, null, null, null, null, null, null, 39.1149525, null, null, 39.04067831951807, 39.024686, 39.024686, 39.04921628571429, 39.02267684691909, 39.02267684691909, 39.02267684691909, 39.0151244, 38.98330452133209, 39.02294165805497, 38.982224, 38.982224, 39.15352762735433, null, null, 39.15439517775158, 38.9820079, 38.99013795290929, 38.988568428571426, 38.9819938, 38.981243, 38.98999618367347, 38.98987755102041, 38.98885846938776, null, null, 39.06335073894634, 39.08462136406919, 39.08462136406919, 39.08462136406919, 39.093489, 38.9928644, 39.1703668, 38.99001675, 39.180195, 39.11725137152072, 39.11725137152072, null, null, null, 39.1723536, 39.1159716, null, null, null, 39.0504613, null, null, 39.07779438064628, 39.07779438064628, 39.071311785714286, 39.071311785714286, 39.06353599220674, 39.06353599220674, 39.0016961, 38.98082435294118, null, null, null, null, 39.05701125, 39.05701125, 39.05701125, 39.05701125, 39.05701125, 39.05701125, 39.0586561, 39.0586561, 39.0586561, 39.1421769512826, 38.990547, 39.147637, 39.151791, 38.9915027, 38.9915027, 38.9915027, 38.9915027, 38.9915027, 38.993527, 39.0866765, null, 39.07477714327396, 39.07477714327396, 39.0847348, 39.0847348, 39.0858823, 39.0858823, 39.1218445, 39.1218445, 39.171714449999996, 39.171714449999996, 39.1178126, 39.117140020408165, 39.117140020408165, null, null, 39.08757521395991, 39.08757521395991, null, 39.10639246705118, 39.10639246705118, 39.10639246705118, 39.0871475, 39.0871475, 39.0871475, 39.1554675, 39.1421769512826, 39.1421769512826, 39.1421769512826, null, 38.99001675, 38.99001675, 39.11725137152072, 39.040105, 38.98139, 39.1226905, null, null, 39.041293, 39.0501787, 39.0501787, 39.0501787, 39.1089615, 38.9856873, null, null, null, 39.16203940816326, 39.14420567438288, 39.14420567438288, 39.0871475, 39.039860653061226, null, null, 38.988872, 39.1421769512826, 39.1421769512826, 39.1421769512826, null, 38.991089136363634, 38.9915027, 39.1703668, 38.99612745, 39.077376948254326, null, 38.9968428, null, 38.9752476, null, null, 38.9907043, 39.1175087, null, 38.9915027, 39.1248173, 38.9971305, 39.03960890503173, null, 39.093489, 39.140862130649275, 39.1433438, null, 39.1240727, null, null, 39.1110397, 38.9938453, 38.99151594897959, 38.99151594897959, null, null, 39.17929152966844, null, 38.9812558, null, null, 38.9812558, 38.9812558, 39.0318393, 39.0847348, 39.0914079, null, 39.06088666666667, 39.16162908163265, 39.1040733, 39.1110397, null, 39.0908647, 39.1110397, null, null, 39.03356794808669, 39.0586561, 39.0599847, 39.06224755958698, null, null, 39.0604355, null, null, 39.039850379332016, 39.1110397, null, 39.0858823, 39.085703, null, 38.991278, 39.007540032786885, 39.007540032786885, 39.05096834386468, 39.05096834386468, 39.061868, 39.049986, 39.0507166, 39.058673999999996, 39.05875628571429, 39.086231, null, 39.1433438, 39.10498851082301, 39.0914079, 39.084158, 39.0501787, 39.03058881283507, null, null, 39.116452306122454, 39.07475179800113, 39.07813790979538, 39.06080229671414, 39.07140007142857, 39.07140007142857, 39.12898395, null, 39.12723002821239, 39.071275, 39.1166494, 39.095107, 39.1167066, null, null, null, 39.113162450000004, null, 38.99382584532019, 38.99261158333333, null, 39.1214491, 39.1491879, 38.97429655315256, 39.0355341, null, null, 39.13577030063653, 39.039908, 39.1178126, 39.1240727, 39.121183215013446, 39.11628186556362, 39.039860653061226, 39.039860653061226, 38.99123070343513, null, null, 39.1703668, null, null, 38.993587, null, null, 39.16024400151952, 39.16382145, 39.163146850000004, 39.163146850000004, 39.163146850000004, 39.20227745, 39.1436911, 39.1779191, null, null, null, null, null, null, 39.1703668, null, 39.1134857, 39.1165285, 39.1165285, 39.1165285, 39.1159716, 39.1159716, 39.115747915680984, 39.152204, 39.152204, 39.152204, null, null, 39.1420895, 39.18543487574541, null, null, null, 39.1475796, 39.1475796, 39.1089615, 39.179475102208315, 39.18093615, 39.14222585, 39.143695, 39.15306206650691, null, null, 39.15439517775158, 39.15439517775158, 39.2388035, 39.2388035, null, 39.2834443058446, 39.2834443058446, 39.2834443058446, 39.2834443058446, 39.28967595, 39.28967595, null, null, 39.2379436, 39.1444302, 39.1444302, 39.1444302, 38.99261158333333, 38.99261158333333, 38.9947906, 38.9947906, 39.1500082, 38.9810441, 39.179475102208315, 39.1245655, 39.1245655, 39.1775673, 39.1231469, 39.1819021, 39.1979099, 39.180195, 39.0093475, 39.0093475, null, null, 39.061868, 39.03904136734694, 39.0355341, null, null, 39.039685530612246, null, null, 39.04147348979592, 38.9750251, 38.9750251, 38.99778167635398, 39.0400472, null, null, null, 39.1166494, 39.1166494, 39.0501787, 39.0501787, 39.28967595, 38.9914874, null, 39.03953687755102, 39.039685530612246, 39.118668, 39.085512, 39.085512, 39.085512, 39.1433438, 39.1433438, 39.1292598, 39.1292598, 39.1292598, 39.179475102208315, null, 39.01493575, 39.1008427, 39.085512, 39.085512, 39.085512, 39.1143509, 38.9744221879884, 38.9744221879884, 38.9744221879884, 38.9960146, 38.9741537, null, 39.03585, 39.03585, 39.1175087, 39.141936400000006, 39.1645596, 39.01493575, null, 39.01493575, 39.01493575, null, 38.99229825, 38.99702055, null, 38.993092, 38.993092, 38.99229825, 38.9876824, 38.9898183, 38.99069373469388, 39.093489, 39.1425576, 38.992377, 38.991718, 38.9956504, 38.99263133333333, null, 39.040191, 39.040191, 39.1226905, 39.0157402, 39.1248173, 39.0914079, 38.9906014, 38.9914874, 38.98998491666667, 38.98998491666667, 38.9928644, 38.987118462105684, 38.988957469387756, 38.9979273, 38.97429655315256, 39.143528849999996, 38.9945068, null, 39.1444302, 39.008693134542355, 38.98996987755102, 38.98996987755102, 38.98888457142857, 38.989067285714285, null, 39.0157402, 39.0157402, null, 39.039908, 39.008693134542355, 38.980524789473684, 38.980524789473684, 38.9831456, 38.9831456, 38.9831456, 39.15291935, 39.12898395, 39.1292598, 38.9818258, 38.98871571428572, null, 39.114949316853796, 38.9890033, 39.0211099, 39.0003696, 38.99265055, 39.02097874210191, 39.02097874210191, 39.021438, 39.00805941891892, 38.993958346938776, null, 38.990472653061225, 39.182643, 38.989907301939525, 39.0655207, 38.99535, 38.99535, 38.99702055, 39.1106369, 39.1106369, 39.1455637, null, 39.11637941524913, 39.11637941524913, 38.989600764705884, null, 38.9971305, 38.9888431, 38.9888061, 38.9888061, null, 38.9966583, 39.177932846153844, 39.1475796, 39.1459638, 39.20469475, 39.106375616161614, 39.0586561, null, null, null, null, 38.998097955261166, 38.998097955261166, null, 38.99857332332426, 38.9869488, 38.990547, 38.990547, 38.98872144897959, 38.980707107569046, 39.0157402, 38.9820079, 39.0655207, 39.0655207, 38.9811415, 38.981357897959185, 38.981357897959185, 38.98139, 38.98139, 38.9819987, 38.9819987, 38.9819987, 38.9817932, 38.989907301939525, 39.141816285714285, 39.141816285714285, 39.141816285714285, null, null, null, 39.0214162, 39.0214162, 39.0214162, null, 39.03356794808669, 39.05643459090909, null, 39.02556356253034, 38.9441713, 38.975375, 39.01719335, 39.01719335, 39.01719335, 39.05701125, 39.1868161, 39.1868161, 39.10639246705118, null, null, null, null, null, null, 39.07437734337349, 39.07437734337349, 39.07437734337349, 39.07482783381962, 39.1779191, null, 39.17929152966844, 39.17929152966844, 39.17929152966844, 39.17999538053491, null, null, 39.1218445, null, 39.093625140155524, 39.093625140155524, 39.1234721, 39.1143509, 39.1143509, 38.9915027, 38.99382584532019, 39.12898395, 38.974505944545626, 39.12898395, 39.039860653061226, 39.040191, 39.040191, 38.9971305, 38.98890526530612, 39.00805941891892, 39.0157402, 38.98890526530612, 39.1234721, 39.1008427, 39.1008427, 39.1243133, 39.06353599220674, 39.093442, 39.093442, null, null, null, 39.040330673469384, 39.04051042857142, 39.140862130649275, 39.086231, 39.086231, 39.093489, 39.04020605962505, 39.1421769512826, null, null, 39.04020605962505, null, 39.039108465151116, 39.04020281192501, 39.086231, 39.0157402, 39.04173375, 39.04173375, null, null, 39.07437734337349, 39.06916820390183, null, 39.086231, 39.03966362756875, 39.03966362756875, 39.0355341, 39.03585, 39.03585, null, 38.9964816, 38.9964816, null, 39.03960890503173, 39.140862130649275, 39.15488120815368, null, null, null, null, null, 38.98890526530612, 39.1040733, null, null, null, null, null, 39.1110397, 39.1173327, 39.03987287831272, 39.0572511, 39.063596665902246, 39.06307660799537, 39.06307660799537, null, null, null, 39.05854254010539, 39.06580958755448, 39.0586561, 39.0586561, 39.084082, 39.1143509, null, null, 39.06335073894634, 39.0888995, null, 39.07779438064628, 39.07779438064628, 39.07779438064628, 39.0247476, 39.0847348, 39.0847348, 39.1979099, 39.180195, 39.1979099, 39.20227745, 39.180195, null, 39.0406292, 39.040676, 39.0409912, 39.05701125, 39.0016961, 39.14214460826296, 39.03960890503173, null, 39.0982451, 39.08558658333333, 39.071275, 39.074074473895585, null, 39.201833, 39.1788945, null, null, null, null, null, null, 39.140862130649275, 38.9964816, null, 38.98431735, null, 38.98493900027173, 38.98493900027173, 38.98493900027173, 38.9881328, 39.104064, 39.133045, 39.2010678, 39.130634343066035, 39.130634343066035, null, null, null, null, 39.141936400000006, 39.142029449999995, 39.142029449999995, null, null, 39.160638642857144, 39.18109265, 39.18060655, 39.1834531, 39.1142267, 39.04939, 39.1219563, 39.1219563, 39.07437734337349, 39.1292598, 39.1292598, 38.9928644, 39.0157402, 39.1245655, 39.1175087, null, 39.0586561, 39.086231, 39.0157402, 39.16024400151952, 39.0004921, 39.02097874210191, 39.04939, 39.027926, 39.150809295918364, 39.1421769512826, 39.1421769512826, 39.1421769512826, 39.15488455, 39.15488455, 39.13573751774924, 39.115747915680984, 39.1217204, 39.0867546, 39.1475796, 39.14653920000001, 39.14653920000001, 39.039908, 39.1175087, 39.1166494, 39.1220792, 39.1134857, 39.13577030063653, 39.126946, 39.126946, null, 39.15291935, 39.15291935, 39.15291935, 39.1171361, 39.1167066, 39.1143145, null, 38.9919378, null, null, 38.98139, 38.9824443, 39.111933, 39.03966362756875, 39.002099080551865, 39.002099080551865, 39.0164491, 39.0215021, 39.0215021, 39.01233059787804, 38.9912274, 39.0016961, 38.9956334, 39.16382145, null, 39.15291935, 39.15291935, 38.991278, 38.99905555, 38.99905555, 38.99905555, 38.9856873, 38.991927122448985, 38.98493900027173, 38.97425467487395, 38.97425467487395, 39.0157402, 39.0157402, 39.0157402, 39.0157402, 39.0157402, 39.1166494, 38.98913085714286, 38.99014555173807, 38.98995855771059, 39.111933, 39.111933, 39.17695245, null, 38.9814452, 38.9814452, null, 38.997061099999996, 39.0093475, 38.99814954324767, 39.1166494, 39.027926, 39.1166494, 39.1166494, 38.98262876599038, 38.98262876599038, null, 39.1166494, 39.008693134542355, 38.9911789, 38.99001675, 39.0653747, null, 38.9960146, 38.973458583125776, 38.9971305, null, 39.028293, 39.1231469, null, 39.036753380307346, null, null, 38.98697573079014, 38.98697573079014, null, null, 39.03904136734694, 39.0428632164972, 39.0428632164972, 39.085330150000004, 39.085330150000004, 39.085330150000004], \"legendgroup\": \"\", \"lon\": [-77.01326413525605, -76.98814714615902, -76.98814714615902, -76.98814714615902, null, -77.23474192889417, -77.23474192889417, -77.2735302, null, -77.1520479, -77.09833110204082, -77.09833110204082, -77.09612400455666, -77.09612400455666, -77.09749100369302, -77.0964201, -77.0957562, -77.0954615, -77.09813485714285, null, -77.08336809090909, -77.08336809090909, -77.0287784, -77.08160629941511, -77.08160629941511, -77.08344871428571, -77.08344871428571, null, -77.2735678, -77.09689335294118, null, null, null, -77.052877, -77.06388213557206, null, -77.067027, -77.0716129, -77.02648991836735, -77.057955, null, null, -77.067027, -77.098958, -77.098958, null, -77.092708, -77.092708, -77.1169554, -77.1169554, -77.1169554, -77.10666245, null, -77.19888840000002, null, null, -77.09943903838155, -77.09949884605786, -77.0968942, -77.0967105, -77.1460316, -77.06883812122973, -77.09763812244897, null, null, null, null, null, null, -77.13279557142857, null, null, -77.2494971, -77.2494971, -77.03017159890564, null, null, null, null, null, null, -77.2045334, null, null, -77.1587549168796, -77.12500800000001, -77.12500800000001, -77.11680695918368, -77.12355879661723, -77.12355879661723, -77.12355879661723, -77.1189082, -77.09397762508787, -77.12374238139472, -77.093446, -77.093446, -77.06782576155013, null, null, -77.19669695492125, -77.0967658, -77.097213256232, -77.09685108163265, -77.0962831, -77.096991, -77.09889428571428, -77.09904385714286, -77.09846751020409, null, null, -77.12750620969042, -77.13597436710572, -77.13597436710572, -77.13597436710572, -77.1203217, -77.0263599, -77.26138270342067, -77.02653225, -77.2686267, -77.20545429945753, -77.20545429945753, null, null, null, -77.2057490682522, -77.1971755, null, null, null, -77.1171829, null, null, -77.1401117727007, -77.1401117727007, -77.13264255102041, -77.13264255102041, -77.12528919509484, -77.12528919509484, -77.1096966, -77.09689335294118, null, null, null, null, -77.10759691916681, -77.10759691916681, -77.10759691916681, -77.10759691916681, -77.10759691916681, -77.10759691916681, -77.1213411, -77.1213411, -77.1213411, -77.19437246288334, -77.0967539, -77.067027, -77.06173942857143, -77.0257357, -77.0257357, -77.0257357, -77.0257357, -77.0257357, -77.026964, -77.151961, null, -77.1364203651608, -77.1364203651608, -77.1527255, -77.1527255, -77.1510647, -77.1510647, -77.235203, -77.235203, -77.26135151429727, -77.26135151429727, -77.25011829307479, -77.19873565306122, -77.19873565306122, null, null, -77.15044403150489, -77.15044403150489, null, -77.15811189685004, -77.15811189685004, -77.15811189685004, -77.1524065, -77.1524065, -77.1524065, -77.2087106, -77.19437246288334, -77.19437246288334, -77.19437246288334, null, -77.02653225, -77.02653225, -77.20545429945753, -77.052877, -77.09799081632653, -77.2326126, null, null, -77.157818, -77.1161949, -77.1161949, -77.1161949, -76.9363388, -77.0961397, null, null, null, -77.28138046938776, -77.40946907431915, -77.40946907431915, -77.1524065, -77.05251273469388, null, null, -77.001255, -77.19437246288334, -77.19437246288334, -77.19437246288334, null, -77.02649895454546, -77.0257357, -77.26138270342067, -77.03017159890564, -77.19600198769824, null, -77.0278347, null, -77.010517, null, null, -77.0236094, -77.1855122, null, -77.0257357, -77.180825, -77.0293589, -77.05406359112202, null, -77.1203217, -77.22168146229096, -77.2188765, null, -77.239757, null, null, -77.1873926, -77.02899980000001, -77.09559670408163, -77.09559670408163, null, null, -77.24036874534242, null, -77.0958574, null, null, -77.0958574, -77.0958574, -77.0483782, -77.1527255, -77.1848878, null, -77.125706, -77.28060169387756, -77.1897983, -77.1873926, null, -77.1792262, -77.1873926, null, null, -77.07258890988565, -77.1213411, -77.1572139, -77.15927098510035, null, null, -77.1567896, null, null, -77.15691187838678, -77.1873926, null, -77.1510647, -77.152832, null, -77.014128, -77.03963786885247, -77.03963786885247, -77.11634615774572, -77.11634615774572, -77.124356, -77.1172258, -77.1186558, -77.12300285714285, -77.12403967346938, -77.152081, null, -77.2188765, -77.15696220865841, -77.1848878, -77.150812, -77.1161949, -77.08230207228249, null, null, -77.19804671428572, -77.1363852513974, -77.14060135025923, -77.12293645263843, -77.13272238775511, -77.13272238775511, -77.18536805, null, -77.18427923949605, -77.1326092857143, -77.2165837, -77.140608, -77.1979014, null, null, null, -77.19201825393212, null, -77.0255967372195, -77.02649013888889, null, -77.2336371, -77.2133841, -76.99557946603198, -77.052144, null, null, -77.19185448545656, -77.053373, -77.25011829307479, -77.239757, -77.2376635314911, -77.20720322642677, -77.05251273469388, -77.05251273469388, -77.01448994459709, null, null, -77.26138270342067, null, null, -77.0263765, null, null, -77.22245794037303, -77.2255354, -77.20546499782192, -77.20546499782192, -77.20546499782192, -77.25938632747882, -77.2013037, -77.2661115, null, null, null, null, null, null, -77.26138270342067, null, -77.1874205, -77.20674855767594, -77.20674855767594, -77.20674855767594, -77.1971755, -77.1971755, -77.20404941273483, -77.1725418, -77.1725418, -77.1725418, null, null, -77.19599146160911, -77.18925939009677, null, null, null, -77.1460316, -77.1460316, -76.9363388, -77.23831032263958, -77.27205397084549, -77.19773386590501, -77.2174621, -77.19867235158705, null, null, -77.19669695492125, -77.19669695492125, -77.27915975, -77.27915975, null, -77.21089108104601, -77.21089108104601, -77.21089108104601, -77.21089108104601, -77.20513162291894, -77.20513162291894, null, null, -77.2764202, -77.2185632, -77.2185632, -77.2185632, -77.02649013888889, -77.02649013888889, -77.0252185, -77.0252185, -77.012913, -77.097258, -77.23831032263958, -77.236983, -77.236983, -77.2382332495155, -77.2366579, -77.2652694, -77.2542768, -77.2686267, -76.9796375, -76.9796375, null, null, -77.124356, -77.05083992857143, -77.052144, null, null, -77.05103678571429, null, null, -77.04843936734694, -77.0122986, -77.0122986, -77.02685013818059, -77.0513606, null, null, null, -77.2165837, -77.2165837, -77.1161949, -77.1161949, -77.20513162291894, -77.0261537, null, -77.05099135714286, -77.05103678571429, -77.18308436734694, -77.1510615, -77.1510615, -77.1510615, -77.2188765, -77.2188765, -77.18565966807108, -77.18565966807108, -77.18565966807108, -77.23831032263958, null, -77.10666245, -77.0749673, -77.1510615, -77.1510615, -77.1510615, -77.1708971, -76.9954345752674, -76.9954345752674, -76.9954345752674, -77.0283063, -77.0123738, null, -77.0498435, -77.0498435, -77.1855122, -77.19355583644284, -77.2735678, -77.10666245, null, -77.10666245, -77.10666245, null, -77.02647999999999, -77.02664820845709, null, -77.026508, -77.026508, -77.02647999999999, -77.0975584, -77.0979171, -77.09813485714285, -77.1203217, -77.19342395, -77.026483, -77.026469, -77.0247958740113, -77.02649055555555, null, -77.051573, -77.051573, -77.2326126, -76.9776253, -77.180825, -77.1848878, -77.0298019, -77.0261537, -77.02653341666667, -77.02653341666667, -77.0263599, -77.09612400455666, -77.09863551020408, -77.0286378, -76.99557946603198, -77.21747406700663, -77.0256901, null, -77.2185632, -77.04087955796096, -77.09526446938774, -77.09526446938774, -77.09844214285715, -77.09826457142857, null, -76.9776253, -76.9776253, null, -77.053373, -77.04087955796096, -77.09221621052632, -77.09221621052632, -77.0933909, -77.0933909, -77.0933909, -77.19662446028352, -77.18536805, -77.18565966807108, -77.0977274, -77.09767857142857, null, -77.20478778834352, -77.0976716, -77.0129367, -77.0173417, -77.04907723338383, -77.01205317034056, -77.01205317034056, -77.011856, -77.04011171621622, -77.02253014285715, null, -77.02386608163266, -77.109489, -77.09744050415466, -77.15059065488532, -77.0271602, -77.0271602, -77.02664820845709, -77.0755935, -77.0755935, -77.4183487, null, -76.96613830338183, -76.96613830338183, -77.09823832352942, null, -77.0293589, -77.1007905, -77.1007019, -77.1007019, null, -77.0302758, -77.27167606593406, -77.1460316, -77.4168558, -77.1404031099037, -77.15172032323233, -77.1213411, null, null, null, null, -77.03830412042966, -77.03830412042966, null, -77.03981650941807, -77.09826715006304, -77.0967539, -77.0967539, -77.09740853061224, -77.09980413965683, -76.9776253, -77.0967658, -77.15059065488532, -77.15059065488532, -77.097956, -77.09833959183673, -77.09833959183673, -77.09799081632653, -77.09799081632653, -77.0968942, -77.0968942, -77.0968942, -77.0962192, -77.09744050415466, -77.19601514285714, -77.19601514285714, -77.19601514285714, null, null, null, -77.1399852, -77.1399852, -77.1399852, null, -77.07258890988565, -77.08336809090909, null, -77.07178888633658, -77.1167329, -77.161596, -77.2107049, -77.2107049, -77.2107049, -77.10759691916681, -77.25215732023571, -77.25215732023571, -77.15811189685004, null, null, null, null, null, null, -77.11309501204819, -77.11309501204819, -77.11309501204819, -77.1364905926876, -77.2661115, null, -77.24036874534242, -77.24036874534242, -77.24036874534242, -77.23977215376507, null, null, -77.235203, null, -77.15362021830875, -77.15362021830875, -77.2370213, -77.1708971, -77.1708971, -77.0257357, -77.0255967372195, -77.18536805, -76.99533798142433, -77.18536805, -77.05251273469388, -77.051573, -77.051573, -77.0293589, -77.09868624489795, -77.04011171621622, -76.9776253, -77.09868624489795, -77.2370213, -77.0749673, -77.0749673, -77.157929, -77.12528919509484, -77.123169, -77.123169, null, null, null, -77.05059071428572, -77.04939385714286, -77.22168146229096, -77.152081, -77.152081, -77.1203217, -77.0497650018637, -77.19437246288334, null, null, -77.0497650018637, null, -77.05163977447386, -77.04972340037274, -77.152081, -76.9776253, -77.0479905, -77.0479905, null, null, -77.11309501204819, -77.1301004120463, null, -77.152081, -77.05396044743102, -77.05396044743102, -77.052144, -77.0498435, -77.0498435, null, -77.0287784, -77.0287784, null, -77.05406359112202, -77.22168146229096, -77.06369869329886, null, null, null, null, null, -77.09868624489795, -77.1897983, null, null, null, null, null, -77.1873926, -77.1989699, -77.15695543641341, -77.1213396, -77.12533655000338, -77.12490866420879, -77.12490866420879, null, null, null, -77.11897241966831, -77.12705969091215, -77.1213411, -77.1213411, -77.154656, -77.1708971, null, null, -77.12750620969042, -77.15407847278232, null, -77.1401117727007, -77.1401117727007, -77.1401117727007, -77.1253328, -77.1527255, -77.1527255, -77.2542768, -77.2686267, -77.2542768, -77.25938632747882, -77.2686267, null, -77.1555153, -77.1554615, -77.1570706, -77.10759691916681, -77.1096966, -77.22119808659998, -77.05406359112202, null, -77.13580350000001, -77.151849, -77.1326092857143, -77.11243383534138, null, -77.2461273, -77.23799795, null, null, null, null, null, null, -77.22168146229096, -77.0287784, null, -77.09606487949507, null, -77.09587469216137, -77.09587469216137, -77.09587469216137, -77.0962282, -77.29324, -77.398391, -77.2470505, -77.20683369437182, -77.20683369437182, null, null, null, null, -77.19355583644284, -77.19888840000002, -77.19888840000002, null, null, -77.27954589795918, -77.26669204860714, -77.26832809999999, -77.26173745, -77.2077006, -77.1162308, -77.2383761, -77.2383761, -77.11309501204819, -77.18565966807108, -77.18565966807108, -77.0263599, -76.9776253, -77.236983, -77.1855122, null, -77.1213411, -77.152081, -76.9776253, -77.22245794037303, -76.99595073907244, -77.01205317034056, -77.1162308, -77.07669646153846, -77.20965079591836, -77.19437246288334, -77.19437246288334, -77.19437246288334, -77.20497292504044, -77.20497292504044, -77.19182558314607, -77.20404941273483, -77.2349303, -77.1509833, -77.1460316, -77.20415215, -77.20415215, -77.053373, -77.1855122, -77.2165837, -77.23445489168421, -77.1874205, -77.19185448545656, -77.180119, -77.180119, null, -77.19662446028352, -77.19662446028352, -77.19662446028352, -77.198504, -77.1979014, -77.20526555000001, null, -77.0242871, null, null, -77.09799081632653, -77.09304, -77.1614581, -77.05396044743102, -77.053171005384, -77.053171005384, -77.0187655, -76.9395644, -76.9395644, -77.0295519690913, -77.0959347, -77.1096966, -77.0247557, -77.2255354, null, -77.19662446028352, -77.19662446028352, -77.014128, -77.00232150742197, -77.00232150742197, -77.00232150742197, -77.0961397, -77.01009542857143, -77.09587469216137, -76.99562776295352, -76.99562776295352, -76.9776253, -76.9776253, -76.9776253, -76.9776253, -76.9776253, -77.2165837, -77.09745385714285, -77.09747902103435, -77.09739000461629, -77.1614581, -77.1614581, -77.2389728040718, null, -77.0960185, -77.0960185, null, -77.03270800509875, -76.9796375, -77.03846827115352, -77.2165837, -77.07669646153846, -77.2165837, -77.2165837, -77.09397327479519, -77.09397327479519, null, -77.2165837, -77.04087955796096, -77.0294874, -77.02653225, -77.12772538926663, null, -77.0283063, -77.15541871516724, -77.0293589, null, -77.008974, -77.2366579, null, -77.05063898164278, null, null, -76.98814714615902, -76.98814714615902, null, null, -77.05083992857143, -77.0522466864871, -77.0522466864871, -77.0777321177553, -77.0777321177553, -77.0777321177553], \"marker\": {\"color\": \"#636efa\"}, \"mode\": \"markers\", \"name\": \"\", \"showlegend\": false, \"subplot\": \"mapbox\", \"type\": \"scattermapbox\"}],                        {\"legend\": {\"tracegroupgap\": 0}, \"mapbox\": {\"center\": {\"lat\": 39.067911246913404, \"lon\": -77.12568645355933}, \"domain\": {\"x\": [0.0, 1.0], \"y\": [0.0, 1.0]}, \"style\": \"open-street-map\", \"zoom\": 9}, \"margin\": {\"b\": 0, \"l\": 0, \"r\": 0, \"t\": 0}, \"template\": {\"data\": {\"bar\": [{\"error_x\": {\"color\": \"#2a3f5f\"}, \"error_y\": {\"color\": \"#2a3f5f\"}, \"marker\": {\"line\": {\"color\": \"#E5ECF6\", \"width\": 0.5}}, \"type\": \"bar\"}], \"barpolar\": [{\"marker\": {\"line\": {\"color\": \"#E5ECF6\", \"width\": 0.5}}, \"type\": \"barpolar\"}], \"carpet\": [{\"aaxis\": {\"endlinecolor\": \"#2a3f5f\", \"gridcolor\": \"white\", \"linecolor\": \"white\", \"minorgridcolor\": \"white\", \"startlinecolor\": \"#2a3f5f\"}, \"baxis\": {\"endlinecolor\": \"#2a3f5f\", \"gridcolor\": \"white\", \"linecolor\": \"white\", \"minorgridcolor\": \"white\", \"startlinecolor\": \"#2a3f5f\"}, \"type\": \"carpet\"}], \"choropleth\": [{\"colorbar\": {\"outlinewidth\": 0, \"ticks\": \"\"}, \"type\": \"choropleth\"}], \"contour\": [{\"colorbar\": {\"outlinewidth\": 0, \"ticks\": \"\"}, \"colorscale\": [[0.0, \"#0d0887\"], [0.1111111111111111, \"#46039f\"], [0.2222222222222222, \"#7201a8\"], [0.3333333333333333, \"#9c179e\"], [0.4444444444444444, \"#bd3786\"], [0.5555555555555556, \"#d8576b\"], [0.6666666666666666, \"#ed7953\"], [0.7777777777777778, \"#fb9f3a\"], [0.8888888888888888, \"#fdca26\"], [1.0, \"#f0f921\"]], \"type\": \"contour\"}], \"contourcarpet\": [{\"colorbar\": {\"outlinewidth\": 0, \"ticks\": \"\"}, \"type\": \"contourcarpet\"}], \"heatmap\": [{\"colorbar\": {\"outlinewidth\": 0, \"ticks\": \"\"}, \"colorscale\": [[0.0, \"#0d0887\"], [0.1111111111111111, \"#46039f\"], [0.2222222222222222, \"#7201a8\"], [0.3333333333333333, \"#9c179e\"], [0.4444444444444444, \"#bd3786\"], [0.5555555555555556, \"#d8576b\"], [0.6666666666666666, \"#ed7953\"], [0.7777777777777778, \"#fb9f3a\"], [0.8888888888888888, \"#fdca26\"], [1.0, \"#f0f921\"]], \"type\": \"heatmap\"}], \"heatmapgl\": [{\"colorbar\": {\"outlinewidth\": 0, \"ticks\": \"\"}, \"colorscale\": [[0.0, \"#0d0887\"], [0.1111111111111111, \"#46039f\"], [0.2222222222222222, \"#7201a8\"], [0.3333333333333333, \"#9c179e\"], [0.4444444444444444, \"#bd3786\"], [0.5555555555555556, \"#d8576b\"], [0.6666666666666666, \"#ed7953\"], [0.7777777777777778, \"#fb9f3a\"], [0.8888888888888888, \"#fdca26\"], [1.0, \"#f0f921\"]], \"type\": \"heatmapgl\"}], \"histogram\": [{\"marker\": {\"colorbar\": {\"outlinewidth\": 0, \"ticks\": \"\"}}, \"type\": \"histogram\"}], \"histogram2d\": [{\"colorbar\": {\"outlinewidth\": 0, \"ticks\": \"\"}, \"colorscale\": [[0.0, \"#0d0887\"], [0.1111111111111111, \"#46039f\"], [0.2222222222222222, \"#7201a8\"], [0.3333333333333333, \"#9c179e\"], [0.4444444444444444, \"#bd3786\"], [0.5555555555555556, \"#d8576b\"], [0.6666666666666666, \"#ed7953\"], [0.7777777777777778, \"#fb9f3a\"], [0.8888888888888888, \"#fdca26\"], [1.0, \"#f0f921\"]], \"type\": \"histogram2d\"}], \"histogram2dcontour\": [{\"colorbar\": {\"outlinewidth\": 0, \"ticks\": \"\"}, \"colorscale\": [[0.0, \"#0d0887\"], [0.1111111111111111, \"#46039f\"], [0.2222222222222222, \"#7201a8\"], [0.3333333333333333, \"#9c179e\"], [0.4444444444444444, \"#bd3786\"], [0.5555555555555556, \"#d8576b\"], [0.6666666666666666, \"#ed7953\"], [0.7777777777777778, \"#fb9f3a\"], [0.8888888888888888, \"#fdca26\"], [1.0, \"#f0f921\"]], \"type\": \"histogram2dcontour\"}], \"mesh3d\": [{\"colorbar\": {\"outlinewidth\": 0, \"ticks\": \"\"}, \"type\": \"mesh3d\"}], \"parcoords\": [{\"line\": {\"colorbar\": {\"outlinewidth\": 0, \"ticks\": \"\"}}, \"type\": \"parcoords\"}], \"pie\": [{\"automargin\": true, \"type\": \"pie\"}], \"scatter\": [{\"marker\": {\"colorbar\": {\"outlinewidth\": 0, \"ticks\": \"\"}}, \"type\": \"scatter\"}], \"scatter3d\": [{\"line\": {\"colorbar\": {\"outlinewidth\": 0, \"ticks\": \"\"}}, \"marker\": {\"colorbar\": {\"outlinewidth\": 0, \"ticks\": \"\"}}, \"type\": \"scatter3d\"}], \"scattercarpet\": [{\"marker\": {\"colorbar\": {\"outlinewidth\": 0, \"ticks\": \"\"}}, \"type\": \"scattercarpet\"}], \"scattergeo\": [{\"marker\": {\"colorbar\": {\"outlinewidth\": 0, \"ticks\": \"\"}}, \"type\": \"scattergeo\"}], \"scattergl\": [{\"marker\": {\"colorbar\": {\"outlinewidth\": 0, \"ticks\": \"\"}}, \"type\": \"scattergl\"}], \"scattermapbox\": [{\"marker\": {\"colorbar\": {\"outlinewidth\": 0, \"ticks\": \"\"}}, \"type\": \"scattermapbox\"}], \"scatterpolar\": [{\"marker\": {\"colorbar\": {\"outlinewidth\": 0, \"ticks\": \"\"}}, \"type\": \"scatterpolar\"}], \"scatterpolargl\": [{\"marker\": {\"colorbar\": {\"outlinewidth\": 0, \"ticks\": \"\"}}, \"type\": \"scatterpolargl\"}], \"scatterternary\": [{\"marker\": {\"colorbar\": {\"outlinewidth\": 0, \"ticks\": \"\"}}, \"type\": \"scatterternary\"}], \"surface\": [{\"colorbar\": {\"outlinewidth\": 0, \"ticks\": \"\"}, \"colorscale\": [[0.0, \"#0d0887\"], [0.1111111111111111, \"#46039f\"], [0.2222222222222222, \"#7201a8\"], [0.3333333333333333, \"#9c179e\"], [0.4444444444444444, \"#bd3786\"], [0.5555555555555556, \"#d8576b\"], [0.6666666666666666, \"#ed7953\"], [0.7777777777777778, \"#fb9f3a\"], [0.8888888888888888, \"#fdca26\"], [1.0, \"#f0f921\"]], \"type\": \"surface\"}], \"table\": [{\"cells\": {\"fill\": {\"color\": \"#EBF0F8\"}, \"line\": {\"color\": \"white\"}}, \"header\": {\"fill\": {\"color\": \"#C8D4E3\"}, \"line\": {\"color\": \"white\"}}, \"type\": \"table\"}]}, \"layout\": {\"annotationdefaults\": {\"arrowcolor\": \"#2a3f5f\", \"arrowhead\": 0, \"arrowwidth\": 1}, \"coloraxis\": {\"colorbar\": {\"outlinewidth\": 0, \"ticks\": \"\"}}, \"colorscale\": {\"diverging\": [[0, \"#8e0152\"], [0.1, \"#c51b7d\"], [0.2, \"#de77ae\"], [0.3, \"#f1b6da\"], [0.4, \"#fde0ef\"], [0.5, \"#f7f7f7\"], [0.6, \"#e6f5d0\"], [0.7, \"#b8e186\"], [0.8, \"#7fbc41\"], [0.9, \"#4d9221\"], [1, \"#276419\"]], \"sequential\": [[0.0, \"#0d0887\"], [0.1111111111111111, \"#46039f\"], [0.2222222222222222, \"#7201a8\"], [0.3333333333333333, \"#9c179e\"], [0.4444444444444444, \"#bd3786\"], [0.5555555555555556, \"#d8576b\"], [0.6666666666666666, \"#ed7953\"], [0.7777777777777778, \"#fb9f3a\"], [0.8888888888888888, \"#fdca26\"], [1.0, \"#f0f921\"]], \"sequentialminus\": [[0.0, \"#0d0887\"], [0.1111111111111111, \"#46039f\"], [0.2222222222222222, \"#7201a8\"], [0.3333333333333333, \"#9c179e\"], [0.4444444444444444, \"#bd3786\"], [0.5555555555555556, \"#d8576b\"], [0.6666666666666666, \"#ed7953\"], [0.7777777777777778, \"#fb9f3a\"], [0.8888888888888888, \"#fdca26\"], [1.0, \"#f0f921\"]]}, \"colorway\": [\"#636efa\", \"#EF553B\", \"#00cc96\", \"#ab63fa\", \"#FFA15A\", \"#19d3f3\", \"#FF6692\", \"#B6E880\", \"#FF97FF\", \"#FECB52\"], \"font\": {\"color\": \"#2a3f5f\"}, \"geo\": {\"bgcolor\": \"white\", \"lakecolor\": \"white\", \"landcolor\": \"#E5ECF6\", \"showlakes\": true, \"showland\": true, \"subunitcolor\": \"white\"}, \"hoverlabel\": {\"align\": \"left\"}, \"hovermode\": \"closest\", \"mapbox\": {\"style\": \"light\"}, \"paper_bgcolor\": \"white\", \"plot_bgcolor\": \"#E5ECF6\", \"polar\": {\"angularaxis\": {\"gridcolor\": \"white\", \"linecolor\": \"white\", \"ticks\": \"\"}, \"bgcolor\": \"#E5ECF6\", \"radialaxis\": {\"gridcolor\": \"white\", \"linecolor\": \"white\", \"ticks\": \"\"}}, \"scene\": {\"xaxis\": {\"backgroundcolor\": \"#E5ECF6\", \"gridcolor\": \"white\", \"gridwidth\": 2, \"linecolor\": \"white\", \"showbackground\": true, \"ticks\": \"\", \"zerolinecolor\": \"white\"}, \"yaxis\": {\"backgroundcolor\": \"#E5ECF6\", \"gridcolor\": \"white\", \"gridwidth\": 2, \"linecolor\": \"white\", \"showbackground\": true, \"ticks\": \"\", \"zerolinecolor\": \"white\"}, \"zaxis\": {\"backgroundcolor\": \"#E5ECF6\", \"gridcolor\": \"white\", \"gridwidth\": 2, \"linecolor\": \"white\", \"showbackground\": true, \"ticks\": \"\", \"zerolinecolor\": \"white\"}}, \"shapedefaults\": {\"line\": {\"color\": \"#2a3f5f\"}}, \"ternary\": {\"aaxis\": {\"gridcolor\": \"white\", \"linecolor\": \"white\", \"ticks\": \"\"}, \"baxis\": {\"gridcolor\": \"white\", \"linecolor\": \"white\", \"ticks\": \"\"}, \"bgcolor\": \"#E5ECF6\", \"caxis\": {\"gridcolor\": \"white\", \"linecolor\": \"white\", \"ticks\": \"\"}}, \"title\": {\"x\": 0.05}, \"xaxis\": {\"automargin\": true, \"gridcolor\": \"white\", \"linecolor\": \"white\", \"ticks\": \"\", \"title\": {\"standoff\": 15}, \"zerolinecolor\": \"white\", \"zerolinewidth\": 2}, \"yaxis\": {\"automargin\": true, \"gridcolor\": \"white\", \"linecolor\": \"white\", \"ticks\": \"\", \"title\": {\"standoff\": 15}, \"zerolinecolor\": \"white\", \"zerolinewidth\": 2}}}},                        {\"responsive\": true}                    ).then(function(){\n",
       "                            \n",
       "var gd = document.getElementById('89ca6ffd-9d1f-457e-bc3c-6c1cf582cc33');\n",
       "var x = new MutationObserver(function (mutations, observer) {{\n",
       "        var display = window.getComputedStyle(gd).display;\n",
       "        if (!display || display === 'none') {{\n",
       "            console.log([gd, 'removed!']);\n",
       "            Plotly.purge(gd);\n",
       "            observer.disconnect();\n",
       "        }}\n",
       "}});\n",
       "\n",
       "// Listen for the removal of the full notebook cells\n",
       "var notebookContainer = gd.closest('#notebook-container');\n",
       "if (notebookContainer) {{\n",
       "    x.observe(notebookContainer, {childList: true});\n",
       "}}\n",
       "\n",
       "// Listen for the clearing of the current output cell\n",
       "var outputEl = gd.closest('.output');\n",
       "if (outputEl) {{\n",
       "    x.observe(outputEl, {childList: true});\n",
       "}}\n",
       "\n",
       "                        })                };                });            </script>        </div>"
      ]
     },
     "metadata": {},
     "output_type": "display_data"
    }
   ],
   "source": [
    "# Map the locations of the violations\n",
    "fig_violations_map = px.scatter_mapbox(violations_data, lat=\"latitude\", lon=\"longitude\", hover_name=\"facilityname\", zoom=9, \n",
    "                         hover_data={\"latitude\":False, \"longitude\":False})\n",
    "fig_violations_map.update_layout(mapbox_style=\"open-street-map\")\n",
    "fig_violations_map.update_layout(margin={\"r\":0,\"t\":0,\"l\":0,\"b\":0})\n",
    "fig_violations_map.show()\n"
   ]
  },
  {
   "cell_type": "code",
   "execution_count": null,
   "metadata": {},
   "outputs": [],
   "source": []
  },
  {
   "cell_type": "code",
   "execution_count": null,
   "metadata": {},
   "outputs": [],
   "source": [
    "# I might need to map the using Tableau - it might be easier."
   ]
  },
  {
   "cell_type": "code",
   "execution_count": null,
   "metadata": {},
   "outputs": [],
   "source": []
  },
  {
   "cell_type": "code",
   "execution_count": null,
   "metadata": {},
   "outputs": [],
   "source": []
  },
  {
   "cell_type": "code",
   "execution_count": 3,
   "metadata": {},
   "outputs": [
    {
     "data": {
      "text/html": [
       "<div>\n",
       "<style scoped>\n",
       "    .dataframe tbody tr th:only-of-type {\n",
       "        vertical-align: middle;\n",
       "    }\n",
       "\n",
       "    .dataframe tbody tr th {\n",
       "        vertical-align: top;\n",
       "    }\n",
       "\n",
       "    .dataframe thead th {\n",
       "        text-align: right;\n",
       "    }\n",
       "</style>\n",
       "<table border=\"1\" class=\"dataframe\">\n",
       "  <thead>\n",
       "    <tr style=\"text-align: right;\">\n",
       "      <th></th>\n",
       "      <th>report_number</th>\n",
       "      <th>local_case_number</th>\n",
       "      <th>agency_name</th>\n",
       "      <th>acrs_report_type</th>\n",
       "      <th>crash_date_time</th>\n",
       "      <th>hit_run</th>\n",
       "      <th>route_type</th>\n",
       "      <th>mile_point</th>\n",
       "      <th>mile_point_direction</th>\n",
       "      <th>lane_direction</th>\n",
       "      <th>...</th>\n",
       "      <th>road_alignment</th>\n",
       "      <th>road_condition</th>\n",
       "      <th>road_division</th>\n",
       "      <th>latitude</th>\n",
       "      <th>longitude</th>\n",
       "      <th>geolocation</th>\n",
       "      <th>off_road_description</th>\n",
       "      <th>lane_type</th>\n",
       "      <th>related_non_motorist</th>\n",
       "      <th>non_motorist_substance_abuse</th>\n",
       "    </tr>\n",
       "  </thead>\n",
       "  <tbody>\n",
       "    <tr>\n",
       "      <th>0</th>\n",
       "      <td>MCP3138002L</td>\n",
       "      <td>200039964</td>\n",
       "      <td>Montgomery County Police</td>\n",
       "      <td>Property Damage Crash</td>\n",
       "      <td>2020-10-10T18:26:00.000</td>\n",
       "      <td>No</td>\n",
       "      <td>County</td>\n",
       "      <td>2.8</td>\n",
       "      <td>East</td>\n",
       "      <td>North</td>\n",
       "      <td>...</td>\n",
       "      <td>CURVE RIGHT</td>\n",
       "      <td>NO DEFECTS</td>\n",
       "      <td>TWO-WAY, NOT DIVIDED</td>\n",
       "      <td>39.1814558</td>\n",
       "      <td>-77.061693</td>\n",
       "      <td>{'latitude': '39.1814558', 'longitude': '-77.0...</td>\n",
       "      <td>NaN</td>\n",
       "      <td>NaN</td>\n",
       "      <td>NaN</td>\n",
       "      <td>NaN</td>\n",
       "    </tr>\n",
       "    <tr>\n",
       "      <th>1</th>\n",
       "      <td>MCP2001001C</td>\n",
       "      <td>200031165</td>\n",
       "      <td>Montgomery County Police</td>\n",
       "      <td>Fatal Crash</td>\n",
       "      <td>2020-08-11T00:15:00.000</td>\n",
       "      <td>No</td>\n",
       "      <td>Maryland (State)</td>\n",
       "      <td>10.4</td>\n",
       "      <td>North</td>\n",
       "      <td>North</td>\n",
       "      <td>...</td>\n",
       "      <td>CURVE RIGHT</td>\n",
       "      <td>NO DEFECTS</td>\n",
       "      <td>TWO-WAY, DIVIDED, POSITIVE MEDIAN BARRIER</td>\n",
       "      <td>39.11482236</td>\n",
       "      <td>-76.99265161</td>\n",
       "      <td>{'latitude': '39.11482236', 'longitude': '-76....</td>\n",
       "      <td>NaN</td>\n",
       "      <td>NaN</td>\n",
       "      <td>NaN</td>\n",
       "      <td>NaN</td>\n",
       "    </tr>\n",
       "    <tr>\n",
       "      <th>2</th>\n",
       "      <td>EJ7881000P</td>\n",
       "      <td>200038048</td>\n",
       "      <td>Gaithersburg Police Depar</td>\n",
       "      <td>Injury Crash</td>\n",
       "      <td>2020-09-27T21:35:00.000</td>\n",
       "      <td>No</td>\n",
       "      <td>County</td>\n",
       "      <td>2.83</td>\n",
       "      <td>North</td>\n",
       "      <td>East</td>\n",
       "      <td>...</td>\n",
       "      <td>STRAIGHT</td>\n",
       "      <td>NO DEFECTS</td>\n",
       "      <td>TWO-WAY, DIVIDED, POSITIVE MEDIAN BARRIER</td>\n",
       "      <td>39.1093976</td>\n",
       "      <td>-77.1884339</td>\n",
       "      <td>{'latitude': '39.1093976', 'longitude': '-77.1...</td>\n",
       "      <td>NaN</td>\n",
       "      <td>NaN</td>\n",
       "      <td>NaN</td>\n",
       "      <td>NaN</td>\n",
       "    </tr>\n",
       "    <tr>\n",
       "      <th>3</th>\n",
       "      <td>MCP3253000M</td>\n",
       "      <td>200040096</td>\n",
       "      <td>Montgomery County Police</td>\n",
       "      <td>Property Damage Crash</td>\n",
       "      <td>2020-10-11T22:20:00.000</td>\n",
       "      <td>Yes</td>\n",
       "      <td>NaN</td>\n",
       "      <td>NaN</td>\n",
       "      <td>NaN</td>\n",
       "      <td>NaN</td>\n",
       "      <td>...</td>\n",
       "      <td>NaN</td>\n",
       "      <td>NaN</td>\n",
       "      <td>NaN</td>\n",
       "      <td>39.14179968</td>\n",
       "      <td>-77.19504908</td>\n",
       "      <td>{'latitude': '39.14179968', 'longitude': '-77....</td>\n",
       "      <td>PARKING LOT OF CANCUN MEXICAN CUISINE AT 117 E...</td>\n",
       "      <td>NaN</td>\n",
       "      <td>NaN</td>\n",
       "      <td>NaN</td>\n",
       "    </tr>\n",
       "    <tr>\n",
       "      <th>4</th>\n",
       "      <td>MCP3097001S</td>\n",
       "      <td>200039010</td>\n",
       "      <td>Montgomery County Police</td>\n",
       "      <td>Property Damage Crash</td>\n",
       "      <td>2020-10-04T02:28:00.000</td>\n",
       "      <td>No</td>\n",
       "      <td>County</td>\n",
       "      <td>3.17</td>\n",
       "      <td>North</td>\n",
       "      <td>North</td>\n",
       "      <td>...</td>\n",
       "      <td>STRAIGHT</td>\n",
       "      <td>NO DEFECTS</td>\n",
       "      <td>TWO-WAY, DIVIDED, UNPROTECTED PAINTED MIN 4 FEET</td>\n",
       "      <td>39.096055</td>\n",
       "      <td>-76.94581167</td>\n",
       "      <td>{'latitude': '39.096055', 'longitude': '-76.94...</td>\n",
       "      <td>NaN</td>\n",
       "      <td>NaN</td>\n",
       "      <td>NaN</td>\n",
       "      <td>NaN</td>\n",
       "    </tr>\n",
       "  </tbody>\n",
       "</table>\n",
       "<p>5 rows × 44 columns</p>\n",
       "</div>"
      ],
      "text/plain": [
       "  report_number local_case_number                agency_name  \\\n",
       "0   MCP3138002L         200039964   Montgomery County Police   \n",
       "1   MCP2001001C         200031165   Montgomery County Police   \n",
       "2    EJ7881000P         200038048  Gaithersburg Police Depar   \n",
       "3   MCP3253000M         200040096   Montgomery County Police   \n",
       "4   MCP3097001S         200039010   Montgomery County Police   \n",
       "\n",
       "        acrs_report_type          crash_date_time hit_run        route_type  \\\n",
       "0  Property Damage Crash  2020-10-10T18:26:00.000      No            County   \n",
       "1            Fatal Crash  2020-08-11T00:15:00.000      No  Maryland (State)   \n",
       "2           Injury Crash  2020-09-27T21:35:00.000      No            County   \n",
       "3  Property Damage Crash  2020-10-11T22:20:00.000     Yes               NaN   \n",
       "4  Property Damage Crash  2020-10-04T02:28:00.000      No            County   \n",
       "\n",
       "  mile_point mile_point_direction lane_direction  ... road_alignment  \\\n",
       "0        2.8                 East          North  ...    CURVE RIGHT   \n",
       "1       10.4                North          North  ...    CURVE RIGHT   \n",
       "2       2.83                North           East  ...       STRAIGHT   \n",
       "3        NaN                  NaN            NaN  ...            NaN   \n",
       "4       3.17                North          North  ...       STRAIGHT   \n",
       "\n",
       "  road_condition                                     road_division  \\\n",
       "0     NO DEFECTS                              TWO-WAY, NOT DIVIDED   \n",
       "1     NO DEFECTS         TWO-WAY, DIVIDED, POSITIVE MEDIAN BARRIER   \n",
       "2     NO DEFECTS         TWO-WAY, DIVIDED, POSITIVE MEDIAN BARRIER   \n",
       "3            NaN                                               NaN   \n",
       "4     NO DEFECTS  TWO-WAY, DIVIDED, UNPROTECTED PAINTED MIN 4 FEET   \n",
       "\n",
       "      latitude     longitude  \\\n",
       "0   39.1814558    -77.061693   \n",
       "1  39.11482236  -76.99265161   \n",
       "2   39.1093976   -77.1884339   \n",
       "3  39.14179968  -77.19504908   \n",
       "4    39.096055  -76.94581167   \n",
       "\n",
       "                                         geolocation  \\\n",
       "0  {'latitude': '39.1814558', 'longitude': '-77.0...   \n",
       "1  {'latitude': '39.11482236', 'longitude': '-76....   \n",
       "2  {'latitude': '39.1093976', 'longitude': '-77.1...   \n",
       "3  {'latitude': '39.14179968', 'longitude': '-77....   \n",
       "4  {'latitude': '39.096055', 'longitude': '-76.94...   \n",
       "\n",
       "                                off_road_description lane_type  \\\n",
       "0                                                NaN       NaN   \n",
       "1                                                NaN       NaN   \n",
       "2                                                NaN       NaN   \n",
       "3  PARKING LOT OF CANCUN MEXICAN CUISINE AT 117 E...       NaN   \n",
       "4                                                NaN       NaN   \n",
       "\n",
       "  related_non_motorist non_motorist_substance_abuse  \n",
       "0                  NaN                          NaN  \n",
       "1                  NaN                          NaN  \n",
       "2                  NaN                          NaN  \n",
       "3                  NaN                          NaN  \n",
       "4                  NaN                          NaN  \n",
       "\n",
       "[5 rows x 44 columns]"
      ]
     },
     "execution_count": 3,
     "metadata": {},
     "output_type": "execute_result"
    }
   ],
   "source": [
    "# Pull in the Crash Incidents data \n",
    "# Trying to narrow down by alcohol activity because the dataset is so big.\n",
    "selections = {\"Driver Substance Abuse\": \"ALCOHOL PRESENT\"}\n",
    "\n",
    "crash_incidents_data = pd.DataFrame(requests.get(\"https://data.montgomerycountymd.gov/resource/bhju-22kf.json\",params=selections).json())\n",
    "crash_incidents_data.head()"
   ]
  },
  {
   "cell_type": "code",
   "execution_count": 4,
   "metadata": {},
   "outputs": [
    {
     "data": {
      "text/plain": [
       "(1000, 44)"
      ]
     },
     "execution_count": 4,
     "metadata": {},
     "output_type": "execute_result"
    }
   ],
   "source": [
    "crash_incidents_data.shape"
   ]
  },
  {
   "cell_type": "code",
   "execution_count": 5,
   "metadata": {},
   "outputs": [
    {
     "data": {
      "text/html": [
       "<div>\n",
       "<style scoped>\n",
       "    .dataframe tbody tr th:only-of-type {\n",
       "        vertical-align: middle;\n",
       "    }\n",
       "\n",
       "    .dataframe tbody tr th {\n",
       "        vertical-align: top;\n",
       "    }\n",
       "\n",
       "    .dataframe thead th {\n",
       "        text-align: right;\n",
       "    }\n",
       "</style>\n",
       "<table border=\"1\" class=\"dataframe\">\n",
       "  <thead>\n",
       "    <tr style=\"text-align: right;\">\n",
       "      <th></th>\n",
       "      <th>report_number</th>\n",
       "      <th>local_case_number</th>\n",
       "      <th>agency_name</th>\n",
       "      <th>acrs_report_type</th>\n",
       "      <th>crash_date_time</th>\n",
       "      <th>hit_run</th>\n",
       "      <th>route_type</th>\n",
       "      <th>mile_point</th>\n",
       "      <th>mile_point_direction</th>\n",
       "      <th>lane_direction</th>\n",
       "      <th>...</th>\n",
       "      <th>road_alignment</th>\n",
       "      <th>road_condition</th>\n",
       "      <th>road_division</th>\n",
       "      <th>latitude</th>\n",
       "      <th>longitude</th>\n",
       "      <th>geolocation</th>\n",
       "      <th>off_road_description</th>\n",
       "      <th>lane_type</th>\n",
       "      <th>related_non_motorist</th>\n",
       "      <th>non_motorist_substance_abuse</th>\n",
       "    </tr>\n",
       "  </thead>\n",
       "  <tbody>\n",
       "    <tr>\n",
       "      <th>count</th>\n",
       "      <td>1000</td>\n",
       "      <td>1000</td>\n",
       "      <td>1000</td>\n",
       "      <td>1000</td>\n",
       "      <td>1000</td>\n",
       "      <td>1000</td>\n",
       "      <td>842</td>\n",
       "      <td>850</td>\n",
       "      <td>842</td>\n",
       "      <td>850</td>\n",
       "      <td>...</td>\n",
       "      <td>850</td>\n",
       "      <td>850</td>\n",
       "      <td>850</td>\n",
       "      <td>1000</td>\n",
       "      <td>1000</td>\n",
       "      <td>1000</td>\n",
       "      <td>150</td>\n",
       "      <td>185</td>\n",
       "      <td>12</td>\n",
       "      <td>12</td>\n",
       "    </tr>\n",
       "    <tr>\n",
       "      <th>unique</th>\n",
       "      <td>1000</td>\n",
       "      <td>1000</td>\n",
       "      <td>9</td>\n",
       "      <td>3</td>\n",
       "      <td>999</td>\n",
       "      <td>2</td>\n",
       "      <td>8</td>\n",
       "      <td>392</td>\n",
       "      <td>4</td>\n",
       "      <td>5</td>\n",
       "      <td>...</td>\n",
       "      <td>6</td>\n",
       "      <td>6</td>\n",
       "      <td>8</td>\n",
       "      <td>998</td>\n",
       "      <td>1000</td>\n",
       "      <td>1000</td>\n",
       "      <td>149</td>\n",
       "      <td>14</td>\n",
       "      <td>4</td>\n",
       "      <td>3</td>\n",
       "    </tr>\n",
       "    <tr>\n",
       "      <th>top</th>\n",
       "      <td>MCP2995002V</td>\n",
       "      <td>200032886</td>\n",
       "      <td>Montgomery County Police</td>\n",
       "      <td>Property Damage Crash</td>\n",
       "      <td>2015-04-25T00:08:00.000</td>\n",
       "      <td>No</td>\n",
       "      <td>County</td>\n",
       "      <td>0</td>\n",
       "      <td>North</td>\n",
       "      <td>North</td>\n",
       "      <td>...</td>\n",
       "      <td>STRAIGHT</td>\n",
       "      <td>NO DEFECTS</td>\n",
       "      <td>TWO-WAY, NOT DIVIDED</td>\n",
       "      <td>39.05905</td>\n",
       "      <td>-77.20079833</td>\n",
       "      <td>{'latitude': '39.15215167', 'longitude': '-77....</td>\n",
       "      <td>PARKING LOT</td>\n",
       "      <td>OFF ROAD</td>\n",
       "      <td>PEDESTRIAN</td>\n",
       "      <td>NONE DETECTED</td>\n",
       "    </tr>\n",
       "    <tr>\n",
       "      <th>freq</th>\n",
       "      <td>1</td>\n",
       "      <td>1</td>\n",
       "      <td>771</td>\n",
       "      <td>806</td>\n",
       "      <td>2</td>\n",
       "      <td>723</td>\n",
       "      <td>486</td>\n",
       "      <td>102</td>\n",
       "      <td>321</td>\n",
       "      <td>218</td>\n",
       "      <td>...</td>\n",
       "      <td>604</td>\n",
       "      <td>824</td>\n",
       "      <td>482</td>\n",
       "      <td>2</td>\n",
       "      <td>1</td>\n",
       "      <td>1</td>\n",
       "      <td>2</td>\n",
       "      <td>47</td>\n",
       "      <td>7</td>\n",
       "      <td>7</td>\n",
       "    </tr>\n",
       "  </tbody>\n",
       "</table>\n",
       "<p>4 rows × 44 columns</p>\n",
       "</div>"
      ],
      "text/plain": [
       "       report_number local_case_number               agency_name  \\\n",
       "count           1000              1000                      1000   \n",
       "unique          1000              1000                         9   \n",
       "top      MCP2995002V         200032886  Montgomery County Police   \n",
       "freq               1                 1                       771   \n",
       "\n",
       "             acrs_report_type          crash_date_time hit_run route_type  \\\n",
       "count                    1000                     1000    1000        842   \n",
       "unique                      3                      999       2          8   \n",
       "top     Property Damage Crash  2015-04-25T00:08:00.000      No     County   \n",
       "freq                      806                        2     723        486   \n",
       "\n",
       "       mile_point mile_point_direction lane_direction  ... road_alignment  \\\n",
       "count         850                  842            850  ...            850   \n",
       "unique        392                    4              5  ...              6   \n",
       "top             0                North          North  ...       STRAIGHT   \n",
       "freq          102                  321            218  ...            604   \n",
       "\n",
       "       road_condition         road_division  latitude     longitude  \\\n",
       "count             850                   850      1000          1000   \n",
       "unique              6                     8       998          1000   \n",
       "top        NO DEFECTS  TWO-WAY, NOT DIVIDED  39.05905  -77.20079833   \n",
       "freq              824                   482         2             1   \n",
       "\n",
       "                                              geolocation  \\\n",
       "count                                                1000   \n",
       "unique                                               1000   \n",
       "top     {'latitude': '39.15215167', 'longitude': '-77....   \n",
       "freq                                                    1   \n",
       "\n",
       "       off_road_description lane_type related_non_motorist  \\\n",
       "count                   150       185                   12   \n",
       "unique                  149        14                    4   \n",
       "top             PARKING LOT  OFF ROAD           PEDESTRIAN   \n",
       "freq                      2        47                    7   \n",
       "\n",
       "       non_motorist_substance_abuse  \n",
       "count                            12  \n",
       "unique                            3  \n",
       "top                   NONE DETECTED  \n",
       "freq                              7  \n",
       "\n",
       "[4 rows x 44 columns]"
      ]
     },
     "execution_count": 5,
     "metadata": {},
     "output_type": "execute_result"
    }
   ],
   "source": [
    "crash_incidents_data.describe(include=\"all\")"
   ]
  },
  {
   "cell_type": "code",
   "execution_count": null,
   "metadata": {},
   "outputs": [],
   "source": []
  },
  {
   "cell_type": "code",
   "execution_count": null,
   "metadata": {},
   "outputs": [],
   "source": []
  },
  {
   "cell_type": "code",
   "execution_count": 9,
   "metadata": {},
   "outputs": [
    {
     "data": {
      "text/html": [
       "<div>\n",
       "<style scoped>\n",
       "    .dataframe tbody tr th:only-of-type {\n",
       "        vertical-align: middle;\n",
       "    }\n",
       "\n",
       "    .dataframe tbody tr th {\n",
       "        vertical-align: top;\n",
       "    }\n",
       "\n",
       "    .dataframe thead th {\n",
       "        text-align: right;\n",
       "    }\n",
       "</style>\n",
       "<table border=\"1\" class=\"dataframe\">\n",
       "  <thead>\n",
       "    <tr style=\"text-align: right;\">\n",
       "      <th></th>\n",
       "      <th>incident_id</th>\n",
       "      <th>offence_code</th>\n",
       "      <th>case_number</th>\n",
       "      <th>date</th>\n",
       "      <th>nibrs_code</th>\n",
       "      <th>victims</th>\n",
       "      <th>crimename1</th>\n",
       "      <th>crimename2</th>\n",
       "      <th>crimename3</th>\n",
       "      <th>district</th>\n",
       "      <th>...</th>\n",
       "      <th>start_date</th>\n",
       "      <th>latitude</th>\n",
       "      <th>longitude</th>\n",
       "      <th>police_district_number</th>\n",
       "      <th>geolocation</th>\n",
       "      <th>location</th>\n",
       "      <th>address_number</th>\n",
       "      <th>end_date</th>\n",
       "      <th>street_prefix_dir</th>\n",
       "      <th>street_suffix_dir</th>\n",
       "    </tr>\n",
       "  </thead>\n",
       "  <tbody>\n",
       "    <tr>\n",
       "      <th>0</th>\n",
       "      <td>201303680</td>\n",
       "      <td>5404</td>\n",
       "      <td>200037909</td>\n",
       "      <td>2020-09-26T20:09:15.000</td>\n",
       "      <td>90D</td>\n",
       "      <td>1</td>\n",
       "      <td>Crime Against Society</td>\n",
       "      <td>Driving Under the Influence</td>\n",
       "      <td>DRIVING UNDER THE INFLUENCE LIQUOR</td>\n",
       "      <td>MONTGOMERY VILLAGE</td>\n",
       "      <td>...</td>\n",
       "      <td>2020-09-26T20:09:00.000</td>\n",
       "      <td>39.12677385</td>\n",
       "      <td>-77.173515894</td>\n",
       "      <td>6D</td>\n",
       "      <td>{'latitude': '39.1268', 'longitude': '-77.1735...</td>\n",
       "      <td>NaN</td>\n",
       "      <td>NaN</td>\n",
       "      <td>NaN</td>\n",
       "      <td>NaN</td>\n",
       "      <td>NaN</td>\n",
       "    </tr>\n",
       "    <tr>\n",
       "      <th>1</th>\n",
       "      <td>201303670</td>\n",
       "      <td>5311</td>\n",
       "      <td>200037939</td>\n",
       "      <td>2020-09-26T23:25:22.000</td>\n",
       "      <td>90C</td>\n",
       "      <td>1</td>\n",
       "      <td>Crime Against Society</td>\n",
       "      <td>Disorderly Conduct</td>\n",
       "      <td>PUBLIC PEACE - DISORDERLY CONDUCT</td>\n",
       "      <td>GERMANTOWN</td>\n",
       "      <td>...</td>\n",
       "      <td>2020-09-27T23:55:00.000</td>\n",
       "      <td>39.225051606</td>\n",
       "      <td>-77.236816301</td>\n",
       "      <td>5D</td>\n",
       "      <td>{'latitude': '39.2251', 'longitude': '-77.2368...</td>\n",
       "      <td>NaN</td>\n",
       "      <td>NaN</td>\n",
       "      <td>NaN</td>\n",
       "      <td>NaN</td>\n",
       "      <td>NaN</td>\n",
       "    </tr>\n",
       "    <tr>\n",
       "      <th>2</th>\n",
       "      <td>201303627</td>\n",
       "      <td>5016</td>\n",
       "      <td>200037978</td>\n",
       "      <td>2020-09-27T10:44:38.000</td>\n",
       "      <td>90Z</td>\n",
       "      <td>1</td>\n",
       "      <td>Crime Against Society</td>\n",
       "      <td>All Other Offenses</td>\n",
       "      <td>OBSTRUCT GOVT - VIOLATION OF A COURT ORDER</td>\n",
       "      <td>MONTGOMERY VILLAGE</td>\n",
       "      <td>...</td>\n",
       "      <td>2020-09-27T10:00:00.000</td>\n",
       "      <td>39.109624905</td>\n",
       "      <td>-77.204225038</td>\n",
       "      <td>6D</td>\n",
       "      <td>{'latitude': '39.1096', 'longitude': '-77.2042...</td>\n",
       "      <td>9800 BLK  GABLE RIDGE TER</td>\n",
       "      <td>9800</td>\n",
       "      <td>NaN</td>\n",
       "      <td>NaN</td>\n",
       "      <td>NaN</td>\n",
       "    </tr>\n",
       "    <tr>\n",
       "      <th>3</th>\n",
       "      <td>201303627</td>\n",
       "      <td>3562</td>\n",
       "      <td>200037978</td>\n",
       "      <td>2020-09-27T10:44:38.000</td>\n",
       "      <td>35A</td>\n",
       "      <td>1</td>\n",
       "      <td>Crime Against Society</td>\n",
       "      <td>Drug/Narcotic Violations</td>\n",
       "      <td>DRUGS - MARIJUANA - POSSESS</td>\n",
       "      <td>MONTGOMERY VILLAGE</td>\n",
       "      <td>...</td>\n",
       "      <td>2020-09-27T10:00:00.000</td>\n",
       "      <td>39.109624905</td>\n",
       "      <td>-77.204225038</td>\n",
       "      <td>6D</td>\n",
       "      <td>{'latitude': '39.1096', 'longitude': '-77.2042...</td>\n",
       "      <td>9800 BLK  GABLE RIDGE TER</td>\n",
       "      <td>9800</td>\n",
       "      <td>NaN</td>\n",
       "      <td>NaN</td>\n",
       "      <td>NaN</td>\n",
       "    </tr>\n",
       "    <tr>\n",
       "      <th>4</th>\n",
       "      <td>201303600</td>\n",
       "      <td>5404</td>\n",
       "      <td>200037945</td>\n",
       "      <td>2020-09-27T01:07:13.000</td>\n",
       "      <td>90D</td>\n",
       "      <td>1</td>\n",
       "      <td>Crime Against Society</td>\n",
       "      <td>Driving Under the Influence</td>\n",
       "      <td>DRIVING UNDER THE INFLUENCE LIQUOR</td>\n",
       "      <td>BETHESDA</td>\n",
       "      <td>...</td>\n",
       "      <td>2020-09-27T01:07:00.000</td>\n",
       "      <td>38.998781435</td>\n",
       "      <td>-77.069622185</td>\n",
       "      <td>2D</td>\n",
       "      <td>{'latitude': '38.9988', 'longitude': '-77.0696...</td>\n",
       "      <td>8800 BLK  BRIERLY RD</td>\n",
       "      <td>8800</td>\n",
       "      <td>NaN</td>\n",
       "      <td>NaN</td>\n",
       "      <td>NaN</td>\n",
       "    </tr>\n",
       "  </tbody>\n",
       "</table>\n",
       "<p>5 rows × 30 columns</p>\n",
       "</div>"
      ],
      "text/plain": [
       "  incident_id offence_code case_number                     date nibrs_code  \\\n",
       "0   201303680         5404   200037909  2020-09-26T20:09:15.000        90D   \n",
       "1   201303670         5311   200037939  2020-09-26T23:25:22.000        90C   \n",
       "2   201303627         5016   200037978  2020-09-27T10:44:38.000        90Z   \n",
       "3   201303627         3562   200037978  2020-09-27T10:44:38.000        35A   \n",
       "4   201303600         5404   200037945  2020-09-27T01:07:13.000        90D   \n",
       "\n",
       "  victims             crimename1                   crimename2  \\\n",
       "0       1  Crime Against Society  Driving Under the Influence   \n",
       "1       1  Crime Against Society           Disorderly Conduct   \n",
       "2       1  Crime Against Society           All Other Offenses   \n",
       "3       1  Crime Against Society     Drug/Narcotic Violations   \n",
       "4       1  Crime Against Society  Driving Under the Influence   \n",
       "\n",
       "                                   crimename3            district  ...  \\\n",
       "0          DRIVING UNDER THE INFLUENCE LIQUOR  MONTGOMERY VILLAGE  ...   \n",
       "1           PUBLIC PEACE - DISORDERLY CONDUCT          GERMANTOWN  ...   \n",
       "2  OBSTRUCT GOVT - VIOLATION OF A COURT ORDER  MONTGOMERY VILLAGE  ...   \n",
       "3                 DRUGS - MARIJUANA - POSSESS  MONTGOMERY VILLAGE  ...   \n",
       "4          DRIVING UNDER THE INFLUENCE LIQUOR            BETHESDA  ...   \n",
       "\n",
       "                start_date      latitude      longitude  \\\n",
       "0  2020-09-26T20:09:00.000   39.12677385  -77.173515894   \n",
       "1  2020-09-27T23:55:00.000  39.225051606  -77.236816301   \n",
       "2  2020-09-27T10:00:00.000  39.109624905  -77.204225038   \n",
       "3  2020-09-27T10:00:00.000  39.109624905  -77.204225038   \n",
       "4  2020-09-27T01:07:00.000  38.998781435  -77.069622185   \n",
       "\n",
       "  police_district_number                                        geolocation  \\\n",
       "0                     6D  {'latitude': '39.1268', 'longitude': '-77.1735...   \n",
       "1                     5D  {'latitude': '39.2251', 'longitude': '-77.2368...   \n",
       "2                     6D  {'latitude': '39.1096', 'longitude': '-77.2042...   \n",
       "3                     6D  {'latitude': '39.1096', 'longitude': '-77.2042...   \n",
       "4                     2D  {'latitude': '38.9988', 'longitude': '-77.0696...   \n",
       "\n",
       "                    location address_number end_date street_prefix_dir  \\\n",
       "0                        NaN            NaN      NaN               NaN   \n",
       "1                        NaN            NaN      NaN               NaN   \n",
       "2  9800 BLK  GABLE RIDGE TER           9800      NaN               NaN   \n",
       "3  9800 BLK  GABLE RIDGE TER           9800      NaN               NaN   \n",
       "4       8800 BLK  BRIERLY RD           8800      NaN               NaN   \n",
       "\n",
       "  street_suffix_dir  \n",
       "0               NaN  \n",
       "1               NaN  \n",
       "2               NaN  \n",
       "3               NaN  \n",
       "4               NaN  \n",
       "\n",
       "[5 rows x 30 columns]"
      ]
     },
     "execution_count": 9,
     "metadata": {},
     "output_type": "execute_result"
    }
   ],
   "source": [
    "# Pull in the Crimes data \n",
    "# Trying to narrow by crimes against society and then crime2 for alcohol violations. \n",
    "# looking at the crimes data, there are only 8 alcohol-related crimes in the crimes data set.\n",
    "# under Crime Name 2  Drunkenness,  Driving Under the Influence,  Liquor Law Violations\n",
    "select_crime = {\"crimename1\": \"Crime Against Society\"}\n",
    "\n",
    "crimes_data = pd.DataFrame(requests.get(\"https://data.montgomerycountymd.gov/resource/icn6-v9z3.json\",params=select_crime).json())\n",
    "crimes_data.head()"
   ]
  },
  {
   "cell_type": "code",
   "execution_count": 10,
   "metadata": {},
   "outputs": [
    {
     "data": {
      "text/plain": [
       "(1000, 30)"
      ]
     },
     "execution_count": 10,
     "metadata": {},
     "output_type": "execute_result"
    }
   ],
   "source": [
    "crimes_data.shape"
   ]
  },
  {
   "cell_type": "code",
   "execution_count": null,
   "metadata": {},
   "outputs": [],
   "source": []
  },
  {
   "cell_type": "code",
   "execution_count": null,
   "metadata": {},
   "outputs": [],
   "source": []
  },
  {
   "cell_type": "code",
   "execution_count": null,
   "metadata": {},
   "outputs": [],
   "source": []
  },
  {
   "cell_type": "code",
   "execution_count": null,
   "metadata": {},
   "outputs": [],
   "source": []
  },
  {
   "cell_type": "code",
   "execution_count": null,
   "metadata": {},
   "outputs": [],
   "source": [
    "# Pull population data from this site https://worldpopulationreview.com/zips/maryland\n",
    "# This is the csv link:  blob:https://worldpopulationreview.com/00124d35-9d90-48ad-973f-a3eaddcbe13e \n",
    "# this is the json link:  blob:https://worldpopulationreview.com/eaa13b61-5379-49d2-a077-3d611a223c7b\n",
    "# I downloaded MD counties with populations by zip code so I can select Montgomery County. \n",
    "# The site says it reflects 2020 population data.\n"
   ]
  },
  {
   "cell_type": "code",
   "execution_count": 39,
   "metadata": {},
   "outputs": [
    {
     "ename": "JSONDecodeError",
     "evalue": "Expecting value: line 1 column 1 (char 0)",
     "output_type": "error",
     "traceback": [
      "\u001b[1;31m---------------------------------------------------------------------------\u001b[0m",
      "\u001b[1;31mJSONDecodeError\u001b[0m                           Traceback (most recent call last)",
      "\u001b[1;32m<ipython-input-39-1402e379e7f4>\u001b[0m in \u001b[0;36m<module>\u001b[1;34m\u001b[0m\n\u001b[1;32m----> 1\u001b[1;33m \u001b[0mall_zip_codes_data\u001b[0m \u001b[1;33m=\u001b[0m \u001b[0mpd\u001b[0m\u001b[1;33m.\u001b[0m\u001b[0mDataFrame\u001b[0m\u001b[1;33m(\u001b[0m\u001b[0mrequests\u001b[0m\u001b[1;33m.\u001b[0m\u001b[0mget\u001b[0m\u001b[1;33m(\u001b[0m\u001b[1;34m\"https://worldpopulationreview.com/eaa13b61-5379-49d2-a077-3d611a223c7b\"\u001b[0m\u001b[1;33m)\u001b[0m\u001b[1;33m.\u001b[0m\u001b[0mjson\u001b[0m\u001b[1;33m(\u001b[0m\u001b[1;33m)\u001b[0m\u001b[1;33m)\u001b[0m\u001b[1;33m\u001b[0m\u001b[1;33m\u001b[0m\u001b[0m\n\u001b[0m\u001b[0;32m      2\u001b[0m \u001b[0mall_zip_codes_data\u001b[0m\u001b[1;33m.\u001b[0m\u001b[0mhead\u001b[0m\u001b[1;33m(\u001b[0m\u001b[1;33m)\u001b[0m\u001b[1;33m\u001b[0m\u001b[1;33m\u001b[0m\u001b[0m\n",
      "\u001b[1;32m~\\anaconda3\\lib\\site-packages\\requests\\models.py\u001b[0m in \u001b[0;36mjson\u001b[1;34m(self, **kwargs)\u001b[0m\n\u001b[0;32m    896\u001b[0m                     \u001b[1;31m# used.\u001b[0m\u001b[1;33m\u001b[0m\u001b[1;33m\u001b[0m\u001b[1;33m\u001b[0m\u001b[0m\n\u001b[0;32m    897\u001b[0m                     \u001b[1;32mpass\u001b[0m\u001b[1;33m\u001b[0m\u001b[1;33m\u001b[0m\u001b[0m\n\u001b[1;32m--> 898\u001b[1;33m         \u001b[1;32mreturn\u001b[0m \u001b[0mcomplexjson\u001b[0m\u001b[1;33m.\u001b[0m\u001b[0mloads\u001b[0m\u001b[1;33m(\u001b[0m\u001b[0mself\u001b[0m\u001b[1;33m.\u001b[0m\u001b[0mtext\u001b[0m\u001b[1;33m,\u001b[0m \u001b[1;33m**\u001b[0m\u001b[0mkwargs\u001b[0m\u001b[1;33m)\u001b[0m\u001b[1;33m\u001b[0m\u001b[1;33m\u001b[0m\u001b[0m\n\u001b[0m\u001b[0;32m    899\u001b[0m \u001b[1;33m\u001b[0m\u001b[0m\n\u001b[0;32m    900\u001b[0m     \u001b[1;33m@\u001b[0m\u001b[0mproperty\u001b[0m\u001b[1;33m\u001b[0m\u001b[1;33m\u001b[0m\u001b[0m\n",
      "\u001b[1;32m~\\anaconda3\\lib\\json\\__init__.py\u001b[0m in \u001b[0;36mloads\u001b[1;34m(s, cls, object_hook, parse_float, parse_int, parse_constant, object_pairs_hook, **kw)\u001b[0m\n\u001b[0;32m    355\u001b[0m             \u001b[0mparse_int\u001b[0m \u001b[1;32mis\u001b[0m \u001b[1;32mNone\u001b[0m \u001b[1;32mand\u001b[0m \u001b[0mparse_float\u001b[0m \u001b[1;32mis\u001b[0m \u001b[1;32mNone\u001b[0m \u001b[1;32mand\u001b[0m\u001b[1;33m\u001b[0m\u001b[1;33m\u001b[0m\u001b[0m\n\u001b[0;32m    356\u001b[0m             parse_constant is None and object_pairs_hook is None and not kw):\n\u001b[1;32m--> 357\u001b[1;33m         \u001b[1;32mreturn\u001b[0m \u001b[0m_default_decoder\u001b[0m\u001b[1;33m.\u001b[0m\u001b[0mdecode\u001b[0m\u001b[1;33m(\u001b[0m\u001b[0ms\u001b[0m\u001b[1;33m)\u001b[0m\u001b[1;33m\u001b[0m\u001b[1;33m\u001b[0m\u001b[0m\n\u001b[0m\u001b[0;32m    358\u001b[0m     \u001b[1;32mif\u001b[0m \u001b[0mcls\u001b[0m \u001b[1;32mis\u001b[0m \u001b[1;32mNone\u001b[0m\u001b[1;33m:\u001b[0m\u001b[1;33m\u001b[0m\u001b[1;33m\u001b[0m\u001b[0m\n\u001b[0;32m    359\u001b[0m         \u001b[0mcls\u001b[0m \u001b[1;33m=\u001b[0m \u001b[0mJSONDecoder\u001b[0m\u001b[1;33m\u001b[0m\u001b[1;33m\u001b[0m\u001b[0m\n",
      "\u001b[1;32m~\\anaconda3\\lib\\json\\decoder.py\u001b[0m in \u001b[0;36mdecode\u001b[1;34m(self, s, _w)\u001b[0m\n\u001b[0;32m    335\u001b[0m \u001b[1;33m\u001b[0m\u001b[0m\n\u001b[0;32m    336\u001b[0m         \"\"\"\n\u001b[1;32m--> 337\u001b[1;33m         \u001b[0mobj\u001b[0m\u001b[1;33m,\u001b[0m \u001b[0mend\u001b[0m \u001b[1;33m=\u001b[0m \u001b[0mself\u001b[0m\u001b[1;33m.\u001b[0m\u001b[0mraw_decode\u001b[0m\u001b[1;33m(\u001b[0m\u001b[0ms\u001b[0m\u001b[1;33m,\u001b[0m \u001b[0midx\u001b[0m\u001b[1;33m=\u001b[0m\u001b[0m_w\u001b[0m\u001b[1;33m(\u001b[0m\u001b[0ms\u001b[0m\u001b[1;33m,\u001b[0m \u001b[1;36m0\u001b[0m\u001b[1;33m)\u001b[0m\u001b[1;33m.\u001b[0m\u001b[0mend\u001b[0m\u001b[1;33m(\u001b[0m\u001b[1;33m)\u001b[0m\u001b[1;33m)\u001b[0m\u001b[1;33m\u001b[0m\u001b[1;33m\u001b[0m\u001b[0m\n\u001b[0m\u001b[0;32m    338\u001b[0m         \u001b[0mend\u001b[0m \u001b[1;33m=\u001b[0m \u001b[0m_w\u001b[0m\u001b[1;33m(\u001b[0m\u001b[0ms\u001b[0m\u001b[1;33m,\u001b[0m \u001b[0mend\u001b[0m\u001b[1;33m)\u001b[0m\u001b[1;33m.\u001b[0m\u001b[0mend\u001b[0m\u001b[1;33m(\u001b[0m\u001b[1;33m)\u001b[0m\u001b[1;33m\u001b[0m\u001b[1;33m\u001b[0m\u001b[0m\n\u001b[0;32m    339\u001b[0m         \u001b[1;32mif\u001b[0m \u001b[0mend\u001b[0m \u001b[1;33m!=\u001b[0m \u001b[0mlen\u001b[0m\u001b[1;33m(\u001b[0m\u001b[0ms\u001b[0m\u001b[1;33m)\u001b[0m\u001b[1;33m:\u001b[0m\u001b[1;33m\u001b[0m\u001b[1;33m\u001b[0m\u001b[0m\n",
      "\u001b[1;32m~\\anaconda3\\lib\\json\\decoder.py\u001b[0m in \u001b[0;36mraw_decode\u001b[1;34m(self, s, idx)\u001b[0m\n\u001b[0;32m    353\u001b[0m             \u001b[0mobj\u001b[0m\u001b[1;33m,\u001b[0m \u001b[0mend\u001b[0m \u001b[1;33m=\u001b[0m \u001b[0mself\u001b[0m\u001b[1;33m.\u001b[0m\u001b[0mscan_once\u001b[0m\u001b[1;33m(\u001b[0m\u001b[0ms\u001b[0m\u001b[1;33m,\u001b[0m \u001b[0midx\u001b[0m\u001b[1;33m)\u001b[0m\u001b[1;33m\u001b[0m\u001b[1;33m\u001b[0m\u001b[0m\n\u001b[0;32m    354\u001b[0m         \u001b[1;32mexcept\u001b[0m \u001b[0mStopIteration\u001b[0m \u001b[1;32mas\u001b[0m \u001b[0merr\u001b[0m\u001b[1;33m:\u001b[0m\u001b[1;33m\u001b[0m\u001b[1;33m\u001b[0m\u001b[0m\n\u001b[1;32m--> 355\u001b[1;33m             \u001b[1;32mraise\u001b[0m \u001b[0mJSONDecodeError\u001b[0m\u001b[1;33m(\u001b[0m\u001b[1;34m\"Expecting value\"\u001b[0m\u001b[1;33m,\u001b[0m \u001b[0ms\u001b[0m\u001b[1;33m,\u001b[0m \u001b[0merr\u001b[0m\u001b[1;33m.\u001b[0m\u001b[0mvalue\u001b[0m\u001b[1;33m)\u001b[0m \u001b[1;32mfrom\u001b[0m \u001b[1;32mNone\u001b[0m\u001b[1;33m\u001b[0m\u001b[1;33m\u001b[0m\u001b[0m\n\u001b[0m\u001b[0;32m    356\u001b[0m         \u001b[1;32mreturn\u001b[0m \u001b[0mobj\u001b[0m\u001b[1;33m,\u001b[0m \u001b[0mend\u001b[0m\u001b[1;33m\u001b[0m\u001b[1;33m\u001b[0m\u001b[0m\n",
      "\u001b[1;31mJSONDecodeError\u001b[0m: Expecting value: line 1 column 1 (char 0)"
     ]
    }
   ],
   "source": [
    "all_zip_codes_data = pd.DataFrame(requests.get(\"https://worldpopulationreview.com/eaa13b61-5379-49d2-a077-3d611a223c7b\").json())\n",
    "all_zip_codes_data.head()"
   ]
  },
  {
   "cell_type": "code",
   "execution_count": 37,
   "metadata": {
    "scrolled": true
   },
   "outputs": [
    {
     "ename": "FileNotFoundError",
     "evalue": "[Errno 2] File PopulationZip.csv does not exist: 'PopulationZip.csv'",
     "output_type": "error",
     "traceback": [
      "\u001b[1;31m---------------------------------------------------------------------------\u001b[0m",
      "\u001b[1;31mFileNotFoundError\u001b[0m                         Traceback (most recent call last)",
      "\u001b[1;32m<ipython-input-37-79f17c496a57>\u001b[0m in \u001b[0;36m<module>\u001b[1;34m\u001b[0m\n\u001b[1;32m----> 1\u001b[1;33m \u001b[0mpop_zip_codes\u001b[0m \u001b[1;33m=\u001b[0m \u001b[0mpd\u001b[0m\u001b[1;33m.\u001b[0m\u001b[0mread_csv\u001b[0m\u001b[1;33m(\u001b[0m\u001b[1;34m'PopulationZip.csv'\u001b[0m\u001b[1;33m)\u001b[0m\u001b[1;33m\u001b[0m\u001b[1;33m\u001b[0m\u001b[0m\n\u001b[0m\u001b[0;32m      2\u001b[0m \u001b[0mpop_zip_codes\u001b[0m\u001b[1;33m.\u001b[0m\u001b[0mhead\u001b[0m\u001b[1;33m(\u001b[0m\u001b[1;33m)\u001b[0m\u001b[1;33m\u001b[0m\u001b[1;33m\u001b[0m\u001b[0m\n",
      "\u001b[1;32m~\\anaconda3\\lib\\site-packages\\pandas\\io\\parsers.py\u001b[0m in \u001b[0;36mparser_f\u001b[1;34m(filepath_or_buffer, sep, delimiter, header, names, index_col, usecols, squeeze, prefix, mangle_dupe_cols, dtype, engine, converters, true_values, false_values, skipinitialspace, skiprows, skipfooter, nrows, na_values, keep_default_na, na_filter, verbose, skip_blank_lines, parse_dates, infer_datetime_format, keep_date_col, date_parser, dayfirst, cache_dates, iterator, chunksize, compression, thousands, decimal, lineterminator, quotechar, quoting, doublequote, escapechar, comment, encoding, dialect, error_bad_lines, warn_bad_lines, delim_whitespace, low_memory, memory_map, float_precision)\u001b[0m\n\u001b[0;32m    674\u001b[0m         )\n\u001b[0;32m    675\u001b[0m \u001b[1;33m\u001b[0m\u001b[0m\n\u001b[1;32m--> 676\u001b[1;33m         \u001b[1;32mreturn\u001b[0m \u001b[0m_read\u001b[0m\u001b[1;33m(\u001b[0m\u001b[0mfilepath_or_buffer\u001b[0m\u001b[1;33m,\u001b[0m \u001b[0mkwds\u001b[0m\u001b[1;33m)\u001b[0m\u001b[1;33m\u001b[0m\u001b[1;33m\u001b[0m\u001b[0m\n\u001b[0m\u001b[0;32m    677\u001b[0m \u001b[1;33m\u001b[0m\u001b[0m\n\u001b[0;32m    678\u001b[0m     \u001b[0mparser_f\u001b[0m\u001b[1;33m.\u001b[0m\u001b[0m__name__\u001b[0m \u001b[1;33m=\u001b[0m \u001b[0mname\u001b[0m\u001b[1;33m\u001b[0m\u001b[1;33m\u001b[0m\u001b[0m\n",
      "\u001b[1;32m~\\anaconda3\\lib\\site-packages\\pandas\\io\\parsers.py\u001b[0m in \u001b[0;36m_read\u001b[1;34m(filepath_or_buffer, kwds)\u001b[0m\n\u001b[0;32m    446\u001b[0m \u001b[1;33m\u001b[0m\u001b[0m\n\u001b[0;32m    447\u001b[0m     \u001b[1;31m# Create the parser.\u001b[0m\u001b[1;33m\u001b[0m\u001b[1;33m\u001b[0m\u001b[1;33m\u001b[0m\u001b[0m\n\u001b[1;32m--> 448\u001b[1;33m     \u001b[0mparser\u001b[0m \u001b[1;33m=\u001b[0m \u001b[0mTextFileReader\u001b[0m\u001b[1;33m(\u001b[0m\u001b[0mfp_or_buf\u001b[0m\u001b[1;33m,\u001b[0m \u001b[1;33m**\u001b[0m\u001b[0mkwds\u001b[0m\u001b[1;33m)\u001b[0m\u001b[1;33m\u001b[0m\u001b[1;33m\u001b[0m\u001b[0m\n\u001b[0m\u001b[0;32m    449\u001b[0m \u001b[1;33m\u001b[0m\u001b[0m\n\u001b[0;32m    450\u001b[0m     \u001b[1;32mif\u001b[0m \u001b[0mchunksize\u001b[0m \u001b[1;32mor\u001b[0m \u001b[0miterator\u001b[0m\u001b[1;33m:\u001b[0m\u001b[1;33m\u001b[0m\u001b[1;33m\u001b[0m\u001b[0m\n",
      "\u001b[1;32m~\\anaconda3\\lib\\site-packages\\pandas\\io\\parsers.py\u001b[0m in \u001b[0;36m__init__\u001b[1;34m(self, f, engine, **kwds)\u001b[0m\n\u001b[0;32m    878\u001b[0m             \u001b[0mself\u001b[0m\u001b[1;33m.\u001b[0m\u001b[0moptions\u001b[0m\u001b[1;33m[\u001b[0m\u001b[1;34m\"has_index_names\"\u001b[0m\u001b[1;33m]\u001b[0m \u001b[1;33m=\u001b[0m \u001b[0mkwds\u001b[0m\u001b[1;33m[\u001b[0m\u001b[1;34m\"has_index_names\"\u001b[0m\u001b[1;33m]\u001b[0m\u001b[1;33m\u001b[0m\u001b[1;33m\u001b[0m\u001b[0m\n\u001b[0;32m    879\u001b[0m \u001b[1;33m\u001b[0m\u001b[0m\n\u001b[1;32m--> 880\u001b[1;33m         \u001b[0mself\u001b[0m\u001b[1;33m.\u001b[0m\u001b[0m_make_engine\u001b[0m\u001b[1;33m(\u001b[0m\u001b[0mself\u001b[0m\u001b[1;33m.\u001b[0m\u001b[0mengine\u001b[0m\u001b[1;33m)\u001b[0m\u001b[1;33m\u001b[0m\u001b[1;33m\u001b[0m\u001b[0m\n\u001b[0m\u001b[0;32m    881\u001b[0m \u001b[1;33m\u001b[0m\u001b[0m\n\u001b[0;32m    882\u001b[0m     \u001b[1;32mdef\u001b[0m \u001b[0mclose\u001b[0m\u001b[1;33m(\u001b[0m\u001b[0mself\u001b[0m\u001b[1;33m)\u001b[0m\u001b[1;33m:\u001b[0m\u001b[1;33m\u001b[0m\u001b[1;33m\u001b[0m\u001b[0m\n",
      "\u001b[1;32m~\\anaconda3\\lib\\site-packages\\pandas\\io\\parsers.py\u001b[0m in \u001b[0;36m_make_engine\u001b[1;34m(self, engine)\u001b[0m\n\u001b[0;32m   1112\u001b[0m     \u001b[1;32mdef\u001b[0m \u001b[0m_make_engine\u001b[0m\u001b[1;33m(\u001b[0m\u001b[0mself\u001b[0m\u001b[1;33m,\u001b[0m \u001b[0mengine\u001b[0m\u001b[1;33m=\u001b[0m\u001b[1;34m\"c\"\u001b[0m\u001b[1;33m)\u001b[0m\u001b[1;33m:\u001b[0m\u001b[1;33m\u001b[0m\u001b[1;33m\u001b[0m\u001b[0m\n\u001b[0;32m   1113\u001b[0m         \u001b[1;32mif\u001b[0m \u001b[0mengine\u001b[0m \u001b[1;33m==\u001b[0m \u001b[1;34m\"c\"\u001b[0m\u001b[1;33m:\u001b[0m\u001b[1;33m\u001b[0m\u001b[1;33m\u001b[0m\u001b[0m\n\u001b[1;32m-> 1114\u001b[1;33m             \u001b[0mself\u001b[0m\u001b[1;33m.\u001b[0m\u001b[0m_engine\u001b[0m \u001b[1;33m=\u001b[0m \u001b[0mCParserWrapper\u001b[0m\u001b[1;33m(\u001b[0m\u001b[0mself\u001b[0m\u001b[1;33m.\u001b[0m\u001b[0mf\u001b[0m\u001b[1;33m,\u001b[0m \u001b[1;33m**\u001b[0m\u001b[0mself\u001b[0m\u001b[1;33m.\u001b[0m\u001b[0moptions\u001b[0m\u001b[1;33m)\u001b[0m\u001b[1;33m\u001b[0m\u001b[1;33m\u001b[0m\u001b[0m\n\u001b[0m\u001b[0;32m   1115\u001b[0m         \u001b[1;32melse\u001b[0m\u001b[1;33m:\u001b[0m\u001b[1;33m\u001b[0m\u001b[1;33m\u001b[0m\u001b[0m\n\u001b[0;32m   1116\u001b[0m             \u001b[1;32mif\u001b[0m \u001b[0mengine\u001b[0m \u001b[1;33m==\u001b[0m \u001b[1;34m\"python\"\u001b[0m\u001b[1;33m:\u001b[0m\u001b[1;33m\u001b[0m\u001b[1;33m\u001b[0m\u001b[0m\n",
      "\u001b[1;32m~\\anaconda3\\lib\\site-packages\\pandas\\io\\parsers.py\u001b[0m in \u001b[0;36m__init__\u001b[1;34m(self, src, **kwds)\u001b[0m\n\u001b[0;32m   1889\u001b[0m         \u001b[0mkwds\u001b[0m\u001b[1;33m[\u001b[0m\u001b[1;34m\"usecols\"\u001b[0m\u001b[1;33m]\u001b[0m \u001b[1;33m=\u001b[0m \u001b[0mself\u001b[0m\u001b[1;33m.\u001b[0m\u001b[0musecols\u001b[0m\u001b[1;33m\u001b[0m\u001b[1;33m\u001b[0m\u001b[0m\n\u001b[0;32m   1890\u001b[0m \u001b[1;33m\u001b[0m\u001b[0m\n\u001b[1;32m-> 1891\u001b[1;33m         \u001b[0mself\u001b[0m\u001b[1;33m.\u001b[0m\u001b[0m_reader\u001b[0m \u001b[1;33m=\u001b[0m \u001b[0mparsers\u001b[0m\u001b[1;33m.\u001b[0m\u001b[0mTextReader\u001b[0m\u001b[1;33m(\u001b[0m\u001b[0msrc\u001b[0m\u001b[1;33m,\u001b[0m \u001b[1;33m**\u001b[0m\u001b[0mkwds\u001b[0m\u001b[1;33m)\u001b[0m\u001b[1;33m\u001b[0m\u001b[1;33m\u001b[0m\u001b[0m\n\u001b[0m\u001b[0;32m   1892\u001b[0m         \u001b[0mself\u001b[0m\u001b[1;33m.\u001b[0m\u001b[0munnamed_cols\u001b[0m \u001b[1;33m=\u001b[0m \u001b[0mself\u001b[0m\u001b[1;33m.\u001b[0m\u001b[0m_reader\u001b[0m\u001b[1;33m.\u001b[0m\u001b[0munnamed_cols\u001b[0m\u001b[1;33m\u001b[0m\u001b[1;33m\u001b[0m\u001b[0m\n\u001b[0;32m   1893\u001b[0m \u001b[1;33m\u001b[0m\u001b[0m\n",
      "\u001b[1;32mpandas\\_libs\\parsers.pyx\u001b[0m in \u001b[0;36mpandas._libs.parsers.TextReader.__cinit__\u001b[1;34m()\u001b[0m\n",
      "\u001b[1;32mpandas\\_libs\\parsers.pyx\u001b[0m in \u001b[0;36mpandas._libs.parsers.TextReader._setup_parser_source\u001b[1;34m()\u001b[0m\n",
      "\u001b[1;31mFileNotFoundError\u001b[0m: [Errno 2] File PopulationZip.csv does not exist: 'PopulationZip.csv'"
     ]
    }
   ],
   "source": [
    "pop_zip_codes = pd.read_csv('PopulationZip.csv')\n",
    "pop_zip_codes.head()\n"
   ]
  },
  {
   "cell_type": "code",
   "execution_count": 66,
   "metadata": {},
   "outputs": [
    {
     "data": {
      "text/plain": [
       "(45, 4)"
      ]
     },
     "execution_count": 66,
     "metadata": {},
     "output_type": "execute_result"
    }
   ],
   "source": [
    "pop_zip_codes.shape"
   ]
  },
  {
   "cell_type": "code",
   "execution_count": null,
   "metadata": {},
   "outputs": [],
   "source": [
    "# Get frequency of all crimes by zip code. (crimes data set has zip code column) \n",
    "# Need to calculate violations per population by zip code and crimes per population by zip code. \n",
    "# Compare alcohol violations by zip code with crimes by zip code. "
   ]
  },
  {
   "cell_type": "code",
   "execution_count": null,
   "metadata": {},
   "outputs": [],
   "source": [
    "# zip codes with high crime rates and zip codes with high ABS licenses and/or violations = correlation? \n",
    "# not just look at major crimes but also petty crimes. \n",
    "\n",
    "# Do this by taking ABS licenses (or violations) by population by zip code? \n",
    "# Then crimes by population by zip code? "
   ]
  }
 ],
 "metadata": {
  "kernelspec": {
   "display_name": "Python 3",
   "language": "python",
   "name": "python3"
  },
  "language_info": {
   "codemirror_mode": {
    "name": "ipython",
    "version": 3
   },
   "file_extension": ".py",
   "mimetype": "text/x-python",
   "name": "python",
   "nbconvert_exporter": "python",
   "pygments_lexer": "ipython3",
   "version": "3.8.3"
  }
 },
 "nbformat": 4,
 "nbformat_minor": 2
}
