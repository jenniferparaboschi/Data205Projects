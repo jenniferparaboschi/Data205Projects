{
 "cells": [
  {
   "cell_type": "code",
   "execution_count": null,
   "metadata": {},
   "outputs": [],
   "source": [
    "# Data 205 - Capstone in Data Science\n",
    "# Jennifer Paraboschi     Fall 2020\n",
    "# Inputs: data sets from dataMontgomery\n",
    "# including Alcohol Beverage Licensing Violations"
   ]
  },
  {
   "cell_type": "code",
   "execution_count": null,
   "metadata": {
    "scrolled": true
   },
   "outputs": [],
   "source": [
    "# Import packages. \n",
    "# Pull in API data set as json.\n",
    "import json\n",
    "import numpy as np\n",
    "import pandas as pd\n",
    "import re\n",
    "import requests\n",
    "import seaborn as sns\n",
    "import matplotlib.pyplot as plt\n",
    "import plotly    # I had to pip install plotly on the cmd line to get plotly to work\n",
    "import plotly.express as px"
   ]
  },
  {
   "cell_type": "code",
   "execution_count": null,
   "metadata": {
    "scrolled": true
   },
   "outputs": [],
   "source": [
    "violations_data = pd.DataFrame(requests.get(\"https://data.montgomerycountymd.gov/resource/4tja-rkhg.json\").json())\n",
    "violations_data.head()\n",
    "#pd.read_json(\"https://....\")    #alternative way to read the data"
   ]
  },
  {
   "cell_type": "code",
   "execution_count": null,
   "metadata": {},
   "outputs": [],
   "source": [
    "print(violations_data)"
   ]
  },
  {
   "cell_type": "code",
   "execution_count": null,
   "metadata": {},
   "outputs": [],
   "source": [
    "violations_data.info()"
   ]
  },
  {
   "cell_type": "code",
   "execution_count": null,
   "metadata": {},
   "outputs": [],
   "source": [
    "# need to change the dates so they are in a useable format.\n",
    "violations_data.violationdate = pd.to_datetime(violations_data.violationdate)\n",
    "violations_data.dispositiondate = pd.to_datetime(violations_data.dispositiondate)"
   ]
  },
  {
   "cell_type": "code",
   "execution_count": null,
   "metadata": {},
   "outputs": [],
   "source": [
    "violations_data.info()"
   ]
  },
  {
   "cell_type": "code",
   "execution_count": null,
   "metadata": {},
   "outputs": [],
   "source": [
    "violations_data.describe(include=\"all\")"
   ]
  },
  {
   "cell_type": "code",
   "execution_count": null,
   "metadata": {},
   "outputs": [],
   "source": [
    "# There are a few missing values for disposition and disposition date (counts are fewer than total count in some columns).\n",
    "# The most frequent violation is for sale to minor."
   ]
  },
  {
   "cell_type": "code",
   "execution_count": null,
   "metadata": {},
   "outputs": [],
   "source": [
    "violations_data.isnull().sum()\n",
    "# This gives the number of null values for each var."
   ]
  },
  {
   "cell_type": "code",
   "execution_count": null,
   "metadata": {},
   "outputs": [],
   "source": [
    "# Other EDA from https://www.youtube.com/watch?v=-o3AxdVcUtQ\n",
    "violations_data.nunique()\n",
    "# This gives the number of unique values for each variable"
   ]
  },
  {
   "cell_type": "code",
   "execution_count": null,
   "metadata": {},
   "outputs": [],
   "source": [
    "# Provide a list of the violations.\n",
    "violations_data.violation.unique()"
   ]
  },
  {
   "cell_type": "code",
   "execution_count": null,
   "metadata": {},
   "outputs": [],
   "source": [
    "# From this video https://www.youtube.com/watch?v=5NcbVYhQJvw\n",
    "# count by category crosstab\n",
    "violations_dist = violations_data.groupby(\"violation\").size()"
   ]
  },
  {
   "cell_type": "code",
   "execution_count": null,
   "metadata": {},
   "outputs": [],
   "source": [
    "# Get counts of the number of violations at each violation type.\n",
    "violations_data[\"violation\"].value_counts().sort_values(ascending=False)"
   ]
  },
  {
   "cell_type": "code",
   "execution_count": null,
   "metadata": {},
   "outputs": [],
   "source": [
    "violations_dist.plot(title=\"Distribution of Violations\")"
   ]
  },
  {
   "cell_type": "code",
   "execution_count": null,
   "metadata": {},
   "outputs": [],
   "source": [
    "# This is not helpful unless I can clean it up. \n",
    "# Put the violations into groups/categories. "
   ]
  },
  {
   "cell_type": "code",
   "execution_count": null,
   "metadata": {},
   "outputs": [],
   "source": []
  },
  {
   "cell_type": "code",
   "execution_count": null,
   "metadata": {},
   "outputs": [],
   "source": [
    "# Get counts of the number of violations at each facility name.\n",
    "pd.set_option(\"display.max_rows\", None)\n",
    "violations_data[\"facilityname\"].value_counts().sort_values(ascending=False)"
   ]
  },
  {
   "cell_type": "code",
   "execution_count": null,
   "metadata": {},
   "outputs": [],
   "source": [
    "# Gaithersburg Supermarket has had the greatest number of violations. \n",
    "violations_data[violations_data.facilityname == \"GAITHERSBURG SUPERMARKET\"]"
   ]
  },
  {
   "cell_type": "code",
   "execution_count": null,
   "metadata": {},
   "outputs": [],
   "source": [
    "\"\"\"\n",
    "Explore the penalties for the violations\n",
    "\"\"\""
   ]
  },
  {
   "cell_type": "code",
   "execution_count": null,
   "metadata": {},
   "outputs": [],
   "source": [
    "# The disposition var inconsistently contains a $ amount of the penalty with inconsistent formatting. \n",
    "# Use a regex to extract the penalty values.\n",
    "violations_data[\"penalty\"]=violations_data[\"disposition\"].str.extract(r\"((?<=\\$)\\d+)\")\n",
    "# This regex looks for the dollar sign (\\$), then pulls all the digits (\\d+) unlimited times (to the end)."
   ]
  },
  {
   "cell_type": "code",
   "execution_count": null,
   "metadata": {},
   "outputs": [],
   "source": [
    "violations_data[\"penalty\"] # checking that the penalty amounts pulled in correctly."
   ]
  },
  {
   "cell_type": "code",
   "execution_count": null,
   "metadata": {},
   "outputs": [],
   "source": [
    "violations_data[\"disposition\"] # checking that the disposition column remained unchanged. "
   ]
  },
  {
   "cell_type": "code",
   "execution_count": null,
   "metadata": {},
   "outputs": [],
   "source": [
    "violations_data.isnull().sum() # provides a count of nulls for each var."
   ]
  },
  {
   "cell_type": "code",
   "execution_count": null,
   "metadata": {},
   "outputs": [],
   "source": [
    "# There are 51 records with no penalty value (nulls). \n",
    "# Some records did not result in a penalty being assessed.\n",
    "# Need to provide a value (0) for the missing penalty amounts. "
   ]
  },
  {
   "cell_type": "code",
   "execution_count": null,
   "metadata": {},
   "outputs": [],
   "source": [
    "# Replace missing penalty values with 0.\n",
    "violations_data[\"penalty\"]=violations_data[\"penalty\"].fillna(0)\n",
    "# change the penalty type to an integer.\n",
    "violations_data[\"penalty\"]=violations_data[\"penalty\"].astype(int)"
   ]
  },
  {
   "cell_type": "code",
   "execution_count": null,
   "metadata": {},
   "outputs": [],
   "source": [
    "violations_data"
   ]
  },
  {
   "cell_type": "code",
   "execution_count": null,
   "metadata": {},
   "outputs": [],
   "source": [
    "violations_data.info()"
   ]
  },
  {
   "cell_type": "code",
   "execution_count": null,
   "metadata": {},
   "outputs": [],
   "source": [
    "# Get counts of the number of violations at each penalty amount.\n",
    "violations_data[\"penalty\"].value_counts().sort_values(ascending=False)"
   ]
  },
  {
   "cell_type": "code",
   "execution_count": null,
   "metadata": {},
   "outputs": [],
   "source": [
    "# Most of the violations are for $1,000, $100, or $500. \n",
    "# Look at the max value or the facility that received the highest penalty amount.\n",
    "violations_data[violations_data.penalty == violations_data.penalty.max()]"
   ]
  },
  {
   "cell_type": "code",
   "execution_count": null,
   "metadata": {},
   "outputs": [],
   "source": [
    "# Silver Spring Hilton Hotel had the violation with the highest penalty. \n",
    "violations_data[violations_data.facilityname == \"SILVER SPRING HILTON HOTEL\"]"
   ]
  },
  {
   "cell_type": "code",
   "execution_count": null,
   "metadata": {},
   "outputs": [],
   "source": [
    "# Explore distribution of the penalty amounts.\n",
    "sns.distplot(violations_data[\"penalty\"])  # or can add , bins = 20)]"
   ]
  },
  {
   "cell_type": "code",
   "execution_count": null,
   "metadata": {},
   "outputs": [],
   "source": [
    "sns.catplot(x=\"penalty\", kind=\"box\", data=violations_data)"
   ]
  },
  {
   "cell_type": "code",
   "execution_count": null,
   "metadata": {},
   "outputs": [],
   "source": [
    "sns.set()\n",
    "_ = plt.hist(violations_data['penalty'])\n",
    "_ = plt.xlabel('Amount')\n",
    "_ = plt.ylabel('Count of Penalties at that Amount')\n",
    "plt.show()"
   ]
  },
  {
   "cell_type": "code",
   "execution_count": null,
   "metadata": {},
   "outputs": [],
   "source": [
    "violations_data.describe(include=\"all\")"
   ]
  },
  {
   "cell_type": "code",
   "execution_count": null,
   "metadata": {},
   "outputs": [],
   "source": [
    "# From above - counts of violations. These are the top 5 most frequent violations.\n",
    "\"\"\"\n",
    "SALE TO MINOR                                                                                      381\n",
    "ALCOHOL AWARENESS CERTIFIED PERSON NOT ON PREMISES                                                 173\n",
    "6.1 SALES OR SERVICE TO MINORS/CONSUMPTION OR POSSESSION OF MINORS                                  66\n",
    "EMPLOYEE RECORDS NOT AVAILABLE WHEN REQUESTED                                                       64\n",
    "LICENSE NOT PROPERLY DISPLAYED                                                                      57\n",
    "\"\"\"\n",
    "\n",
    "# Pull top 5 most frequent violations into a subset\n",
    "top_5_violations = violations_data[violations_data[\"violation\"].isin([\"SALE TO MINOR\",\"ALCOHOL AWARENESS CERTIFIED PERSON NOT ON PREMISES\",\"6.1 SALES OR SERVICE TO MINORS/CONSUMPTION OR POSSESSION OF MINORS\",\"EMPLOYEE RECORDS NOT AVAILABLE WHEN REQUESTED\",\"LICENSE NOT PROPERLY DISPLAYED\"])]\n"
   ]
  },
  {
   "cell_type": "code",
   "execution_count": null,
   "metadata": {},
   "outputs": [],
   "source": [
    "# count by category crosstab\n",
    "violations_dist_top5 = top_5_violations.groupby(\"violation\").size()"
   ]
  },
  {
   "cell_type": "code",
   "execution_count": null,
   "metadata": {},
   "outputs": [],
   "source": [
    "violations_dist_top5.plot(title=\"Distribution of Top Violations\")\n"
   ]
  },
  {
   "cell_type": "code",
   "execution_count": null,
   "metadata": {},
   "outputs": [],
   "source": [
    "\n",
    "# Perhaps look at average amount of penalty for each kind of violation?\n",
    "# Maybe bar charts of violation amounts by type? "
   ]
  },
  {
   "cell_type": "code",
   "execution_count": null,
   "metadata": {},
   "outputs": [],
   "source": []
  },
  {
   "cell_type": "code",
   "execution_count": null,
   "metadata": {},
   "outputs": [],
   "source": [
    "# box plot categorical vars\n",
    "box_violations=sns.boxplot(x=\"violation\", y=\"penalty\", data=violations_data)"
   ]
  },
  {
   "cell_type": "code",
   "execution_count": null,
   "metadata": {},
   "outputs": [],
   "source": []
  },
  {
   "cell_type": "code",
   "execution_count": null,
   "metadata": {},
   "outputs": [],
   "source": []
  },
  {
   "cell_type": "code",
   "execution_count": null,
   "metadata": {},
   "outputs": [],
   "source": []
  },
  {
   "cell_type": "code",
   "execution_count": null,
   "metadata": {},
   "outputs": [],
   "source": []
  },
  {
   "cell_type": "code",
   "execution_count": null,
   "metadata": {},
   "outputs": [],
   "source": [
    "\"\"\"\n",
    "Explore violations by zip code\n",
    "\"\"\""
   ]
  },
  {
   "cell_type": "code",
   "execution_count": null,
   "metadata": {},
   "outputs": [],
   "source": [
    "# Copy the license violations zip codes into a separate var.\n",
    "# Use a regular expression to pull out the zip codes.\n",
    "violations_data[\"zip\"]=violations_data[\"address\"].str.extract(r\"((?<=.)\\d{5})\")\n",
    "# positive lookbehind, matches to digits exactly 5 long\n",
    "\n",
    "violations_data[\"zip\"]=violations_data[\"zip\"].astype(int)\n",
    "violations_data"
   ]
  },
  {
   "cell_type": "code",
   "execution_count": null,
   "metadata": {},
   "outputs": [],
   "source": [
    "pd.set_option(\"display.max_colwidth\", None)\n",
    "addr=violations_data[\"address\"].astype(str)\n",
    "mask=addr.str.slice(-5,-4,1) == \"-\""
   ]
  },
  {
   "cell_type": "code",
   "execution_count": null,
   "metadata": {},
   "outputs": [],
   "source": [
    "# QA the slicing for zip.\n",
    "violations_data.loc[mask, [\"address\",\"zip\"]]"
   ]
  },
  {
   "cell_type": "code",
   "execution_count": null,
   "metadata": {},
   "outputs": [],
   "source": []
  },
  {
   "cell_type": "code",
   "execution_count": null,
   "metadata": {},
   "outputs": [],
   "source": [
    "violations_data[\"address\"]"
   ]
  },
  {
   "cell_type": "code",
   "execution_count": null,
   "metadata": {},
   "outputs": [],
   "source": [
    "violations_data"
   ]
  },
  {
   "cell_type": "code",
   "execution_count": null,
   "metadata": {},
   "outputs": [],
   "source": [
    "# Now I have the zip codes of the Alcohol Beverage License Violations in the var \"zip\".\n",
    "# Do frequency of violations by zip code."
   ]
  },
  {
   "cell_type": "code",
   "execution_count": null,
   "metadata": {},
   "outputs": [],
   "source": [
    "# Get counts of the number of violations by zip.\n",
    "violations_data[\"zip\"].value_counts().sort_values(ascending=False)"
   ]
  },
  {
   "cell_type": "code",
   "execution_count": null,
   "metadata": {},
   "outputs": [],
   "source": [
    "# Now the zips are all 5-digits\n",
    "# Bethesda (20814) and Rockville (20852) have the 2 highest frequencies. "
   ]
  },
  {
   "cell_type": "code",
   "execution_count": null,
   "metadata": {},
   "outputs": [],
   "source": [
    "violations_data.sort_values(by=[\"zip\", \"facilityname\"])\n",
    "\n",
    "sns.set()\n",
    "_ = plt.hist(violations_data[\"zip\"])\n",
    "_ = plt.xlabel('Zip')\n",
    "_ = plt.ylabel('Count of Violations')\n",
    "plt.show()"
   ]
  },
  {
   "cell_type": "code",
   "execution_count": null,
   "metadata": {},
   "outputs": [],
   "source": [
    "# This plots the top 10 most frequent zip codes. \n",
    "violations_data[\"zip\"].value_counts()[:10].plot(kind=\"barh\")\n"
   ]
  },
  {
   "cell_type": "code",
   "execution_count": null,
   "metadata": {},
   "outputs": [],
   "source": [
    "# This has the potential to be interesting as I recognize some of the zip codes/areas. \n",
    "# I'll come back to this."
   ]
  },
  {
   "cell_type": "code",
   "execution_count": null,
   "metadata": {},
   "outputs": [],
   "source": [
    "### This works but there are too many zip codes to the display is too small to read.\n",
    "\n",
    "# facet grid of violation amounts by zip code\n",
    "#grid_viol_zip = sns.FacetGrid(violations_data, col=\"zip\")\n",
    "#grid_viol_zip.map(plt.hist, \"penalty\")"
   ]
  },
  {
   "cell_type": "code",
   "execution_count": null,
   "metadata": {},
   "outputs": [],
   "source": []
  },
  {
   "cell_type": "code",
   "execution_count": null,
   "metadata": {},
   "outputs": [],
   "source": []
  },
  {
   "cell_type": "code",
   "execution_count": null,
   "metadata": {},
   "outputs": [],
   "source": [
    "\"\"\"\n",
    "Explore the violations involving minors.\n",
    "\"\"\""
   ]
  },
  {
   "cell_type": "code",
   "execution_count": null,
   "metadata": {},
   "outputs": [],
   "source": [
    "# Investigate frequencies by types of violations. \n",
    "# Group the sale to minor and 6.1 sales or service to minors. "
   ]
  },
  {
   "cell_type": "code",
   "execution_count": null,
   "metadata": {},
   "outputs": [],
   "source": [
    "# Groupby() function to pull the 2 violations together.\n",
    "violations_minors = violations_data.groupby(\"violation\").get_group(\"SALE TO MINOR\" or \"6.1 SALES OR SERVICE TO MINORS/CONSUMPTION OR POSSESSION OF MINORS\")"
   ]
  },
  {
   "cell_type": "code",
   "execution_count": null,
   "metadata": {},
   "outputs": [],
   "source": [
    "violations_minors"
   ]
  },
  {
   "cell_type": "code",
   "execution_count": null,
   "metadata": {},
   "outputs": [],
   "source": [
    "type(violations_minors)"
   ]
  },
  {
   "cell_type": "code",
   "execution_count": null,
   "metadata": {},
   "outputs": [],
   "source": [
    "violations_minors.describe(include=\"all\")"
   ]
  },
  {
   "cell_type": "code",
   "execution_count": null,
   "metadata": {},
   "outputs": [],
   "source": [
    "# This plots top 20 zip codes for the violations involving minors.\n",
    "violations_minors[\"zip\"].value_counts()[:20].plot(kind=\"barh\")"
   ]
  },
  {
   "cell_type": "code",
   "execution_count": null,
   "metadata": {},
   "outputs": [],
   "source": [
    "violations_minors[\"zip\"].value_counts()[:10].plot(kind=\"barh\")"
   ]
  },
  {
   "cell_type": "code",
   "execution_count": null,
   "metadata": {},
   "outputs": [],
   "source": [
    "# Since violations involving minors are the most frequent violation overall...\n",
    "# the plots of the full data set and the violations involving minors data set are very similar.\n",
    "\n",
    "# Use a stacked bar chart. \n",
    "\"\"\"\n",
    "import plotly.express as px\n",
    "\n",
    "df = px.data.iris()\n",
    "\n",
    "fig = px.bar(df, x=\"sepal_width\", y=\"sepal_length\", color=\"species\",\n",
    "\t\t\thover_data=['petal_width'], barmode = 'stack')\n",
    "\n",
    "fig.show()\n",
    "\n",
    "\n",
    "\"\"\""
   ]
  },
  {
   "cell_type": "code",
   "execution_count": null,
   "metadata": {},
   "outputs": [],
   "source": []
  },
  {
   "cell_type": "code",
   "execution_count": null,
   "metadata": {},
   "outputs": [],
   "source": []
  },
  {
   "cell_type": "code",
   "execution_count": null,
   "metadata": {},
   "outputs": [],
   "source": [
    "\"\"\"\n",
    "Explore the High Schools\n",
    "\"\"\""
   ]
  },
  {
   "cell_type": "code",
   "execution_count": null,
   "metadata": {},
   "outputs": [],
   "source": [
    "# I may try to overlay the high school locations with areas of highest crime and/or alcohol violations. "
   ]
  },
  {
   "cell_type": "code",
   "execution_count": null,
   "metadata": {},
   "outputs": [],
   "source": [
    "# Import the public high schools data set.\n",
    "schools_data = pd.DataFrame(requests.get(\"https://data.montgomerycountymd.gov/resource/772q-4wm8.json\").json())\n",
    "schools_data.head()"
   ]
  },
  {
   "cell_type": "code",
   "execution_count": null,
   "metadata": {},
   "outputs": [],
   "source": [
    "# Drop the unnecessary columns (i.e., category, elementary/middle schools, phone and url)."
   ]
  },
  {
   "cell_type": "code",
   "execution_count": null,
   "metadata": {},
   "outputs": [],
   "source": [
    "high_schools=schools_data[schools_data[\"category\"] == \"HIGH SCHOOLS\"]\n",
    "cols_drop=[\"category\",\"phone\",\"url\"]\n",
    "high_schools.drop(cols_drop, inplace=True, axis=1)\n",
    "print(high_schools)"
   ]
  },
  {
   "cell_type": "code",
   "execution_count": null,
   "metadata": {},
   "outputs": [],
   "source": [
    "# Map the high school locations."
   ]
  },
  {
   "cell_type": "code",
   "execution_count": null,
   "metadata": {
    "scrolled": true
   },
   "outputs": [],
   "source": [
    "# Import the plotly express package\n",
    "\n",
    "import plotly.express as px\n",
    "\n",
    "fig_schools = px.scatter_geo(high_schools, \n",
    "                     lon=\"longitude\", \n",
    "                     lat=\"latitude\",\n",
    "                     # choose the map chart's projection\n",
    "                     projection=\"albers usa\",\n",
    "                     center=dict(lon=-77.14, lat=39.098),\n",
    "                     # columns which is in bold in the pop up\n",
    "                     hover_name = \"school_name\",\n",
    "                     # format of the popup not to display these columns' data\n",
    "                     hover_data = {\"longitude\": False, \"latitude\": False})\n",
    "fig_schools.show()\n",
    "\n"
   ]
  },
  {
   "cell_type": "code",
   "execution_count": null,
   "metadata": {},
   "outputs": [],
   "source": [
    "# I'm having trouble zooming in on this map. I decided to use a different map (below) that includes streets."
   ]
  },
  {
   "cell_type": "code",
   "execution_count": null,
   "metadata": {},
   "outputs": [],
   "source": [
    "# Follow instructions from here: https://plotly.com/python/mapbox-layers/#openstreetmap-tiles-no-token-needed\n",
    "high_schools['latitude']=high_schools['latitude'].astype(float)\n",
    "high_schools['longitude']=high_schools['longitude'].astype(float)\n",
    "\n",
    "fig_schools_map = px.scatter_mapbox(high_schools, lat=\"latitude\", lon=\"longitude\", hover_name=\"school_name\", zoom=9, \n",
    "                         hover_data={\"latitude\":False, \"longitude\":False})\n",
    "fig_schools_map.update_layout(mapbox_style=\"open-street-map\")\n",
    "fig_schools_map.update_layout(margin={\"r\":0,\"t\":0,\"l\":0,\"b\":0})\n",
    "fig_schools_map.show()\n"
   ]
  },
  {
   "cell_type": "code",
   "execution_count": null,
   "metadata": {},
   "outputs": [],
   "source": [
    "# Note To Self: I don't know what to do about the warnings (above)\n",
    "    # A value is trying to be set on a copy of a slice from a DataFrame.\n",
    "    # Try using .loc[row_indexer,col_indexer] = value instead"
   ]
  },
  {
   "cell_type": "code",
   "execution_count": null,
   "metadata": {},
   "outputs": [],
   "source": []
  },
  {
   "cell_type": "code",
   "execution_count": null,
   "metadata": {},
   "outputs": [],
   "source": [
    "# Note To Self: While this map is OK, I can't decide what would make it better. \n",
    "# I was not able to make the points/circles bigger.\n",
    "# I tried zooming in closer but then not all of the high schools show up.\n",
    "# I tried to get the city to display as well as the HS name but was not able to get this to work.\n",
    "\n",
    "# I'll try to map the violations and schools using Tableau."
   ]
  },
  {
   "cell_type": "code",
   "execution_count": null,
   "metadata": {},
   "outputs": [],
   "source": [
    "\"\"\"\n",
    "Explore mapping the violations.\n",
    "\"\"\""
   ]
  },
  {
   "cell_type": "code",
   "execution_count": null,
   "metadata": {},
   "outputs": [],
   "source": [
    "# Note To Self: I was able to clean the violation addresses in excel, upload to geocodio, then use that csv to map. \n",
    "# However, I want to be able to do this directly from the dataMontgomery API. \n",
    "\n",
    "# I tried again for the geolocation using geopy (below) following these instructions from towardsdatascience.com.\n",
    "#  https://towardsdatascience.com/pythons-geocoding-convert-a-list-of-addresses-into-a-map-f522ef513fd6\n",
    "# I think there is a limit to how many times I can use the geolocater/site though. Not sure about that. "
   ]
  },
  {
   "cell_type": "code",
   "execution_count": null,
   "metadata": {
    "scrolled": true
   },
   "outputs": [],
   "source": [
    "# Import the violations data set (I don't need to do this repeatedly but sometimes I am picking up here when I start again)\n",
    "violations_data = pd.DataFrame(requests.get(\"https://data.montgomerycountymd.gov/resource/4tja-rkhg.json\").json())\n",
    "violations_data.head()"
   ]
  },
  {
   "cell_type": "code",
   "execution_count": null,
   "metadata": {},
   "outputs": [],
   "source": [
    "# I had to pip install geopy on the cmd line to get this to work.\n",
    "from geopy.geocoders import Nominatim\n",
    "geolocator = Nominatim(user_agent=\"sample app\")\n",
    "# Apply geolocator.geocode to the address column\n",
    "violations_data[\"location\"]=violations_data[\"address\"].apply(geolocator.geocode)"
   ]
  },
  {
   "cell_type": "code",
   "execution_count": null,
   "metadata": {},
   "outputs": [],
   "source": [
    "violations_data[\"point\"]=violations_data[\"location\"].apply(lambda loc: tuple(loc.point) if loc else None)"
   ]
  },
  {
   "cell_type": "code",
   "execution_count": null,
   "metadata": {},
   "outputs": [],
   "source": [
    "# Then pull the values into 3 diff vars (the 3rd one is altitude)"
   ]
  },
  {
   "cell_type": "code",
   "execution_count": null,
   "metadata": {},
   "outputs": [],
   "source": [
    "violations_data[[\"latitude\", \"longitude\", \"altitude\"]] = pd.DataFrame(violations_data[\"point\"].to_list(), index=violations_data.index)"
   ]
  },
  {
   "cell_type": "code",
   "execution_count": null,
   "metadata": {},
   "outputs": [],
   "source": [
    "# Map the locations of the violations\n",
    "fig_violations_map = px.scatter_mapbox(violations_data, lat=\"latitude\", lon=\"longitude\", hover_name=\"facilityname\", zoom=9, \n",
    "                         hover_data={\"latitude\":False, \"longitude\":False})\n",
    "fig_violations_map.update_layout(mapbox_style=\"open-street-map\")\n",
    "fig_violations_map.update_layout(margin={\"r\":0,\"t\":0,\"l\":0,\"b\":0})\n",
    "fig_violations_map.show()\n"
   ]
  },
  {
   "cell_type": "code",
   "execution_count": null,
   "metadata": {},
   "outputs": [],
   "source": []
  },
  {
   "cell_type": "code",
   "execution_count": null,
   "metadata": {},
   "outputs": [],
   "source": [
    "\"\"\"\n",
    "Explore CRASH data\n",
    "\"\"\""
   ]
  },
  {
   "cell_type": "code",
   "execution_count": null,
   "metadata": {},
   "outputs": [],
   "source": [
    "# Pull in the Crash Incidents data \n",
    "# Trying to narrow down by alcohol activity because the dataset is so big.\n",
    "selections = {\"Driver Substance Abuse\": \"ALCOHOL PRESENT\"}\n",
    "\n",
    "crash_incidents_data = pd.DataFrame(requests.get(\"https://data.montgomerycountymd.gov/resource/bhju-22kf.json\",params=selections).json())\n",
    "crash_incidents_data.head()"
   ]
  },
  {
   "cell_type": "code",
   "execution_count": null,
   "metadata": {},
   "outputs": [],
   "source": [
    "crash_incidents_data.shape"
   ]
  },
  {
   "cell_type": "code",
   "execution_count": null,
   "metadata": {},
   "outputs": [],
   "source": [
    "crash_incidents_data.describe(include=\"all\")"
   ]
  },
  {
   "cell_type": "code",
   "execution_count": null,
   "metadata": {},
   "outputs": [],
   "source": []
  },
  {
   "cell_type": "code",
   "execution_count": null,
   "metadata": {},
   "outputs": [],
   "source": [
    "\"\"\"\n",
    "Explore CRIME data\n",
    "\"\"\""
   ]
  },
  {
   "cell_type": "code",
   "execution_count": null,
   "metadata": {},
   "outputs": [],
   "source": [
    "# Pull in the Crimes data \n",
    "# Trying to narrow by crimes against society and then crime2 for alcohol violations. \n",
    "# looking at the crimes data, there are only 8 alcohol-related crimes in the crimes data set.\n",
    "# under Crime Name 2  Drunkenness,  Driving Under the Influence,  Liquor Law Violations\n",
    "#select_crime = {\"crimename1\": \"Crime Against Society\"}\n",
    "\n",
    "crime_data = pd.read_csv(\"crime.csv\")\n",
    "crime_data.head()"
   ]
  },
  {
   "cell_type": "code",
   "execution_count": null,
   "metadata": {},
   "outputs": [],
   "source": [
    "crime_data.info()"
   ]
  },
  {
   "cell_type": "code",
   "execution_count": null,
   "metadata": {},
   "outputs": [],
   "source": [
    "# Drop unnecessary columns\n",
    "cols_to_drop=[\"Offence Code\",\"CR Number\",\"Dispatch Date / Time\",\"Victims\",\"Agency\",\"Place\",\"Sector\",\"Beat\",\"PRA\",\"Address Number\",\"Street Prefix\",\"Street Name\",\"Street Suffix\",\"Street Type\",\"End_Date_Time\"]\n",
    "crime_data.drop(cols_to_drop, inplace=True, axis=1)\n",
    "crime_data.info()"
   ]
  },
  {
   "cell_type": "code",
   "execution_count": null,
   "metadata": {},
   "outputs": [],
   "source": [
    "crime_data.describe(include=\"all\")"
   ]
  },
  {
   "cell_type": "code",
   "execution_count": null,
   "metadata": {},
   "outputs": [],
   "source": [
    "# There are 3,187 records with blank zip codes.\n",
    "# There are another 200+ with incorrect zips (wrong number of digits and/or not in Montgomery County).\n",
    "# Replace missing zip codes values with 0.\n",
    "crime_data[\"Zip Code\"]=crime_data[\"Zip Code\"].fillna(0)\n",
    "# change the zip code type to an integer.\n",
    "crime_data[\"Zip Code\"]=crime_data[\"Zip Code\"].astype(int)\n",
    "\n",
    "# This plots top 20 zip codes for the crimes.\n",
    "crime_data[\"Zip Code\"].value_counts()[:20].plot(kind=\"barh\")"
   ]
  },
  {
   "cell_type": "code",
   "execution_count": null,
   "metadata": {},
   "outputs": [],
   "source": []
  },
  {
   "cell_type": "code",
   "execution_count": null,
   "metadata": {},
   "outputs": [],
   "source": []
  },
  {
   "cell_type": "code",
   "execution_count": null,
   "metadata": {},
   "outputs": [],
   "source": [
    "\"\"\"\n",
    "Explore Population data by zip code\n",
    "\"\"\""
   ]
  },
  {
   "cell_type": "code",
   "execution_count": null,
   "metadata": {},
   "outputs": [],
   "source": [
    "# Pull population data from this site https://worldpopulationreview.com/zips/maryland\n",
    "# This is the csv link:  blob:https://worldpopulationreview.com/00124d35-9d90-48ad-973f-a3eaddcbe13e \n",
    "# this is the json link:  blob:https://worldpopulationreview.com/eaa13b61-5379-49d2-a077-3d611a223c7b\n",
    "# I downloaded MD counties with populations by zip code so I can select Montgomery County. \n",
    "# The site says it reflects 2020 population data.\n",
    "# blob:https://worldpopulationreview.com/087018d8-c25a-44cf-a6d9-cb479a108878\n",
    "  #      blob:https://worldpopulationreview.com/507fea65-9f1a-483d-89a4-b640e1b3e9bb"
   ]
  },
  {
   "cell_type": "code",
   "execution_count": null,
   "metadata": {
    "scrolled": true
   },
   "outputs": [],
   "source": [
    "pop_zip_codes = pd.read_csv('PopulationZip.csv')\n",
    "pop_zip_codes.head()"
   ]
  },
  {
   "cell_type": "code",
   "execution_count": null,
   "metadata": {},
   "outputs": [],
   "source": [
    "pop_zip_codes.info()"
   ]
  },
  {
   "cell_type": "code",
   "execution_count": null,
   "metadata": {},
   "outputs": [],
   "source": [
    "# groupby() to pull only Montgomery County zips.\n",
    "pop_zip_mont = pop_zip_codes.groupby(\"county\").get_group(\"Montgomery\")\n",
    "pop_zip_mont"
   ]
  },
  {
   "cell_type": "code",
   "execution_count": null,
   "metadata": {},
   "outputs": [],
   "source": [
    "pop_zip_mont.info()"
   ]
  },
  {
   "cell_type": "code",
   "execution_count": null,
   "metadata": {},
   "outputs": [],
   "source": []
  },
  {
   "cell_type": "code",
   "execution_count": null,
   "metadata": {},
   "outputs": [],
   "source": [
    "# Get frequency of all crimes by zip code. (crimes data set has zip code column) \n",
    "# Need to calculate violations per population by zip code and crimes per population by zip code. \n",
    "# Compare alcohol violations by zip code with crimes by zip code. "
   ]
  },
  {
   "cell_type": "code",
   "execution_count": null,
   "metadata": {},
   "outputs": [],
   "source": [
    "# zip codes with high crime rates and zip codes with high ABS licenses and/or violations = correlation? \n",
    "# not just look at major crimes but also petty crimes. \n",
    "\n",
    "# Do this by taking ABS licenses (or violations) by population by zip code? \n",
    "# Then crimes by population by zip code? "
   ]
  }
 ],
 "metadata": {
  "kernelspec": {
   "display_name": "Python 3",
   "language": "python",
   "name": "python3"
  },
  "language_info": {
   "codemirror_mode": {
    "name": "ipython",
    "version": 3
   },
   "file_extension": ".py",
   "mimetype": "text/x-python",
   "name": "python",
   "nbconvert_exporter": "python",
   "pygments_lexer": "ipython3",
   "version": "3.8.3"
  }
 },
 "nbformat": 4,
 "nbformat_minor": 2
}
